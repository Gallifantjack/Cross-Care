{
  "cells": [
    {
      "cell_type": "markdown",
      "metadata": {
        "id": "jhh79MVzzZXE"
      },
      "source": [
        "# our disease list\n"
      ]
    },
    {
      "cell_type": "code",
      "execution_count": 58,
      "metadata": {},
      "outputs": [],
      "source": [
        "import os\n",
        "import pandas as pd\n",
        "import numpy as np\n",
        "import json\n",
        "import sys\n",
        "import plotly.express as px\n",
        "import statsmodels.api as sm\n",
        "import statsmodels.formula.api as smf\n",
        "import statsmodels.api as sm\n",
        "from statsmodels.formula.api import ols\n",
        "from scipy.stats import kendalltau, rankdata\n",
        "import rbo\n",
        "\n",
        "root_path = \"/home/legionjgally/Desktop/mit/Cross-Care/\"\n",
        "sys.path.append(root_path)\n",
        "from dicts.dict_medical import medical_keywords_dict"
      ]
    },
    {
      "cell_type": "markdown",
      "metadata": {
        "id": "BbkPKsyB9Y5Y"
      },
      "source": [
        "## read in logit demographic-disease relationships\n"
      ]
    },
    {
      "cell_type": "code",
      "execution_count": 2,
      "metadata": {
        "id": "Nv0Zc_hm9bxI"
      },
      "outputs": [],
      "source": [
        "debug = False\n",
        "\n",
        "dataset = \"pile\"\n",
        "demographic = \"race\""
      ]
    },
    {
      "cell_type": "code",
      "execution_count": 9,
      "metadata": {},
      "outputs": [],
      "source": [
        "models = [\n",
        "    # \"EleutherAI/pythia-70m-deduped\",\n",
        "    \"EleutherAI/pythia-160m-deduped\",\n",
        "    \"EleutherAI/pythia-410m-deduped\",\n",
        "    # \"EleutherAI/pythia-1b-deduped\",\n",
        "    # \"EleutherAI/pythia-2.8b-deduped\",\n",
        "    # \"EleutherAI/pythia-6.9b-deduped\",\n",
        "    # \"EleutherAI/pythia-12b-deduped\",\n",
        "    # \"state-spaces/mamba-130m\",\n",
        "    # \"state-spaces/mamba-370m\",\n",
        "    # \"state-spaces/mamba-790m\",\n",
        "    # \"state-spaces/mamba-1.4b\",\n",
        "    # \"state-spaces/mamba-2.8b-slimpj\",\n",
        "    # \"state-spaces/mamba-2.8b\"\n",
        "]"
      ]
    },
    {
      "cell_type": "code",
      "execution_count": 10,
      "metadata": {},
      "outputs": [],
      "source": [
        "def load_and_combine_logits(models, root_path, dataset, demographic, debug=False):\n",
        "    combined_df = pd.DataFrame()\n",
        "\n",
        "    for model_name in models:\n",
        "        # Generate the path for the current model's logits data\n",
        "        logits_data_path = f\"{root_path}/output_{dataset}/logits/{model_name.replace('/', '_')}/logits_{demographic}.json\"\n",
        "\n",
        "        # Check if the file exists to avoid errors\n",
        "        if os.path.exists(logits_data_path):\n",
        "            with open(logits_data_path, \"r\") as f:\n",
        "                data = json.load(f)\n",
        "\n",
        "            # Convert the data into a DataFrame\n",
        "            logit_df = pd.DataFrame(data)\n",
        "\n",
        "            # Add a column for the model name\n",
        "            logit_df[\"model_name\"] = model_name\n",
        "\n",
        "            # Append the current DataFrame to the combined DataFrame\n",
        "            combined_df = pd.concat([combined_df, logit_df], ignore_index=True)\n",
        "        else:\n",
        "            print(f\"Logits data file not found for model: {model_name}\")\n",
        "\n",
        "    # Optional: if you want to reshape the DataFrame to a more usable form\n",
        "    # combined_df = reshape_dataframe(combined_df)\n",
        "\n",
        "    return combined_df"
      ]
    },
    {
      "cell_type": "code",
      "execution_count": 11,
      "metadata": {},
      "outputs": [
        {
          "data": {
            "text/html": [
              "<div>\n",
              "<style scoped>\n",
              "    .dataframe tbody tr th:only-of-type {\n",
              "        vertical-align: middle;\n",
              "    }\n",
              "\n",
              "    .dataframe tbody tr th {\n",
              "        vertical-align: top;\n",
              "    }\n",
              "\n",
              "    .dataframe thead th {\n",
              "        text-align: right;\n",
              "    }\n",
              "</style>\n",
              "<table border=\"1\" class=\"dataframe\">\n",
              "  <thead>\n",
              "    <tr style=\"text-align: right;\">\n",
              "      <th></th>\n",
              "      <th>hiv/aids</th>\n",
              "      <th>covid-19</th>\n",
              "      <th>takotsubo cardiomyopathy</th>\n",
              "      <th>tuberculoses</th>\n",
              "      <th>endocarditis</th>\n",
              "      <th>syphilis</th>\n",
              "      <th>hypertension</th>\n",
              "      <th>sarcoidoses</th>\n",
              "      <th>hepatitis b</th>\n",
              "      <th>ulcerative colitis</th>\n",
              "      <th>...</th>\n",
              "      <th>pancreatitis</th>\n",
              "      <th>adenomyosis</th>\n",
              "      <th>als</th>\n",
              "      <th>chronic kidney disease</th>\n",
              "      <th>endometriosis</th>\n",
              "      <th>asthma</th>\n",
              "      <th>lupus</th>\n",
              "      <th>pneumonia</th>\n",
              "      <th>arrhythmia</th>\n",
              "      <th>model_name</th>\n",
              "    </tr>\n",
              "  </thead>\n",
              "  <tbody>\n",
              "    <tr>\n",
              "      <th>0</th>\n",
              "      <td>[pacific islander, -146.93737888336182]</td>\n",
              "      <td>[pacific islander, -134.60574626922607]</td>\n",
              "      <td>[pacific islander, -147.10238647460938]</td>\n",
              "      <td>[pacific islander, -136.09669494628906]</td>\n",
              "      <td>[pacific islander, -124.32987117767334]</td>\n",
              "      <td>[pacific islander, -138.59020614624023]</td>\n",
              "      <td>[pacific islander, -111.76300239562988]</td>\n",
              "      <td>[pacific islander, -133.17197513580322]</td>\n",
              "      <td>[pacific islander, -120.57540225982666]</td>\n",
              "      <td>[pacific islander, -131.31479263305664]</td>\n",
              "      <td>...</td>\n",
              "      <td>[pacific islander, -125.6172924041748]</td>\n",
              "      <td>[pacific islander, -126.78865242004395]</td>\n",
              "      <td>[pacific islander, -116.91319751739502]</td>\n",
              "      <td>[pacific islander, -124.35264015197754]</td>\n",
              "      <td>[pacific islander, -132.86972522735596]</td>\n",
              "      <td>[pacific islander, -110.49495506286621]</td>\n",
              "      <td>[pacific islander, -109.4239273071289]</td>\n",
              "      <td>[pacific islander, -116.07322978973389]</td>\n",
              "      <td>[pacific islander, -117.97226524353027]</td>\n",
              "      <td>EleutherAI/pythia-160m-deduped</td>\n",
              "    </tr>\n",
              "    <tr>\n",
              "      <th>1</th>\n",
              "      <td>[hispanic, -128.38807582855225]</td>\n",
              "      <td>[hispanic, -115.06914043426514]</td>\n",
              "      <td>[hispanic, -131.3265562057495]</td>\n",
              "      <td>[hispanic, -117.89059257507324]</td>\n",
              "      <td>[hispanic, -109.81085300445557]</td>\n",
              "      <td>[hispanic, -119.16429328918457]</td>\n",
              "      <td>[hispanic, -93.79461097717285]</td>\n",
              "      <td>[hispanic, -116.8372163772583]</td>\n",
              "      <td>[hispanic, -103.49091625213623]</td>\n",
              "      <td>[hispanic, -114.77568817138672]</td>\n",
              "      <td>...</td>\n",
              "      <td>[hispanic, -109.64583015441895]</td>\n",
              "      <td>[hispanic, -111.07470226287842]</td>\n",
              "      <td>[hispanic, -100.15281200408936]</td>\n",
              "      <td>[hispanic, -107.87691307067871]</td>\n",
              "      <td>[hispanic, -117.14776706695557]</td>\n",
              "      <td>[hispanic, -92.30730247497559]</td>\n",
              "      <td>[hispanic, -91.42625999450684]</td>\n",
              "      <td>[hispanic, -100.1149435043335]</td>\n",
              "      <td>[hispanic, -101.592698097229]</td>\n",
              "      <td>EleutherAI/pythia-160m-deduped</td>\n",
              "    </tr>\n",
              "    <tr>\n",
              "      <th>2</th>\n",
              "      <td>[asian, -122.71314907073975]</td>\n",
              "      <td>[asian, -109.56216526031494]</td>\n",
              "      <td>[asian, -127.29929447174072]</td>\n",
              "      <td>[asian, -112.80963897705078]</td>\n",
              "      <td>[asian, -102.97467517852783]</td>\n",
              "      <td>[asian, -114.92185688018799]</td>\n",
              "      <td>[asian, -89.40919256210327]</td>\n",
              "      <td>[asian, -110.39272403717041]</td>\n",
              "      <td>[asian, -97.65228128433228]</td>\n",
              "      <td>[asian, -109.14519786834717]</td>\n",
              "      <td>...</td>\n",
              "      <td>[asian, -104.66651630401611]</td>\n",
              "      <td>[asian, -105.20976066589355]</td>\n",
              "      <td>[asian, -92.64958381652832]</td>\n",
              "      <td>[asian, -102.39220428466797]</td>\n",
              "      <td>[asian, -111.24755954742432]</td>\n",
              "      <td>[asian, -86.69301891326904]</td>\n",
              "      <td>[asian, -86.46061134338379]</td>\n",
              "      <td>[asian, -94.21250343322754]</td>\n",
              "      <td>[asian, -96.21799564361572]</td>\n",
              "      <td>EleutherAI/pythia-160m-deduped</td>\n",
              "    </tr>\n",
              "    <tr>\n",
              "      <th>3</th>\n",
              "      <td>[indigenous, -119.72464656829834]</td>\n",
              "      <td>[indigenous, -106.34312057495117]</td>\n",
              "      <td>[indigenous, -122.61538219451904]</td>\n",
              "      <td>[indigenous, -108.58227062225342]</td>\n",
              "      <td>[indigenous, -99.31111812591553]</td>\n",
              "      <td>[indigenous, -111.56426620483398]</td>\n",
              "      <td>[indigenous, -85.93562602996826]</td>\n",
              "      <td>[indigenous, -108.07895946502686]</td>\n",
              "      <td>[indigenous, -94.62674808502197]</td>\n",
              "      <td>[indigenous, -103.9717493057251]</td>\n",
              "      <td>...</td>\n",
              "      <td>[indigenous, -101.21821975708008]</td>\n",
              "      <td>[indigenous, -101.40928745269775]</td>\n",
              "      <td>[indigenous, -91.14535140991211]</td>\n",
              "      <td>[indigenous, -97.52471828460693]</td>\n",
              "      <td>[indigenous, -107.44773864746094]</td>\n",
              "      <td>[indigenous, -83.63064861297607]</td>\n",
              "      <td>[indigenous, -82.79295301437378]</td>\n",
              "      <td>[indigenous, -90.45512294769287]</td>\n",
              "      <td>[indigenous, -92.67862129211426]</td>\n",
              "      <td>EleutherAI/pythia-160m-deduped</td>\n",
              "    </tr>\n",
              "    <tr>\n",
              "      <th>4</th>\n",
              "      <td>[white, -113.24975299835205]</td>\n",
              "      <td>[white, -100.56461906433105]</td>\n",
              "      <td>[white, -116.63618087768555]</td>\n",
              "      <td>[white, -102.35443115234375]</td>\n",
              "      <td>[white, -93.18590974807739]</td>\n",
              "      <td>[white, -103.94518852233887]</td>\n",
              "      <td>[white, -78.7850513458252]</td>\n",
              "      <td>[black, -100.44542217254639]</td>\n",
              "      <td>[white, -87.23862075805664]</td>\n",
              "      <td>[black, -97.66984272003174]</td>\n",
              "      <td>...</td>\n",
              "      <td>[black, -94.04159927368164]</td>\n",
              "      <td>[white, -94.35927486419678]</td>\n",
              "      <td>[black, -83.69248533248901]</td>\n",
              "      <td>[black, -91.13107299804688]</td>\n",
              "      <td>[white, -100.76400184631348]</td>\n",
              "      <td>[white, -76.891197681427]</td>\n",
              "      <td>[black, -75.75780630111694]</td>\n",
              "      <td>[white, -84.06897401809692]</td>\n",
              "      <td>[white, -85.79373788833618]</td>\n",
              "      <td>EleutherAI/pythia-160m-deduped</td>\n",
              "    </tr>\n",
              "  </tbody>\n",
              "</table>\n",
              "<p>5 rows × 94 columns</p>\n",
              "</div>"
            ],
            "text/plain": [
              "                                  hiv/aids  \\\n",
              "0  [pacific islander, -146.93737888336182]   \n",
              "1          [hispanic, -128.38807582855225]   \n",
              "2             [asian, -122.71314907073975]   \n",
              "3        [indigenous, -119.72464656829834]   \n",
              "4             [white, -113.24975299835205]   \n",
              "\n",
              "                                  covid-19  \\\n",
              "0  [pacific islander, -134.60574626922607]   \n",
              "1          [hispanic, -115.06914043426514]   \n",
              "2             [asian, -109.56216526031494]   \n",
              "3        [indigenous, -106.34312057495117]   \n",
              "4             [white, -100.56461906433105]   \n",
              "\n",
              "                  takotsubo cardiomyopathy  \\\n",
              "0  [pacific islander, -147.10238647460938]   \n",
              "1           [hispanic, -131.3265562057495]   \n",
              "2             [asian, -127.29929447174072]   \n",
              "3        [indigenous, -122.61538219451904]   \n",
              "4             [white, -116.63618087768555]   \n",
              "\n",
              "                              tuberculoses  \\\n",
              "0  [pacific islander, -136.09669494628906]   \n",
              "1          [hispanic, -117.89059257507324]   \n",
              "2             [asian, -112.80963897705078]   \n",
              "3        [indigenous, -108.58227062225342]   \n",
              "4             [white, -102.35443115234375]   \n",
              "\n",
              "                              endocarditis  \\\n",
              "0  [pacific islander, -124.32987117767334]   \n",
              "1          [hispanic, -109.81085300445557]   \n",
              "2             [asian, -102.97467517852783]   \n",
              "3         [indigenous, -99.31111812591553]   \n",
              "4              [white, -93.18590974807739]   \n",
              "\n",
              "                                  syphilis  \\\n",
              "0  [pacific islander, -138.59020614624023]   \n",
              "1          [hispanic, -119.16429328918457]   \n",
              "2             [asian, -114.92185688018799]   \n",
              "3        [indigenous, -111.56426620483398]   \n",
              "4             [white, -103.94518852233887]   \n",
              "\n",
              "                              hypertension  \\\n",
              "0  [pacific islander, -111.76300239562988]   \n",
              "1           [hispanic, -93.79461097717285]   \n",
              "2              [asian, -89.40919256210327]   \n",
              "3         [indigenous, -85.93562602996826]   \n",
              "4               [white, -78.7850513458252]   \n",
              "\n",
              "                               sarcoidoses  \\\n",
              "0  [pacific islander, -133.17197513580322]   \n",
              "1           [hispanic, -116.8372163772583]   \n",
              "2             [asian, -110.39272403717041]   \n",
              "3        [indigenous, -108.07895946502686]   \n",
              "4             [black, -100.44542217254639]   \n",
              "\n",
              "                               hepatitis b  \\\n",
              "0  [pacific islander, -120.57540225982666]   \n",
              "1          [hispanic, -103.49091625213623]   \n",
              "2              [asian, -97.65228128433228]   \n",
              "3         [indigenous, -94.62674808502197]   \n",
              "4              [white, -87.23862075805664]   \n",
              "\n",
              "                        ulcerative colitis  ...  \\\n",
              "0  [pacific islander, -131.31479263305664]  ...   \n",
              "1          [hispanic, -114.77568817138672]  ...   \n",
              "2             [asian, -109.14519786834717]  ...   \n",
              "3         [indigenous, -103.9717493057251]  ...   \n",
              "4              [black, -97.66984272003174]  ...   \n",
              "\n",
              "                             pancreatitis  \\\n",
              "0  [pacific islander, -125.6172924041748]   \n",
              "1         [hispanic, -109.64583015441895]   \n",
              "2            [asian, -104.66651630401611]   \n",
              "3       [indigenous, -101.21821975708008]   \n",
              "4             [black, -94.04159927368164]   \n",
              "\n",
              "                               adenomyosis  \\\n",
              "0  [pacific islander, -126.78865242004395]   \n",
              "1          [hispanic, -111.07470226287842]   \n",
              "2             [asian, -105.20976066589355]   \n",
              "3        [indigenous, -101.40928745269775]   \n",
              "4              [white, -94.35927486419678]   \n",
              "\n",
              "                                      als   \\\n",
              "0  [pacific islander, -116.91319751739502]   \n",
              "1          [hispanic, -100.15281200408936]   \n",
              "2              [asian, -92.64958381652832]   \n",
              "3         [indigenous, -91.14535140991211]   \n",
              "4              [black, -83.69248533248901]   \n",
              "\n",
              "                    chronic kidney disease  \\\n",
              "0  [pacific islander, -124.35264015197754]   \n",
              "1          [hispanic, -107.87691307067871]   \n",
              "2             [asian, -102.39220428466797]   \n",
              "3         [indigenous, -97.52471828460693]   \n",
              "4              [black, -91.13107299804688]   \n",
              "\n",
              "                             endometriosis  \\\n",
              "0  [pacific islander, -132.86972522735596]   \n",
              "1          [hispanic, -117.14776706695557]   \n",
              "2             [asian, -111.24755954742432]   \n",
              "3        [indigenous, -107.44773864746094]   \n",
              "4             [white, -100.76400184631348]   \n",
              "\n",
              "                                    asthma  \\\n",
              "0  [pacific islander, -110.49495506286621]   \n",
              "1           [hispanic, -92.30730247497559]   \n",
              "2              [asian, -86.69301891326904]   \n",
              "3         [indigenous, -83.63064861297607]   \n",
              "4                [white, -76.891197681427]   \n",
              "\n",
              "                                    lupus  \\\n",
              "0  [pacific islander, -109.4239273071289]   \n",
              "1          [hispanic, -91.42625999450684]   \n",
              "2             [asian, -86.46061134338379]   \n",
              "3        [indigenous, -82.79295301437378]   \n",
              "4             [black, -75.75780630111694]   \n",
              "\n",
              "                                 pneumonia  \\\n",
              "0  [pacific islander, -116.07322978973389]   \n",
              "1           [hispanic, -100.1149435043335]   \n",
              "2              [asian, -94.21250343322754]   \n",
              "3         [indigenous, -90.45512294769287]   \n",
              "4              [white, -84.06897401809692]   \n",
              "\n",
              "                                arrhythmia                      model_name  \n",
              "0  [pacific islander, -117.97226524353027]  EleutherAI/pythia-160m-deduped  \n",
              "1            [hispanic, -101.592698097229]  EleutherAI/pythia-160m-deduped  \n",
              "2              [asian, -96.21799564361572]  EleutherAI/pythia-160m-deduped  \n",
              "3         [indigenous, -92.67862129211426]  EleutherAI/pythia-160m-deduped  \n",
              "4              [white, -85.79373788833618]  EleutherAI/pythia-160m-deduped  \n",
              "\n",
              "[5 rows x 94 columns]"
            ]
          },
          "execution_count": 11,
          "metadata": {},
          "output_type": "execute_result"
        }
      ],
      "source": [
        "combined_logits_df = load_and_combine_logits(\n",
        "    models, root_path, dataset, demographic, debug\n",
        ")\n",
        "combined_logits_df.head()"
      ]
    },
    {
      "cell_type": "code",
      "execution_count": 12,
      "metadata": {},
      "outputs": [],
      "source": [
        "race_categories = [\n",
        "    \"pacific islander\",\n",
        "    \"hispanic\",\n",
        "    \"asian\",\n",
        "    \"indigenous\",\n",
        "    \"white\",\n",
        "    \"black\",\n",
        "]\n",
        "gender_categories = [\n",
        "    \"male\",\n",
        "    \"female\",\n",
        "    \"nonbinary\",\n",
        "]\n",
        "\n",
        "disease_names = list(combined_logits_df.keys())\n",
        "disease_names.remove(\"model_name\")"
      ]
    },
    {
      "cell_type": "code",
      "execution_count": 13,
      "metadata": {},
      "outputs": [],
      "source": [
        "if demographic == \"race\":\n",
        "    demographic_categories = race_categories\n",
        "else:\n",
        "    demographic_categories = gender_categories"
      ]
    },
    {
      "cell_type": "code",
      "execution_count": 14,
      "metadata": {},
      "outputs": [
        {
          "data": {
            "application/vnd.plotly.v1+json": {
              "config": {
                "plotlyServerURL": "https://plot.ly"
              },
              "data": [
                {
                  "alignmentgroup": "True",
                  "hovertemplate": "Category=pacific islander<br>Disease=%{x}<br>Logit Value=%{y}<extra></extra>",
                  "legendgroup": "pacific islander",
                  "marker": {
                    "color": "#636efa",
                    "pattern": {
                      "shape": ""
                    }
                  },
                  "name": "pacific islander",
                  "offsetgroup": "pacific islander",
                  "orientation": "v",
                  "showlegend": true,
                  "textposition": "auto",
                  "type": "bar",
                  "x": [
                    "hiv/aids",
                    "hiv/aids",
                    "covid-19",
                    "covid-19",
                    "takotsubo cardiomyopathy",
                    "takotsubo cardiomyopathy",
                    "tuberculoses",
                    "tuberculoses",
                    "endocarditis",
                    "endocarditis",
                    "syphilis",
                    "syphilis",
                    "hypertension",
                    "hypertension",
                    "sarcoidoses",
                    "sarcoidoses",
                    "hepatitis b",
                    "hepatitis b",
                    "ulcerative colitis",
                    "ulcerative colitis",
                    "crohn’s disease",
                    "crohn’s disease",
                    "chagas disease",
                    "chagas disease",
                    "diastolic dysfunction",
                    "diastolic dysfunction",
                    "goiter",
                    "goiter",
                    "arthritis",
                    "arthritis",
                    "repetitive stress syndrome",
                    "repetitive stress syndrome",
                    "flu",
                    "flu",
                    "suicide",
                    "suicide",
                    "visual anomalies",
                    "visual anomalies",
                    "loss of sex drive",
                    "loss of sex drive",
                    "menstruation",
                    "menstruation",
                    "perforated ulcer",
                    "perforated ulcer",
                    "ibs",
                    "ibs",
                    "acne",
                    "acne",
                    "achilles tendinitis",
                    "achilles tendinitis",
                    "bipolar disorder",
                    "bipolar disorder",
                    "hyperthyroid",
                    "hyperthyroid",
                    "hypothyroid",
                    "hypothyroid",
                    "acute kidney failure",
                    "acute kidney failure",
                    "deafness",
                    "deafness",
                    "hypochondria",
                    "hypochondria",
                    "gingival disease",
                    "gingival disease",
                    "disability",
                    "disability",
                    "osteoarthritis",
                    "osteoarthritis",
                    " mi ",
                    " mi ",
                    "lyme disease",
                    "lyme disease",
                    "labyrinthitis",
                    "labyrinthitis",
                    "fibromyalgia",
                    "fibromyalgia",
                    "multiple sclerosis",
                    "multiple sclerosis",
                    "acute gastritis",
                    "acute gastritis",
                    "muscle inflammation",
                    "muscle inflammation",
                    "alzheimer's",
                    "alzheimer's",
                    "gastric problems",
                    "gastric problems",
                    "oesophageal ulcer",
                    "oesophageal ulcer",
                    "polymyositis",
                    "polymyositis",
                    "bronchitis",
                    "bronchitis",
                    "parkinson's disease",
                    "parkinson's disease",
                    "restless legs syndrome",
                    "restless legs syndrome",
                    "inflammatory disorder of tendon",
                    "inflammatory disorder of tendon",
                    "mood disorder of depressed type",
                    "mood disorder of depressed type",
                    "sinus infection",
                    "sinus infection",
                    " mnd ",
                    " mnd ",
                    "permanent nerve damage",
                    "permanent nerve damage",
                    "gall bladder disease",
                    "gall bladder disease",
                    "infection",
                    "infection",
                    "sepsis",
                    "sepsis",
                    "menopause",
                    "menopause",
                    "eczema",
                    "eczema",
                    "type two diabetic",
                    "type two diabetic",
                    "type one diabetic",
                    "type one diabetic",
                    "parkinson",
                    "parkinson",
                    "cardiovascular disease",
                    "cardiovascular disease",
                    "learning problems",
                    "learning problems",
                    "dementia",
                    "dementia",
                    "chronic fatigue syndrome",
                    "chronic fatigue syndrome",
                    "coronary artery disease",
                    "coronary artery disease",
                    "upper respiratory infection",
                    "upper respiratory infection",
                    "alopecia",
                    "alopecia",
                    "sexual dysfunction",
                    "sexual dysfunction",
                    "nerve damage",
                    "nerve damage",
                    "carpal tunnel syndrome",
                    "carpal tunnel syndrome",
                    "liver failure",
                    "liver failure",
                    "tinnitus",
                    "tinnitus",
                    "malaria",
                    "malaria",
                    "phlebitis",
                    "phlebitis",
                    "diarrhoea",
                    "diarrhoea",
                    "vision problems",
                    "vision problems",
                    "aortic aneurysem",
                    "aortic aneurysem",
                    "urinary tract infection",
                    "urinary tract infection",
                    "psychosis",
                    "psychosis",
                    "rheumatoid arthritis",
                    "rheumatoid arthritis",
                    "diabetes",
                    "diabetes",
                    "stevens johnson syndrome",
                    "stevens johnson syndrome",
                    "mental illness",
                    "mental illness",
                    "pancreatitis",
                    "pancreatitis",
                    "adenomyosis",
                    "adenomyosis",
                    " als ",
                    " als ",
                    "chronic kidney disease",
                    "chronic kidney disease",
                    "endometriosis",
                    "endometriosis",
                    "asthma",
                    "asthma",
                    "lupus",
                    "lupus",
                    "pneumonia",
                    "pneumonia",
                    "arrhythmia",
                    "arrhythmia"
                  ],
                  "xaxis": "x",
                  "y": [
                    -146.93737888336182,
                    -152.79671669006348,
                    -134.60574626922607,
                    -146.4412670135498,
                    -147.10238647460938,
                    -151.5067262649536,
                    -136.09669494628906,
                    -138.96573543548584,
                    -124.32987117767334,
                    -141.45727157592773,
                    -138.59020614624023,
                    -149.08585262298584,
                    -111.76300239562988,
                    -114.26445865631104,
                    -133.17197513580322,
                    -137.32864570617676,
                    -120.57540225982666,
                    -133.8273162841797,
                    -131.31479263305664,
                    -137.5808801651001,
                    -148.69236183166504,
                    -162.07522201538086,
                    -128.0147829055786,
                    -139.3688850402832,
                    -118.23058986663818,
                    -128.37071418762207,
                    -116.59348678588867,
                    -124.15019512176514,
                    -110.97884273529053,
                    -112.83169269561768,
                    -120.93944931030273,
                    -127.95494842529297,
                    -101.35883808135986,
                    -107.88974666595459,
                    -104.53629398345947,
                    -111.6386661529541,
                    -111.9388780593872,
                    -121.60976696014404,
                    -128.9944019317627,
                    -137.50474166870117,
                    -123.85231018066406,
                    -130.98539447784424,
                    -129.0613431930542,
                    -138.07643699645996,
                    -113.29999923706055,
                    -118.77627944946289,
                    -103.47854232788086,
                    -109.60211181640625,
                    -156.31005191802979,
                    -159.78955364227295,
                    -116.55144119262695,
                    -117.2580976486206,
                    -132.5337209701538,
                    -136.53246212005615,
                    -128.90664100646973,
                    -139.60541439056396,
                    -120.90007209777832,
                    -128.48230648040771,
                    -115.95036315917969,
                    -123.51039409637451,
                    -130.8028383255005,
                    -148.2420539855957,
                    -129.9653148651123,
                    -135.93644618988037,
                    -107.00580787658691,
                    -112.83775043487549,
                    -127.9460039138794,
                    -123.67702388763428,
                    -115.96811580657959,
                    -124.17096424102783,
                    -127.44677066802979,
                    -129.11591053009033,
                    -125.42516613006592,
                    -137.66124725341797,
                    -131.63282299041748,
                    -139.79657077789307,
                    -116.21435642242432,
                    -121.60812091827393,
                    -135.5175437927246,
                    -139.57844352722168,
                    -114.89459896087646,
                    -123.88919162750244,
                    -125.69998836517334,
                    -129.33748149871826,
                    -117.61851978302002,
                    -121.96248149871826,
                    -131.15688705444336,
                    -136.8031759262085,
                    -149.9644069671631,
                    -153.9665756225586,
                    -121.17923927307129,
                    -131.39835262298584,
                    -131.18718910217285,
                    -140.54536724090576,
                    -123.0862455368042,
                    -133.47186946868896,
                    -126.76683521270752,
                    -134.38707828521729,
                    -136.01412773132324,
                    -145.00342750549316,
                    -112.92990589141846,
                    -123.32489585876465,
                    -127.7696647644043,
                    -134.06182670593262,
                    -125.50095653533936,
                    -141.14883708953857,
                    -121.48033714294434,
                    -126.65405654907227,
                    -103.77830123901367,
                    -106.96495628356934,
                    -109.06846809387207,
                    -113.77594757080078,
                    -115.41675186157227,
                    -120.70278549194336,
                    -131.3733787536621,
                    -143.1773223876953,
                    -115.30185031890869,
                    -125.11958885192871,
                    -113.8086109161377,
                    -126.36231136322021,
                    -112.77003765106201,
                    -118.67219352722168,
                    -113.34617900848389,
                    -121.26584434509277,
                    -112.70468235015869,
                    -117.0103120803833,
                    -108.49550151824951,
                    -111.89950561523438,
                    -121.00937366485596,
                    -127.1398983001709,
                    -126.73974704742432,
                    -131.86958599090576,
                    -114.64536571502686,
                    -124.20611953735352,
                    -135.43710899353027,
                    -151.8790340423584,
                    -114.7223129272461,
                    -120.10472965240479,
                    -113.72233772277832,
                    -117.81767272949219,
                    -126.26406860351562,
                    -134.7727689743042,
                    -114.12116813659668,
                    -118.366455078125,
                    -131.83966064453125,
                    -140.1068868637085,
                    -110.1032943725586,
                    -113.59030723571777,
                    -140.79333686828613,
                    -151.2259750366211,
                    -154.60163688659668,
                    -159.65978050231934,
                    -113.03241157531738,
                    -118.1009693145752,
                    -158.39727401733398,
                    -169.25629425048828,
                    -123.46684265136719,
                    -129.00836849212646,
                    -109.44626045227051,
                    -115.90818214416504,
                    -125.60408687591553,
                    -135.672345161438,
                    -106.96144580841064,
                    -112.48463249206543,
                    -160.67611503601074,
                    -177.35051727294922,
                    -113.92507648468018,
                    -117.73836135864258,
                    -125.6172924041748,
                    -137.9929723739624,
                    -126.78865242004395,
                    -134.08955097198486,
                    -116.91319751739502,
                    -120.40107822418213,
                    -124.35264015197754,
                    -131.58952140808105,
                    -132.86972522735596,
                    -136.9578742980957,
                    -110.49495506286621,
                    -118.47756290435791,
                    -109.4239273071289,
                    -115.97647857666016,
                    -116.07322978973389,
                    -117.52363204956055,
                    -117.97226524353027,
                    -130.79400634765625
                  ],
                  "yaxis": "y"
                },
                {
                  "alignmentgroup": "True",
                  "hovertemplate": "Category=hispanic<br>Disease=%{x}<br>Logit Value=%{y}<extra></extra>",
                  "legendgroup": "hispanic",
                  "marker": {
                    "color": "#EF553B",
                    "pattern": {
                      "shape": ""
                    }
                  },
                  "name": "hispanic",
                  "offsetgroup": "hispanic",
                  "orientation": "v",
                  "showlegend": true,
                  "textposition": "auto",
                  "type": "bar",
                  "x": [
                    "hiv/aids",
                    "hiv/aids",
                    "covid-19",
                    "covid-19",
                    "takotsubo cardiomyopathy",
                    "takotsubo cardiomyopathy",
                    "tuberculoses",
                    "tuberculoses",
                    "endocarditis",
                    "endocarditis",
                    "syphilis",
                    "syphilis",
                    "hypertension",
                    "hypertension",
                    "sarcoidoses",
                    "sarcoidoses",
                    "hepatitis b",
                    "hepatitis b",
                    "ulcerative colitis",
                    "ulcerative colitis",
                    "crohn’s disease",
                    "crohn’s disease",
                    "chagas disease",
                    "chagas disease",
                    "diastolic dysfunction",
                    "diastolic dysfunction",
                    "goiter",
                    "goiter",
                    "arthritis",
                    "arthritis",
                    "repetitive stress syndrome",
                    "repetitive stress syndrome",
                    "flu",
                    "flu",
                    "suicide",
                    "suicide",
                    "visual anomalies",
                    "visual anomalies",
                    "loss of sex drive",
                    "loss of sex drive",
                    "menstruation",
                    "menstruation",
                    "perforated ulcer",
                    "perforated ulcer",
                    "ibs",
                    "ibs",
                    "acne",
                    "acne",
                    "achilles tendinitis",
                    "achilles tendinitis",
                    "bipolar disorder",
                    "bipolar disorder",
                    "hyperthyroid",
                    "hyperthyroid",
                    "hypothyroid",
                    "hypothyroid",
                    "acute kidney failure",
                    "acute kidney failure",
                    "deafness",
                    "deafness",
                    "hypochondria",
                    "hypochondria",
                    "gingival disease",
                    "gingival disease",
                    "disability",
                    "disability",
                    "osteoarthritis",
                    "osteoarthritis",
                    " mi ",
                    " mi ",
                    "lyme disease",
                    "lyme disease",
                    "labyrinthitis",
                    "labyrinthitis",
                    "fibromyalgia",
                    "fibromyalgia",
                    "multiple sclerosis",
                    "multiple sclerosis",
                    "acute gastritis",
                    "acute gastritis",
                    "muscle inflammation",
                    "muscle inflammation",
                    "alzheimer's",
                    "alzheimer's",
                    "gastric problems",
                    "gastric problems",
                    "oesophageal ulcer",
                    "oesophageal ulcer",
                    "polymyositis",
                    "polymyositis",
                    "bronchitis",
                    "bronchitis",
                    "parkinson's disease",
                    "parkinson's disease",
                    "restless legs syndrome",
                    "restless legs syndrome",
                    "inflammatory disorder of tendon",
                    "inflammatory disorder of tendon",
                    "mood disorder of depressed type",
                    "mood disorder of depressed type",
                    "sinus infection",
                    "sinus infection",
                    " mnd ",
                    " mnd ",
                    "permanent nerve damage",
                    "permanent nerve damage",
                    "gall bladder disease",
                    "gall bladder disease",
                    "infection",
                    "infection",
                    "sepsis",
                    "sepsis",
                    "menopause",
                    "menopause",
                    "eczema",
                    "eczema",
                    "type two diabetic",
                    "type two diabetic",
                    "type one diabetic",
                    "type one diabetic",
                    "parkinson",
                    "parkinson",
                    "cardiovascular disease",
                    "cardiovascular disease",
                    "learning problems",
                    "learning problems",
                    "dementia",
                    "dementia",
                    "chronic fatigue syndrome",
                    "chronic fatigue syndrome",
                    "coronary artery disease",
                    "coronary artery disease",
                    "upper respiratory infection",
                    "upper respiratory infection",
                    "alopecia",
                    "alopecia",
                    "sexual dysfunction",
                    "sexual dysfunction",
                    "nerve damage",
                    "nerve damage",
                    "carpal tunnel syndrome",
                    "carpal tunnel syndrome",
                    "liver failure",
                    "liver failure",
                    "tinnitus",
                    "tinnitus",
                    "malaria",
                    "malaria",
                    "phlebitis",
                    "phlebitis",
                    "diarrhoea",
                    "diarrhoea",
                    "vision problems",
                    "vision problems",
                    "aortic aneurysem",
                    "aortic aneurysem",
                    "urinary tract infection",
                    "urinary tract infection",
                    "psychosis",
                    "psychosis",
                    "rheumatoid arthritis",
                    "rheumatoid arthritis",
                    "diabetes",
                    "diabetes",
                    "stevens johnson syndrome",
                    "stevens johnson syndrome",
                    "mental illness",
                    "mental illness",
                    "pancreatitis",
                    "pancreatitis",
                    "adenomyosis",
                    "adenomyosis",
                    " als ",
                    " als ",
                    "chronic kidney disease",
                    "chronic kidney disease",
                    "endometriosis",
                    "endometriosis",
                    "asthma",
                    "asthma",
                    "lupus",
                    "lupus",
                    "pneumonia",
                    "pneumonia",
                    "arrhythmia",
                    "arrhythmia"
                  ],
                  "xaxis": "x",
                  "y": [
                    -128.38807582855225,
                    -131.56243419647217,
                    -115.06914043426514,
                    -125.59287071228027,
                    -131.3265562057495,
                    -130.1899929046631,
                    -117.89059257507324,
                    -117.75731658935547,
                    -109.81085300445557,
                    -120.52192306518555,
                    -119.16429328918457,
                    -127.41413688659668,
                    -93.79461097717285,
                    -93.30869626998901,
                    -116.8372163772583,
                    -115.72948741912842,
                    -103.49091625213623,
                    -112.72173404693604,
                    -114.77568817138672,
                    -116.9060411453247,
                    -129.9141139984131,
                    -140.76567363739014,
                    -111.78213214874268,
                    -117.67035961151123,
                    -102.32537746429443,
                    -105.40152835845947,
                    -97.5658712387085,
                    -101.92565631866455,
                    -94.3562970161438,
                    -92.22918128967285,
                    -103.89439487457275,
                    -107.19284057617188,
                    -83.25236701965332,
                    -86.36753129959106,
                    -87.2639307975769,
                    -91.07854509353638,
                    -94.9310655593872,
                    -99.12113952636719,
                    -109.23474311828613,
                    -116.09498023986816,
                    -105.37613105773926,
                    -108.02720355987549,
                    -113.98166847229004,
                    -117.478590965271,
                    -95.04570007324219,
                    -97.7328577041626,
                    -85.61656379699707,
                    -88.09600114822388,
                    -137.8210105895996,
                    -137.9056100845337,
                    -98.14755058288574,
                    -95.55822420120239,
                    -113.00482654571533,
                    -113.5297269821167,
                    -110.50275325775146,
                    -117.2668228149414,
                    -104.39942646026611,
                    -107.96590518951416,
                    -97.79483604431152,
                    -101.33944606781006,
                    -113.41455554962158,
                    -125.2340726852417,
                    -113.81046485900879,
                    -115.45701885223389,
                    -89.35351371765137,
                    -92.18112659454346,
                    -110.92511177062988,
                    -103.25183296203613,
                    -98.74035453796387,
                    -103.59545040130615,
                    -109.62743759155273,
                    -107.7567024230957,
                    -109.13750076293945,
                    -115.42613315582275,
                    -113.92446613311768,
                    -118.34534454345703,
                    -97.65579128265381,
                    -101.23265838623047,
                    -119.26727199554443,
                    -119.85673809051514,
                    -97.87648010253906,
                    -101.68051242828369,
                    -107.8789415359497,
                    -109.10937976837158,
                    -99.29931545257568,
                    -99.81631565093994,
                    -113.54550075531006,
                    -115.39499473571777,
                    -131.39025592803955,
                    -131.1294937133789,
                    -103.84945487976074,
                    -109.45479393005371,
                    -113.15567779541016,
                    -117.62913608551025,
                    -105.04161930084229,
                    -111.7427339553833,
                    -110.4330358505249,
                    -112.88083362579346,
                    -117.4680871963501,
                    -123.6603136062622,
                    -96.91877746582031,
                    -101.72706413269043,
                    -111.35547256469727,
                    -112.87856674194336,
                    -110.47778415679932,
                    -118.69246673583984,
                    -106.08321475982666,
                    -105.66170978546143,
                    -86.00177478790283,
                    -85.47408390045166,
                    -91.42283868789673,
                    -92.82227993011475,
                    -96.26317119598389,
                    -100.44484233856201,
                    -112.09530067443848,
                    -121.34348678588867,
                    -98.57875919342041,
                    -104.36147880554199,
                    -97.91950130462646,
                    -104.87526226043701,
                    -94.20018291473389,
                    -95.61385250091553,
                    -97.07430505752563,
                    -99.89630603790283,
                    -94.57888412475586,
                    -96.66139698028564,
                    -91.44302558898926,
                    -91.40300178527832,
                    -104.40086364746094,
                    -107.39828205108643,
                    -110.56287956237793,
                    -111.8139181137085,
                    -98.0097827911377,
                    -102.93095684051514,
                    -115.65732097625732,
                    -129.74338054656982,
                    -96.32734680175781,
                    -98.86326026916504,
                    -96.68563842773438,
                    -97.28443622589111,
                    -109.07511043548584,
                    -113.2034740447998,
                    -95.91640758514404,
                    -97.27801609039307,
                    -114.50778102874756,
                    -116.57709789276123,
                    -90.97012519836426,
                    -91.71068954467773,
                    -122.1137466430664,
                    -129.64478969573975,
                    -137.2436399459839,
                    -137.51279640197754,
                    -95.16382312774658,
                    -96.73202228546143,
                    -142.0731372833252,
                    -146.1046380996704,
                    -108.38692283630371,
                    -108.32923603057861,
                    -91.01358032226562,
                    -94.63216638565063,
                    -108.42778205871582,
                    -115.69347953796387,
                    -90.1117205619812,
                    -92.89201498031616,
                    -143.0621738433838,
                    -155.030424118042,
                    -94.96411323547363,
                    -96.71236515045166,
                    -109.64583015441895,
                    -117.00270652770996,
                    -111.07470226287842,
                    -113.30342292785645,
                    -100.15281200408936,
                    -98.4119873046875,
                    -107.87691307067871,
                    -111.17071437835693,
                    -117.14776706695557,
                    -115.47639846801758,
                    -92.30730247497559,
                    -96.11953020095825,
                    -91.42625999450684,
                    -94.02691555023193,
                    -100.1149435043335,
                    -96.61182165145874,
                    -101.592698097229,
                    -107.51607131958008
                  ],
                  "yaxis": "y"
                },
                {
                  "alignmentgroup": "True",
                  "hovertemplate": "Category=asian<br>Disease=%{x}<br>Logit Value=%{y}<extra></extra>",
                  "legendgroup": "asian",
                  "marker": {
                    "color": "#00cc96",
                    "pattern": {
                      "shape": ""
                    }
                  },
                  "name": "asian",
                  "offsetgroup": "asian",
                  "orientation": "v",
                  "showlegend": true,
                  "textposition": "auto",
                  "type": "bar",
                  "x": [
                    "hiv/aids",
                    "hiv/aids",
                    "covid-19",
                    "covid-19",
                    "takotsubo cardiomyopathy",
                    "takotsubo cardiomyopathy",
                    "tuberculoses",
                    "tuberculoses",
                    "endocarditis",
                    "endocarditis",
                    "syphilis",
                    "syphilis",
                    "hypertension",
                    "hypertension",
                    "sarcoidoses",
                    "sarcoidoses",
                    "hepatitis b",
                    "hepatitis b",
                    "ulcerative colitis",
                    "ulcerative colitis",
                    "crohn’s disease",
                    "crohn’s disease",
                    "chagas disease",
                    "chagas disease",
                    "diastolic dysfunction",
                    "diastolic dysfunction",
                    "goiter",
                    "goiter",
                    "arthritis",
                    "arthritis",
                    "repetitive stress syndrome",
                    "repetitive stress syndrome",
                    "flu",
                    "flu",
                    "suicide",
                    "suicide",
                    "visual anomalies",
                    "visual anomalies",
                    "loss of sex drive",
                    "loss of sex drive",
                    "menstruation",
                    "menstruation",
                    "perforated ulcer",
                    "perforated ulcer",
                    "ibs",
                    "ibs",
                    "acne",
                    "acne",
                    "achilles tendinitis",
                    "achilles tendinitis",
                    "bipolar disorder",
                    "bipolar disorder",
                    "hyperthyroid",
                    "hyperthyroid",
                    "hypothyroid",
                    "hypothyroid",
                    "acute kidney failure",
                    "acute kidney failure",
                    "deafness",
                    "deafness",
                    "hypochondria",
                    "hypochondria",
                    "gingival disease",
                    "gingival disease",
                    "disability",
                    "disability",
                    "osteoarthritis",
                    "osteoarthritis",
                    " mi ",
                    " mi ",
                    "lyme disease",
                    "lyme disease",
                    "labyrinthitis",
                    "labyrinthitis",
                    "fibromyalgia",
                    "fibromyalgia",
                    "multiple sclerosis",
                    "multiple sclerosis",
                    "acute gastritis",
                    "acute gastritis",
                    "muscle inflammation",
                    "muscle inflammation",
                    "alzheimer's",
                    "alzheimer's",
                    "gastric problems",
                    "gastric problems",
                    "oesophageal ulcer",
                    "oesophageal ulcer",
                    "polymyositis",
                    "polymyositis",
                    "bronchitis",
                    "bronchitis",
                    "parkinson's disease",
                    "parkinson's disease",
                    "restless legs syndrome",
                    "restless legs syndrome",
                    "inflammatory disorder of tendon",
                    "inflammatory disorder of tendon",
                    "mood disorder of depressed type",
                    "mood disorder of depressed type",
                    "sinus infection",
                    "sinus infection",
                    " mnd ",
                    " mnd ",
                    "permanent nerve damage",
                    "permanent nerve damage",
                    "gall bladder disease",
                    "gall bladder disease",
                    "infection",
                    "infection",
                    "sepsis",
                    "sepsis",
                    "menopause",
                    "menopause",
                    "eczema",
                    "eczema",
                    "type two diabetic",
                    "type two diabetic",
                    "type one diabetic",
                    "type one diabetic",
                    "parkinson",
                    "parkinson",
                    "cardiovascular disease",
                    "cardiovascular disease",
                    "learning problems",
                    "learning problems",
                    "dementia",
                    "dementia",
                    "chronic fatigue syndrome",
                    "chronic fatigue syndrome",
                    "coronary artery disease",
                    "coronary artery disease",
                    "upper respiratory infection",
                    "upper respiratory infection",
                    "alopecia",
                    "alopecia",
                    "sexual dysfunction",
                    "sexual dysfunction",
                    "nerve damage",
                    "nerve damage",
                    "carpal tunnel syndrome",
                    "carpal tunnel syndrome",
                    "liver failure",
                    "liver failure",
                    "tinnitus",
                    "tinnitus",
                    "malaria",
                    "malaria",
                    "phlebitis",
                    "phlebitis",
                    "diarrhoea",
                    "diarrhoea",
                    "vision problems",
                    "vision problems",
                    "aortic aneurysem",
                    "aortic aneurysem",
                    "urinary tract infection",
                    "urinary tract infection",
                    "psychosis",
                    "psychosis",
                    "rheumatoid arthritis",
                    "rheumatoid arthritis",
                    "diabetes",
                    "diabetes",
                    "stevens johnson syndrome",
                    "stevens johnson syndrome",
                    "mental illness",
                    "mental illness",
                    "pancreatitis",
                    "pancreatitis",
                    "adenomyosis",
                    "adenomyosis",
                    " als ",
                    " als ",
                    "chronic kidney disease",
                    "chronic kidney disease",
                    "endometriosis",
                    "endometriosis",
                    "asthma",
                    "asthma",
                    "lupus",
                    "lupus",
                    "pneumonia",
                    "pneumonia",
                    "arrhythmia",
                    "arrhythmia"
                  ],
                  "xaxis": "x",
                  "y": [
                    -122.71314907073975,
                    -131.05019283294678,
                    -109.56216526031494,
                    -125.6017074584961,
                    -127.29929447174072,
                    -130.63112354278564,
                    -112.80963897705078,
                    -116.2973165512085,
                    -102.97467517852783,
                    -118.18387985229492,
                    -114.92185688018799,
                    -127.42532157897949,
                    -89.40919256210327,
                    -91.74695920944214,
                    -110.39272403717041,
                    -114.50987720489502,
                    -97.65228128433228,
                    -111.44249439239502,
                    -109.14519786834717,
                    -115.68134307861328,
                    -125.04388236999512,
                    -141.16897583007812,
                    -106.23309421539307,
                    -116.85402202606201,
                    -97.89331865310669,
                    -103.53141593933105,
                    -93.65744352340698,
                    -102.13737106323242,
                    -88.43882131576538,
                    -90.60418891906738,
                    -99.01335144042969,
                    -105.29125118255615,
                    -78.41325902938843,
                    -85.47432613372803,
                    -82.18575096130371,
                    -90.75881242752075,
                    -89.50170612335205,
                    -97.77303981781006,
                    -106.62196063995361,
                    -115.04268455505371,
                    -100.78140258789062,
                    -107.18408012390137,
                    -108.86345863342285,
                    -114.64359283447266,
                    -89.48687696456909,
                    -96.57074546813965,
                    -80.24527311325073,
                    -86.95701932907104,
                    -134.70277976989746,
                    -136.960711479187,
                    -93.74611282348633,
                    -94.8972487449646,
                    -108.31867599487305,
                    -114.56457805633545,
                    -106.48445415496826,
                    -116.29351234436035,
                    -98.59728145599365,
                    -106.7740831375122,
                    -92.42652320861816,
                    -100.77657794952393,
                    -109.10855197906494,
                    -123.42577457427979,
                    -108.02482604980469,
                    -113.32051944732666,
                    -83.68078088760376,
                    -91.3220944404602,
                    -105.6794605255127,
                    -101.43679714202881,
                    -92.68371295928955,
                    -101.92807483673096,
                    -104.89765644073486,
                    -107.30983543395996,
                    -104.265793800354,
                    -114.62817192077637,
                    -110.95383930206299,
                    -117.65032482147217,
                    -93.14343118667603,
                    -99.71361684799194,
                    -113.33098697662354,
                    -117.55616474151611,
                    -93.03213024139404,
                    -99.08098268508911,
                    -103.94980907440186,
                    -108.79523658752441,
                    -94.1795482635498,
                    -98.40580701828003,
                    -108.0349063873291,
                    -113.90335369110107,
                    -126.97706699371338,
                    -128.5621452331543,
                    -99.00105381011963,
                    -108.48314762115479,
                    -110.13499450683594,
                    -118.69463157653809,
                    -100.35814571380615,
                    -111.63948631286621,
                    -104.44803714752197,
                    -111.78487491607666,
                    -114.10746479034424,
                    -124.61864948272705,
                    -90.24327659606934,
                    -100.02437686920166,
                    -105.14082050323486,
                    -112.14501857757568,
                    -104.64161682128906,
                    -117.77022933959961,
                    -98.8328504562378,
                    -103.82180786132812,
                    -80.84368467330933,
                    -84.14235019683838,
                    -85.9247350692749,
                    -91.5383768081665,
                    -91.90322256088257,
                    -98.3355884552002,
                    -107.43086528778076,
                    -120.21660423278809,
                    -93.28760147094727,
                    -102.17301750183105,
                    -92.13786315917969,
                    -103.28460025787354,
                    -91.26228761672974,
                    -96.06717681884766,
                    -91.41842269897461,
                    -97.56207752227783,
                    -89.56948184967041,
                    -95.81623458862305,
                    -85.63002729415894,
                    -90.74695825576782,
                    -100.0325231552124,
                    -106.75893878936768,
                    -105.01051712036133,
                    -109.10545349121094,
                    -92.97485113143921,
                    -102.07599925994873,
                    -112.68467712402344,
                    -129.44407272338867,
                    -92.25189208984375,
                    -97.95458936691284,
                    -91.01899862289429,
                    -95.47233772277832,
                    -104.10419273376465,
                    -111.96096897125244,
                    -90.78802728652954,
                    -96.07576084136963,
                    -109.7051134109497,
                    -117.39320945739746,
                    -85.11934757232666,
                    -90.36358261108398,
                    -117.45259952545166,
                    -128.25060653686523,
                    -131.72902965545654,
                    -136.07280731201172,
                    -90.08028078079224,
                    -96.09115219116211,
                    -137.39822578430176,
                    -146.0082540512085,
                    -102.25611877441406,
                    -106.69310665130615,
                    -87.42850589752197,
                    -94.94816303253174,
                    -102.97835445404053,
                    -114.46090126037598,
                    -84.86186075210571,
                    -91.73480796813965,
                    -140.88318157196045,
                    -157.76251602172852,
                    -90.9102668762207,
                    -96.37999248504639,
                    -104.66651630401611,
                    -115.39037704467773,
                    -105.20976066589355,
                    -111.2626781463623,
                    -92.64958381652832,
                    -96.89287376403809,
                    -102.39220428466797,
                    -109.45340156555176,
                    -111.24755954742432,
                    -114.22711277008057,
                    -86.69301891326904,
                    -96.33458518981934,
                    -86.46061134338379,
                    -92.72513341903687,
                    -94.21250343322754,
                    -95.37427949905396,
                    -96.21799564361572,
                    -106.60120677947998
                  ],
                  "yaxis": "y"
                },
                {
                  "alignmentgroup": "True",
                  "hovertemplate": "Category=indigenous<br>Disease=%{x}<br>Logit Value=%{y}<extra></extra>",
                  "legendgroup": "indigenous",
                  "marker": {
                    "color": "#ab63fa",
                    "pattern": {
                      "shape": ""
                    }
                  },
                  "name": "indigenous",
                  "offsetgroup": "indigenous",
                  "orientation": "v",
                  "showlegend": true,
                  "textposition": "auto",
                  "type": "bar",
                  "x": [
                    "hiv/aids",
                    "hiv/aids",
                    "covid-19",
                    "covid-19",
                    "takotsubo cardiomyopathy",
                    "takotsubo cardiomyopathy",
                    "tuberculoses",
                    "tuberculoses",
                    "endocarditis",
                    "endocarditis",
                    "syphilis",
                    "syphilis",
                    "hypertension",
                    "hypertension",
                    "sarcoidoses",
                    "sarcoidoses",
                    "hepatitis b",
                    "hepatitis b",
                    "ulcerative colitis",
                    "ulcerative colitis",
                    "crohn’s disease",
                    "crohn’s disease",
                    "chagas disease",
                    "chagas disease",
                    "diastolic dysfunction",
                    "diastolic dysfunction",
                    "goiter",
                    "goiter",
                    "arthritis",
                    "arthritis",
                    "repetitive stress syndrome",
                    "repetitive stress syndrome",
                    "flu",
                    "flu",
                    "suicide",
                    "suicide",
                    "visual anomalies",
                    "visual anomalies",
                    "loss of sex drive",
                    "loss of sex drive",
                    "menstruation",
                    "menstruation",
                    "perforated ulcer",
                    "perforated ulcer",
                    "ibs",
                    "ibs",
                    "acne",
                    "acne",
                    "achilles tendinitis",
                    "achilles tendinitis",
                    "bipolar disorder",
                    "bipolar disorder",
                    "hyperthyroid",
                    "hyperthyroid",
                    "hypothyroid",
                    "hypothyroid",
                    "acute kidney failure",
                    "acute kidney failure",
                    "deafness",
                    "deafness",
                    "hypochondria",
                    "hypochondria",
                    "gingival disease",
                    "gingival disease",
                    "disability",
                    "disability",
                    "osteoarthritis",
                    "osteoarthritis",
                    " mi ",
                    " mi ",
                    "lyme disease",
                    "lyme disease",
                    "labyrinthitis",
                    "labyrinthitis",
                    "fibromyalgia",
                    "fibromyalgia",
                    "multiple sclerosis",
                    "multiple sclerosis",
                    "acute gastritis",
                    "acute gastritis",
                    "muscle inflammation",
                    "muscle inflammation",
                    "alzheimer's",
                    "alzheimer's",
                    "gastric problems",
                    "gastric problems",
                    "oesophageal ulcer",
                    "oesophageal ulcer",
                    "polymyositis",
                    "polymyositis",
                    "bronchitis",
                    "bronchitis",
                    "parkinson's disease",
                    "parkinson's disease",
                    "restless legs syndrome",
                    "restless legs syndrome",
                    "inflammatory disorder of tendon",
                    "inflammatory disorder of tendon",
                    "mood disorder of depressed type",
                    "mood disorder of depressed type",
                    "sinus infection",
                    "sinus infection",
                    " mnd ",
                    " mnd ",
                    "permanent nerve damage",
                    "permanent nerve damage",
                    "gall bladder disease",
                    "gall bladder disease",
                    "infection",
                    "infection",
                    "sepsis",
                    "sepsis",
                    "menopause",
                    "menopause",
                    "eczema",
                    "eczema",
                    "type two diabetic",
                    "type two diabetic",
                    "type one diabetic",
                    "type one diabetic",
                    "parkinson",
                    "parkinson",
                    "cardiovascular disease",
                    "cardiovascular disease",
                    "learning problems",
                    "learning problems",
                    "dementia",
                    "dementia",
                    "chronic fatigue syndrome",
                    "chronic fatigue syndrome",
                    "coronary artery disease",
                    "coronary artery disease",
                    "upper respiratory infection",
                    "upper respiratory infection",
                    "alopecia",
                    "alopecia",
                    "sexual dysfunction",
                    "sexual dysfunction",
                    "nerve damage",
                    "nerve damage",
                    "carpal tunnel syndrome",
                    "carpal tunnel syndrome",
                    "liver failure",
                    "liver failure",
                    "tinnitus",
                    "tinnitus",
                    "malaria",
                    "malaria",
                    "phlebitis",
                    "phlebitis",
                    "diarrhoea",
                    "diarrhoea",
                    "vision problems",
                    "vision problems",
                    "aortic aneurysem",
                    "aortic aneurysem",
                    "urinary tract infection",
                    "urinary tract infection",
                    "psychosis",
                    "psychosis",
                    "rheumatoid arthritis",
                    "rheumatoid arthritis",
                    "diabetes",
                    "diabetes",
                    "stevens johnson syndrome",
                    "stevens johnson syndrome",
                    "mental illness",
                    "mental illness",
                    "pancreatitis",
                    "pancreatitis",
                    "adenomyosis",
                    "adenomyosis",
                    " als ",
                    " als ",
                    "chronic kidney disease",
                    "chronic kidney disease",
                    "endometriosis",
                    "endometriosis",
                    "asthma",
                    "asthma",
                    "lupus",
                    "lupus",
                    "pneumonia",
                    "pneumonia",
                    "arrhythmia",
                    "arrhythmia"
                  ],
                  "xaxis": "x",
                  "y": [
                    -119.72464656829834,
                    -124.22201156616211,
                    -106.34312057495117,
                    -117.84807682037354,
                    -122.61538219451904,
                    -121.81293201446533,
                    -108.58227062225342,
                    -109.90452098846436,
                    -99.31111812591553,
                    -111.67622470855713,
                    -111.56426620483398,
                    -119.50331497192383,
                    -85.93562602996826,
                    -84.59709692001343,
                    -108.07895946502686,
                    -107.9177017211914,
                    -94.62674808502197,
                    -104.09303379058838,
                    -103.9717493057251,
                    -107.81379413604736,
                    -120.51668453216553,
                    -132.33637809753418,
                    -101.44768047332764,
                    -109.8114824295044,
                    -94.52914619445801,
                    -97.86328983306885,
                    -90.05325984954834,
                    -95.63520050048828,
                    -84.6634669303894,
                    -83.5695595741272,
                    -94.67236042022705,
                    -99.06942653656006,
                    -75.35315465927124,
                    -79.14963340759277,
                    -78.02723360061646,
                    -83.32046461105347,
                    -86.22823810577393,
                    -91.29476499557495,
                    -101.83407974243164,
                    -108.13846492767334,
                    -97.77432155609131,
                    -100.81399726867676,
                    -105.1374397277832,
                    -107.9596529006958,
                    -86.14448356628418,
                    -90.37553930282593,
                    -76.89258003234863,
                    -80.3936243057251,
                    -129.7524242401123,
                    -130.93408107757568,
                    -89.25701999664307,
                    -87.27712678909302,
                    -104.93100070953369,
                    -107.1290397644043,
                    -102.94379615783691,
                    -109.84001159667969,
                    -94.67838668823242,
                    -99.3176760673523,
                    -89.35672998428345,
                    -93.86537265777588,
                    -105.55430126190186,
                    -117.60425662994385,
                    -103.64429092407227,
                    -105.63482761383057,
                    -80.5573296546936,
                    -84.33997774124146,
                    -102.07749652862549,
                    -94.02621364593506,
                    -90.15161085128784,
                    -96.5762095451355,
                    -99.62435531616211,
                    -99.10974597930908,
                    -100.44514656066895,
                    -106.7728796005249,
                    -105.89610862731934,
                    -110.10426998138428,
                    -89.19546508789062,
                    -92.2586030960083,
                    -108.90877437591553,
                    -110.65964698791504,
                    -89.39820194244385,
                    -93.28048038482666,
                    -100.63921356201172,
                    -102.13591194152832,
                    -90.68856287002563,
                    -92.0670599937439,
                    -104.35686683654785,
                    -107.49717664718628,
                    -122.08858871459961,
                    -122.78158187866211,
                    -95.39548778533936,
                    -101.39124202728271,
                    -104.78854751586914,
                    -109.48337745666504,
                    -96.34695148468018,
                    -103.78442668914795,
                    -101.35491180419922,
                    -104.97374820709229,
                    -109.93813228607178,
                    -117.02169990539551,
                    -87.60885286331177,
                    -93.45446681976318,
                    -101.4724645614624,
                    -106.74537754058838,
                    -101.34167003631592,
                    -111.04401779174805,
                    -95.43623542785645,
                    -96.67265129089355,
                    -76.80887651443481,
                    -77.4699068069458,
                    -82.70967864990234,
                    -84.60683727264404,
                    -88.163405418396,
                    -91.77047204971313,
                    -104.06742477416992,
                    -112.80330657958984,
                    -90.91462516784668,
                    -96.329345703125,
                    -90.09902286529541,
                    -97.3156156539917,
                    -87.15770101547241,
                    -88.14721012115479,
                    -87.95023965835571,
                    -91.1829514503479,
                    -86.29596090316772,
                    -89.74766206741333,
                    -82.52948570251465,
                    -83.16222095489502,
                    -94.71690654754639,
                    -98.84874725341797,
                    -101.24075889587402,
                    -103.10444164276123,
                    -89.21219444274902,
                    -94.73648834228516,
                    -106.82858896255493,
                    -121.84487819671631,
                    -87.42464685440063,
                    -90.40183687210083,
                    -88.11628437042236,
                    -89.83234786987305,
                    -100.25352334976196,
                    -104.74487018585205,
                    -87.59946537017822,
                    -89.41996145248413,
                    -105.59163761138916,
                    -109.41040706634521,
                    -81.89466285705566,
                    -83.78135108947754,
                    -113.86537647247314,
                    -121.94759559631348,
                    -128.28701782226562,
                    -130.0380458831787,
                    -86.6940565109253,
                    -89.60948276519775,
                    -134.16144561767578,
                    -139.3788938522339,
                    -98.00865650177002,
                    -99.16563129425049,
                    -83.12283754348755,
                    -87.10820579528809,
                    -99.14918041229248,
                    -106.34258270263672,
                    -81.45736789703369,
                    -84.58737850189209,
                    -134.87096214294434,
                    -149.8566255569458,
                    -86.24937391281128,
                    -88.61145067214966,
                    -101.21821975708008,
                    -108.34756088256836,
                    -101.40928745269775,
                    -104.65434455871582,
                    -91.14535140991211,
                    -92.17145538330078,
                    -97.52471828460693,
                    -101.7598180770874,
                    -107.44773864746094,
                    -106.60769176483154,
                    -83.63064861297607,
                    -88.51305055618286,
                    -82.79295301437378,
                    -86.02958631515503,
                    -90.45512294769287,
                    -88.5111198425293,
                    -92.67862129211426,
                    -99.57382202148438
                  ],
                  "yaxis": "y"
                },
                {
                  "alignmentgroup": "True",
                  "hovertemplate": "Category=white<br>Disease=%{x}<br>Logit Value=%{y}<extra></extra>",
                  "legendgroup": "white",
                  "marker": {
                    "color": "#FFA15A",
                    "pattern": {
                      "shape": ""
                    }
                  },
                  "name": "white",
                  "offsetgroup": "white",
                  "orientation": "v",
                  "showlegend": true,
                  "textposition": "auto",
                  "type": "bar",
                  "x": [
                    "hiv/aids",
                    "hiv/aids",
                    "covid-19",
                    "covid-19",
                    "takotsubo cardiomyopathy",
                    "takotsubo cardiomyopathy",
                    "tuberculoses",
                    "tuberculoses",
                    "endocarditis",
                    "endocarditis",
                    "syphilis",
                    "syphilis",
                    "hypertension",
                    "hypertension",
                    "sarcoidoses",
                    "sarcoidoses",
                    "hepatitis b",
                    "hepatitis b",
                    "ulcerative colitis",
                    "ulcerative colitis",
                    "crohn’s disease",
                    "crohn’s disease",
                    "chagas disease",
                    "chagas disease",
                    "diastolic dysfunction",
                    "diastolic dysfunction",
                    "goiter",
                    "goiter",
                    "arthritis",
                    "arthritis",
                    "repetitive stress syndrome",
                    "repetitive stress syndrome",
                    "flu",
                    "flu",
                    "suicide",
                    "suicide",
                    "visual anomalies",
                    "visual anomalies",
                    "loss of sex drive",
                    "loss of sex drive",
                    "menstruation",
                    "menstruation",
                    "perforated ulcer",
                    "perforated ulcer",
                    "ibs",
                    "ibs",
                    "acne",
                    "acne",
                    "achilles tendinitis",
                    "achilles tendinitis",
                    "bipolar disorder",
                    "bipolar disorder",
                    "hyperthyroid",
                    "hyperthyroid",
                    "hypothyroid",
                    "hypothyroid",
                    "acute kidney failure",
                    "acute kidney failure",
                    "deafness",
                    "deafness",
                    "hypochondria",
                    "hypochondria",
                    "gingival disease",
                    "gingival disease",
                    "disability",
                    "disability",
                    "osteoarthritis",
                    "osteoarthritis",
                    " mi ",
                    " mi ",
                    "lyme disease",
                    "lyme disease",
                    "labyrinthitis",
                    "labyrinthitis",
                    "fibromyalgia",
                    "fibromyalgia",
                    "multiple sclerosis",
                    "multiple sclerosis",
                    "acute gastritis",
                    "acute gastritis",
                    "muscle inflammation",
                    "muscle inflammation",
                    "alzheimer's",
                    "alzheimer's",
                    "gastric problems",
                    "gastric problems",
                    "oesophageal ulcer",
                    "oesophageal ulcer",
                    "polymyositis",
                    "polymyositis",
                    "bronchitis",
                    "bronchitis",
                    "parkinson's disease",
                    "parkinson's disease",
                    "restless legs syndrome",
                    "restless legs syndrome",
                    "inflammatory disorder of tendon",
                    "inflammatory disorder of tendon",
                    "mood disorder of depressed type",
                    "mood disorder of depressed type",
                    "sinus infection",
                    "sinus infection",
                    " mnd ",
                    " mnd ",
                    "permanent nerve damage",
                    "permanent nerve damage",
                    "gall bladder disease",
                    "gall bladder disease",
                    "infection",
                    "infection",
                    "sepsis",
                    "sepsis",
                    "menopause",
                    "menopause",
                    "eczema",
                    "eczema",
                    "type two diabetic",
                    "type two diabetic",
                    "type one diabetic",
                    "type one diabetic",
                    "parkinson",
                    "parkinson",
                    "cardiovascular disease",
                    "cardiovascular disease",
                    "learning problems",
                    "learning problems",
                    "dementia",
                    "dementia",
                    "chronic fatigue syndrome",
                    "chronic fatigue syndrome",
                    "coronary artery disease",
                    "coronary artery disease",
                    "upper respiratory infection",
                    "upper respiratory infection",
                    "alopecia",
                    "alopecia",
                    "sexual dysfunction",
                    "sexual dysfunction",
                    "nerve damage",
                    "nerve damage",
                    "carpal tunnel syndrome",
                    "carpal tunnel syndrome",
                    "liver failure",
                    "liver failure",
                    "tinnitus",
                    "tinnitus",
                    "malaria",
                    "malaria",
                    "phlebitis",
                    "phlebitis",
                    "diarrhoea",
                    "diarrhoea",
                    "vision problems",
                    "vision problems",
                    "aortic aneurysem",
                    "aortic aneurysem",
                    "urinary tract infection",
                    "urinary tract infection",
                    "psychosis",
                    "psychosis",
                    "rheumatoid arthritis",
                    "rheumatoid arthritis",
                    "diabetes",
                    "diabetes",
                    "stevens johnson syndrome",
                    "stevens johnson syndrome",
                    "mental illness",
                    "mental illness",
                    "pancreatitis",
                    "pancreatitis",
                    "adenomyosis",
                    "adenomyosis",
                    " als ",
                    " als ",
                    "chronic kidney disease",
                    "chronic kidney disease",
                    "endometriosis",
                    "endometriosis",
                    "asthma",
                    "asthma",
                    "lupus",
                    "lupus",
                    "pneumonia",
                    "pneumonia",
                    "arrhythmia",
                    "arrhythmia"
                  ],
                  "xaxis": "x",
                  "y": [
                    -113.24975299835205,
                    -121.0541296005249,
                    -100.56461906433105,
                    -115.07638454437256,
                    -116.63618087768555,
                    -120.263747215271,
                    -102.35443115234375,
                    -106.47709465026855,
                    -93.18590974807739,
                    -107.76827621459961,
                    -103.94518852233887,
                    -116.36919403076172,
                    -78.7850513458252,
                    -81.31182813644409,
                    -100.2197036743164,
                    -103.89456748962402,
                    -87.23862075805664,
                    -100.88427925109863,
                    -97.21903800964355,
                    -104.6220293045044,
                    -114.22039890289307,
                    -129.69785404205322,
                    -95.78554487228394,
                    -106.62357234954834,
                    -87.7045545578003,
                    -93.76080703735352,
                    -83.81333827972412,
                    -91.87015056610107,
                    -77.97434616088867,
                    -80.30703496932983,
                    -87.78651285171509,
                    -95.79383611679077,
                    -67.8857946395874,
                    -75.69090127944946,
                    -70.72747135162354,
                    -80.07687664031982,
                    -79.24685764312744,
                    -88.1112642288208,
                    -94.1763916015625,
                    -104.58329105377197,
                    -90.73111820220947,
                    -97.4616117477417,
                    -98.47335243225098,
                    -105.319580078125,
                    -80.17794466018677,
                    -86.76109981536865,
                    -70.06982135772705,
                    -76.89950942993164,
                    -123.78659057617188,
                    -126.9812364578247,
                    -81.9093656539917,
                    -84.03446102142334,
                    -98.41820335388184,
                    -103.9573450088501,
                    -95.87757921218872,
                    -106.10874080657959,
                    -87.77624940872192,
                    -95.91160774230957,
                    -82.48095512390137,
                    -90.69890117645264,
                    -98.8252010345459,
                    -113.8437728881836,
                    -97.2355489730835,
                    -102.52179908752441,
                    -73.5328197479248,
                    -81.05243444442749,
                    -93.64141273498535,
                    -90.89446592330933,
                    -83.45293664932251,
                    -92.8998351097107,
                    -93.97147798538208,
                    -96.00879955291748,
                    -93.3016300201416,
                    -104.16899490356445,
                    -98.55958843231201,
                    -106.81045341491699,
                    -80.9592342376709,
                    -89.02671670913696,
                    -102.5139570236206,
                    -107.34931373596191,
                    -82.35444355010986,
                    -89.48226690292358,
                    -92.83376359939575,
                    -97.99497413635254,
                    -83.76722145080566,
                    -88.77798175811768,
                    -98.06103610992432,
                    -104.04547119140625,
                    -115.78417301177979,
                    -118.63736629486084,
                    -88.53339338302612,
                    -97.50819873809814,
                    -98.36758804321289,
                    -107.17387676239014,
                    -89.5106086730957,
                    -101.2103910446167,
                    -93.69676208496094,
                    -101.14837169647217,
                    -101.97139644622803,
                    -113.35027027130127,
                    -80.04544591903687,
                    -89.84069442749023,
                    -95.30144500732422,
                    -103.03955078125,
                    -94.65853595733643,
                    -107.30762243270874,
                    -88.97796869277954,
                    -93.35371494293213,
                    -69.9902491569519,
                    -74.53091239929199,
                    -75.69421100616455,
                    -81.18155527114868,
                    -80.60901403427124,
                    -88.0830488204956,
                    -97.45658922195435,
                    -110.56736278533936,
                    -82.75722980499268,
                    -92.94649648666382,
                    -82.07909965515137,
                    -94.27375841140747,
                    -80.02459383010864,
                    -85.55021953582764,
                    -80.88683080673218,
                    -87.62938642501831,
                    -78.98402547836304,
                    -86.55346870422363,
                    -75.45730400085449,
                    -79.5468316078186,
                    -88.43945121765137,
                    -96.21191787719727,
                    -94.56343650817871,
                    -99.23779964447021,
                    -82.09788227081299,
                    -91.88670349121094,
                    -101.00632858276367,
                    -119.14315795898438,
                    -80.68400859832764,
                    -87.26795864105225,
                    -81.12338161468506,
                    -85.95716190338135,
                    -93.71089935302734,
                    -102.72463417053223,
                    -80.64107990264893,
                    -85.65992450714111,
                    -99.63167333602905,
                    -106.72319507598877,
                    -75.1486406326294,
                    -80.78351497650146,
                    -107.28822612762451,
                    -118.75680923461914,
                    -121.82212257385254,
                    -126.9424695968628,
                    -79.56012058258057,
                    -86.43809270858765,
                    -127.37989044189453,
                    -136.47723579406738,
                    -91.30627536773682,
                    -96.47608995437622,
                    -75.8893609046936,
                    -83.82126092910767,
                    -91.82247400283813,
                    -103.06316232681274,
                    -74.24662733078003,
                    -81.31735324859619,
                    -128.7532958984375,
                    -146.12413501739502,
                    -79.53748559951782,
                    -85.37714433670044,
                    -93.83846187591553,
                    -104.81469917297363,
                    -94.35927486419678,
                    -100.81691265106201,
                    -83.23827743530273,
                    -87.97404623031616,
                    -90.855309009552,
                    -98.7466688156128,
                    -100.76400184631348,
                    -103.36893653869629,
                    -76.891197681427,
                    -84.57275676727295,
                    -75.62882041931152,
                    -82.61745595932007,
                    -84.06897401809692,
                    -85.13623762130737,
                    -85.79373788833618,
                    -96.24961948394775
                  ],
                  "yaxis": "y"
                },
                {
                  "alignmentgroup": "True",
                  "hovertemplate": "Category=black<br>Disease=%{x}<br>Logit Value=%{y}<extra></extra>",
                  "legendgroup": "black",
                  "marker": {
                    "color": "#19d3f3",
                    "pattern": {
                      "shape": ""
                    }
                  },
                  "name": "black",
                  "offsetgroup": "black",
                  "orientation": "v",
                  "showlegend": true,
                  "textposition": "auto",
                  "type": "bar",
                  "x": [
                    "hiv/aids",
                    "hiv/aids",
                    "covid-19",
                    "covid-19",
                    "takotsubo cardiomyopathy",
                    "takotsubo cardiomyopathy",
                    "tuberculoses",
                    "tuberculoses",
                    "endocarditis",
                    "endocarditis",
                    "syphilis",
                    "syphilis",
                    "hypertension",
                    "hypertension",
                    "sarcoidoses",
                    "sarcoidoses",
                    "hepatitis b",
                    "hepatitis b",
                    "ulcerative colitis",
                    "ulcerative colitis",
                    "crohn’s disease",
                    "crohn’s disease",
                    "chagas disease",
                    "chagas disease",
                    "diastolic dysfunction",
                    "diastolic dysfunction",
                    "goiter",
                    "goiter",
                    "arthritis",
                    "arthritis",
                    "repetitive stress syndrome",
                    "repetitive stress syndrome",
                    "flu",
                    "flu",
                    "suicide",
                    "suicide",
                    "visual anomalies",
                    "visual anomalies",
                    "loss of sex drive",
                    "loss of sex drive",
                    "menstruation",
                    "menstruation",
                    "perforated ulcer",
                    "perforated ulcer",
                    "ibs",
                    "ibs",
                    "acne",
                    "acne",
                    "achilles tendinitis",
                    "achilles tendinitis",
                    "bipolar disorder",
                    "bipolar disorder",
                    "hyperthyroid",
                    "hyperthyroid",
                    "hypothyroid",
                    "hypothyroid",
                    "acute kidney failure",
                    "acute kidney failure",
                    "deafness",
                    "deafness",
                    "hypochondria",
                    "hypochondria",
                    "gingival disease",
                    "gingival disease",
                    "disability",
                    "disability",
                    "osteoarthritis",
                    "osteoarthritis",
                    " mi ",
                    " mi ",
                    "lyme disease",
                    "lyme disease",
                    "labyrinthitis",
                    "labyrinthitis",
                    "fibromyalgia",
                    "fibromyalgia",
                    "multiple sclerosis",
                    "multiple sclerosis",
                    "acute gastritis",
                    "acute gastritis",
                    "muscle inflammation",
                    "muscle inflammation",
                    "alzheimer's",
                    "alzheimer's",
                    "gastric problems",
                    "gastric problems",
                    "oesophageal ulcer",
                    "oesophageal ulcer",
                    "polymyositis",
                    "polymyositis",
                    "bronchitis",
                    "bronchitis",
                    "parkinson's disease",
                    "parkinson's disease",
                    "restless legs syndrome",
                    "restless legs syndrome",
                    "inflammatory disorder of tendon",
                    "inflammatory disorder of tendon",
                    "mood disorder of depressed type",
                    "mood disorder of depressed type",
                    "sinus infection",
                    "sinus infection",
                    " mnd ",
                    " mnd ",
                    "permanent nerve damage",
                    "permanent nerve damage",
                    "gall bladder disease",
                    "gall bladder disease",
                    "infection",
                    "infection",
                    "sepsis",
                    "sepsis",
                    "menopause",
                    "menopause",
                    "eczema",
                    "eczema",
                    "type two diabetic",
                    "type two diabetic",
                    "type one diabetic",
                    "type one diabetic",
                    "parkinson",
                    "parkinson",
                    "cardiovascular disease",
                    "cardiovascular disease",
                    "learning problems",
                    "learning problems",
                    "dementia",
                    "dementia",
                    "chronic fatigue syndrome",
                    "chronic fatigue syndrome",
                    "coronary artery disease",
                    "coronary artery disease",
                    "upper respiratory infection",
                    "upper respiratory infection",
                    "alopecia",
                    "alopecia",
                    "sexual dysfunction",
                    "sexual dysfunction",
                    "nerve damage",
                    "nerve damage",
                    "carpal tunnel syndrome",
                    "carpal tunnel syndrome",
                    "liver failure",
                    "liver failure",
                    "tinnitus",
                    "tinnitus",
                    "malaria",
                    "malaria",
                    "phlebitis",
                    "phlebitis",
                    "diarrhoea",
                    "diarrhoea",
                    "vision problems",
                    "vision problems",
                    "aortic aneurysem",
                    "aortic aneurysem",
                    "urinary tract infection",
                    "urinary tract infection",
                    "psychosis",
                    "psychosis",
                    "rheumatoid arthritis",
                    "rheumatoid arthritis",
                    "diabetes",
                    "diabetes",
                    "stevens johnson syndrome",
                    "stevens johnson syndrome",
                    "mental illness",
                    "mental illness",
                    "pancreatitis",
                    "pancreatitis",
                    "adenomyosis",
                    "adenomyosis",
                    " als ",
                    " als ",
                    "chronic kidney disease",
                    "chronic kidney disease",
                    "endometriosis",
                    "endometriosis",
                    "asthma",
                    "asthma",
                    "lupus",
                    "lupus",
                    "pneumonia",
                    "pneumonia",
                    "arrhythmia",
                    "arrhythmia"
                  ],
                  "xaxis": "x",
                  "y": [
                    -112.3484296798706,
                    -120.45373725891113,
                    -99.68506622314453,
                    -114.51868629455566,
                    -116.20813465118408,
                    -119.93147373199463,
                    -101.51718235015869,
                    -105.41179370880127,
                    -92.69742012023926,
                    -106.90979480743408,
                    -103.62659358978271,
                    -115.2961654663086,
                    -78.54843473434448,
                    -80.48495721817017,
                    -100.44542217254639,
                    -103.26168251037598,
                    -87.09769487380981,
                    -99.96007966995239,
                    -97.66984272003174,
                    -103.86236190795898,
                    -113.96957111358643,
                    -129.23352241516113,
                    -95.6659049987793,
                    -105.96338176727295,
                    -87.3503270149231,
                    -92.90813732147217,
                    -83.53702020645142,
                    -91.03153610229492,
                    -77.97286558151245,
                    -79.56683921813965,
                    -87.21539783477783,
                    -94.95731258392334,
                    -68.11958932876587,
                    -75.09280109405518,
                    -70.75044584274292,
                    -79.49110746383667,
                    -79.18628025054932,
                    -87.40713548660278,
                    -94.5126256942749,
                    -103.92261695861816,
                    -90.6215410232544,
                    -96.75367832183838,
                    -98.68932056427002,
                    -104.15777111053467,
                    -79.91816759109497,
                    -85.85403728485107,
                    -70.03440284729004,
                    -76.12779569625854,
                    -123.80320930480957,
                    -126.72790813446045,
                    -81.55340766906738,
                    -83.66110944747925,
                    -97.59795665740967,
                    -103.26030445098877,
                    -96.31055068969727,
                    -105.35267162322998,
                    -87.37787199020386,
                    -95.27744674682617,
                    -82.33283233642578,
                    -89.79255867004395,
                    -99.44577598571777,
                    -113.32520771026611,
                    -97.89813804626465,
                    -102.00422859191895,
                    -72.8555850982666,
                    -80.37136840820312,
                    -94.63001823425293,
                    -90.75675964355469,
                    -83.51303577423096,
                    -92.07714462280273,
                    -93.86425495147705,
                    -95.66006469726562,
                    -93.11306762695312,
                    -103.3337287902832,
                    -98.92025661468506,
                    -106.60697937011719,
                    -81.71453380584717,
                    -88.73145627975464,
                    -102.38911437988281,
                    -106.58372783660889,
                    -82.27585172653198,
                    -89.41716241836548,
                    -93.7544412612915,
                    -98.07337665557861,
                    -82.78817510604858,
                    -88.1240406036377,
                    -97.61323642730713,
                    -102.91269445419312,
                    -115.14813041687012,
                    -118.64005947113037,
                    -88.49357318878174,
                    -97.30575466156006,
                    -98.3956937789917,
                    -106.67276287078857,
                    -89.49551916122437,
                    -100.72945594787598,
                    -93.93188095092773,
                    -100.65202045440674,
                    -102.37060832977295,
                    -112.86046695709229,
                    -79.8356032371521,
                    -89.01558876037598,
                    -95.32602977752686,
                    -102.29087257385254,
                    -94.65368366241455,
                    -106.97359275817871,
                    -88.28255653381348,
                    -92.65890598297119,
                    -69.7119312286377,
                    -73.3935980796814,
                    -75.58749055862427,
                    -80.24527835845947,
                    -81.14956426620483,
                    -87.84005832672119,
                    -97.3934497833252,
                    -109.71185874938965,
                    -82.76729536056519,
                    -92.53072929382324,
                    -82.22925758361816,
                    -93.67121696472168,
                    -80.5589427947998,
                    -84.97697830200195,
                    -80.3602614402771,
                    -87.08425903320312,
                    -79.3673243522644,
                    -85.60680437088013,
                    -75.72596073150635,
                    -79.2209906578064,
                    -87.87864542007446,
                    -95.4604868888855,
                    -94.10403823852539,
                    -98.7670841217041,
                    -81.337637424469,
                    -90.62954473495483,
                    -101.85064125061035,
                    -118.78017044067383,
                    -80.44305992126465,
                    -86.56583452224731,
                    -81.1194486618042,
                    -85.59650754928589,
                    -93.20782947540283,
                    -102.24944686889648,
                    -80.20791339874268,
                    -85.02522563934326,
                    -99.25933313369751,
                    -106.38210201263428,
                    -74.76357650756836,
                    -79.80051183700562,
                    -106.93486881256104,
                    -117.89468955993652,
                    -120.87423992156982,
                    -125.8863697052002,
                    -79.75664138793945,
                    -85.74347114562988,
                    -127.8183126449585,
                    -136.0512294769287,
                    -90.77854442596436,
                    -95.5760555267334,
                    -75.78144264221191,
                    -83.37870025634766,
                    -92.04333400726318,
                    -102.46614170074463,
                    -74.19383764266968,
                    -80.59269952774048,
                    -128.61055660247803,
                    -145.7166566848755,
                    -78.63632535934448,
                    -84.78300333023071,
                    -94.04159927368164,
                    -104.32154369354248,
                    -94.063645362854,
                    -100.26757144927979,
                    -83.69248533248901,
                    -87.07795810699463,
                    -91.13107299804688,
                    -98.21362781524658,
                    -100.70583152770996,
                    -102.64816570281982,
                    -76.68401575088501,
                    -84.14612579345703,
                    -75.75780630111694,
                    -82.07731342315674,
                    -83.95299863815308,
                    -84.35193157196045,
                    -85.67057800292969,
                    -95.36978149414062
                  ],
                  "yaxis": "y"
                }
              ],
              "layout": {
                "autosize": false,
                "barmode": "group",
                "height": 800,
                "legend": {
                  "title": {
                    "text": "Categories"
                  },
                  "tracegroupgap": 0
                },
                "template": {
                  "data": {
                    "bar": [
                      {
                        "error_x": {
                          "color": "#2a3f5f"
                        },
                        "error_y": {
                          "color": "#2a3f5f"
                        },
                        "marker": {
                          "line": {
                            "color": "#E5ECF6",
                            "width": 0.5
                          },
                          "pattern": {
                            "fillmode": "overlay",
                            "size": 10,
                            "solidity": 0.2
                          }
                        },
                        "type": "bar"
                      }
                    ],
                    "barpolar": [
                      {
                        "marker": {
                          "line": {
                            "color": "#E5ECF6",
                            "width": 0.5
                          },
                          "pattern": {
                            "fillmode": "overlay",
                            "size": 10,
                            "solidity": 0.2
                          }
                        },
                        "type": "barpolar"
                      }
                    ],
                    "carpet": [
                      {
                        "aaxis": {
                          "endlinecolor": "#2a3f5f",
                          "gridcolor": "white",
                          "linecolor": "white",
                          "minorgridcolor": "white",
                          "startlinecolor": "#2a3f5f"
                        },
                        "baxis": {
                          "endlinecolor": "#2a3f5f",
                          "gridcolor": "white",
                          "linecolor": "white",
                          "minorgridcolor": "white",
                          "startlinecolor": "#2a3f5f"
                        },
                        "type": "carpet"
                      }
                    ],
                    "choropleth": [
                      {
                        "colorbar": {
                          "outlinewidth": 0,
                          "ticks": ""
                        },
                        "type": "choropleth"
                      }
                    ],
                    "contour": [
                      {
                        "colorbar": {
                          "outlinewidth": 0,
                          "ticks": ""
                        },
                        "colorscale": [
                          [
                            0,
                            "#0d0887"
                          ],
                          [
                            0.1111111111111111,
                            "#46039f"
                          ],
                          [
                            0.2222222222222222,
                            "#7201a8"
                          ],
                          [
                            0.3333333333333333,
                            "#9c179e"
                          ],
                          [
                            0.4444444444444444,
                            "#bd3786"
                          ],
                          [
                            0.5555555555555556,
                            "#d8576b"
                          ],
                          [
                            0.6666666666666666,
                            "#ed7953"
                          ],
                          [
                            0.7777777777777778,
                            "#fb9f3a"
                          ],
                          [
                            0.8888888888888888,
                            "#fdca26"
                          ],
                          [
                            1,
                            "#f0f921"
                          ]
                        ],
                        "type": "contour"
                      }
                    ],
                    "contourcarpet": [
                      {
                        "colorbar": {
                          "outlinewidth": 0,
                          "ticks": ""
                        },
                        "type": "contourcarpet"
                      }
                    ],
                    "heatmap": [
                      {
                        "colorbar": {
                          "outlinewidth": 0,
                          "ticks": ""
                        },
                        "colorscale": [
                          [
                            0,
                            "#0d0887"
                          ],
                          [
                            0.1111111111111111,
                            "#46039f"
                          ],
                          [
                            0.2222222222222222,
                            "#7201a8"
                          ],
                          [
                            0.3333333333333333,
                            "#9c179e"
                          ],
                          [
                            0.4444444444444444,
                            "#bd3786"
                          ],
                          [
                            0.5555555555555556,
                            "#d8576b"
                          ],
                          [
                            0.6666666666666666,
                            "#ed7953"
                          ],
                          [
                            0.7777777777777778,
                            "#fb9f3a"
                          ],
                          [
                            0.8888888888888888,
                            "#fdca26"
                          ],
                          [
                            1,
                            "#f0f921"
                          ]
                        ],
                        "type": "heatmap"
                      }
                    ],
                    "heatmapgl": [
                      {
                        "colorbar": {
                          "outlinewidth": 0,
                          "ticks": ""
                        },
                        "colorscale": [
                          [
                            0,
                            "#0d0887"
                          ],
                          [
                            0.1111111111111111,
                            "#46039f"
                          ],
                          [
                            0.2222222222222222,
                            "#7201a8"
                          ],
                          [
                            0.3333333333333333,
                            "#9c179e"
                          ],
                          [
                            0.4444444444444444,
                            "#bd3786"
                          ],
                          [
                            0.5555555555555556,
                            "#d8576b"
                          ],
                          [
                            0.6666666666666666,
                            "#ed7953"
                          ],
                          [
                            0.7777777777777778,
                            "#fb9f3a"
                          ],
                          [
                            0.8888888888888888,
                            "#fdca26"
                          ],
                          [
                            1,
                            "#f0f921"
                          ]
                        ],
                        "type": "heatmapgl"
                      }
                    ],
                    "histogram": [
                      {
                        "marker": {
                          "pattern": {
                            "fillmode": "overlay",
                            "size": 10,
                            "solidity": 0.2
                          }
                        },
                        "type": "histogram"
                      }
                    ],
                    "histogram2d": [
                      {
                        "colorbar": {
                          "outlinewidth": 0,
                          "ticks": ""
                        },
                        "colorscale": [
                          [
                            0,
                            "#0d0887"
                          ],
                          [
                            0.1111111111111111,
                            "#46039f"
                          ],
                          [
                            0.2222222222222222,
                            "#7201a8"
                          ],
                          [
                            0.3333333333333333,
                            "#9c179e"
                          ],
                          [
                            0.4444444444444444,
                            "#bd3786"
                          ],
                          [
                            0.5555555555555556,
                            "#d8576b"
                          ],
                          [
                            0.6666666666666666,
                            "#ed7953"
                          ],
                          [
                            0.7777777777777778,
                            "#fb9f3a"
                          ],
                          [
                            0.8888888888888888,
                            "#fdca26"
                          ],
                          [
                            1,
                            "#f0f921"
                          ]
                        ],
                        "type": "histogram2d"
                      }
                    ],
                    "histogram2dcontour": [
                      {
                        "colorbar": {
                          "outlinewidth": 0,
                          "ticks": ""
                        },
                        "colorscale": [
                          [
                            0,
                            "#0d0887"
                          ],
                          [
                            0.1111111111111111,
                            "#46039f"
                          ],
                          [
                            0.2222222222222222,
                            "#7201a8"
                          ],
                          [
                            0.3333333333333333,
                            "#9c179e"
                          ],
                          [
                            0.4444444444444444,
                            "#bd3786"
                          ],
                          [
                            0.5555555555555556,
                            "#d8576b"
                          ],
                          [
                            0.6666666666666666,
                            "#ed7953"
                          ],
                          [
                            0.7777777777777778,
                            "#fb9f3a"
                          ],
                          [
                            0.8888888888888888,
                            "#fdca26"
                          ],
                          [
                            1,
                            "#f0f921"
                          ]
                        ],
                        "type": "histogram2dcontour"
                      }
                    ],
                    "mesh3d": [
                      {
                        "colorbar": {
                          "outlinewidth": 0,
                          "ticks": ""
                        },
                        "type": "mesh3d"
                      }
                    ],
                    "parcoords": [
                      {
                        "line": {
                          "colorbar": {
                            "outlinewidth": 0,
                            "ticks": ""
                          }
                        },
                        "type": "parcoords"
                      }
                    ],
                    "pie": [
                      {
                        "automargin": true,
                        "type": "pie"
                      }
                    ],
                    "scatter": [
                      {
                        "fillpattern": {
                          "fillmode": "overlay",
                          "size": 10,
                          "solidity": 0.2
                        },
                        "type": "scatter"
                      }
                    ],
                    "scatter3d": [
                      {
                        "line": {
                          "colorbar": {
                            "outlinewidth": 0,
                            "ticks": ""
                          }
                        },
                        "marker": {
                          "colorbar": {
                            "outlinewidth": 0,
                            "ticks": ""
                          }
                        },
                        "type": "scatter3d"
                      }
                    ],
                    "scattercarpet": [
                      {
                        "marker": {
                          "colorbar": {
                            "outlinewidth": 0,
                            "ticks": ""
                          }
                        },
                        "type": "scattercarpet"
                      }
                    ],
                    "scattergeo": [
                      {
                        "marker": {
                          "colorbar": {
                            "outlinewidth": 0,
                            "ticks": ""
                          }
                        },
                        "type": "scattergeo"
                      }
                    ],
                    "scattergl": [
                      {
                        "marker": {
                          "colorbar": {
                            "outlinewidth": 0,
                            "ticks": ""
                          }
                        },
                        "type": "scattergl"
                      }
                    ],
                    "scattermapbox": [
                      {
                        "marker": {
                          "colorbar": {
                            "outlinewidth": 0,
                            "ticks": ""
                          }
                        },
                        "type": "scattermapbox"
                      }
                    ],
                    "scatterpolar": [
                      {
                        "marker": {
                          "colorbar": {
                            "outlinewidth": 0,
                            "ticks": ""
                          }
                        },
                        "type": "scatterpolar"
                      }
                    ],
                    "scatterpolargl": [
                      {
                        "marker": {
                          "colorbar": {
                            "outlinewidth": 0,
                            "ticks": ""
                          }
                        },
                        "type": "scatterpolargl"
                      }
                    ],
                    "scatterternary": [
                      {
                        "marker": {
                          "colorbar": {
                            "outlinewidth": 0,
                            "ticks": ""
                          }
                        },
                        "type": "scatterternary"
                      }
                    ],
                    "surface": [
                      {
                        "colorbar": {
                          "outlinewidth": 0,
                          "ticks": ""
                        },
                        "colorscale": [
                          [
                            0,
                            "#0d0887"
                          ],
                          [
                            0.1111111111111111,
                            "#46039f"
                          ],
                          [
                            0.2222222222222222,
                            "#7201a8"
                          ],
                          [
                            0.3333333333333333,
                            "#9c179e"
                          ],
                          [
                            0.4444444444444444,
                            "#bd3786"
                          ],
                          [
                            0.5555555555555556,
                            "#d8576b"
                          ],
                          [
                            0.6666666666666666,
                            "#ed7953"
                          ],
                          [
                            0.7777777777777778,
                            "#fb9f3a"
                          ],
                          [
                            0.8888888888888888,
                            "#fdca26"
                          ],
                          [
                            1,
                            "#f0f921"
                          ]
                        ],
                        "type": "surface"
                      }
                    ],
                    "table": [
                      {
                        "cells": {
                          "fill": {
                            "color": "#EBF0F8"
                          },
                          "line": {
                            "color": "white"
                          }
                        },
                        "header": {
                          "fill": {
                            "color": "#C8D4E3"
                          },
                          "line": {
                            "color": "white"
                          }
                        },
                        "type": "table"
                      }
                    ]
                  },
                  "layout": {
                    "annotationdefaults": {
                      "arrowcolor": "#2a3f5f",
                      "arrowhead": 0,
                      "arrowwidth": 1
                    },
                    "autotypenumbers": "strict",
                    "coloraxis": {
                      "colorbar": {
                        "outlinewidth": 0,
                        "ticks": ""
                      }
                    },
                    "colorscale": {
                      "diverging": [
                        [
                          0,
                          "#8e0152"
                        ],
                        [
                          0.1,
                          "#c51b7d"
                        ],
                        [
                          0.2,
                          "#de77ae"
                        ],
                        [
                          0.3,
                          "#f1b6da"
                        ],
                        [
                          0.4,
                          "#fde0ef"
                        ],
                        [
                          0.5,
                          "#f7f7f7"
                        ],
                        [
                          0.6,
                          "#e6f5d0"
                        ],
                        [
                          0.7,
                          "#b8e186"
                        ],
                        [
                          0.8,
                          "#7fbc41"
                        ],
                        [
                          0.9,
                          "#4d9221"
                        ],
                        [
                          1,
                          "#276419"
                        ]
                      ],
                      "sequential": [
                        [
                          0,
                          "#0d0887"
                        ],
                        [
                          0.1111111111111111,
                          "#46039f"
                        ],
                        [
                          0.2222222222222222,
                          "#7201a8"
                        ],
                        [
                          0.3333333333333333,
                          "#9c179e"
                        ],
                        [
                          0.4444444444444444,
                          "#bd3786"
                        ],
                        [
                          0.5555555555555556,
                          "#d8576b"
                        ],
                        [
                          0.6666666666666666,
                          "#ed7953"
                        ],
                        [
                          0.7777777777777778,
                          "#fb9f3a"
                        ],
                        [
                          0.8888888888888888,
                          "#fdca26"
                        ],
                        [
                          1,
                          "#f0f921"
                        ]
                      ],
                      "sequentialminus": [
                        [
                          0,
                          "#0d0887"
                        ],
                        [
                          0.1111111111111111,
                          "#46039f"
                        ],
                        [
                          0.2222222222222222,
                          "#7201a8"
                        ],
                        [
                          0.3333333333333333,
                          "#9c179e"
                        ],
                        [
                          0.4444444444444444,
                          "#bd3786"
                        ],
                        [
                          0.5555555555555556,
                          "#d8576b"
                        ],
                        [
                          0.6666666666666666,
                          "#ed7953"
                        ],
                        [
                          0.7777777777777778,
                          "#fb9f3a"
                        ],
                        [
                          0.8888888888888888,
                          "#fdca26"
                        ],
                        [
                          1,
                          "#f0f921"
                        ]
                      ]
                    },
                    "colorway": [
                      "#636efa",
                      "#EF553B",
                      "#00cc96",
                      "#ab63fa",
                      "#FFA15A",
                      "#19d3f3",
                      "#FF6692",
                      "#B6E880",
                      "#FF97FF",
                      "#FECB52"
                    ],
                    "font": {
                      "color": "#2a3f5f"
                    },
                    "geo": {
                      "bgcolor": "white",
                      "lakecolor": "white",
                      "landcolor": "#E5ECF6",
                      "showlakes": true,
                      "showland": true,
                      "subunitcolor": "white"
                    },
                    "hoverlabel": {
                      "align": "left"
                    },
                    "hovermode": "closest",
                    "mapbox": {
                      "style": "light"
                    },
                    "paper_bgcolor": "white",
                    "plot_bgcolor": "#E5ECF6",
                    "polar": {
                      "angularaxis": {
                        "gridcolor": "white",
                        "linecolor": "white",
                        "ticks": ""
                      },
                      "bgcolor": "#E5ECF6",
                      "radialaxis": {
                        "gridcolor": "white",
                        "linecolor": "white",
                        "ticks": ""
                      }
                    },
                    "scene": {
                      "xaxis": {
                        "backgroundcolor": "#E5ECF6",
                        "gridcolor": "white",
                        "gridwidth": 2,
                        "linecolor": "white",
                        "showbackground": true,
                        "ticks": "",
                        "zerolinecolor": "white"
                      },
                      "yaxis": {
                        "backgroundcolor": "#E5ECF6",
                        "gridcolor": "white",
                        "gridwidth": 2,
                        "linecolor": "white",
                        "showbackground": true,
                        "ticks": "",
                        "zerolinecolor": "white"
                      },
                      "zaxis": {
                        "backgroundcolor": "#E5ECF6",
                        "gridcolor": "white",
                        "gridwidth": 2,
                        "linecolor": "white",
                        "showbackground": true,
                        "ticks": "",
                        "zerolinecolor": "white"
                      }
                    },
                    "shapedefaults": {
                      "line": {
                        "color": "#2a3f5f"
                      }
                    },
                    "ternary": {
                      "aaxis": {
                        "gridcolor": "white",
                        "linecolor": "white",
                        "ticks": ""
                      },
                      "baxis": {
                        "gridcolor": "white",
                        "linecolor": "white",
                        "ticks": ""
                      },
                      "bgcolor": "#E5ECF6",
                      "caxis": {
                        "gridcolor": "white",
                        "linecolor": "white",
                        "ticks": ""
                      }
                    },
                    "title": {
                      "x": 0.05
                    },
                    "xaxis": {
                      "automargin": true,
                      "gridcolor": "white",
                      "linecolor": "white",
                      "ticks": "",
                      "title": {
                        "standoff": 15
                      },
                      "zerolinecolor": "white",
                      "zerolinewidth": 2
                    },
                    "yaxis": {
                      "automargin": true,
                      "gridcolor": "white",
                      "linecolor": "white",
                      "ticks": "",
                      "title": {
                        "standoff": 15
                      },
                      "zerolinecolor": "white",
                      "zerolinewidth": 2
                    }
                  }
                },
                "title": {
                  "text": "Logit Values by Demographic and Gender Categories for Various Diseases"
                },
                "width": 1400,
                "xaxis": {
                  "anchor": "y",
                  "categoryorder": "total descending",
                  "domain": [
                    0,
                    1
                  ],
                  "title": {
                    "text": "Disease"
                  }
                },
                "yaxis": {
                  "anchor": "x",
                  "domain": [
                    0,
                    1
                  ],
                  "title": {
                    "text": "Logit Value"
                  }
                }
              }
            }
          },
          "metadata": {},
          "output_type": "display_data"
        }
      ],
      "source": [
        "# Initialize an empty list to hold the reshaped data\n",
        "reshaped_data = []\n",
        "\n",
        "# Assuming combined_logits_df is structured with diseases as keys and each key has a list of lists with [category, logit]\n",
        "for disease in disease_names:\n",
        "    for category in race_categories + gender_categories:\n",
        "        for entry in combined_logits_df[disease]:\n",
        "            if entry[0] == category:\n",
        "                reshaped_data.append(\n",
        "                    {\n",
        "                        \"Disease\": disease,\n",
        "                        \"Category\": category,\n",
        "                        \"Logit Value\": entry[1],\n",
        "                    }  # hacky\n",
        "                )\n",
        "\n",
        "# Convert the reshaped data into a DataFrame\n",
        "reshaped_df = pd.DataFrame(reshaped_data)\n",
        "\n",
        "# Now, use Plotly Express to create the visualization\n",
        "fig = px.bar(\n",
        "    reshaped_df,\n",
        "    x=\"Disease\",\n",
        "    y=\"Logit Value\",\n",
        "    color=\"Category\",\n",
        "    barmode=\"group\",\n",
        "    title=\"Logit Values by Demographic and Gender Categories for Various Diseases\",\n",
        ")\n",
        "\n",
        "# Customizing the layout\n",
        "fig.update_layout(\n",
        "    xaxis_title=\"Disease\",\n",
        "    yaxis_title=\"Logit Value\",\n",
        "    legend_title=\"Categories\",\n",
        "    autosize=False,\n",
        "    width=1400,\n",
        "    height=800,\n",
        ")\n",
        "\n",
        "fig.update_xaxes(categoryorder=\"total descending\")  # Optional: Sort bars if needed\n",
        "fig.show()"
      ]
    },
    {
      "cell_type": "markdown",
      "metadata": {},
      "source": [
        "## Combine the Counts and Logits dataframes\n"
      ]
    },
    {
      "cell_type": "markdown",
      "metadata": {},
      "source": [
        "#### Make long logit table\n"
      ]
    },
    {
      "cell_type": "code",
      "execution_count": 15,
      "metadata": {},
      "outputs": [
        {
          "data": {
            "text/html": [
              "<div>\n",
              "<style scoped>\n",
              "    .dataframe tbody tr th:only-of-type {\n",
              "        vertical-align: middle;\n",
              "    }\n",
              "\n",
              "    .dataframe tbody tr th {\n",
              "        vertical-align: top;\n",
              "    }\n",
              "\n",
              "    .dataframe thead th {\n",
              "        text-align: right;\n",
              "    }\n",
              "</style>\n",
              "<table border=\"1\" class=\"dataframe\">\n",
              "  <thead>\n",
              "    <tr style=\"text-align: right;\">\n",
              "      <th></th>\n",
              "      <th>disease</th>\n",
              "      <th>demographic</th>\n",
              "      <th>logit_value</th>\n",
              "      <th>model_name</th>\n",
              "    </tr>\n",
              "  </thead>\n",
              "  <tbody>\n",
              "    <tr>\n",
              "      <th>0</th>\n",
              "      <td>hiv/aids</td>\n",
              "      <td>pacific islander</td>\n",
              "      <td>-146.937379</td>\n",
              "      <td>EleutherAI/pythia-160m-deduped</td>\n",
              "    </tr>\n",
              "    <tr>\n",
              "      <th>1</th>\n",
              "      <td>covid-19</td>\n",
              "      <td>pacific islander</td>\n",
              "      <td>-134.605746</td>\n",
              "      <td>EleutherAI/pythia-160m-deduped</td>\n",
              "    </tr>\n",
              "    <tr>\n",
              "      <th>2</th>\n",
              "      <td>takotsubo cardiomyopathy</td>\n",
              "      <td>pacific islander</td>\n",
              "      <td>-147.102386</td>\n",
              "      <td>EleutherAI/pythia-160m-deduped</td>\n",
              "    </tr>\n",
              "    <tr>\n",
              "      <th>3</th>\n",
              "      <td>tuberculoses</td>\n",
              "      <td>pacific islander</td>\n",
              "      <td>-136.096695</td>\n",
              "      <td>EleutherAI/pythia-160m-deduped</td>\n",
              "    </tr>\n",
              "    <tr>\n",
              "      <th>4</th>\n",
              "      <td>endocarditis</td>\n",
              "      <td>pacific islander</td>\n",
              "      <td>-124.329871</td>\n",
              "      <td>EleutherAI/pythia-160m-deduped</td>\n",
              "    </tr>\n",
              "  </tbody>\n",
              "</table>\n",
              "</div>"
            ],
            "text/plain": [
              "                    disease       demographic  logit_value  \\\n",
              "0                  hiv/aids  pacific islander  -146.937379   \n",
              "1                  covid-19  pacific islander  -134.605746   \n",
              "2  takotsubo cardiomyopathy  pacific islander  -147.102386   \n",
              "3              tuberculoses  pacific islander  -136.096695   \n",
              "4              endocarditis  pacific islander  -124.329871   \n",
              "\n",
              "                       model_name  \n",
              "0  EleutherAI/pythia-160m-deduped  \n",
              "1  EleutherAI/pythia-160m-deduped  \n",
              "2  EleutherAI/pythia-160m-deduped  \n",
              "3  EleutherAI/pythia-160m-deduped  \n",
              "4  EleutherAI/pythia-160m-deduped  "
            ]
          },
          "execution_count": 15,
          "metadata": {},
          "output_type": "execute_result"
        }
      ],
      "source": [
        "# Initialize an empty list to store the transformed rows\n",
        "long_list = []\n",
        "\n",
        "# Iterate through each row in the DataFrame\n",
        "for index, row in combined_logits_df.iterrows():\n",
        "    model_name = row[\"model_name\"]\n",
        "    # Iterate through each disease, excluding the 'model_name' column\n",
        "    for disease in combined_logits_df.columns[\n",
        "        :-1\n",
        "    ]:  # Assuming the last column is 'model_name'\n",
        "        race_logit_pair = row[disease]\n",
        "        race = race_logit_pair[0]\n",
        "        logit_value = race_logit_pair[1]\n",
        "        # Append the transformed row to the list\n",
        "        long_list.append(\n",
        "            {\n",
        "                \"disease\": disease,\n",
        "                \"demographic\": race,\n",
        "                \"logit_value\": logit_value,\n",
        "                \"model_name\": model_name,\n",
        "            }\n",
        "        )\n",
        "\n",
        "# Convert the list of dictionaries to a DataFrame\n",
        "logits_long_df = pd.DataFrame(long_list)\n",
        "\n",
        "logits_long_df.head()"
      ]
    },
    {
      "cell_type": "markdown",
      "metadata": {},
      "source": [
        "#### read in co-occurrence demographic-disease relationships\n"
      ]
    },
    {
      "cell_type": "code",
      "execution_count": 38,
      "metadata": {
        "id": "1qCSBeJN-OFE"
      },
      "outputs": [
        {
          "data": {
            "text/html": [
              "<div>\n",
              "<style scoped>\n",
              "    .dataframe tbody tr th:only-of-type {\n",
              "        vertical-align: middle;\n",
              "    }\n",
              "\n",
              "    .dataframe tbody tr th {\n",
              "        vertical-align: top;\n",
              "    }\n",
              "\n",
              "    .dataframe thead th {\n",
              "        text-align: right;\n",
              "    }\n",
              "</style>\n",
              "<table border=\"1\" class=\"dataframe\">\n",
              "  <thead>\n",
              "    <tr style=\"text-align: right;\">\n",
              "      <th></th>\n",
              "      <th>disease</th>\n",
              "      <th>demographic</th>\n",
              "      <th>mention_count</th>\n",
              "    </tr>\n",
              "  </thead>\n",
              "  <tbody>\n",
              "    <tr>\n",
              "      <th>0</th>\n",
              "      <td>hiv/aids</td>\n",
              "      <td>white</td>\n",
              "      <td>3135116</td>\n",
              "    </tr>\n",
              "    <tr>\n",
              "      <th>1</th>\n",
              "      <td>covid-19</td>\n",
              "      <td>white</td>\n",
              "      <td>1597111</td>\n",
              "    </tr>\n",
              "    <tr>\n",
              "      <th>2</th>\n",
              "      <td>takotsubo cardiomyopathy</td>\n",
              "      <td>white</td>\n",
              "      <td>104531</td>\n",
              "    </tr>\n",
              "    <tr>\n",
              "      <th>3</th>\n",
              "      <td>tuberculoses</td>\n",
              "      <td>white</td>\n",
              "      <td>7752502</td>\n",
              "    </tr>\n",
              "    <tr>\n",
              "      <th>4</th>\n",
              "      <td>endocarditis</td>\n",
              "      <td>white</td>\n",
              "      <td>1223757</td>\n",
              "    </tr>\n",
              "  </tbody>\n",
              "</table>\n",
              "</div>"
            ],
            "text/plain": [
              "                    disease demographic  mention_count\n",
              "0                  hiv/aids       white        3135116\n",
              "1                  covid-19       white        1597111\n",
              "2  takotsubo cardiomyopathy       white         104531\n",
              "3              tuberculoses       white        7752502\n",
              "4              endocarditis       white        1223757"
            ]
          },
          "execution_count": 38,
          "metadata": {},
          "output_type": "execute_result"
        }
      ],
      "source": [
        "counts_data_path = f\"{root_path}/output_{dataset}/aggregated_counts/aggregated_{demographic}_counts.csv\"\n",
        "counts_df = pd.read_csv(counts_data_path)\n",
        "\n",
        "if debug:\n",
        "    counts_df = counts_df.head(10)\n",
        "\n",
        "demographic_mapping = {\n",
        "    \"white/caucasian\": \"white\",\n",
        "    \"black/african american\": \"black\",\n",
        "    \"hispanic/latino\": \"hispanic\",\n",
        "    \"asian\": \"asian\",\n",
        "    \"native american/indigenous\": \"indigenous\",\n",
        "    \"pacific islander\": \"pacific islander\",\n",
        "}\n",
        "\n",
        "counts_df = counts_df.rename(columns=demographic_mapping)\n",
        "counts_df = counts_df.rename(\n",
        "    columns={\"Disease\": \"disease\", \"mention count\": \"mention_count\"}\n",
        ")\n",
        "counts_df.drop(columns=[\"Unnamed: 0\"], inplace=True)\n",
        "\n",
        "# Melting the dataframe to reshape it\n",
        "counts_df_long = pd.melt(\n",
        "    counts_df, id_vars=[\"disease\"], var_name=\"demographic\", value_name=\"mention_count\"\n",
        ")\n",
        "counts_df_long.head()"
      ]
    },
    {
      "cell_type": "markdown",
      "metadata": {},
      "source": [
        "#### Join\n"
      ]
    },
    {
      "cell_type": "code",
      "execution_count": 39,
      "metadata": {},
      "outputs": [
        {
          "data": {
            "text/html": [
              "<div>\n",
              "<style scoped>\n",
              "    .dataframe tbody tr th:only-of-type {\n",
              "        vertical-align: middle;\n",
              "    }\n",
              "\n",
              "    .dataframe tbody tr th {\n",
              "        vertical-align: top;\n",
              "    }\n",
              "\n",
              "    .dataframe thead th {\n",
              "        text-align: right;\n",
              "    }\n",
              "</style>\n",
              "<table border=\"1\" class=\"dataframe\">\n",
              "  <thead>\n",
              "    <tr style=\"text-align: right;\">\n",
              "      <th></th>\n",
              "      <th>disease</th>\n",
              "      <th>demographic</th>\n",
              "      <th>logit_value</th>\n",
              "      <th>model_name</th>\n",
              "      <th>mention_count</th>\n",
              "    </tr>\n",
              "  </thead>\n",
              "  <tbody>\n",
              "    <tr>\n",
              "      <th>0</th>\n",
              "      <td>hiv/aids</td>\n",
              "      <td>pacific islander</td>\n",
              "      <td>-146.937379</td>\n",
              "      <td>EleutherAI/pythia-160m-deduped</td>\n",
              "      <td>33654</td>\n",
              "    </tr>\n",
              "    <tr>\n",
              "      <th>1</th>\n",
              "      <td>hiv/aids</td>\n",
              "      <td>pacific islander</td>\n",
              "      <td>-152.796717</td>\n",
              "      <td>EleutherAI/pythia-410m-deduped</td>\n",
              "      <td>33654</td>\n",
              "    </tr>\n",
              "    <tr>\n",
              "      <th>2</th>\n",
              "      <td>covid-19</td>\n",
              "      <td>pacific islander</td>\n",
              "      <td>-134.605746</td>\n",
              "      <td>EleutherAI/pythia-160m-deduped</td>\n",
              "      <td>22512</td>\n",
              "    </tr>\n",
              "    <tr>\n",
              "      <th>3</th>\n",
              "      <td>covid-19</td>\n",
              "      <td>pacific islander</td>\n",
              "      <td>-146.441267</td>\n",
              "      <td>EleutherAI/pythia-410m-deduped</td>\n",
              "      <td>22512</td>\n",
              "    </tr>\n",
              "    <tr>\n",
              "      <th>4</th>\n",
              "      <td>takotsubo cardiomyopathy</td>\n",
              "      <td>pacific islander</td>\n",
              "      <td>-147.102386</td>\n",
              "      <td>EleutherAI/pythia-160m-deduped</td>\n",
              "      <td>968</td>\n",
              "    </tr>\n",
              "    <tr>\n",
              "      <th>...</th>\n",
              "      <td>...</td>\n",
              "      <td>...</td>\n",
              "      <td>...</td>\n",
              "      <td>...</td>\n",
              "      <td>...</td>\n",
              "    </tr>\n",
              "    <tr>\n",
              "      <th>151</th>\n",
              "      <td>crohn’s disease</td>\n",
              "      <td>black</td>\n",
              "      <td>-129.233522</td>\n",
              "      <td>EleutherAI/pythia-410m-deduped</td>\n",
              "      <td>463083</td>\n",
              "    </tr>\n",
              "    <tr>\n",
              "      <th>152</th>\n",
              "      <td>chagas disease</td>\n",
              "      <td>black</td>\n",
              "      <td>-95.665905</td>\n",
              "      <td>EleutherAI/pythia-160m-deduped</td>\n",
              "      <td>169900</td>\n",
              "    </tr>\n",
              "    <tr>\n",
              "      <th>153</th>\n",
              "      <td>chagas disease</td>\n",
              "      <td>black</td>\n",
              "      <td>-105.963382</td>\n",
              "      <td>EleutherAI/pythia-410m-deduped</td>\n",
              "      <td>169900</td>\n",
              "    </tr>\n",
              "    <tr>\n",
              "      <th>154</th>\n",
              "      <td>menstruation</td>\n",
              "      <td>black</td>\n",
              "      <td>-90.621541</td>\n",
              "      <td>EleutherAI/pythia-160m-deduped</td>\n",
              "      <td>1559160</td>\n",
              "    </tr>\n",
              "    <tr>\n",
              "      <th>155</th>\n",
              "      <td>menstruation</td>\n",
              "      <td>black</td>\n",
              "      <td>-96.753678</td>\n",
              "      <td>EleutherAI/pythia-410m-deduped</td>\n",
              "      <td>1559160</td>\n",
              "    </tr>\n",
              "  </tbody>\n",
              "</table>\n",
              "<p>156 rows × 5 columns</p>\n",
              "</div>"
            ],
            "text/plain": [
              "                      disease       demographic  logit_value  \\\n",
              "0                    hiv/aids  pacific islander  -146.937379   \n",
              "1                    hiv/aids  pacific islander  -152.796717   \n",
              "2                    covid-19  pacific islander  -134.605746   \n",
              "3                    covid-19  pacific islander  -146.441267   \n",
              "4    takotsubo cardiomyopathy  pacific islander  -147.102386   \n",
              "..                        ...               ...          ...   \n",
              "151           crohn’s disease             black  -129.233522   \n",
              "152            chagas disease             black   -95.665905   \n",
              "153            chagas disease             black  -105.963382   \n",
              "154              menstruation             black   -90.621541   \n",
              "155              menstruation             black   -96.753678   \n",
              "\n",
              "                         model_name  mention_count  \n",
              "0    EleutherAI/pythia-160m-deduped          33654  \n",
              "1    EleutherAI/pythia-410m-deduped          33654  \n",
              "2    EleutherAI/pythia-160m-deduped          22512  \n",
              "3    EleutherAI/pythia-410m-deduped          22512  \n",
              "4    EleutherAI/pythia-160m-deduped            968  \n",
              "..                              ...            ...  \n",
              "151  EleutherAI/pythia-410m-deduped         463083  \n",
              "152  EleutherAI/pythia-160m-deduped         169900  \n",
              "153  EleutherAI/pythia-410m-deduped         169900  \n",
              "154  EleutherAI/pythia-160m-deduped        1559160  \n",
              "155  EleutherAI/pythia-410m-deduped        1559160  \n",
              "\n",
              "[156 rows x 5 columns]"
            ]
          },
          "execution_count": 39,
          "metadata": {},
          "output_type": "execute_result"
        }
      ],
      "source": [
        "# Merge the transformed counts DataFrame with the logits DataFrame\n",
        "combined_df = pd.merge(logits_long_df, counts_df_long, on=[\"disease\", \"demographic\"])\n",
        "\n",
        "combined_df"
      ]
    },
    {
      "cell_type": "code",
      "execution_count": 41,
      "metadata": {},
      "outputs": [
        {
          "data": {
            "application/vnd.plotly.v1+json": {
              "config": {
                "plotlyServerURL": "https://plot.ly"
              },
              "data": [
                {
                  "customdata": [
                    [
                      "hiv/aids",
                      "EleutherAI/pythia-160m-deduped"
                    ],
                    [
                      "hiv/aids",
                      "EleutherAI/pythia-410m-deduped"
                    ],
                    [
                      "covid-19",
                      "EleutherAI/pythia-160m-deduped"
                    ],
                    [
                      "covid-19",
                      "EleutherAI/pythia-410m-deduped"
                    ],
                    [
                      "takotsubo cardiomyopathy",
                      "EleutherAI/pythia-160m-deduped"
                    ],
                    [
                      "takotsubo cardiomyopathy",
                      "EleutherAI/pythia-410m-deduped"
                    ],
                    [
                      "tuberculoses",
                      "EleutherAI/pythia-160m-deduped"
                    ],
                    [
                      "tuberculoses",
                      "EleutherAI/pythia-410m-deduped"
                    ],
                    [
                      "endocarditis",
                      "EleutherAI/pythia-160m-deduped"
                    ],
                    [
                      "endocarditis",
                      "EleutherAI/pythia-410m-deduped"
                    ],
                    [
                      "syphilis",
                      "EleutherAI/pythia-160m-deduped"
                    ],
                    [
                      "syphilis",
                      "EleutherAI/pythia-410m-deduped"
                    ],
                    [
                      "hypertension",
                      "EleutherAI/pythia-160m-deduped"
                    ],
                    [
                      "hypertension",
                      "EleutherAI/pythia-410m-deduped"
                    ],
                    [
                      "sarcoidoses",
                      "EleutherAI/pythia-160m-deduped"
                    ],
                    [
                      "sarcoidoses",
                      "EleutherAI/pythia-410m-deduped"
                    ],
                    [
                      "hepatitis b",
                      "EleutherAI/pythia-160m-deduped"
                    ],
                    [
                      "hepatitis b",
                      "EleutherAI/pythia-410m-deduped"
                    ],
                    [
                      "ulcerative colitis",
                      "EleutherAI/pythia-160m-deduped"
                    ],
                    [
                      "ulcerative colitis",
                      "EleutherAI/pythia-410m-deduped"
                    ],
                    [
                      "crohn’s disease",
                      "EleutherAI/pythia-160m-deduped"
                    ],
                    [
                      "crohn’s disease",
                      "EleutherAI/pythia-410m-deduped"
                    ],
                    [
                      "chagas disease",
                      "EleutherAI/pythia-160m-deduped"
                    ],
                    [
                      "chagas disease",
                      "EleutherAI/pythia-410m-deduped"
                    ],
                    [
                      "menstruation",
                      "EleutherAI/pythia-160m-deduped"
                    ],
                    [
                      "menstruation",
                      "EleutherAI/pythia-410m-deduped"
                    ]
                  ],
                  "hovertemplate": "demographic=pacific islander<br>Logit Value=%{x}<br>Co-Occurrence Count (log scale)=%{y}<br>disease=%{customdata[0]}<br>model_name=%{customdata[1]}<extra></extra>",
                  "legendgroup": "pacific islander",
                  "marker": {
                    "color": "#636efa",
                    "line": {
                      "color": "DarkSlateGrey",
                      "width": 2
                    },
                    "size": 10,
                    "symbol": "circle"
                  },
                  "mode": "markers",
                  "name": "pacific islander",
                  "orientation": "v",
                  "showlegend": true,
                  "type": "scatter",
                  "x": [
                    -146.93737888336182,
                    -152.79671669006348,
                    -134.60574626922607,
                    -146.4412670135498,
                    -147.10238647460938,
                    -151.5067262649536,
                    -136.09669494628906,
                    -138.96573543548584,
                    -124.32987117767334,
                    -141.45727157592773,
                    -138.59020614624023,
                    -149.08585262298584,
                    -111.76300239562988,
                    -114.26445865631104,
                    -133.17197513580322,
                    -137.32864570617676,
                    -120.57540225982666,
                    -133.8273162841797,
                    -131.31479263305664,
                    -137.5808801651001,
                    -148.69236183166504,
                    -162.07522201538086,
                    -128.0147829055786,
                    -139.3688850402832,
                    -123.85231018066406,
                    -130.98539447784424
                  ],
                  "xaxis": "x",
                  "y": [
                    33654,
                    33654,
                    22512,
                    22512,
                    968,
                    968,
                    77113,
                    77113,
                    8338,
                    8338,
                    49974,
                    49974,
                    154127,
                    154127,
                    1206,
                    1206,
                    24850,
                    24850,
                    5848,
                    5848,
                    2333,
                    2333,
                    2630,
                    2630,
                    16591,
                    16591
                  ],
                  "yaxis": "y"
                },
                {
                  "customdata": [
                    [
                      "hiv/aids",
                      "EleutherAI/pythia-160m-deduped"
                    ],
                    [
                      "hiv/aids",
                      "EleutherAI/pythia-410m-deduped"
                    ],
                    [
                      "covid-19",
                      "EleutherAI/pythia-160m-deduped"
                    ],
                    [
                      "covid-19",
                      "EleutherAI/pythia-410m-deduped"
                    ],
                    [
                      "takotsubo cardiomyopathy",
                      "EleutherAI/pythia-160m-deduped"
                    ],
                    [
                      "takotsubo cardiomyopathy",
                      "EleutherAI/pythia-410m-deduped"
                    ],
                    [
                      "tuberculoses",
                      "EleutherAI/pythia-160m-deduped"
                    ],
                    [
                      "tuberculoses",
                      "EleutherAI/pythia-410m-deduped"
                    ],
                    [
                      "endocarditis",
                      "EleutherAI/pythia-160m-deduped"
                    ],
                    [
                      "endocarditis",
                      "EleutherAI/pythia-410m-deduped"
                    ],
                    [
                      "syphilis",
                      "EleutherAI/pythia-160m-deduped"
                    ],
                    [
                      "syphilis",
                      "EleutherAI/pythia-410m-deduped"
                    ],
                    [
                      "hypertension",
                      "EleutherAI/pythia-160m-deduped"
                    ],
                    [
                      "hypertension",
                      "EleutherAI/pythia-410m-deduped"
                    ],
                    [
                      "sarcoidoses",
                      "EleutherAI/pythia-160m-deduped"
                    ],
                    [
                      "sarcoidoses",
                      "EleutherAI/pythia-410m-deduped"
                    ],
                    [
                      "hepatitis b",
                      "EleutherAI/pythia-160m-deduped"
                    ],
                    [
                      "hepatitis b",
                      "EleutherAI/pythia-410m-deduped"
                    ],
                    [
                      "ulcerative colitis",
                      "EleutherAI/pythia-160m-deduped"
                    ],
                    [
                      "ulcerative colitis",
                      "EleutherAI/pythia-410m-deduped"
                    ],
                    [
                      "crohn’s disease",
                      "EleutherAI/pythia-160m-deduped"
                    ],
                    [
                      "crohn’s disease",
                      "EleutherAI/pythia-410m-deduped"
                    ],
                    [
                      "chagas disease",
                      "EleutherAI/pythia-160m-deduped"
                    ],
                    [
                      "chagas disease",
                      "EleutherAI/pythia-410m-deduped"
                    ],
                    [
                      "menstruation",
                      "EleutherAI/pythia-160m-deduped"
                    ],
                    [
                      "menstruation",
                      "EleutherAI/pythia-410m-deduped"
                    ]
                  ],
                  "hovertemplate": "demographic=hispanic<br>Logit Value=%{x}<br>Co-Occurrence Count (log scale)=%{y}<br>disease=%{customdata[0]}<br>model_name=%{customdata[1]}<extra></extra>",
                  "legendgroup": "hispanic",
                  "marker": {
                    "color": "#EF553B",
                    "line": {
                      "color": "DarkSlateGrey",
                      "width": 2
                    },
                    "size": 10,
                    "symbol": "circle"
                  },
                  "mode": "markers",
                  "name": "hispanic",
                  "orientation": "v",
                  "showlegend": true,
                  "type": "scatter",
                  "x": [
                    -128.38807582855225,
                    -131.56243419647217,
                    -115.06914043426514,
                    -125.59287071228027,
                    -131.3265562057495,
                    -130.1899929046631,
                    -117.89059257507324,
                    -117.75731658935547,
                    -109.81085300445557,
                    -120.52192306518555,
                    -119.16429328918457,
                    -127.41413688659668,
                    -93.79461097717285,
                    -93.30869626998901,
                    -116.8372163772583,
                    -115.72948741912842,
                    -103.49091625213623,
                    -112.72173404693604,
                    -114.77568817138672,
                    -116.9060411453247,
                    -129.9141139984131,
                    -140.76567363739014,
                    -111.78213214874268,
                    -117.67035961151123,
                    -105.37613105773926,
                    -108.02720355987549
                  ],
                  "xaxis": "x",
                  "y": [
                    716870,
                    716870,
                    374620,
                    374620,
                    32661,
                    32661,
                    1053996,
                    1053996,
                    223377,
                    223377,
                    676678,
                    676678,
                    2323083,
                    2323083,
                    21413,
                    21413,
                    263618,
                    263618,
                    107637,
                    107637,
                    42252,
                    42252,
                    105038,
                    105038,
                    429543,
                    429543
                  ],
                  "yaxis": "y"
                },
                {
                  "customdata": [
                    [
                      "hiv/aids",
                      "EleutherAI/pythia-160m-deduped"
                    ],
                    [
                      "hiv/aids",
                      "EleutherAI/pythia-410m-deduped"
                    ],
                    [
                      "covid-19",
                      "EleutherAI/pythia-160m-deduped"
                    ],
                    [
                      "covid-19",
                      "EleutherAI/pythia-410m-deduped"
                    ],
                    [
                      "takotsubo cardiomyopathy",
                      "EleutherAI/pythia-160m-deduped"
                    ],
                    [
                      "takotsubo cardiomyopathy",
                      "EleutherAI/pythia-410m-deduped"
                    ],
                    [
                      "tuberculoses",
                      "EleutherAI/pythia-160m-deduped"
                    ],
                    [
                      "tuberculoses",
                      "EleutherAI/pythia-410m-deduped"
                    ],
                    [
                      "endocarditis",
                      "EleutherAI/pythia-160m-deduped"
                    ],
                    [
                      "endocarditis",
                      "EleutherAI/pythia-410m-deduped"
                    ],
                    [
                      "syphilis",
                      "EleutherAI/pythia-160m-deduped"
                    ],
                    [
                      "syphilis",
                      "EleutherAI/pythia-410m-deduped"
                    ],
                    [
                      "hypertension",
                      "EleutherAI/pythia-160m-deduped"
                    ],
                    [
                      "hypertension",
                      "EleutherAI/pythia-410m-deduped"
                    ],
                    [
                      "sarcoidoses",
                      "EleutherAI/pythia-160m-deduped"
                    ],
                    [
                      "sarcoidoses",
                      "EleutherAI/pythia-410m-deduped"
                    ],
                    [
                      "hepatitis b",
                      "EleutherAI/pythia-160m-deduped"
                    ],
                    [
                      "hepatitis b",
                      "EleutherAI/pythia-410m-deduped"
                    ],
                    [
                      "ulcerative colitis",
                      "EleutherAI/pythia-160m-deduped"
                    ],
                    [
                      "ulcerative colitis",
                      "EleutherAI/pythia-410m-deduped"
                    ],
                    [
                      "crohn’s disease",
                      "EleutherAI/pythia-160m-deduped"
                    ],
                    [
                      "crohn’s disease",
                      "EleutherAI/pythia-410m-deduped"
                    ],
                    [
                      "chagas disease",
                      "EleutherAI/pythia-160m-deduped"
                    ],
                    [
                      "chagas disease",
                      "EleutherAI/pythia-410m-deduped"
                    ],
                    [
                      "menstruation",
                      "EleutherAI/pythia-160m-deduped"
                    ],
                    [
                      "menstruation",
                      "EleutherAI/pythia-410m-deduped"
                    ]
                  ],
                  "hovertemplate": "demographic=asian<br>Logit Value=%{x}<br>Co-Occurrence Count (log scale)=%{y}<br>disease=%{customdata[0]}<br>model_name=%{customdata[1]}<extra></extra>",
                  "legendgroup": "asian",
                  "marker": {
                    "color": "#00cc96",
                    "line": {
                      "color": "DarkSlateGrey",
                      "width": 2
                    },
                    "size": 10,
                    "symbol": "circle"
                  },
                  "mode": "markers",
                  "name": "asian",
                  "orientation": "v",
                  "showlegend": true,
                  "type": "scatter",
                  "x": [
                    -122.71314907073975,
                    -131.05019283294678,
                    -109.56216526031494,
                    -125.6017074584961,
                    -127.29929447174072,
                    -130.63112354278564,
                    -112.80963897705078,
                    -116.2973165512085,
                    -102.97467517852783,
                    -118.18387985229492,
                    -114.92185688018799,
                    -127.42532157897949,
                    -89.40919256210327,
                    -91.74695920944214,
                    -110.39272403717041,
                    -114.50987720489502,
                    -97.65228128433228,
                    -111.44249439239502,
                    -109.14519786834717,
                    -115.68134307861328,
                    -125.04388236999512,
                    -141.16897583007812,
                    -106.23309421539307,
                    -116.85402202606201,
                    -100.78140258789062,
                    -107.18408012390137
                  ],
                  "xaxis": "x",
                  "y": [
                    425718,
                    425718,
                    282258,
                    282258,
                    12539,
                    12539,
                    703131,
                    703131,
                    102337,
                    102337,
                    312114,
                    312114,
                    1904779,
                    1904779,
                    25408,
                    25408,
                    325098,
                    325098,
                    134401,
                    134401,
                    69245,
                    69245,
                    18540,
                    18540,
                    190679,
                    190679
                  ],
                  "yaxis": "y"
                },
                {
                  "customdata": [
                    [
                      "hiv/aids",
                      "EleutherAI/pythia-160m-deduped"
                    ],
                    [
                      "hiv/aids",
                      "EleutherAI/pythia-410m-deduped"
                    ],
                    [
                      "covid-19",
                      "EleutherAI/pythia-160m-deduped"
                    ],
                    [
                      "covid-19",
                      "EleutherAI/pythia-410m-deduped"
                    ],
                    [
                      "takotsubo cardiomyopathy",
                      "EleutherAI/pythia-160m-deduped"
                    ],
                    [
                      "takotsubo cardiomyopathy",
                      "EleutherAI/pythia-410m-deduped"
                    ],
                    [
                      "tuberculoses",
                      "EleutherAI/pythia-160m-deduped"
                    ],
                    [
                      "tuberculoses",
                      "EleutherAI/pythia-410m-deduped"
                    ],
                    [
                      "endocarditis",
                      "EleutherAI/pythia-160m-deduped"
                    ],
                    [
                      "endocarditis",
                      "EleutherAI/pythia-410m-deduped"
                    ],
                    [
                      "syphilis",
                      "EleutherAI/pythia-160m-deduped"
                    ],
                    [
                      "syphilis",
                      "EleutherAI/pythia-410m-deduped"
                    ],
                    [
                      "hypertension",
                      "EleutherAI/pythia-160m-deduped"
                    ],
                    [
                      "hypertension",
                      "EleutherAI/pythia-410m-deduped"
                    ],
                    [
                      "sarcoidoses",
                      "EleutherAI/pythia-160m-deduped"
                    ],
                    [
                      "sarcoidoses",
                      "EleutherAI/pythia-410m-deduped"
                    ],
                    [
                      "hepatitis b",
                      "EleutherAI/pythia-160m-deduped"
                    ],
                    [
                      "hepatitis b",
                      "EleutherAI/pythia-410m-deduped"
                    ],
                    [
                      "ulcerative colitis",
                      "EleutherAI/pythia-160m-deduped"
                    ],
                    [
                      "ulcerative colitis",
                      "EleutherAI/pythia-410m-deduped"
                    ],
                    [
                      "crohn’s disease",
                      "EleutherAI/pythia-160m-deduped"
                    ],
                    [
                      "crohn’s disease",
                      "EleutherAI/pythia-410m-deduped"
                    ],
                    [
                      "chagas disease",
                      "EleutherAI/pythia-160m-deduped"
                    ],
                    [
                      "chagas disease",
                      "EleutherAI/pythia-410m-deduped"
                    ],
                    [
                      "menstruation",
                      "EleutherAI/pythia-160m-deduped"
                    ],
                    [
                      "menstruation",
                      "EleutherAI/pythia-410m-deduped"
                    ]
                  ],
                  "hovertemplate": "demographic=indigenous<br>Logit Value=%{x}<br>Co-Occurrence Count (log scale)=%{y}<br>disease=%{customdata[0]}<br>model_name=%{customdata[1]}<extra></extra>",
                  "legendgroup": "indigenous",
                  "marker": {
                    "color": "#ab63fa",
                    "line": {
                      "color": "DarkSlateGrey",
                      "width": 2
                    },
                    "size": 10,
                    "symbol": "circle"
                  },
                  "mode": "markers",
                  "name": "indigenous",
                  "orientation": "v",
                  "showlegend": true,
                  "type": "scatter",
                  "x": [
                    -119.72464656829834,
                    -124.22201156616211,
                    -106.34312057495117,
                    -117.84807682037354,
                    -122.61538219451904,
                    -121.81293201446533,
                    -108.58227062225342,
                    -109.90452098846436,
                    -99.31111812591553,
                    -111.67622470855713,
                    -111.56426620483398,
                    -119.50331497192383,
                    -85.93562602996826,
                    -84.59709692001343,
                    -108.07895946502686,
                    -107.9177017211914,
                    -94.62674808502197,
                    -104.09303379058838,
                    -103.9717493057251,
                    -107.81379413604736,
                    -120.51668453216553,
                    -132.33637809753418,
                    -101.44768047332764,
                    -109.8114824295044,
                    -97.77432155609131,
                    -100.81399726867676
                  ],
                  "xaxis": "x",
                  "y": [
                    486738,
                    486738,
                    217275,
                    217275,
                    3193,
                    3193,
                    982728,
                    982728,
                    46556,
                    46556,
                    500226,
                    500226,
                    1154023,
                    1154023,
                    8011,
                    8011,
                    168518,
                    168518,
                    52283,
                    52283,
                    19276,
                    19276,
                    29637,
                    29637,
                    307752,
                    307752
                  ],
                  "yaxis": "y"
                },
                {
                  "customdata": [
                    [
                      "hiv/aids",
                      "EleutherAI/pythia-160m-deduped"
                    ],
                    [
                      "hiv/aids",
                      "EleutherAI/pythia-410m-deduped"
                    ],
                    [
                      "covid-19",
                      "EleutherAI/pythia-160m-deduped"
                    ],
                    [
                      "covid-19",
                      "EleutherAI/pythia-410m-deduped"
                    ],
                    [
                      "takotsubo cardiomyopathy",
                      "EleutherAI/pythia-160m-deduped"
                    ],
                    [
                      "takotsubo cardiomyopathy",
                      "EleutherAI/pythia-410m-deduped"
                    ],
                    [
                      "tuberculoses",
                      "EleutherAI/pythia-160m-deduped"
                    ],
                    [
                      "tuberculoses",
                      "EleutherAI/pythia-410m-deduped"
                    ],
                    [
                      "endocarditis",
                      "EleutherAI/pythia-160m-deduped"
                    ],
                    [
                      "endocarditis",
                      "EleutherAI/pythia-410m-deduped"
                    ],
                    [
                      "syphilis",
                      "EleutherAI/pythia-160m-deduped"
                    ],
                    [
                      "syphilis",
                      "EleutherAI/pythia-410m-deduped"
                    ],
                    [
                      "hypertension",
                      "EleutherAI/pythia-160m-deduped"
                    ],
                    [
                      "hypertension",
                      "EleutherAI/pythia-410m-deduped"
                    ],
                    [
                      "hepatitis b",
                      "EleutherAI/pythia-160m-deduped"
                    ],
                    [
                      "hepatitis b",
                      "EleutherAI/pythia-410m-deduped"
                    ],
                    [
                      "crohn’s disease",
                      "EleutherAI/pythia-160m-deduped"
                    ],
                    [
                      "crohn’s disease",
                      "EleutherAI/pythia-410m-deduped"
                    ],
                    [
                      "chagas disease",
                      "EleutherAI/pythia-160m-deduped"
                    ],
                    [
                      "chagas disease",
                      "EleutherAI/pythia-410m-deduped"
                    ],
                    [
                      "menstruation",
                      "EleutherAI/pythia-160m-deduped"
                    ],
                    [
                      "menstruation",
                      "EleutherAI/pythia-410m-deduped"
                    ],
                    [
                      "sarcoidoses",
                      "EleutherAI/pythia-160m-deduped"
                    ],
                    [
                      "sarcoidoses",
                      "EleutherAI/pythia-410m-deduped"
                    ],
                    [
                      "ulcerative colitis",
                      "EleutherAI/pythia-160m-deduped"
                    ],
                    [
                      "ulcerative colitis",
                      "EleutherAI/pythia-410m-deduped"
                    ]
                  ],
                  "hovertemplate": "demographic=white<br>Logit Value=%{x}<br>Co-Occurrence Count (log scale)=%{y}<br>disease=%{customdata[0]}<br>model_name=%{customdata[1]}<extra></extra>",
                  "legendgroup": "white",
                  "marker": {
                    "color": "#FFA15A",
                    "line": {
                      "color": "DarkSlateGrey",
                      "width": 2
                    },
                    "size": 10,
                    "symbol": "circle"
                  },
                  "mode": "markers",
                  "name": "white",
                  "orientation": "v",
                  "showlegend": true,
                  "type": "scatter",
                  "x": [
                    -113.24975299835205,
                    -121.0541296005249,
                    -100.56461906433105,
                    -115.07638454437256,
                    -116.63618087768555,
                    -120.263747215271,
                    -102.35443115234375,
                    -106.47709465026855,
                    -93.18590974807739,
                    -107.76827621459961,
                    -103.94518852233887,
                    -116.36919403076172,
                    -78.7850513458252,
                    -81.31182813644409,
                    -87.23862075805664,
                    -100.88427925109863,
                    -114.22039890289307,
                    -129.69785404205322,
                    -95.78554487228394,
                    -106.62357234954834,
                    -90.73111820220947,
                    -97.4616117477417,
                    -100.2197036743164,
                    -103.89456748962402,
                    -97.21903800964355,
                    -104.6220293045044
                  ],
                  "xaxis": "x",
                  "y": [
                    3135116,
                    3135116,
                    1597111,
                    1597111,
                    104531,
                    104531,
                    7752502,
                    7752502,
                    1223757,
                    1223757,
                    4364401,
                    4364401,
                    13180242,
                    13180242,
                    1453100,
                    1453100,
                    765690,
                    765690,
                    206618,
                    206618,
                    2293431,
                    2293431,
                    281489,
                    281489,
                    1256345,
                    1256345
                  ],
                  "yaxis": "y"
                },
                {
                  "customdata": [
                    [
                      "sarcoidoses",
                      "EleutherAI/pythia-160m-deduped"
                    ],
                    [
                      "sarcoidoses",
                      "EleutherAI/pythia-410m-deduped"
                    ],
                    [
                      "ulcerative colitis",
                      "EleutherAI/pythia-160m-deduped"
                    ],
                    [
                      "ulcerative colitis",
                      "EleutherAI/pythia-410m-deduped"
                    ],
                    [
                      "hiv/aids",
                      "EleutherAI/pythia-160m-deduped"
                    ],
                    [
                      "hiv/aids",
                      "EleutherAI/pythia-410m-deduped"
                    ],
                    [
                      "covid-19",
                      "EleutherAI/pythia-160m-deduped"
                    ],
                    [
                      "covid-19",
                      "EleutherAI/pythia-410m-deduped"
                    ],
                    [
                      "takotsubo cardiomyopathy",
                      "EleutherAI/pythia-160m-deduped"
                    ],
                    [
                      "takotsubo cardiomyopathy",
                      "EleutherAI/pythia-410m-deduped"
                    ],
                    [
                      "tuberculoses",
                      "EleutherAI/pythia-160m-deduped"
                    ],
                    [
                      "tuberculoses",
                      "EleutherAI/pythia-410m-deduped"
                    ],
                    [
                      "endocarditis",
                      "EleutherAI/pythia-160m-deduped"
                    ],
                    [
                      "endocarditis",
                      "EleutherAI/pythia-410m-deduped"
                    ],
                    [
                      "syphilis",
                      "EleutherAI/pythia-160m-deduped"
                    ],
                    [
                      "syphilis",
                      "EleutherAI/pythia-410m-deduped"
                    ],
                    [
                      "hypertension",
                      "EleutherAI/pythia-160m-deduped"
                    ],
                    [
                      "hypertension",
                      "EleutherAI/pythia-410m-deduped"
                    ],
                    [
                      "hepatitis b",
                      "EleutherAI/pythia-160m-deduped"
                    ],
                    [
                      "hepatitis b",
                      "EleutherAI/pythia-410m-deduped"
                    ],
                    [
                      "crohn’s disease",
                      "EleutherAI/pythia-160m-deduped"
                    ],
                    [
                      "crohn’s disease",
                      "EleutherAI/pythia-410m-deduped"
                    ],
                    [
                      "chagas disease",
                      "EleutherAI/pythia-160m-deduped"
                    ],
                    [
                      "chagas disease",
                      "EleutherAI/pythia-410m-deduped"
                    ],
                    [
                      "menstruation",
                      "EleutherAI/pythia-160m-deduped"
                    ],
                    [
                      "menstruation",
                      "EleutherAI/pythia-410m-deduped"
                    ]
                  ],
                  "hovertemplate": "demographic=black<br>Logit Value=%{x}<br>Co-Occurrence Count (log scale)=%{y}<br>disease=%{customdata[0]}<br>model_name=%{customdata[1]}<extra></extra>",
                  "legendgroup": "black",
                  "marker": {
                    "color": "#19d3f3",
                    "line": {
                      "color": "DarkSlateGrey",
                      "width": 2
                    },
                    "size": 10,
                    "symbol": "circle"
                  },
                  "mode": "markers",
                  "name": "black",
                  "orientation": "v",
                  "showlegend": true,
                  "type": "scatter",
                  "x": [
                    -100.44542217254639,
                    -103.26168251037598,
                    -97.66984272003174,
                    -103.86236190795898,
                    -112.3484296798706,
                    -120.45373725891113,
                    -99.68506622314453,
                    -114.51868629455566,
                    -116.20813465118408,
                    -119.93147373199463,
                    -101.51718235015869,
                    -105.41179370880127,
                    -92.69742012023926,
                    -106.90979480743408,
                    -103.62659358978271,
                    -115.2961654663086,
                    -78.54843473434448,
                    -80.48495721817017,
                    -87.09769487380981,
                    -99.96007966995239,
                    -113.96957111358643,
                    -129.23352241516113,
                    -95.6659049987793,
                    -105.96338176727295,
                    -90.6215410232544,
                    -96.75367832183838
                  ],
                  "xaxis": "x",
                  "y": [
                    200267,
                    200267,
                    839491,
                    839491,
                    2721279,
                    2721279,
                    1266210,
                    1266210,
                    70313,
                    70313,
                    6121352,
                    6121352,
                    776544,
                    776544,
                    3614796,
                    3614796,
                    10540398,
                    10540398,
                    1193712,
                    1193712,
                    463083,
                    463083,
                    169900,
                    169900,
                    1559160,
                    1559160
                  ],
                  "yaxis": "y"
                }
              ],
              "layout": {
                "hovermode": "closest",
                "legend": {
                  "title": {
                    "text": "Demographic"
                  },
                  "tracegroupgap": 0
                },
                "template": {
                  "data": {
                    "bar": [
                      {
                        "error_x": {
                          "color": "#2a3f5f"
                        },
                        "error_y": {
                          "color": "#2a3f5f"
                        },
                        "marker": {
                          "line": {
                            "color": "#E5ECF6",
                            "width": 0.5
                          },
                          "pattern": {
                            "fillmode": "overlay",
                            "size": 10,
                            "solidity": 0.2
                          }
                        },
                        "type": "bar"
                      }
                    ],
                    "barpolar": [
                      {
                        "marker": {
                          "line": {
                            "color": "#E5ECF6",
                            "width": 0.5
                          },
                          "pattern": {
                            "fillmode": "overlay",
                            "size": 10,
                            "solidity": 0.2
                          }
                        },
                        "type": "barpolar"
                      }
                    ],
                    "carpet": [
                      {
                        "aaxis": {
                          "endlinecolor": "#2a3f5f",
                          "gridcolor": "white",
                          "linecolor": "white",
                          "minorgridcolor": "white",
                          "startlinecolor": "#2a3f5f"
                        },
                        "baxis": {
                          "endlinecolor": "#2a3f5f",
                          "gridcolor": "white",
                          "linecolor": "white",
                          "minorgridcolor": "white",
                          "startlinecolor": "#2a3f5f"
                        },
                        "type": "carpet"
                      }
                    ],
                    "choropleth": [
                      {
                        "colorbar": {
                          "outlinewidth": 0,
                          "ticks": ""
                        },
                        "type": "choropleth"
                      }
                    ],
                    "contour": [
                      {
                        "colorbar": {
                          "outlinewidth": 0,
                          "ticks": ""
                        },
                        "colorscale": [
                          [
                            0,
                            "#0d0887"
                          ],
                          [
                            0.1111111111111111,
                            "#46039f"
                          ],
                          [
                            0.2222222222222222,
                            "#7201a8"
                          ],
                          [
                            0.3333333333333333,
                            "#9c179e"
                          ],
                          [
                            0.4444444444444444,
                            "#bd3786"
                          ],
                          [
                            0.5555555555555556,
                            "#d8576b"
                          ],
                          [
                            0.6666666666666666,
                            "#ed7953"
                          ],
                          [
                            0.7777777777777778,
                            "#fb9f3a"
                          ],
                          [
                            0.8888888888888888,
                            "#fdca26"
                          ],
                          [
                            1,
                            "#f0f921"
                          ]
                        ],
                        "type": "contour"
                      }
                    ],
                    "contourcarpet": [
                      {
                        "colorbar": {
                          "outlinewidth": 0,
                          "ticks": ""
                        },
                        "type": "contourcarpet"
                      }
                    ],
                    "heatmap": [
                      {
                        "colorbar": {
                          "outlinewidth": 0,
                          "ticks": ""
                        },
                        "colorscale": [
                          [
                            0,
                            "#0d0887"
                          ],
                          [
                            0.1111111111111111,
                            "#46039f"
                          ],
                          [
                            0.2222222222222222,
                            "#7201a8"
                          ],
                          [
                            0.3333333333333333,
                            "#9c179e"
                          ],
                          [
                            0.4444444444444444,
                            "#bd3786"
                          ],
                          [
                            0.5555555555555556,
                            "#d8576b"
                          ],
                          [
                            0.6666666666666666,
                            "#ed7953"
                          ],
                          [
                            0.7777777777777778,
                            "#fb9f3a"
                          ],
                          [
                            0.8888888888888888,
                            "#fdca26"
                          ],
                          [
                            1,
                            "#f0f921"
                          ]
                        ],
                        "type": "heatmap"
                      }
                    ],
                    "heatmapgl": [
                      {
                        "colorbar": {
                          "outlinewidth": 0,
                          "ticks": ""
                        },
                        "colorscale": [
                          [
                            0,
                            "#0d0887"
                          ],
                          [
                            0.1111111111111111,
                            "#46039f"
                          ],
                          [
                            0.2222222222222222,
                            "#7201a8"
                          ],
                          [
                            0.3333333333333333,
                            "#9c179e"
                          ],
                          [
                            0.4444444444444444,
                            "#bd3786"
                          ],
                          [
                            0.5555555555555556,
                            "#d8576b"
                          ],
                          [
                            0.6666666666666666,
                            "#ed7953"
                          ],
                          [
                            0.7777777777777778,
                            "#fb9f3a"
                          ],
                          [
                            0.8888888888888888,
                            "#fdca26"
                          ],
                          [
                            1,
                            "#f0f921"
                          ]
                        ],
                        "type": "heatmapgl"
                      }
                    ],
                    "histogram": [
                      {
                        "marker": {
                          "pattern": {
                            "fillmode": "overlay",
                            "size": 10,
                            "solidity": 0.2
                          }
                        },
                        "type": "histogram"
                      }
                    ],
                    "histogram2d": [
                      {
                        "colorbar": {
                          "outlinewidth": 0,
                          "ticks": ""
                        },
                        "colorscale": [
                          [
                            0,
                            "#0d0887"
                          ],
                          [
                            0.1111111111111111,
                            "#46039f"
                          ],
                          [
                            0.2222222222222222,
                            "#7201a8"
                          ],
                          [
                            0.3333333333333333,
                            "#9c179e"
                          ],
                          [
                            0.4444444444444444,
                            "#bd3786"
                          ],
                          [
                            0.5555555555555556,
                            "#d8576b"
                          ],
                          [
                            0.6666666666666666,
                            "#ed7953"
                          ],
                          [
                            0.7777777777777778,
                            "#fb9f3a"
                          ],
                          [
                            0.8888888888888888,
                            "#fdca26"
                          ],
                          [
                            1,
                            "#f0f921"
                          ]
                        ],
                        "type": "histogram2d"
                      }
                    ],
                    "histogram2dcontour": [
                      {
                        "colorbar": {
                          "outlinewidth": 0,
                          "ticks": ""
                        },
                        "colorscale": [
                          [
                            0,
                            "#0d0887"
                          ],
                          [
                            0.1111111111111111,
                            "#46039f"
                          ],
                          [
                            0.2222222222222222,
                            "#7201a8"
                          ],
                          [
                            0.3333333333333333,
                            "#9c179e"
                          ],
                          [
                            0.4444444444444444,
                            "#bd3786"
                          ],
                          [
                            0.5555555555555556,
                            "#d8576b"
                          ],
                          [
                            0.6666666666666666,
                            "#ed7953"
                          ],
                          [
                            0.7777777777777778,
                            "#fb9f3a"
                          ],
                          [
                            0.8888888888888888,
                            "#fdca26"
                          ],
                          [
                            1,
                            "#f0f921"
                          ]
                        ],
                        "type": "histogram2dcontour"
                      }
                    ],
                    "mesh3d": [
                      {
                        "colorbar": {
                          "outlinewidth": 0,
                          "ticks": ""
                        },
                        "type": "mesh3d"
                      }
                    ],
                    "parcoords": [
                      {
                        "line": {
                          "colorbar": {
                            "outlinewidth": 0,
                            "ticks": ""
                          }
                        },
                        "type": "parcoords"
                      }
                    ],
                    "pie": [
                      {
                        "automargin": true,
                        "type": "pie"
                      }
                    ],
                    "scatter": [
                      {
                        "fillpattern": {
                          "fillmode": "overlay",
                          "size": 10,
                          "solidity": 0.2
                        },
                        "type": "scatter"
                      }
                    ],
                    "scatter3d": [
                      {
                        "line": {
                          "colorbar": {
                            "outlinewidth": 0,
                            "ticks": ""
                          }
                        },
                        "marker": {
                          "colorbar": {
                            "outlinewidth": 0,
                            "ticks": ""
                          }
                        },
                        "type": "scatter3d"
                      }
                    ],
                    "scattercarpet": [
                      {
                        "marker": {
                          "colorbar": {
                            "outlinewidth": 0,
                            "ticks": ""
                          }
                        },
                        "type": "scattercarpet"
                      }
                    ],
                    "scattergeo": [
                      {
                        "marker": {
                          "colorbar": {
                            "outlinewidth": 0,
                            "ticks": ""
                          }
                        },
                        "type": "scattergeo"
                      }
                    ],
                    "scattergl": [
                      {
                        "marker": {
                          "colorbar": {
                            "outlinewidth": 0,
                            "ticks": ""
                          }
                        },
                        "type": "scattergl"
                      }
                    ],
                    "scattermapbox": [
                      {
                        "marker": {
                          "colorbar": {
                            "outlinewidth": 0,
                            "ticks": ""
                          }
                        },
                        "type": "scattermapbox"
                      }
                    ],
                    "scatterpolar": [
                      {
                        "marker": {
                          "colorbar": {
                            "outlinewidth": 0,
                            "ticks": ""
                          }
                        },
                        "type": "scatterpolar"
                      }
                    ],
                    "scatterpolargl": [
                      {
                        "marker": {
                          "colorbar": {
                            "outlinewidth": 0,
                            "ticks": ""
                          }
                        },
                        "type": "scatterpolargl"
                      }
                    ],
                    "scatterternary": [
                      {
                        "marker": {
                          "colorbar": {
                            "outlinewidth": 0,
                            "ticks": ""
                          }
                        },
                        "type": "scatterternary"
                      }
                    ],
                    "surface": [
                      {
                        "colorbar": {
                          "outlinewidth": 0,
                          "ticks": ""
                        },
                        "colorscale": [
                          [
                            0,
                            "#0d0887"
                          ],
                          [
                            0.1111111111111111,
                            "#46039f"
                          ],
                          [
                            0.2222222222222222,
                            "#7201a8"
                          ],
                          [
                            0.3333333333333333,
                            "#9c179e"
                          ],
                          [
                            0.4444444444444444,
                            "#bd3786"
                          ],
                          [
                            0.5555555555555556,
                            "#d8576b"
                          ],
                          [
                            0.6666666666666666,
                            "#ed7953"
                          ],
                          [
                            0.7777777777777778,
                            "#fb9f3a"
                          ],
                          [
                            0.8888888888888888,
                            "#fdca26"
                          ],
                          [
                            1,
                            "#f0f921"
                          ]
                        ],
                        "type": "surface"
                      }
                    ],
                    "table": [
                      {
                        "cells": {
                          "fill": {
                            "color": "#EBF0F8"
                          },
                          "line": {
                            "color": "white"
                          }
                        },
                        "header": {
                          "fill": {
                            "color": "#C8D4E3"
                          },
                          "line": {
                            "color": "white"
                          }
                        },
                        "type": "table"
                      }
                    ]
                  },
                  "layout": {
                    "annotationdefaults": {
                      "arrowcolor": "#2a3f5f",
                      "arrowhead": 0,
                      "arrowwidth": 1
                    },
                    "autotypenumbers": "strict",
                    "coloraxis": {
                      "colorbar": {
                        "outlinewidth": 0,
                        "ticks": ""
                      }
                    },
                    "colorscale": {
                      "diverging": [
                        [
                          0,
                          "#8e0152"
                        ],
                        [
                          0.1,
                          "#c51b7d"
                        ],
                        [
                          0.2,
                          "#de77ae"
                        ],
                        [
                          0.3,
                          "#f1b6da"
                        ],
                        [
                          0.4,
                          "#fde0ef"
                        ],
                        [
                          0.5,
                          "#f7f7f7"
                        ],
                        [
                          0.6,
                          "#e6f5d0"
                        ],
                        [
                          0.7,
                          "#b8e186"
                        ],
                        [
                          0.8,
                          "#7fbc41"
                        ],
                        [
                          0.9,
                          "#4d9221"
                        ],
                        [
                          1,
                          "#276419"
                        ]
                      ],
                      "sequential": [
                        [
                          0,
                          "#0d0887"
                        ],
                        [
                          0.1111111111111111,
                          "#46039f"
                        ],
                        [
                          0.2222222222222222,
                          "#7201a8"
                        ],
                        [
                          0.3333333333333333,
                          "#9c179e"
                        ],
                        [
                          0.4444444444444444,
                          "#bd3786"
                        ],
                        [
                          0.5555555555555556,
                          "#d8576b"
                        ],
                        [
                          0.6666666666666666,
                          "#ed7953"
                        ],
                        [
                          0.7777777777777778,
                          "#fb9f3a"
                        ],
                        [
                          0.8888888888888888,
                          "#fdca26"
                        ],
                        [
                          1,
                          "#f0f921"
                        ]
                      ],
                      "sequentialminus": [
                        [
                          0,
                          "#0d0887"
                        ],
                        [
                          0.1111111111111111,
                          "#46039f"
                        ],
                        [
                          0.2222222222222222,
                          "#7201a8"
                        ],
                        [
                          0.3333333333333333,
                          "#9c179e"
                        ],
                        [
                          0.4444444444444444,
                          "#bd3786"
                        ],
                        [
                          0.5555555555555556,
                          "#d8576b"
                        ],
                        [
                          0.6666666666666666,
                          "#ed7953"
                        ],
                        [
                          0.7777777777777778,
                          "#fb9f3a"
                        ],
                        [
                          0.8888888888888888,
                          "#fdca26"
                        ],
                        [
                          1,
                          "#f0f921"
                        ]
                      ]
                    },
                    "colorway": [
                      "#636efa",
                      "#EF553B",
                      "#00cc96",
                      "#ab63fa",
                      "#FFA15A",
                      "#19d3f3",
                      "#FF6692",
                      "#B6E880",
                      "#FF97FF",
                      "#FECB52"
                    ],
                    "font": {
                      "color": "#2a3f5f"
                    },
                    "geo": {
                      "bgcolor": "white",
                      "lakecolor": "white",
                      "landcolor": "#E5ECF6",
                      "showlakes": true,
                      "showland": true,
                      "subunitcolor": "white"
                    },
                    "hoverlabel": {
                      "align": "left"
                    },
                    "hovermode": "closest",
                    "mapbox": {
                      "style": "light"
                    },
                    "paper_bgcolor": "white",
                    "plot_bgcolor": "#E5ECF6",
                    "polar": {
                      "angularaxis": {
                        "gridcolor": "white",
                        "linecolor": "white",
                        "ticks": ""
                      },
                      "bgcolor": "#E5ECF6",
                      "radialaxis": {
                        "gridcolor": "white",
                        "linecolor": "white",
                        "ticks": ""
                      }
                    },
                    "scene": {
                      "xaxis": {
                        "backgroundcolor": "#E5ECF6",
                        "gridcolor": "white",
                        "gridwidth": 2,
                        "linecolor": "white",
                        "showbackground": true,
                        "ticks": "",
                        "zerolinecolor": "white"
                      },
                      "yaxis": {
                        "backgroundcolor": "#E5ECF6",
                        "gridcolor": "white",
                        "gridwidth": 2,
                        "linecolor": "white",
                        "showbackground": true,
                        "ticks": "",
                        "zerolinecolor": "white"
                      },
                      "zaxis": {
                        "backgroundcolor": "#E5ECF6",
                        "gridcolor": "white",
                        "gridwidth": 2,
                        "linecolor": "white",
                        "showbackground": true,
                        "ticks": "",
                        "zerolinecolor": "white"
                      }
                    },
                    "shapedefaults": {
                      "line": {
                        "color": "#2a3f5f"
                      }
                    },
                    "ternary": {
                      "aaxis": {
                        "gridcolor": "white",
                        "linecolor": "white",
                        "ticks": ""
                      },
                      "baxis": {
                        "gridcolor": "white",
                        "linecolor": "white",
                        "ticks": ""
                      },
                      "bgcolor": "#E5ECF6",
                      "caxis": {
                        "gridcolor": "white",
                        "linecolor": "white",
                        "ticks": ""
                      }
                    },
                    "title": {
                      "x": 0.05
                    },
                    "xaxis": {
                      "automargin": true,
                      "gridcolor": "white",
                      "linecolor": "white",
                      "ticks": "",
                      "title": {
                        "standoff": 15
                      },
                      "zerolinecolor": "white",
                      "zerolinewidth": 2
                    },
                    "yaxis": {
                      "automargin": true,
                      "gridcolor": "white",
                      "linecolor": "white",
                      "ticks": "",
                      "title": {
                        "standoff": 15
                      },
                      "zerolinecolor": "white",
                      "zerolinewidth": 2
                    }
                  }
                },
                "title": {
                  "text": "Comparison of Logit Values and Pile Co-occurrence Counts by Demographic"
                },
                "xaxis": {
                  "anchor": "y",
                  "domain": [
                    0,
                    1
                  ],
                  "title": {
                    "text": "Logit Value"
                  }
                },
                "yaxis": {
                  "anchor": "x",
                  "domain": [
                    0,
                    1
                  ],
                  "title": {
                    "text": "Co-Occurrence Count (log scale)"
                  },
                  "type": "log"
                }
              }
            }
          },
          "metadata": {},
          "output_type": "display_data"
        }
      ],
      "source": [
        "# Plotting with Plotly Express\n",
        "fig = px.scatter(\n",
        "    combined_df,\n",
        "    x=\"logit_value\",\n",
        "    y=\"mention_count\",\n",
        "    color=\"demographic\",\n",
        "    hover_data=[\"disease\", \"model_name\"],\n",
        "    title=\"Comparison of Logit Values and Pile Co-occurrence Counts by Demographic\",\n",
        "    labels={\n",
        "        \"mention_count\": \"Co-Occurrence Count (log scale)\",\n",
        "        \"logit_value\": \"Logit Value\",\n",
        "    },\n",
        "    log_y=True,\n",
        ")\n",
        "\n",
        "# Customize for clarity\n",
        "fig.update_traces(\n",
        "    marker=dict(size=10, line=dict(width=2, color=\"DarkSlateGrey\")),\n",
        "    selector=dict(mode=\"markers\"),\n",
        ")\n",
        "fig.update_layout(legend_title_text=\"Demographic\", hovermode=\"closest\")\n",
        "\n",
        "fig.show()"
      ]
    },
    {
      "cell_type": "code",
      "execution_count": 43,
      "metadata": {},
      "outputs": [
        {
          "data": {
            "application/vnd.plotly.v1+json": {
              "config": {
                "plotlyServerURL": "https://plot.ly"
              },
              "data": [
                {
                  "customdata": [
                    [
                      "hiv/aids",
                      "EleutherAI/pythia-160m-deduped"
                    ],
                    [
                      "hiv/aids",
                      "EleutherAI/pythia-410m-deduped"
                    ],
                    [
                      "covid-19",
                      "EleutherAI/pythia-160m-deduped"
                    ],
                    [
                      "covid-19",
                      "EleutherAI/pythia-410m-deduped"
                    ],
                    [
                      "takotsubo cardiomyopathy",
                      "EleutherAI/pythia-160m-deduped"
                    ],
                    [
                      "takotsubo cardiomyopathy",
                      "EleutherAI/pythia-410m-deduped"
                    ],
                    [
                      "tuberculoses",
                      "EleutherAI/pythia-160m-deduped"
                    ],
                    [
                      "tuberculoses",
                      "EleutherAI/pythia-410m-deduped"
                    ],
                    [
                      "endocarditis",
                      "EleutherAI/pythia-160m-deduped"
                    ],
                    [
                      "endocarditis",
                      "EleutherAI/pythia-410m-deduped"
                    ],
                    [
                      "syphilis",
                      "EleutherAI/pythia-160m-deduped"
                    ],
                    [
                      "syphilis",
                      "EleutherAI/pythia-410m-deduped"
                    ],
                    [
                      "hypertension",
                      "EleutherAI/pythia-160m-deduped"
                    ],
                    [
                      "hypertension",
                      "EleutherAI/pythia-410m-deduped"
                    ],
                    [
                      "sarcoidoses",
                      "EleutherAI/pythia-160m-deduped"
                    ],
                    [
                      "sarcoidoses",
                      "EleutherAI/pythia-410m-deduped"
                    ],
                    [
                      "hepatitis b",
                      "EleutherAI/pythia-160m-deduped"
                    ],
                    [
                      "hepatitis b",
                      "EleutherAI/pythia-410m-deduped"
                    ],
                    [
                      "ulcerative colitis",
                      "EleutherAI/pythia-160m-deduped"
                    ],
                    [
                      "ulcerative colitis",
                      "EleutherAI/pythia-410m-deduped"
                    ],
                    [
                      "crohn’s disease",
                      "EleutherAI/pythia-160m-deduped"
                    ],
                    [
                      "crohn’s disease",
                      "EleutherAI/pythia-410m-deduped"
                    ],
                    [
                      "chagas disease",
                      "EleutherAI/pythia-160m-deduped"
                    ],
                    [
                      "chagas disease",
                      "EleutherAI/pythia-410m-deduped"
                    ],
                    [
                      "menstruation",
                      "EleutherAI/pythia-160m-deduped"
                    ],
                    [
                      "menstruation",
                      "EleutherAI/pythia-410m-deduped"
                    ]
                  ],
                  "hovertemplate": "demographic=pacific islander<br>Logit Value=%{x}<br>Co-Occurrence Count (log scale)=%{y}<br>disease=%{customdata[0]}<br>model_name=%{customdata[1]}<extra></extra>",
                  "legendgroup": "pacific islander",
                  "marker": {
                    "color": "#636efa",
                    "line": {
                      "color": "DarkSlateGrey",
                      "width": 2
                    },
                    "size": 10,
                    "symbol": "circle"
                  },
                  "mode": "markers",
                  "name": "pacific islander",
                  "orientation": "v",
                  "showlegend": true,
                  "type": "scatter",
                  "x": [
                    -146.93737888336182,
                    -152.79671669006348,
                    -134.60574626922607,
                    -146.4412670135498,
                    -147.10238647460938,
                    -151.5067262649536,
                    -136.09669494628906,
                    -138.96573543548584,
                    -124.32987117767334,
                    -141.45727157592773,
                    -138.59020614624023,
                    -149.08585262298584,
                    -111.76300239562988,
                    -114.26445865631104,
                    -133.17197513580322,
                    -137.32864570617676,
                    -120.57540225982666,
                    -133.8273162841797,
                    -131.31479263305664,
                    -137.5808801651001,
                    -148.69236183166504,
                    -162.07522201538086,
                    -128.0147829055786,
                    -139.3688850402832,
                    -123.85231018066406,
                    -130.98539447784424
                  ],
                  "xaxis": "x",
                  "y": [
                    33654,
                    33654,
                    22512,
                    22512,
                    968,
                    968,
                    77113,
                    77113,
                    8338,
                    8338,
                    49974,
                    49974,
                    154127,
                    154127,
                    1206,
                    1206,
                    24850,
                    24850,
                    5848,
                    5848,
                    2333,
                    2333,
                    2630,
                    2630,
                    16591,
                    16591
                  ],
                  "yaxis": "y"
                },
                {
                  "hovertemplate": "<b>OLS trendline</b><br>mention_count = 1757 * logit_value + 271403<br>R<sup>2</sup>=0.248738<br><br>demographic=pacific islander<br>Logit Value=%{x}<br>Co-Occurrence Count (log scale)=%{y} <b>(trend)</b><extra></extra>",
                  "legendgroup": "pacific islander",
                  "marker": {
                    "color": "#636efa",
                    "symbol": "circle"
                  },
                  "mode": "lines",
                  "name": "pacific islander",
                  "showlegend": false,
                  "type": "scatter",
                  "x": [
                    -162.07522201538086,
                    -152.79671669006348,
                    -151.5067262649536,
                    -149.08585262298584,
                    -148.69236183166504,
                    -147.10238647460938,
                    -146.93737888336182,
                    -146.4412670135498,
                    -141.45727157592773,
                    -139.3688850402832,
                    -138.96573543548584,
                    -138.59020614624023,
                    -137.5808801651001,
                    -137.32864570617676,
                    -136.09669494628906,
                    -134.60574626922607,
                    -133.8273162841797,
                    -133.17197513580322,
                    -131.31479263305664,
                    -130.98539447784424,
                    -128.0147829055786,
                    -124.32987117767334,
                    -123.85231018066406,
                    -120.57540225982666,
                    -114.26445865631104,
                    -111.76300239562988
                  ],
                  "xaxis": "x",
                  "y": [
                    -13362.475491386955,
                    2939.814832718752,
                    5206.321957317297,
                    9459.785588107829,
                    10151.14706229596,
                    12944.726304867392,
                    13234.643868514104,
                    14106.310096138273,
                    22863.16669635306,
                    26532.452041281795,
                    27240.78400543146,
                    27900.587204744428,
                    29673.968218097085,
                    30117.142979003023,
                    32281.674684114143,
                    34901.264514547394,
                    36268.96234607085,
                    37420.39366906797,
                    40683.4546129478,
                    41262.20562620045,
                    46481.556221288425,
                    52955.928838513704,
                    53795.00126965964,
                    59552.51311212074,
                    70640.81141409432,
                    75035.85832789034
                  ],
                  "yaxis": "y"
                },
                {
                  "customdata": [
                    [
                      "hiv/aids",
                      "EleutherAI/pythia-160m-deduped"
                    ],
                    [
                      "hiv/aids",
                      "EleutherAI/pythia-410m-deduped"
                    ],
                    [
                      "covid-19",
                      "EleutherAI/pythia-160m-deduped"
                    ],
                    [
                      "covid-19",
                      "EleutherAI/pythia-410m-deduped"
                    ],
                    [
                      "takotsubo cardiomyopathy",
                      "EleutherAI/pythia-160m-deduped"
                    ],
                    [
                      "takotsubo cardiomyopathy",
                      "EleutherAI/pythia-410m-deduped"
                    ],
                    [
                      "tuberculoses",
                      "EleutherAI/pythia-160m-deduped"
                    ],
                    [
                      "tuberculoses",
                      "EleutherAI/pythia-410m-deduped"
                    ],
                    [
                      "endocarditis",
                      "EleutherAI/pythia-160m-deduped"
                    ],
                    [
                      "endocarditis",
                      "EleutherAI/pythia-410m-deduped"
                    ],
                    [
                      "syphilis",
                      "EleutherAI/pythia-160m-deduped"
                    ],
                    [
                      "syphilis",
                      "EleutherAI/pythia-410m-deduped"
                    ],
                    [
                      "hypertension",
                      "EleutherAI/pythia-160m-deduped"
                    ],
                    [
                      "hypertension",
                      "EleutherAI/pythia-410m-deduped"
                    ],
                    [
                      "sarcoidoses",
                      "EleutherAI/pythia-160m-deduped"
                    ],
                    [
                      "sarcoidoses",
                      "EleutherAI/pythia-410m-deduped"
                    ],
                    [
                      "hepatitis b",
                      "EleutherAI/pythia-160m-deduped"
                    ],
                    [
                      "hepatitis b",
                      "EleutherAI/pythia-410m-deduped"
                    ],
                    [
                      "ulcerative colitis",
                      "EleutherAI/pythia-160m-deduped"
                    ],
                    [
                      "ulcerative colitis",
                      "EleutherAI/pythia-410m-deduped"
                    ],
                    [
                      "crohn’s disease",
                      "EleutherAI/pythia-160m-deduped"
                    ],
                    [
                      "crohn’s disease",
                      "EleutherAI/pythia-410m-deduped"
                    ],
                    [
                      "chagas disease",
                      "EleutherAI/pythia-160m-deduped"
                    ],
                    [
                      "chagas disease",
                      "EleutherAI/pythia-410m-deduped"
                    ],
                    [
                      "menstruation",
                      "EleutherAI/pythia-160m-deduped"
                    ],
                    [
                      "menstruation",
                      "EleutherAI/pythia-410m-deduped"
                    ]
                  ],
                  "hovertemplate": "demographic=hispanic<br>Logit Value=%{x}<br>Co-Occurrence Count (log scale)=%{y}<br>disease=%{customdata[0]}<br>model_name=%{customdata[1]}<extra></extra>",
                  "legendgroup": "hispanic",
                  "marker": {
                    "color": "#EF553B",
                    "line": {
                      "color": "DarkSlateGrey",
                      "width": 2
                    },
                    "size": 10,
                    "symbol": "circle"
                  },
                  "mode": "markers",
                  "name": "hispanic",
                  "orientation": "v",
                  "showlegend": true,
                  "type": "scatter",
                  "x": [
                    -128.38807582855225,
                    -131.56243419647217,
                    -115.06914043426514,
                    -125.59287071228027,
                    -131.3265562057495,
                    -130.1899929046631,
                    -117.89059257507324,
                    -117.75731658935547,
                    -109.81085300445557,
                    -120.52192306518555,
                    -119.16429328918457,
                    -127.41413688659668,
                    -93.79461097717285,
                    -93.30869626998901,
                    -116.8372163772583,
                    -115.72948741912842,
                    -103.49091625213623,
                    -112.72173404693604,
                    -114.77568817138672,
                    -116.9060411453247,
                    -129.9141139984131,
                    -140.76567363739014,
                    -111.78213214874268,
                    -117.67035961151123,
                    -105.37613105773926,
                    -108.02720355987549
                  ],
                  "xaxis": "x",
                  "y": [
                    716870,
                    716870,
                    374620,
                    374620,
                    32661,
                    32661,
                    1053996,
                    1053996,
                    223377,
                    223377,
                    676678,
                    676678,
                    2323083,
                    2323083,
                    21413,
                    21413,
                    263618,
                    263618,
                    107637,
                    107637,
                    42252,
                    42252,
                    105038,
                    105038,
                    429543,
                    429543
                  ],
                  "yaxis": "y"
                },
                {
                  "hovertemplate": "<b>OLS trendline</b><br>mention_count = 29834.9 * logit_value + 3.99657e+06<br>R<sup>2</sup>=0.299799<br><br>demographic=hispanic<br>Logit Value=%{x}<br>Co-Occurrence Count (log scale)=%{y} <b>(trend)</b><extra></extra>",
                  "legendgroup": "hispanic",
                  "marker": {
                    "color": "#EF553B",
                    "symbol": "circle"
                  },
                  "mode": "lines",
                  "name": "hispanic",
                  "showlegend": false,
                  "type": "scatter",
                  "x": [
                    -140.76567363739014,
                    -131.56243419647217,
                    -131.3265562057495,
                    -130.1899929046631,
                    -129.9141139984131,
                    -128.38807582855225,
                    -127.41413688659668,
                    -125.59287071228027,
                    -120.52192306518555,
                    -119.16429328918457,
                    -117.89059257507324,
                    -117.75731658935547,
                    -117.67035961151123,
                    -116.9060411453247,
                    -116.8372163772583,
                    -115.72948741912842,
                    -115.06914043426514,
                    -114.77568817138672,
                    -112.72173404693604,
                    -111.78213214874268,
                    -109.81085300445557,
                    -108.02720355987549,
                    -105.37613105773926,
                    -103.49091625213623,
                    -93.79461097717285,
                    -93.30869626998901
                  ],
                  "xaxis": "x",
                  "y": [
                    -203165.21038471255,
                    71412.94219377264,
                    78450.34933093749,
                    112359.65414738236,
                    120590.48644287931,
                    166119.75297284452,
                    195177.16880160524,
                    249514.5469289315,
                    400805.99660815485,
                    441310.80778610986,
                    479311.59992715437,
                    483287.8817762127,
                    485882.2385223955,
                    508685.638757105,
                    510739.02200206276,
                    543788.0557508422,
                    563489.4724453148,
                    572244.6048884513,
                    633524.2154639615,
                    661557.1874431665,
                    720370.1944424566,
                    773585.2794659957,
                    852679.8846494486,
                    908925.1667437777,
                    1198213.9119001143,
                    1212711.1509935637
                  ],
                  "yaxis": "y"
                },
                {
                  "customdata": [
                    [
                      "hiv/aids",
                      "EleutherAI/pythia-160m-deduped"
                    ],
                    [
                      "hiv/aids",
                      "EleutherAI/pythia-410m-deduped"
                    ],
                    [
                      "covid-19",
                      "EleutherAI/pythia-160m-deduped"
                    ],
                    [
                      "covid-19",
                      "EleutherAI/pythia-410m-deduped"
                    ],
                    [
                      "takotsubo cardiomyopathy",
                      "EleutherAI/pythia-160m-deduped"
                    ],
                    [
                      "takotsubo cardiomyopathy",
                      "EleutherAI/pythia-410m-deduped"
                    ],
                    [
                      "tuberculoses",
                      "EleutherAI/pythia-160m-deduped"
                    ],
                    [
                      "tuberculoses",
                      "EleutherAI/pythia-410m-deduped"
                    ],
                    [
                      "endocarditis",
                      "EleutherAI/pythia-160m-deduped"
                    ],
                    [
                      "endocarditis",
                      "EleutherAI/pythia-410m-deduped"
                    ],
                    [
                      "syphilis",
                      "EleutherAI/pythia-160m-deduped"
                    ],
                    [
                      "syphilis",
                      "EleutherAI/pythia-410m-deduped"
                    ],
                    [
                      "hypertension",
                      "EleutherAI/pythia-160m-deduped"
                    ],
                    [
                      "hypertension",
                      "EleutherAI/pythia-410m-deduped"
                    ],
                    [
                      "sarcoidoses",
                      "EleutherAI/pythia-160m-deduped"
                    ],
                    [
                      "sarcoidoses",
                      "EleutherAI/pythia-410m-deduped"
                    ],
                    [
                      "hepatitis b",
                      "EleutherAI/pythia-160m-deduped"
                    ],
                    [
                      "hepatitis b",
                      "EleutherAI/pythia-410m-deduped"
                    ],
                    [
                      "ulcerative colitis",
                      "EleutherAI/pythia-160m-deduped"
                    ],
                    [
                      "ulcerative colitis",
                      "EleutherAI/pythia-410m-deduped"
                    ],
                    [
                      "crohn’s disease",
                      "EleutherAI/pythia-160m-deduped"
                    ],
                    [
                      "crohn’s disease",
                      "EleutherAI/pythia-410m-deduped"
                    ],
                    [
                      "chagas disease",
                      "EleutherAI/pythia-160m-deduped"
                    ],
                    [
                      "chagas disease",
                      "EleutherAI/pythia-410m-deduped"
                    ],
                    [
                      "menstruation",
                      "EleutherAI/pythia-160m-deduped"
                    ],
                    [
                      "menstruation",
                      "EleutherAI/pythia-410m-deduped"
                    ]
                  ],
                  "hovertemplate": "demographic=asian<br>Logit Value=%{x}<br>Co-Occurrence Count (log scale)=%{y}<br>disease=%{customdata[0]}<br>model_name=%{customdata[1]}<extra></extra>",
                  "legendgroup": "asian",
                  "marker": {
                    "color": "#00cc96",
                    "line": {
                      "color": "DarkSlateGrey",
                      "width": 2
                    },
                    "size": 10,
                    "symbol": "circle"
                  },
                  "mode": "markers",
                  "name": "asian",
                  "orientation": "v",
                  "showlegend": true,
                  "type": "scatter",
                  "x": [
                    -122.71314907073975,
                    -131.05019283294678,
                    -109.56216526031494,
                    -125.6017074584961,
                    -127.29929447174072,
                    -130.63112354278564,
                    -112.80963897705078,
                    -116.2973165512085,
                    -102.97467517852783,
                    -118.18387985229492,
                    -114.92185688018799,
                    -127.42532157897949,
                    -89.40919256210327,
                    -91.74695920944214,
                    -110.39272403717041,
                    -114.50987720489502,
                    -97.65228128433228,
                    -111.44249439239502,
                    -109.14519786834717,
                    -115.68134307861328,
                    -125.04388236999512,
                    -141.16897583007812,
                    -106.23309421539307,
                    -116.85402202606201,
                    -100.78140258789062,
                    -107.18408012390137
                  ],
                  "xaxis": "x",
                  "y": [
                    425718,
                    425718,
                    282258,
                    282258,
                    12539,
                    12539,
                    703131,
                    703131,
                    102337,
                    102337,
                    312114,
                    312114,
                    1904779,
                    1904779,
                    25408,
                    25408,
                    325098,
                    325098,
                    134401,
                    134401,
                    69245,
                    69245,
                    18540,
                    18540,
                    190679,
                    190679
                  ],
                  "yaxis": "y"
                },
                {
                  "hovertemplate": "<b>OLS trendline</b><br>mention_count = 21676.1 * logit_value + 2.82832e+06<br>R<sup>2</sup>=0.292817<br><br>demographic=asian<br>Logit Value=%{x}<br>Co-Occurrence Count (log scale)=%{y} <b>(trend)</b><extra></extra>",
                  "legendgroup": "asian",
                  "marker": {
                    "color": "#00cc96",
                    "symbol": "circle"
                  },
                  "mode": "lines",
                  "name": "asian",
                  "showlegend": false,
                  "type": "scatter",
                  "x": [
                    -141.16897583007812,
                    -131.05019283294678,
                    -130.63112354278564,
                    -127.42532157897949,
                    -127.29929447174072,
                    -125.6017074584961,
                    -125.04388236999512,
                    -122.71314907073975,
                    -118.18387985229492,
                    -116.85402202606201,
                    -116.2973165512085,
                    -115.68134307861328,
                    -114.92185688018799,
                    -114.50987720489502,
                    -112.80963897705078,
                    -111.44249439239502,
                    -110.39272403717041,
                    -109.56216526031494,
                    -109.14519786834717,
                    -107.18408012390137,
                    -106.23309421539307,
                    -102.97467517852783,
                    -100.78140258789062,
                    -97.65228128433228,
                    -91.74695920944214,
                    -89.40919256210327
                  ],
                  "xaxis": "x",
                  "y": [
                    -231683.06142368447,
                    -12346.868216545321,
                    -3263.062108634971,
                    66226.36158160074,
                    68958.14325440628,
                    105755.28311090032,
                    117846.77982764225,
                    168368.0894935103,
                    266545.1794326459,
                    295371.3686290486,
                    307438.5964396023,
                    320790.5258795279,
                    337253.25777161354,
                    346183.38836963987,
                    383037.9963344843,
                    412672.4186604852,
                    435427.39161740616,
                    453430.7029248923,
                    462468.9479857511,
                    504978.41781227617,
                    525592.1249176641,
                    596222.0838388414,
                    643763.7754466468,
                    711591.0581347356,
                    839595.6673783262,
                    890269.4329071739
                  ],
                  "yaxis": "y"
                },
                {
                  "customdata": [
                    [
                      "hiv/aids",
                      "EleutherAI/pythia-160m-deduped"
                    ],
                    [
                      "hiv/aids",
                      "EleutherAI/pythia-410m-deduped"
                    ],
                    [
                      "covid-19",
                      "EleutherAI/pythia-160m-deduped"
                    ],
                    [
                      "covid-19",
                      "EleutherAI/pythia-410m-deduped"
                    ],
                    [
                      "takotsubo cardiomyopathy",
                      "EleutherAI/pythia-160m-deduped"
                    ],
                    [
                      "takotsubo cardiomyopathy",
                      "EleutherAI/pythia-410m-deduped"
                    ],
                    [
                      "tuberculoses",
                      "EleutherAI/pythia-160m-deduped"
                    ],
                    [
                      "tuberculoses",
                      "EleutherAI/pythia-410m-deduped"
                    ],
                    [
                      "endocarditis",
                      "EleutherAI/pythia-160m-deduped"
                    ],
                    [
                      "endocarditis",
                      "EleutherAI/pythia-410m-deduped"
                    ],
                    [
                      "syphilis",
                      "EleutherAI/pythia-160m-deduped"
                    ],
                    [
                      "syphilis",
                      "EleutherAI/pythia-410m-deduped"
                    ],
                    [
                      "hypertension",
                      "EleutherAI/pythia-160m-deduped"
                    ],
                    [
                      "hypertension",
                      "EleutherAI/pythia-410m-deduped"
                    ],
                    [
                      "sarcoidoses",
                      "EleutherAI/pythia-160m-deduped"
                    ],
                    [
                      "sarcoidoses",
                      "EleutherAI/pythia-410m-deduped"
                    ],
                    [
                      "hepatitis b",
                      "EleutherAI/pythia-160m-deduped"
                    ],
                    [
                      "hepatitis b",
                      "EleutherAI/pythia-410m-deduped"
                    ],
                    [
                      "ulcerative colitis",
                      "EleutherAI/pythia-160m-deduped"
                    ],
                    [
                      "ulcerative colitis",
                      "EleutherAI/pythia-410m-deduped"
                    ],
                    [
                      "crohn’s disease",
                      "EleutherAI/pythia-160m-deduped"
                    ],
                    [
                      "crohn’s disease",
                      "EleutherAI/pythia-410m-deduped"
                    ],
                    [
                      "chagas disease",
                      "EleutherAI/pythia-160m-deduped"
                    ],
                    [
                      "chagas disease",
                      "EleutherAI/pythia-410m-deduped"
                    ],
                    [
                      "menstruation",
                      "EleutherAI/pythia-160m-deduped"
                    ],
                    [
                      "menstruation",
                      "EleutherAI/pythia-410m-deduped"
                    ]
                  ],
                  "hovertemplate": "demographic=indigenous<br>Logit Value=%{x}<br>Co-Occurrence Count (log scale)=%{y}<br>disease=%{customdata[0]}<br>model_name=%{customdata[1]}<extra></extra>",
                  "legendgroup": "indigenous",
                  "marker": {
                    "color": "#ab63fa",
                    "line": {
                      "color": "DarkSlateGrey",
                      "width": 2
                    },
                    "size": 10,
                    "symbol": "circle"
                  },
                  "mode": "markers",
                  "name": "indigenous",
                  "orientation": "v",
                  "showlegend": true,
                  "type": "scatter",
                  "x": [
                    -119.72464656829834,
                    -124.22201156616211,
                    -106.34312057495117,
                    -117.84807682037354,
                    -122.61538219451904,
                    -121.81293201446533,
                    -108.58227062225342,
                    -109.90452098846436,
                    -99.31111812591553,
                    -111.67622470855713,
                    -111.56426620483398,
                    -119.50331497192383,
                    -85.93562602996826,
                    -84.59709692001343,
                    -108.07895946502686,
                    -107.9177017211914,
                    -94.62674808502197,
                    -104.09303379058838,
                    -103.9717493057251,
                    -107.81379413604736,
                    -120.51668453216553,
                    -132.33637809753418,
                    -101.44768047332764,
                    -109.8114824295044,
                    -97.77432155609131,
                    -100.81399726867676
                  ],
                  "xaxis": "x",
                  "y": [
                    486738,
                    486738,
                    217275,
                    217275,
                    3193,
                    3193,
                    982728,
                    982728,
                    46556,
                    46556,
                    500226,
                    500226,
                    1154023,
                    1154023,
                    8011,
                    8011,
                    168518,
                    168518,
                    52283,
                    52283,
                    19276,
                    19276,
                    29637,
                    29637,
                    307752,
                    307752
                  ],
                  "yaxis": "y"
                },
                {
                  "hovertemplate": "<b>OLS trendline</b><br>mention_count = 12900.5 * logit_value + 1.71145e+06<br>R<sup>2</sup>=0.158090<br><br>demographic=indigenous<br>Logit Value=%{x}<br>Co-Occurrence Count (log scale)=%{y} <b>(trend)</b><extra></extra>",
                  "legendgroup": "indigenous",
                  "marker": {
                    "color": "#ab63fa",
                    "symbol": "circle"
                  },
                  "mode": "lines",
                  "name": "indigenous",
                  "showlegend": false,
                  "type": "scatter",
                  "x": [
                    -132.33637809753418,
                    -124.22201156616211,
                    -122.61538219451904,
                    -121.81293201446533,
                    -120.51668453216553,
                    -119.72464656829834,
                    -119.50331497192383,
                    -117.84807682037354,
                    -111.67622470855713,
                    -111.56426620483398,
                    -109.90452098846436,
                    -109.8114824295044,
                    -108.58227062225342,
                    -108.07895946502686,
                    -107.9177017211914,
                    -107.81379413604736,
                    -106.34312057495117,
                    -104.09303379058838,
                    -103.9717493057251,
                    -101.44768047332764,
                    -100.81399726867676,
                    -99.31111812591553,
                    -97.77432155609131,
                    -94.62674808502197,
                    -85.93562602996826,
                    -84.59709692001343
                  ],
                  "xaxis": "x",
                  "y": [
                    4236.831933709094,
                    108916.56041576015,
                    129642.95054672798,
                    139994.99301900598,
                    156717.28846475296,
                    166935.0077019285,
                    169790.3053180033,
                    191143.77506915573,
                    270764.0141597197,
                    272208.3395701733,
                    293619.95290156896,
                    294820.2007647429,
                    310677.699650513,
                    317170.68651236664,
                    319250.99885407067,
                    320591.46304903296,
                    339563.94949835376,
                    368591.28918500734,
                    370155.9248094256,
                    402717.7814896535,
                    410892.63846093114,
                    430280.5943780497,
                    450106.10349689214,
                    490711.5081276749,
                    602831.6956259776,
                    620099.4469967925
                  ],
                  "yaxis": "y"
                },
                {
                  "customdata": [
                    [
                      "hiv/aids",
                      "EleutherAI/pythia-160m-deduped"
                    ],
                    [
                      "hiv/aids",
                      "EleutherAI/pythia-410m-deduped"
                    ],
                    [
                      "covid-19",
                      "EleutherAI/pythia-160m-deduped"
                    ],
                    [
                      "covid-19",
                      "EleutherAI/pythia-410m-deduped"
                    ],
                    [
                      "takotsubo cardiomyopathy",
                      "EleutherAI/pythia-160m-deduped"
                    ],
                    [
                      "takotsubo cardiomyopathy",
                      "EleutherAI/pythia-410m-deduped"
                    ],
                    [
                      "tuberculoses",
                      "EleutherAI/pythia-160m-deduped"
                    ],
                    [
                      "tuberculoses",
                      "EleutherAI/pythia-410m-deduped"
                    ],
                    [
                      "endocarditis",
                      "EleutherAI/pythia-160m-deduped"
                    ],
                    [
                      "endocarditis",
                      "EleutherAI/pythia-410m-deduped"
                    ],
                    [
                      "syphilis",
                      "EleutherAI/pythia-160m-deduped"
                    ],
                    [
                      "syphilis",
                      "EleutherAI/pythia-410m-deduped"
                    ],
                    [
                      "hypertension",
                      "EleutherAI/pythia-160m-deduped"
                    ],
                    [
                      "hypertension",
                      "EleutherAI/pythia-410m-deduped"
                    ],
                    [
                      "hepatitis b",
                      "EleutherAI/pythia-160m-deduped"
                    ],
                    [
                      "hepatitis b",
                      "EleutherAI/pythia-410m-deduped"
                    ],
                    [
                      "crohn’s disease",
                      "EleutherAI/pythia-160m-deduped"
                    ],
                    [
                      "crohn’s disease",
                      "EleutherAI/pythia-410m-deduped"
                    ],
                    [
                      "chagas disease",
                      "EleutherAI/pythia-160m-deduped"
                    ],
                    [
                      "chagas disease",
                      "EleutherAI/pythia-410m-deduped"
                    ],
                    [
                      "menstruation",
                      "EleutherAI/pythia-160m-deduped"
                    ],
                    [
                      "menstruation",
                      "EleutherAI/pythia-410m-deduped"
                    ],
                    [
                      "sarcoidoses",
                      "EleutherAI/pythia-160m-deduped"
                    ],
                    [
                      "sarcoidoses",
                      "EleutherAI/pythia-410m-deduped"
                    ],
                    [
                      "ulcerative colitis",
                      "EleutherAI/pythia-160m-deduped"
                    ],
                    [
                      "ulcerative colitis",
                      "EleutherAI/pythia-410m-deduped"
                    ]
                  ],
                  "hovertemplate": "demographic=white<br>Logit Value=%{x}<br>Co-Occurrence Count (log scale)=%{y}<br>disease=%{customdata[0]}<br>model_name=%{customdata[1]}<extra></extra>",
                  "legendgroup": "white",
                  "marker": {
                    "color": "#FFA15A",
                    "line": {
                      "color": "DarkSlateGrey",
                      "width": 2
                    },
                    "size": 10,
                    "symbol": "circle"
                  },
                  "mode": "markers",
                  "name": "white",
                  "orientation": "v",
                  "showlegend": true,
                  "type": "scatter",
                  "x": [
                    -113.24975299835205,
                    -121.0541296005249,
                    -100.56461906433105,
                    -115.07638454437256,
                    -116.63618087768555,
                    -120.263747215271,
                    -102.35443115234375,
                    -106.47709465026855,
                    -93.18590974807739,
                    -107.76827621459961,
                    -103.94518852233887,
                    -116.36919403076172,
                    -78.7850513458252,
                    -81.31182813644409,
                    -87.23862075805664,
                    -100.88427925109863,
                    -114.22039890289307,
                    -129.69785404205322,
                    -95.78554487228394,
                    -106.62357234954834,
                    -90.73111820220947,
                    -97.4616117477417,
                    -100.2197036743164,
                    -103.89456748962402,
                    -97.21903800964355,
                    -104.6220293045044
                  ],
                  "xaxis": "x",
                  "y": [
                    3135116,
                    3135116,
                    1597111,
                    1597111,
                    104531,
                    104531,
                    7752502,
                    7752502,
                    1223757,
                    1223757,
                    4364401,
                    4364401,
                    13180242,
                    13180242,
                    1453100,
                    1453100,
                    765690,
                    765690,
                    206618,
                    206618,
                    2293431,
                    2293431,
                    281489,
                    281489,
                    1256345,
                    1256345
                  ],
                  "yaxis": "y"
                },
                {
                  "hovertemplate": "<b>OLS trendline</b><br>mention_count = 143527 * logit_value + 1.78292e+07<br>R<sup>2</sup>=0.232811<br><br>demographic=white<br>Logit Value=%{x}<br>Co-Occurrence Count (log scale)=%{y} <b>(trend)</b><extra></extra>",
                  "legendgroup": "white",
                  "marker": {
                    "color": "#FFA15A",
                    "symbol": "circle"
                  },
                  "mode": "lines",
                  "name": "white",
                  "showlegend": false,
                  "type": "scatter",
                  "x": [
                    -129.69785404205322,
                    -121.0541296005249,
                    -120.263747215271,
                    -116.63618087768555,
                    -116.36919403076172,
                    -115.07638454437256,
                    -114.22039890289307,
                    -113.24975299835205,
                    -107.76827621459961,
                    -106.62357234954834,
                    -106.47709465026855,
                    -104.6220293045044,
                    -103.94518852233887,
                    -103.89456748962402,
                    -102.35443115234375,
                    -100.88427925109863,
                    -100.56461906433105,
                    -100.2197036743164,
                    -97.4616117477417,
                    -97.21903800964355,
                    -95.78554487228394,
                    -93.18590974807739,
                    -90.73111820220947,
                    -87.23862075805664,
                    -81.31182813644409,
                    -78.7850513458252
                  ],
                  "xaxis": "x",
                  "y": [
                    -785864.5567938648,
                    454740.86398150027,
                    568181.8555661403,
                    1088834.5548827592,
                    1127154.3014005981,
                    1312707.0070304219,
                    1435563.8188259602,
                    1574877.4421341643,
                    2361615.827627538,
                    2525911.4191600718,
                    2546934.88294336,
                    2813186.328071641,
                    2910331.0657407567,
                    2917596.5365474783,
                    3138647.253942305,
                    3349653.3347568642,
                    3395533.1129928064,
                    3445037.687722791,
                    3840897.5763913784,
                    3875713.389465712,
                    4081457.9581273887,
                    4454575.061633576,
                    4806903.241375826,
                    5308169.9453956075,
                    6158823.05262075,
                    6521483.038456313
                  ],
                  "yaxis": "y"
                },
                {
                  "customdata": [
                    [
                      "sarcoidoses",
                      "EleutherAI/pythia-160m-deduped"
                    ],
                    [
                      "sarcoidoses",
                      "EleutherAI/pythia-410m-deduped"
                    ],
                    [
                      "ulcerative colitis",
                      "EleutherAI/pythia-160m-deduped"
                    ],
                    [
                      "ulcerative colitis",
                      "EleutherAI/pythia-410m-deduped"
                    ],
                    [
                      "hiv/aids",
                      "EleutherAI/pythia-160m-deduped"
                    ],
                    [
                      "hiv/aids",
                      "EleutherAI/pythia-410m-deduped"
                    ],
                    [
                      "covid-19",
                      "EleutherAI/pythia-160m-deduped"
                    ],
                    [
                      "covid-19",
                      "EleutherAI/pythia-410m-deduped"
                    ],
                    [
                      "takotsubo cardiomyopathy",
                      "EleutherAI/pythia-160m-deduped"
                    ],
                    [
                      "takotsubo cardiomyopathy",
                      "EleutherAI/pythia-410m-deduped"
                    ],
                    [
                      "tuberculoses",
                      "EleutherAI/pythia-160m-deduped"
                    ],
                    [
                      "tuberculoses",
                      "EleutherAI/pythia-410m-deduped"
                    ],
                    [
                      "endocarditis",
                      "EleutherAI/pythia-160m-deduped"
                    ],
                    [
                      "endocarditis",
                      "EleutherAI/pythia-410m-deduped"
                    ],
                    [
                      "syphilis",
                      "EleutherAI/pythia-160m-deduped"
                    ],
                    [
                      "syphilis",
                      "EleutherAI/pythia-410m-deduped"
                    ],
                    [
                      "hypertension",
                      "EleutherAI/pythia-160m-deduped"
                    ],
                    [
                      "hypertension",
                      "EleutherAI/pythia-410m-deduped"
                    ],
                    [
                      "hepatitis b",
                      "EleutherAI/pythia-160m-deduped"
                    ],
                    [
                      "hepatitis b",
                      "EleutherAI/pythia-410m-deduped"
                    ],
                    [
                      "crohn’s disease",
                      "EleutherAI/pythia-160m-deduped"
                    ],
                    [
                      "crohn’s disease",
                      "EleutherAI/pythia-410m-deduped"
                    ],
                    [
                      "chagas disease",
                      "EleutherAI/pythia-160m-deduped"
                    ],
                    [
                      "chagas disease",
                      "EleutherAI/pythia-410m-deduped"
                    ],
                    [
                      "menstruation",
                      "EleutherAI/pythia-160m-deduped"
                    ],
                    [
                      "menstruation",
                      "EleutherAI/pythia-410m-deduped"
                    ]
                  ],
                  "hovertemplate": "demographic=black<br>Logit Value=%{x}<br>Co-Occurrence Count (log scale)=%{y}<br>disease=%{customdata[0]}<br>model_name=%{customdata[1]}<extra></extra>",
                  "legendgroup": "black",
                  "marker": {
                    "color": "#19d3f3",
                    "line": {
                      "color": "DarkSlateGrey",
                      "width": 2
                    },
                    "size": 10,
                    "symbol": "circle"
                  },
                  "mode": "markers",
                  "name": "black",
                  "orientation": "v",
                  "showlegend": true,
                  "type": "scatter",
                  "x": [
                    -100.44542217254639,
                    -103.26168251037598,
                    -97.66984272003174,
                    -103.86236190795898,
                    -112.3484296798706,
                    -120.45373725891113,
                    -99.68506622314453,
                    -114.51868629455566,
                    -116.20813465118408,
                    -119.93147373199463,
                    -101.51718235015869,
                    -105.41179370880127,
                    -92.69742012023926,
                    -106.90979480743408,
                    -103.62659358978271,
                    -115.2961654663086,
                    -78.54843473434448,
                    -80.48495721817017,
                    -87.09769487380981,
                    -99.96007966995239,
                    -113.96957111358643,
                    -129.23352241516113,
                    -95.6659049987793,
                    -105.96338176727295,
                    -90.6215410232544,
                    -96.75367832183838
                  ],
                  "xaxis": "x",
                  "y": [
                    200267,
                    200267,
                    839491,
                    839491,
                    2721279,
                    2721279,
                    1266210,
                    1266210,
                    70313,
                    70313,
                    6121352,
                    6121352,
                    776544,
                    776544,
                    3614796,
                    3614796,
                    10540398,
                    10540398,
                    1193712,
                    1193712,
                    463083,
                    463083,
                    169900,
                    169900,
                    1559160,
                    1559160
                  ],
                  "yaxis": "y"
                },
                {
                  "hovertemplate": "<b>OLS trendline</b><br>mention_count = 116074 * logit_value + 1.42908e+07<br>R<sup>2</sup>=0.230932<br><br>demographic=black<br>Logit Value=%{x}<br>Co-Occurrence Count (log scale)=%{y} <b>(trend)</b><extra></extra>",
                  "legendgroup": "black",
                  "marker": {
                    "color": "#19d3f3",
                    "symbol": "circle"
                  },
                  "mode": "lines",
                  "name": "black",
                  "showlegend": false,
                  "type": "scatter",
                  "x": [
                    -129.23352241516113,
                    -120.45373725891113,
                    -119.93147373199463,
                    -116.20813465118408,
                    -115.2961654663086,
                    -114.51868629455566,
                    -113.96957111358643,
                    -112.3484296798706,
                    -106.90979480743408,
                    -105.96338176727295,
                    -105.41179370880127,
                    -103.86236190795898,
                    -103.62659358978271,
                    -103.26168251037598,
                    -101.51718235015869,
                    -100.44542217254639,
                    -99.96007966995239,
                    -99.68506622314453,
                    -97.66984272003174,
                    -96.75367832183838,
                    -95.6659049987793,
                    -92.69742012023926,
                    -90.6215410232544,
                    -87.09769487380981,
                    -80.48495721817017,
                    -78.54843473434448
                  ],
                  "xaxis": "x",
                  "y": [
                    -709862.834243305,
                    309245.2279263381,
                    369866.6396563146,
                    802050.8910834901,
                    907907.1429412346,
                    998152.5507731512,
                    1061890.751426857,
                    1250063.7278283313,
                    1881349.8637711331,
                    1991204.1645548027,
                    2055229.402915543,
                    2235078.728601644,
                    2262445.3884437215,
                    2304802.2133978847,
                    2507293.9767035153,
                    2631697.8679467477,
                    2688033.694906594,
                    2719955.708470609,
                    2953871.514216041,
                    3060214.722831687,
                    3186477.329901682,
                    3531042.352656858,
                    3771998.7184650507,
                    4181026.952850489,
                    4948596.333870916,
                    5173376.968102571
                  ],
                  "yaxis": "y"
                }
              ],
              "layout": {
                "hovermode": "closest",
                "legend": {
                  "title": {
                    "text": "Demographic"
                  },
                  "tracegroupgap": 0
                },
                "template": {
                  "data": {
                    "bar": [
                      {
                        "error_x": {
                          "color": "#2a3f5f"
                        },
                        "error_y": {
                          "color": "#2a3f5f"
                        },
                        "marker": {
                          "line": {
                            "color": "#E5ECF6",
                            "width": 0.5
                          },
                          "pattern": {
                            "fillmode": "overlay",
                            "size": 10,
                            "solidity": 0.2
                          }
                        },
                        "type": "bar"
                      }
                    ],
                    "barpolar": [
                      {
                        "marker": {
                          "line": {
                            "color": "#E5ECF6",
                            "width": 0.5
                          },
                          "pattern": {
                            "fillmode": "overlay",
                            "size": 10,
                            "solidity": 0.2
                          }
                        },
                        "type": "barpolar"
                      }
                    ],
                    "carpet": [
                      {
                        "aaxis": {
                          "endlinecolor": "#2a3f5f",
                          "gridcolor": "white",
                          "linecolor": "white",
                          "minorgridcolor": "white",
                          "startlinecolor": "#2a3f5f"
                        },
                        "baxis": {
                          "endlinecolor": "#2a3f5f",
                          "gridcolor": "white",
                          "linecolor": "white",
                          "minorgridcolor": "white",
                          "startlinecolor": "#2a3f5f"
                        },
                        "type": "carpet"
                      }
                    ],
                    "choropleth": [
                      {
                        "colorbar": {
                          "outlinewidth": 0,
                          "ticks": ""
                        },
                        "type": "choropleth"
                      }
                    ],
                    "contour": [
                      {
                        "colorbar": {
                          "outlinewidth": 0,
                          "ticks": ""
                        },
                        "colorscale": [
                          [
                            0,
                            "#0d0887"
                          ],
                          [
                            0.1111111111111111,
                            "#46039f"
                          ],
                          [
                            0.2222222222222222,
                            "#7201a8"
                          ],
                          [
                            0.3333333333333333,
                            "#9c179e"
                          ],
                          [
                            0.4444444444444444,
                            "#bd3786"
                          ],
                          [
                            0.5555555555555556,
                            "#d8576b"
                          ],
                          [
                            0.6666666666666666,
                            "#ed7953"
                          ],
                          [
                            0.7777777777777778,
                            "#fb9f3a"
                          ],
                          [
                            0.8888888888888888,
                            "#fdca26"
                          ],
                          [
                            1,
                            "#f0f921"
                          ]
                        ],
                        "type": "contour"
                      }
                    ],
                    "contourcarpet": [
                      {
                        "colorbar": {
                          "outlinewidth": 0,
                          "ticks": ""
                        },
                        "type": "contourcarpet"
                      }
                    ],
                    "heatmap": [
                      {
                        "colorbar": {
                          "outlinewidth": 0,
                          "ticks": ""
                        },
                        "colorscale": [
                          [
                            0,
                            "#0d0887"
                          ],
                          [
                            0.1111111111111111,
                            "#46039f"
                          ],
                          [
                            0.2222222222222222,
                            "#7201a8"
                          ],
                          [
                            0.3333333333333333,
                            "#9c179e"
                          ],
                          [
                            0.4444444444444444,
                            "#bd3786"
                          ],
                          [
                            0.5555555555555556,
                            "#d8576b"
                          ],
                          [
                            0.6666666666666666,
                            "#ed7953"
                          ],
                          [
                            0.7777777777777778,
                            "#fb9f3a"
                          ],
                          [
                            0.8888888888888888,
                            "#fdca26"
                          ],
                          [
                            1,
                            "#f0f921"
                          ]
                        ],
                        "type": "heatmap"
                      }
                    ],
                    "heatmapgl": [
                      {
                        "colorbar": {
                          "outlinewidth": 0,
                          "ticks": ""
                        },
                        "colorscale": [
                          [
                            0,
                            "#0d0887"
                          ],
                          [
                            0.1111111111111111,
                            "#46039f"
                          ],
                          [
                            0.2222222222222222,
                            "#7201a8"
                          ],
                          [
                            0.3333333333333333,
                            "#9c179e"
                          ],
                          [
                            0.4444444444444444,
                            "#bd3786"
                          ],
                          [
                            0.5555555555555556,
                            "#d8576b"
                          ],
                          [
                            0.6666666666666666,
                            "#ed7953"
                          ],
                          [
                            0.7777777777777778,
                            "#fb9f3a"
                          ],
                          [
                            0.8888888888888888,
                            "#fdca26"
                          ],
                          [
                            1,
                            "#f0f921"
                          ]
                        ],
                        "type": "heatmapgl"
                      }
                    ],
                    "histogram": [
                      {
                        "marker": {
                          "pattern": {
                            "fillmode": "overlay",
                            "size": 10,
                            "solidity": 0.2
                          }
                        },
                        "type": "histogram"
                      }
                    ],
                    "histogram2d": [
                      {
                        "colorbar": {
                          "outlinewidth": 0,
                          "ticks": ""
                        },
                        "colorscale": [
                          [
                            0,
                            "#0d0887"
                          ],
                          [
                            0.1111111111111111,
                            "#46039f"
                          ],
                          [
                            0.2222222222222222,
                            "#7201a8"
                          ],
                          [
                            0.3333333333333333,
                            "#9c179e"
                          ],
                          [
                            0.4444444444444444,
                            "#bd3786"
                          ],
                          [
                            0.5555555555555556,
                            "#d8576b"
                          ],
                          [
                            0.6666666666666666,
                            "#ed7953"
                          ],
                          [
                            0.7777777777777778,
                            "#fb9f3a"
                          ],
                          [
                            0.8888888888888888,
                            "#fdca26"
                          ],
                          [
                            1,
                            "#f0f921"
                          ]
                        ],
                        "type": "histogram2d"
                      }
                    ],
                    "histogram2dcontour": [
                      {
                        "colorbar": {
                          "outlinewidth": 0,
                          "ticks": ""
                        },
                        "colorscale": [
                          [
                            0,
                            "#0d0887"
                          ],
                          [
                            0.1111111111111111,
                            "#46039f"
                          ],
                          [
                            0.2222222222222222,
                            "#7201a8"
                          ],
                          [
                            0.3333333333333333,
                            "#9c179e"
                          ],
                          [
                            0.4444444444444444,
                            "#bd3786"
                          ],
                          [
                            0.5555555555555556,
                            "#d8576b"
                          ],
                          [
                            0.6666666666666666,
                            "#ed7953"
                          ],
                          [
                            0.7777777777777778,
                            "#fb9f3a"
                          ],
                          [
                            0.8888888888888888,
                            "#fdca26"
                          ],
                          [
                            1,
                            "#f0f921"
                          ]
                        ],
                        "type": "histogram2dcontour"
                      }
                    ],
                    "mesh3d": [
                      {
                        "colorbar": {
                          "outlinewidth": 0,
                          "ticks": ""
                        },
                        "type": "mesh3d"
                      }
                    ],
                    "parcoords": [
                      {
                        "line": {
                          "colorbar": {
                            "outlinewidth": 0,
                            "ticks": ""
                          }
                        },
                        "type": "parcoords"
                      }
                    ],
                    "pie": [
                      {
                        "automargin": true,
                        "type": "pie"
                      }
                    ],
                    "scatter": [
                      {
                        "fillpattern": {
                          "fillmode": "overlay",
                          "size": 10,
                          "solidity": 0.2
                        },
                        "type": "scatter"
                      }
                    ],
                    "scatter3d": [
                      {
                        "line": {
                          "colorbar": {
                            "outlinewidth": 0,
                            "ticks": ""
                          }
                        },
                        "marker": {
                          "colorbar": {
                            "outlinewidth": 0,
                            "ticks": ""
                          }
                        },
                        "type": "scatter3d"
                      }
                    ],
                    "scattercarpet": [
                      {
                        "marker": {
                          "colorbar": {
                            "outlinewidth": 0,
                            "ticks": ""
                          }
                        },
                        "type": "scattercarpet"
                      }
                    ],
                    "scattergeo": [
                      {
                        "marker": {
                          "colorbar": {
                            "outlinewidth": 0,
                            "ticks": ""
                          }
                        },
                        "type": "scattergeo"
                      }
                    ],
                    "scattergl": [
                      {
                        "marker": {
                          "colorbar": {
                            "outlinewidth": 0,
                            "ticks": ""
                          }
                        },
                        "type": "scattergl"
                      }
                    ],
                    "scattermapbox": [
                      {
                        "marker": {
                          "colorbar": {
                            "outlinewidth": 0,
                            "ticks": ""
                          }
                        },
                        "type": "scattermapbox"
                      }
                    ],
                    "scatterpolar": [
                      {
                        "marker": {
                          "colorbar": {
                            "outlinewidth": 0,
                            "ticks": ""
                          }
                        },
                        "type": "scatterpolar"
                      }
                    ],
                    "scatterpolargl": [
                      {
                        "marker": {
                          "colorbar": {
                            "outlinewidth": 0,
                            "ticks": ""
                          }
                        },
                        "type": "scatterpolargl"
                      }
                    ],
                    "scatterternary": [
                      {
                        "marker": {
                          "colorbar": {
                            "outlinewidth": 0,
                            "ticks": ""
                          }
                        },
                        "type": "scatterternary"
                      }
                    ],
                    "surface": [
                      {
                        "colorbar": {
                          "outlinewidth": 0,
                          "ticks": ""
                        },
                        "colorscale": [
                          [
                            0,
                            "#0d0887"
                          ],
                          [
                            0.1111111111111111,
                            "#46039f"
                          ],
                          [
                            0.2222222222222222,
                            "#7201a8"
                          ],
                          [
                            0.3333333333333333,
                            "#9c179e"
                          ],
                          [
                            0.4444444444444444,
                            "#bd3786"
                          ],
                          [
                            0.5555555555555556,
                            "#d8576b"
                          ],
                          [
                            0.6666666666666666,
                            "#ed7953"
                          ],
                          [
                            0.7777777777777778,
                            "#fb9f3a"
                          ],
                          [
                            0.8888888888888888,
                            "#fdca26"
                          ],
                          [
                            1,
                            "#f0f921"
                          ]
                        ],
                        "type": "surface"
                      }
                    ],
                    "table": [
                      {
                        "cells": {
                          "fill": {
                            "color": "#EBF0F8"
                          },
                          "line": {
                            "color": "white"
                          }
                        },
                        "header": {
                          "fill": {
                            "color": "#C8D4E3"
                          },
                          "line": {
                            "color": "white"
                          }
                        },
                        "type": "table"
                      }
                    ]
                  },
                  "layout": {
                    "annotationdefaults": {
                      "arrowcolor": "#2a3f5f",
                      "arrowhead": 0,
                      "arrowwidth": 1
                    },
                    "autotypenumbers": "strict",
                    "coloraxis": {
                      "colorbar": {
                        "outlinewidth": 0,
                        "ticks": ""
                      }
                    },
                    "colorscale": {
                      "diverging": [
                        [
                          0,
                          "#8e0152"
                        ],
                        [
                          0.1,
                          "#c51b7d"
                        ],
                        [
                          0.2,
                          "#de77ae"
                        ],
                        [
                          0.3,
                          "#f1b6da"
                        ],
                        [
                          0.4,
                          "#fde0ef"
                        ],
                        [
                          0.5,
                          "#f7f7f7"
                        ],
                        [
                          0.6,
                          "#e6f5d0"
                        ],
                        [
                          0.7,
                          "#b8e186"
                        ],
                        [
                          0.8,
                          "#7fbc41"
                        ],
                        [
                          0.9,
                          "#4d9221"
                        ],
                        [
                          1,
                          "#276419"
                        ]
                      ],
                      "sequential": [
                        [
                          0,
                          "#0d0887"
                        ],
                        [
                          0.1111111111111111,
                          "#46039f"
                        ],
                        [
                          0.2222222222222222,
                          "#7201a8"
                        ],
                        [
                          0.3333333333333333,
                          "#9c179e"
                        ],
                        [
                          0.4444444444444444,
                          "#bd3786"
                        ],
                        [
                          0.5555555555555556,
                          "#d8576b"
                        ],
                        [
                          0.6666666666666666,
                          "#ed7953"
                        ],
                        [
                          0.7777777777777778,
                          "#fb9f3a"
                        ],
                        [
                          0.8888888888888888,
                          "#fdca26"
                        ],
                        [
                          1,
                          "#f0f921"
                        ]
                      ],
                      "sequentialminus": [
                        [
                          0,
                          "#0d0887"
                        ],
                        [
                          0.1111111111111111,
                          "#46039f"
                        ],
                        [
                          0.2222222222222222,
                          "#7201a8"
                        ],
                        [
                          0.3333333333333333,
                          "#9c179e"
                        ],
                        [
                          0.4444444444444444,
                          "#bd3786"
                        ],
                        [
                          0.5555555555555556,
                          "#d8576b"
                        ],
                        [
                          0.6666666666666666,
                          "#ed7953"
                        ],
                        [
                          0.7777777777777778,
                          "#fb9f3a"
                        ],
                        [
                          0.8888888888888888,
                          "#fdca26"
                        ],
                        [
                          1,
                          "#f0f921"
                        ]
                      ]
                    },
                    "colorway": [
                      "#636efa",
                      "#EF553B",
                      "#00cc96",
                      "#ab63fa",
                      "#FFA15A",
                      "#19d3f3",
                      "#FF6692",
                      "#B6E880",
                      "#FF97FF",
                      "#FECB52"
                    ],
                    "font": {
                      "color": "#2a3f5f"
                    },
                    "geo": {
                      "bgcolor": "white",
                      "lakecolor": "white",
                      "landcolor": "#E5ECF6",
                      "showlakes": true,
                      "showland": true,
                      "subunitcolor": "white"
                    },
                    "hoverlabel": {
                      "align": "left"
                    },
                    "hovermode": "closest",
                    "mapbox": {
                      "style": "light"
                    },
                    "paper_bgcolor": "white",
                    "plot_bgcolor": "#E5ECF6",
                    "polar": {
                      "angularaxis": {
                        "gridcolor": "white",
                        "linecolor": "white",
                        "ticks": ""
                      },
                      "bgcolor": "#E5ECF6",
                      "radialaxis": {
                        "gridcolor": "white",
                        "linecolor": "white",
                        "ticks": ""
                      }
                    },
                    "scene": {
                      "xaxis": {
                        "backgroundcolor": "#E5ECF6",
                        "gridcolor": "white",
                        "gridwidth": 2,
                        "linecolor": "white",
                        "showbackground": true,
                        "ticks": "",
                        "zerolinecolor": "white"
                      },
                      "yaxis": {
                        "backgroundcolor": "#E5ECF6",
                        "gridcolor": "white",
                        "gridwidth": 2,
                        "linecolor": "white",
                        "showbackground": true,
                        "ticks": "",
                        "zerolinecolor": "white"
                      },
                      "zaxis": {
                        "backgroundcolor": "#E5ECF6",
                        "gridcolor": "white",
                        "gridwidth": 2,
                        "linecolor": "white",
                        "showbackground": true,
                        "ticks": "",
                        "zerolinecolor": "white"
                      }
                    },
                    "shapedefaults": {
                      "line": {
                        "color": "#2a3f5f"
                      }
                    },
                    "ternary": {
                      "aaxis": {
                        "gridcolor": "white",
                        "linecolor": "white",
                        "ticks": ""
                      },
                      "baxis": {
                        "gridcolor": "white",
                        "linecolor": "white",
                        "ticks": ""
                      },
                      "bgcolor": "#E5ECF6",
                      "caxis": {
                        "gridcolor": "white",
                        "linecolor": "white",
                        "ticks": ""
                      }
                    },
                    "title": {
                      "x": 0.05
                    },
                    "xaxis": {
                      "automargin": true,
                      "gridcolor": "white",
                      "linecolor": "white",
                      "ticks": "",
                      "title": {
                        "standoff": 15
                      },
                      "zerolinecolor": "white",
                      "zerolinewidth": 2
                    },
                    "yaxis": {
                      "automargin": true,
                      "gridcolor": "white",
                      "linecolor": "white",
                      "ticks": "",
                      "title": {
                        "standoff": 15
                      },
                      "zerolinecolor": "white",
                      "zerolinewidth": 2
                    }
                  }
                },
                "title": {
                  "text": "Regression of Logit Values and Pile Co-occurrence Counts by Demographic"
                },
                "xaxis": {
                  "anchor": "y",
                  "domain": [
                    0,
                    1
                  ],
                  "title": {
                    "text": "Logit Value"
                  }
                },
                "yaxis": {
                  "anchor": "x",
                  "domain": [
                    0,
                    1
                  ],
                  "title": {
                    "text": "Co-Occurrence Count (log scale)"
                  },
                  "type": "log"
                }
              }
            }
          },
          "metadata": {},
          "output_type": "display_data"
        }
      ],
      "source": [
        "# Plotting with regression lines for each demographic\n",
        "fig = px.scatter(\n",
        "    combined_df,\n",
        "    x=\"logit_value\",\n",
        "    y=\"mention_count\",\n",
        "    color=\"demographic\",\n",
        "    hover_data=[\"disease\", \"model_name\"],\n",
        "    title=\"Regression of Logit Values and Pile Co-occurrence Counts by Demographic\",\n",
        "    labels={\n",
        "        \"mention_count\": \"Co-Occurrence Count (log scale)\",\n",
        "        \"logit_value\": \"Logit Value\",\n",
        "    },\n",
        "    log_y=True,\n",
        "    trendline=\"ols\",  # This adds an Ordinary Least Squares regression line for each demographic\n",
        ")\n",
        "\n",
        "# Customize for clarity\n",
        "fig.update_traces(\n",
        "    marker=dict(size=10, line=dict(width=2, color=\"DarkSlateGrey\")),\n",
        "    selector=dict(mode=\"markers\"),\n",
        ")\n",
        "fig.update_layout(legend_title_text=\"Demographic\", hovermode=\"closest\")\n",
        "\n",
        "fig.show()"
      ]
    },
    {
      "cell_type": "code",
      "execution_count": 44,
      "metadata": {},
      "outputs": [
        {
          "name": "stderr",
          "output_type": "stream",
          "text": [
            "/home/legionjgally/miniconda3/envs/in_biased_learning/lib/python3.8/site-packages/statsmodels/regression/linear_model.py:1782: RuntimeWarning:\n",
            "\n",
            "divide by zero encountered in scalar divide\n",
            "\n",
            "/home/legionjgally/miniconda3/envs/in_biased_learning/lib/python3.8/site-packages/statsmodels/regression/linear_model.py:1782: RuntimeWarning:\n",
            "\n",
            "divide by zero encountered in scalar divide\n",
            "\n",
            "/home/legionjgally/miniconda3/envs/in_biased_learning/lib/python3.8/site-packages/statsmodels/regression/linear_model.py:1782: RuntimeWarning:\n",
            "\n",
            "invalid value encountered in scalar divide\n",
            "\n",
            "/home/legionjgally/miniconda3/envs/in_biased_learning/lib/python3.8/site-packages/statsmodels/regression/linear_model.py:1782: RuntimeWarning:\n",
            "\n",
            "divide by zero encountered in scalar divide\n",
            "\n",
            "/home/legionjgally/miniconda3/envs/in_biased_learning/lib/python3.8/site-packages/statsmodels/regression/linear_model.py:1782: RuntimeWarning:\n",
            "\n",
            "divide by zero encountered in scalar divide\n",
            "\n",
            "/home/legionjgally/miniconda3/envs/in_biased_learning/lib/python3.8/site-packages/statsmodels/regression/linear_model.py:1782: RuntimeWarning:\n",
            "\n",
            "invalid value encountered in scalar divide\n",
            "\n"
          ]
        },
        {
          "data": {
            "application/vnd.plotly.v1+json": {
              "config": {
                "plotlyServerURL": "https://plot.ly"
              },
              "data": [
                {
                  "customdata": [
                    [
                      "EleutherAI/pythia-160m-deduped"
                    ],
                    [
                      "EleutherAI/pythia-410m-deduped"
                    ]
                  ],
                  "hovertemplate": "demographic=pacific islander<br>Logit Value=%{x}<br>Co-Occurrence Count (log scale)=%{y}<br>model_name=%{customdata[0]}<extra></extra>",
                  "legendgroup": "pacific islander",
                  "marker": {
                    "color": "#636efa",
                    "line": {
                      "color": "DarkSlateGrey",
                      "width": 2
                    },
                    "size": 10,
                    "symbol": "circle"
                  },
                  "mode": "markers",
                  "name": "pacific islander",
                  "orientation": "v",
                  "showlegend": true,
                  "type": "scatter",
                  "x": [
                    -146.93737888336182,
                    -152.79671669006348
                  ],
                  "xaxis": "x",
                  "y": [
                    33654,
                    33654
                  ],
                  "yaxis": "y"
                },
                {
                  "hovertemplate": "<b>OLS trendline</b><br>mention_count = 9.09495e-13 * logit_value + 33654<br>R<sup>2</sup>=-inf<br><br>demographic=pacific islander<br>Logit Value=%{x}<br>Co-Occurrence Count (log scale)=%{y} <b>(trend)</b><extra></extra>",
                  "legendgroup": "pacific islander",
                  "marker": {
                    "color": "#636efa",
                    "symbol": "circle"
                  },
                  "mode": "lines",
                  "name": "pacific islander",
                  "showlegend": false,
                  "type": "scatter",
                  "x": [
                    -152.79671669006348,
                    -146.93737888336182
                  ],
                  "xaxis": "x",
                  "y": [
                    33653.99999999986,
                    33653.99999999987
                  ],
                  "yaxis": "y"
                },
                {
                  "customdata": [
                    [
                      "EleutherAI/pythia-160m-deduped"
                    ],
                    [
                      "EleutherAI/pythia-410m-deduped"
                    ]
                  ],
                  "hovertemplate": "demographic=hispanic<br>Logit Value=%{x}<br>Co-Occurrence Count (log scale)=%{y}<br>model_name=%{customdata[0]}<extra></extra>",
                  "legendgroup": "hispanic",
                  "marker": {
                    "color": "#EF553B",
                    "line": {
                      "color": "DarkSlateGrey",
                      "width": 2
                    },
                    "size": 10,
                    "symbol": "circle"
                  },
                  "mode": "markers",
                  "name": "hispanic",
                  "orientation": "v",
                  "showlegend": true,
                  "type": "scatter",
                  "x": [
                    -128.38807582855225,
                    -131.56243419647217
                  ],
                  "xaxis": "x",
                  "y": [
                    716870,
                    716870
                  ],
                  "yaxis": "y"
                },
                {
                  "hovertemplate": "<b>OLS trendline</b><br>mention_count = 2.91038e-11 * logit_value + 716870<br>R<sup>2</sup>=-inf<br><br>demographic=hispanic<br>Logit Value=%{x}<br>Co-Occurrence Count (log scale)=%{y} <b>(trend)</b><extra></extra>",
                  "legendgroup": "hispanic",
                  "marker": {
                    "color": "#EF553B",
                    "symbol": "circle"
                  },
                  "mode": "lines",
                  "name": "hispanic",
                  "showlegend": false,
                  "type": "scatter",
                  "x": [
                    -131.56243419647217,
                    -128.38807582855225
                  ],
                  "xaxis": "x",
                  "y": [
                    716869.9999999999,
                    716870
                  ],
                  "yaxis": "y"
                },
                {
                  "customdata": [
                    [
                      "EleutherAI/pythia-160m-deduped"
                    ],
                    [
                      "EleutherAI/pythia-410m-deduped"
                    ]
                  ],
                  "hovertemplate": "demographic=asian<br>Logit Value=%{x}<br>Co-Occurrence Count (log scale)=%{y}<br>model_name=%{customdata[0]}<extra></extra>",
                  "legendgroup": "asian",
                  "marker": {
                    "color": "#00cc96",
                    "line": {
                      "color": "DarkSlateGrey",
                      "width": 2
                    },
                    "size": 10,
                    "symbol": "circle"
                  },
                  "mode": "markers",
                  "name": "asian",
                  "orientation": "v",
                  "showlegend": true,
                  "type": "scatter",
                  "x": [
                    -122.71314907073975,
                    -131.05019283294678
                  ],
                  "xaxis": "x",
                  "y": [
                    425718,
                    425718
                  ],
                  "yaxis": "y"
                },
                {
                  "hovertemplate": "<b>OLS trendline</b><br>mention_count = 0 * logit_value + 425718<br>R<sup>2</sup>=nan<br><br>demographic=asian<br>Logit Value=%{x}<br>Co-Occurrence Count (log scale)=%{y} <b>(trend)</b><extra></extra>",
                  "legendgroup": "asian",
                  "marker": {
                    "color": "#00cc96",
                    "symbol": "circle"
                  },
                  "mode": "lines",
                  "name": "asian",
                  "showlegend": false,
                  "type": "scatter",
                  "x": [
                    -131.05019283294678,
                    -122.71314907073975
                  ],
                  "xaxis": "x",
                  "y": [
                    425718,
                    425718
                  ],
                  "yaxis": "y"
                },
                {
                  "customdata": [
                    [
                      "EleutherAI/pythia-160m-deduped"
                    ],
                    [
                      "EleutherAI/pythia-410m-deduped"
                    ]
                  ],
                  "hovertemplate": "demographic=indigenous<br>Logit Value=%{x}<br>Co-Occurrence Count (log scale)=%{y}<br>model_name=%{customdata[0]}<extra></extra>",
                  "legendgroup": "indigenous",
                  "marker": {
                    "color": "#ab63fa",
                    "line": {
                      "color": "DarkSlateGrey",
                      "width": 2
                    },
                    "size": 10,
                    "symbol": "circle"
                  },
                  "mode": "markers",
                  "name": "indigenous",
                  "orientation": "v",
                  "showlegend": true,
                  "type": "scatter",
                  "x": [
                    -119.72464656829834,
                    -124.22201156616211
                  ],
                  "xaxis": "x",
                  "y": [
                    486738,
                    486738
                  ],
                  "yaxis": "y"
                },
                {
                  "hovertemplate": "<b>OLS trendline</b><br>mention_count = 2.91038e-11 * logit_value + 486738<br>R<sup>2</sup>=-inf<br><br>demographic=indigenous<br>Logit Value=%{x}<br>Co-Occurrence Count (log scale)=%{y} <b>(trend)</b><extra></extra>",
                  "legendgroup": "indigenous",
                  "marker": {
                    "color": "#ab63fa",
                    "symbol": "circle"
                  },
                  "mode": "lines",
                  "name": "indigenous",
                  "showlegend": false,
                  "type": "scatter",
                  "x": [
                    -124.22201156616211,
                    -119.72464656829834
                  ],
                  "xaxis": "x",
                  "y": [
                    486737.99999999825,
                    486737.99999999837
                  ],
                  "yaxis": "y"
                },
                {
                  "customdata": [
                    [
                      "EleutherAI/pythia-160m-deduped"
                    ],
                    [
                      "EleutherAI/pythia-410m-deduped"
                    ]
                  ],
                  "hovertemplate": "demographic=white<br>Logit Value=%{x}<br>Co-Occurrence Count (log scale)=%{y}<br>model_name=%{customdata[0]}<extra></extra>",
                  "legendgroup": "white",
                  "marker": {
                    "color": "#FFA15A",
                    "line": {
                      "color": "DarkSlateGrey",
                      "width": 2
                    },
                    "size": 10,
                    "symbol": "circle"
                  },
                  "mode": "markers",
                  "name": "white",
                  "orientation": "v",
                  "showlegend": true,
                  "type": "scatter",
                  "x": [
                    -113.24975299835205,
                    -121.0541296005249
                  ],
                  "xaxis": "x",
                  "y": [
                    3135116,
                    3135116
                  ],
                  "yaxis": "y"
                },
                {
                  "hovertemplate": "<b>OLS trendline</b><br>mention_count = -1.16415e-10 * logit_value + 3.13512e+06<br>R<sup>2</sup>=-inf<br><br>demographic=white<br>Logit Value=%{x}<br>Co-Occurrence Count (log scale)=%{y} <b>(trend)</b><extra></extra>",
                  "legendgroup": "white",
                  "marker": {
                    "color": "#FFA15A",
                    "symbol": "circle"
                  },
                  "mode": "lines",
                  "name": "white",
                  "showlegend": false,
                  "type": "scatter",
                  "x": [
                    -121.0541296005249,
                    -113.24975299835205
                  ],
                  "xaxis": "x",
                  "y": [
                    3135116.0000000065,
                    3135116.0000000056
                  ],
                  "yaxis": "y"
                },
                {
                  "customdata": [
                    [
                      "EleutherAI/pythia-160m-deduped"
                    ],
                    [
                      "EleutherAI/pythia-410m-deduped"
                    ]
                  ],
                  "hovertemplate": "demographic=black<br>Logit Value=%{x}<br>Co-Occurrence Count (log scale)=%{y}<br>model_name=%{customdata[0]}<extra></extra>",
                  "legendgroup": "black",
                  "marker": {
                    "color": "#19d3f3",
                    "line": {
                      "color": "DarkSlateGrey",
                      "width": 2
                    },
                    "size": 10,
                    "symbol": "circle"
                  },
                  "mode": "markers",
                  "name": "black",
                  "orientation": "v",
                  "showlegend": true,
                  "type": "scatter",
                  "x": [
                    -112.3484296798706,
                    -120.45373725891113
                  ],
                  "xaxis": "x",
                  "y": [
                    2721279,
                    2721279
                  ],
                  "yaxis": "y"
                },
                {
                  "hovertemplate": "<b>OLS trendline</b><br>mention_count = 0 * logit_value + 2.72128e+06<br>R<sup>2</sup>=nan<br><br>demographic=black<br>Logit Value=%{x}<br>Co-Occurrence Count (log scale)=%{y} <b>(trend)</b><extra></extra>",
                  "legendgroup": "black",
                  "marker": {
                    "color": "#19d3f3",
                    "symbol": "circle"
                  },
                  "mode": "lines",
                  "name": "black",
                  "showlegend": false,
                  "type": "scatter",
                  "x": [
                    -120.45373725891113,
                    -112.3484296798706
                  ],
                  "xaxis": "x",
                  "y": [
                    2721279,
                    2721279
                  ],
                  "yaxis": "y"
                }
              ],
              "layout": {
                "hovermode": "closest",
                "legend": {
                  "title": {
                    "text": "Demographic"
                  },
                  "tracegroupgap": 0
                },
                "template": {
                  "data": {
                    "bar": [
                      {
                        "error_x": {
                          "color": "#2a3f5f"
                        },
                        "error_y": {
                          "color": "#2a3f5f"
                        },
                        "marker": {
                          "line": {
                            "color": "#E5ECF6",
                            "width": 0.5
                          },
                          "pattern": {
                            "fillmode": "overlay",
                            "size": 10,
                            "solidity": 0.2
                          }
                        },
                        "type": "bar"
                      }
                    ],
                    "barpolar": [
                      {
                        "marker": {
                          "line": {
                            "color": "#E5ECF6",
                            "width": 0.5
                          },
                          "pattern": {
                            "fillmode": "overlay",
                            "size": 10,
                            "solidity": 0.2
                          }
                        },
                        "type": "barpolar"
                      }
                    ],
                    "carpet": [
                      {
                        "aaxis": {
                          "endlinecolor": "#2a3f5f",
                          "gridcolor": "white",
                          "linecolor": "white",
                          "minorgridcolor": "white",
                          "startlinecolor": "#2a3f5f"
                        },
                        "baxis": {
                          "endlinecolor": "#2a3f5f",
                          "gridcolor": "white",
                          "linecolor": "white",
                          "minorgridcolor": "white",
                          "startlinecolor": "#2a3f5f"
                        },
                        "type": "carpet"
                      }
                    ],
                    "choropleth": [
                      {
                        "colorbar": {
                          "outlinewidth": 0,
                          "ticks": ""
                        },
                        "type": "choropleth"
                      }
                    ],
                    "contour": [
                      {
                        "colorbar": {
                          "outlinewidth": 0,
                          "ticks": ""
                        },
                        "colorscale": [
                          [
                            0,
                            "#0d0887"
                          ],
                          [
                            0.1111111111111111,
                            "#46039f"
                          ],
                          [
                            0.2222222222222222,
                            "#7201a8"
                          ],
                          [
                            0.3333333333333333,
                            "#9c179e"
                          ],
                          [
                            0.4444444444444444,
                            "#bd3786"
                          ],
                          [
                            0.5555555555555556,
                            "#d8576b"
                          ],
                          [
                            0.6666666666666666,
                            "#ed7953"
                          ],
                          [
                            0.7777777777777778,
                            "#fb9f3a"
                          ],
                          [
                            0.8888888888888888,
                            "#fdca26"
                          ],
                          [
                            1,
                            "#f0f921"
                          ]
                        ],
                        "type": "contour"
                      }
                    ],
                    "contourcarpet": [
                      {
                        "colorbar": {
                          "outlinewidth": 0,
                          "ticks": ""
                        },
                        "type": "contourcarpet"
                      }
                    ],
                    "heatmap": [
                      {
                        "colorbar": {
                          "outlinewidth": 0,
                          "ticks": ""
                        },
                        "colorscale": [
                          [
                            0,
                            "#0d0887"
                          ],
                          [
                            0.1111111111111111,
                            "#46039f"
                          ],
                          [
                            0.2222222222222222,
                            "#7201a8"
                          ],
                          [
                            0.3333333333333333,
                            "#9c179e"
                          ],
                          [
                            0.4444444444444444,
                            "#bd3786"
                          ],
                          [
                            0.5555555555555556,
                            "#d8576b"
                          ],
                          [
                            0.6666666666666666,
                            "#ed7953"
                          ],
                          [
                            0.7777777777777778,
                            "#fb9f3a"
                          ],
                          [
                            0.8888888888888888,
                            "#fdca26"
                          ],
                          [
                            1,
                            "#f0f921"
                          ]
                        ],
                        "type": "heatmap"
                      }
                    ],
                    "heatmapgl": [
                      {
                        "colorbar": {
                          "outlinewidth": 0,
                          "ticks": ""
                        },
                        "colorscale": [
                          [
                            0,
                            "#0d0887"
                          ],
                          [
                            0.1111111111111111,
                            "#46039f"
                          ],
                          [
                            0.2222222222222222,
                            "#7201a8"
                          ],
                          [
                            0.3333333333333333,
                            "#9c179e"
                          ],
                          [
                            0.4444444444444444,
                            "#bd3786"
                          ],
                          [
                            0.5555555555555556,
                            "#d8576b"
                          ],
                          [
                            0.6666666666666666,
                            "#ed7953"
                          ],
                          [
                            0.7777777777777778,
                            "#fb9f3a"
                          ],
                          [
                            0.8888888888888888,
                            "#fdca26"
                          ],
                          [
                            1,
                            "#f0f921"
                          ]
                        ],
                        "type": "heatmapgl"
                      }
                    ],
                    "histogram": [
                      {
                        "marker": {
                          "pattern": {
                            "fillmode": "overlay",
                            "size": 10,
                            "solidity": 0.2
                          }
                        },
                        "type": "histogram"
                      }
                    ],
                    "histogram2d": [
                      {
                        "colorbar": {
                          "outlinewidth": 0,
                          "ticks": ""
                        },
                        "colorscale": [
                          [
                            0,
                            "#0d0887"
                          ],
                          [
                            0.1111111111111111,
                            "#46039f"
                          ],
                          [
                            0.2222222222222222,
                            "#7201a8"
                          ],
                          [
                            0.3333333333333333,
                            "#9c179e"
                          ],
                          [
                            0.4444444444444444,
                            "#bd3786"
                          ],
                          [
                            0.5555555555555556,
                            "#d8576b"
                          ],
                          [
                            0.6666666666666666,
                            "#ed7953"
                          ],
                          [
                            0.7777777777777778,
                            "#fb9f3a"
                          ],
                          [
                            0.8888888888888888,
                            "#fdca26"
                          ],
                          [
                            1,
                            "#f0f921"
                          ]
                        ],
                        "type": "histogram2d"
                      }
                    ],
                    "histogram2dcontour": [
                      {
                        "colorbar": {
                          "outlinewidth": 0,
                          "ticks": ""
                        },
                        "colorscale": [
                          [
                            0,
                            "#0d0887"
                          ],
                          [
                            0.1111111111111111,
                            "#46039f"
                          ],
                          [
                            0.2222222222222222,
                            "#7201a8"
                          ],
                          [
                            0.3333333333333333,
                            "#9c179e"
                          ],
                          [
                            0.4444444444444444,
                            "#bd3786"
                          ],
                          [
                            0.5555555555555556,
                            "#d8576b"
                          ],
                          [
                            0.6666666666666666,
                            "#ed7953"
                          ],
                          [
                            0.7777777777777778,
                            "#fb9f3a"
                          ],
                          [
                            0.8888888888888888,
                            "#fdca26"
                          ],
                          [
                            1,
                            "#f0f921"
                          ]
                        ],
                        "type": "histogram2dcontour"
                      }
                    ],
                    "mesh3d": [
                      {
                        "colorbar": {
                          "outlinewidth": 0,
                          "ticks": ""
                        },
                        "type": "mesh3d"
                      }
                    ],
                    "parcoords": [
                      {
                        "line": {
                          "colorbar": {
                            "outlinewidth": 0,
                            "ticks": ""
                          }
                        },
                        "type": "parcoords"
                      }
                    ],
                    "pie": [
                      {
                        "automargin": true,
                        "type": "pie"
                      }
                    ],
                    "scatter": [
                      {
                        "fillpattern": {
                          "fillmode": "overlay",
                          "size": 10,
                          "solidity": 0.2
                        },
                        "type": "scatter"
                      }
                    ],
                    "scatter3d": [
                      {
                        "line": {
                          "colorbar": {
                            "outlinewidth": 0,
                            "ticks": ""
                          }
                        },
                        "marker": {
                          "colorbar": {
                            "outlinewidth": 0,
                            "ticks": ""
                          }
                        },
                        "type": "scatter3d"
                      }
                    ],
                    "scattercarpet": [
                      {
                        "marker": {
                          "colorbar": {
                            "outlinewidth": 0,
                            "ticks": ""
                          }
                        },
                        "type": "scattercarpet"
                      }
                    ],
                    "scattergeo": [
                      {
                        "marker": {
                          "colorbar": {
                            "outlinewidth": 0,
                            "ticks": ""
                          }
                        },
                        "type": "scattergeo"
                      }
                    ],
                    "scattergl": [
                      {
                        "marker": {
                          "colorbar": {
                            "outlinewidth": 0,
                            "ticks": ""
                          }
                        },
                        "type": "scattergl"
                      }
                    ],
                    "scattermapbox": [
                      {
                        "marker": {
                          "colorbar": {
                            "outlinewidth": 0,
                            "ticks": ""
                          }
                        },
                        "type": "scattermapbox"
                      }
                    ],
                    "scatterpolar": [
                      {
                        "marker": {
                          "colorbar": {
                            "outlinewidth": 0,
                            "ticks": ""
                          }
                        },
                        "type": "scatterpolar"
                      }
                    ],
                    "scatterpolargl": [
                      {
                        "marker": {
                          "colorbar": {
                            "outlinewidth": 0,
                            "ticks": ""
                          }
                        },
                        "type": "scatterpolargl"
                      }
                    ],
                    "scatterternary": [
                      {
                        "marker": {
                          "colorbar": {
                            "outlinewidth": 0,
                            "ticks": ""
                          }
                        },
                        "type": "scatterternary"
                      }
                    ],
                    "surface": [
                      {
                        "colorbar": {
                          "outlinewidth": 0,
                          "ticks": ""
                        },
                        "colorscale": [
                          [
                            0,
                            "#0d0887"
                          ],
                          [
                            0.1111111111111111,
                            "#46039f"
                          ],
                          [
                            0.2222222222222222,
                            "#7201a8"
                          ],
                          [
                            0.3333333333333333,
                            "#9c179e"
                          ],
                          [
                            0.4444444444444444,
                            "#bd3786"
                          ],
                          [
                            0.5555555555555556,
                            "#d8576b"
                          ],
                          [
                            0.6666666666666666,
                            "#ed7953"
                          ],
                          [
                            0.7777777777777778,
                            "#fb9f3a"
                          ],
                          [
                            0.8888888888888888,
                            "#fdca26"
                          ],
                          [
                            1,
                            "#f0f921"
                          ]
                        ],
                        "type": "surface"
                      }
                    ],
                    "table": [
                      {
                        "cells": {
                          "fill": {
                            "color": "#EBF0F8"
                          },
                          "line": {
                            "color": "white"
                          }
                        },
                        "header": {
                          "fill": {
                            "color": "#C8D4E3"
                          },
                          "line": {
                            "color": "white"
                          }
                        },
                        "type": "table"
                      }
                    ]
                  },
                  "layout": {
                    "annotationdefaults": {
                      "arrowcolor": "#2a3f5f",
                      "arrowhead": 0,
                      "arrowwidth": 1
                    },
                    "autotypenumbers": "strict",
                    "coloraxis": {
                      "colorbar": {
                        "outlinewidth": 0,
                        "ticks": ""
                      }
                    },
                    "colorscale": {
                      "diverging": [
                        [
                          0,
                          "#8e0152"
                        ],
                        [
                          0.1,
                          "#c51b7d"
                        ],
                        [
                          0.2,
                          "#de77ae"
                        ],
                        [
                          0.3,
                          "#f1b6da"
                        ],
                        [
                          0.4,
                          "#fde0ef"
                        ],
                        [
                          0.5,
                          "#f7f7f7"
                        ],
                        [
                          0.6,
                          "#e6f5d0"
                        ],
                        [
                          0.7,
                          "#b8e186"
                        ],
                        [
                          0.8,
                          "#7fbc41"
                        ],
                        [
                          0.9,
                          "#4d9221"
                        ],
                        [
                          1,
                          "#276419"
                        ]
                      ],
                      "sequential": [
                        [
                          0,
                          "#0d0887"
                        ],
                        [
                          0.1111111111111111,
                          "#46039f"
                        ],
                        [
                          0.2222222222222222,
                          "#7201a8"
                        ],
                        [
                          0.3333333333333333,
                          "#9c179e"
                        ],
                        [
                          0.4444444444444444,
                          "#bd3786"
                        ],
                        [
                          0.5555555555555556,
                          "#d8576b"
                        ],
                        [
                          0.6666666666666666,
                          "#ed7953"
                        ],
                        [
                          0.7777777777777778,
                          "#fb9f3a"
                        ],
                        [
                          0.8888888888888888,
                          "#fdca26"
                        ],
                        [
                          1,
                          "#f0f921"
                        ]
                      ],
                      "sequentialminus": [
                        [
                          0,
                          "#0d0887"
                        ],
                        [
                          0.1111111111111111,
                          "#46039f"
                        ],
                        [
                          0.2222222222222222,
                          "#7201a8"
                        ],
                        [
                          0.3333333333333333,
                          "#9c179e"
                        ],
                        [
                          0.4444444444444444,
                          "#bd3786"
                        ],
                        [
                          0.5555555555555556,
                          "#d8576b"
                        ],
                        [
                          0.6666666666666666,
                          "#ed7953"
                        ],
                        [
                          0.7777777777777778,
                          "#fb9f3a"
                        ],
                        [
                          0.8888888888888888,
                          "#fdca26"
                        ],
                        [
                          1,
                          "#f0f921"
                        ]
                      ]
                    },
                    "colorway": [
                      "#636efa",
                      "#EF553B",
                      "#00cc96",
                      "#ab63fa",
                      "#FFA15A",
                      "#19d3f3",
                      "#FF6692",
                      "#B6E880",
                      "#FF97FF",
                      "#FECB52"
                    ],
                    "font": {
                      "color": "#2a3f5f"
                    },
                    "geo": {
                      "bgcolor": "white",
                      "lakecolor": "white",
                      "landcolor": "#E5ECF6",
                      "showlakes": true,
                      "showland": true,
                      "subunitcolor": "white"
                    },
                    "hoverlabel": {
                      "align": "left"
                    },
                    "hovermode": "closest",
                    "mapbox": {
                      "style": "light"
                    },
                    "paper_bgcolor": "white",
                    "plot_bgcolor": "#E5ECF6",
                    "polar": {
                      "angularaxis": {
                        "gridcolor": "white",
                        "linecolor": "white",
                        "ticks": ""
                      },
                      "bgcolor": "#E5ECF6",
                      "radialaxis": {
                        "gridcolor": "white",
                        "linecolor": "white",
                        "ticks": ""
                      }
                    },
                    "scene": {
                      "xaxis": {
                        "backgroundcolor": "#E5ECF6",
                        "gridcolor": "white",
                        "gridwidth": 2,
                        "linecolor": "white",
                        "showbackground": true,
                        "ticks": "",
                        "zerolinecolor": "white"
                      },
                      "yaxis": {
                        "backgroundcolor": "#E5ECF6",
                        "gridcolor": "white",
                        "gridwidth": 2,
                        "linecolor": "white",
                        "showbackground": true,
                        "ticks": "",
                        "zerolinecolor": "white"
                      },
                      "zaxis": {
                        "backgroundcolor": "#E5ECF6",
                        "gridcolor": "white",
                        "gridwidth": 2,
                        "linecolor": "white",
                        "showbackground": true,
                        "ticks": "",
                        "zerolinecolor": "white"
                      }
                    },
                    "shapedefaults": {
                      "line": {
                        "color": "#2a3f5f"
                      }
                    },
                    "ternary": {
                      "aaxis": {
                        "gridcolor": "white",
                        "linecolor": "white",
                        "ticks": ""
                      },
                      "baxis": {
                        "gridcolor": "white",
                        "linecolor": "white",
                        "ticks": ""
                      },
                      "bgcolor": "#E5ECF6",
                      "caxis": {
                        "gridcolor": "white",
                        "linecolor": "white",
                        "ticks": ""
                      }
                    },
                    "title": {
                      "x": 0.05
                    },
                    "xaxis": {
                      "automargin": true,
                      "gridcolor": "white",
                      "linecolor": "white",
                      "ticks": "",
                      "title": {
                        "standoff": 15
                      },
                      "zerolinecolor": "white",
                      "zerolinewidth": 2
                    },
                    "yaxis": {
                      "automargin": true,
                      "gridcolor": "white",
                      "linecolor": "white",
                      "ticks": "",
                      "title": {
                        "standoff": 15
                      },
                      "zerolinecolor": "white",
                      "zerolinewidth": 2
                    }
                  }
                },
                "title": {
                  "text": "Regression of Logit Values and Pile Co-occurrence Counts for hiv/aids"
                },
                "xaxis": {
                  "anchor": "y",
                  "domain": [
                    0,
                    1
                  ],
                  "title": {
                    "text": "Logit Value"
                  }
                },
                "yaxis": {
                  "anchor": "x",
                  "domain": [
                    0,
                    1
                  ],
                  "title": {
                    "text": "Co-Occurrence Count (log scale)"
                  },
                  "type": "log"
                }
              }
            }
          },
          "metadata": {},
          "output_type": "display_data"
        },
        {
          "name": "stderr",
          "output_type": "stream",
          "text": [
            "/home/legionjgally/miniconda3/envs/in_biased_learning/lib/python3.8/site-packages/statsmodels/regression/linear_model.py:1782: RuntimeWarning:\n",
            "\n",
            "divide by zero encountered in scalar divide\n",
            "\n",
            "/home/legionjgally/miniconda3/envs/in_biased_learning/lib/python3.8/site-packages/statsmodels/regression/linear_model.py:1782: RuntimeWarning:\n",
            "\n",
            "divide by zero encountered in scalar divide\n",
            "\n",
            "/home/legionjgally/miniconda3/envs/in_biased_learning/lib/python3.8/site-packages/statsmodels/regression/linear_model.py:1782: RuntimeWarning:\n",
            "\n",
            "divide by zero encountered in scalar divide\n",
            "\n",
            "/home/legionjgally/miniconda3/envs/in_biased_learning/lib/python3.8/site-packages/statsmodels/regression/linear_model.py:1782: RuntimeWarning:\n",
            "\n",
            "divide by zero encountered in scalar divide\n",
            "\n",
            "/home/legionjgally/miniconda3/envs/in_biased_learning/lib/python3.8/site-packages/statsmodels/regression/linear_model.py:1782: RuntimeWarning:\n",
            "\n",
            "divide by zero encountered in scalar divide\n",
            "\n",
            "/home/legionjgally/miniconda3/envs/in_biased_learning/lib/python3.8/site-packages/statsmodels/regression/linear_model.py:1782: RuntimeWarning:\n",
            "\n",
            "divide by zero encountered in scalar divide\n",
            "\n"
          ]
        },
        {
          "data": {
            "application/vnd.plotly.v1+json": {
              "config": {
                "plotlyServerURL": "https://plot.ly"
              },
              "data": [
                {
                  "customdata": [
                    [
                      "EleutherAI/pythia-160m-deduped"
                    ],
                    [
                      "EleutherAI/pythia-410m-deduped"
                    ]
                  ],
                  "hovertemplate": "demographic=pacific islander<br>Logit Value=%{x}<br>Co-Occurrence Count (log scale)=%{y}<br>model_name=%{customdata[0]}<extra></extra>",
                  "legendgroup": "pacific islander",
                  "marker": {
                    "color": "#636efa",
                    "line": {
                      "color": "DarkSlateGrey",
                      "width": 2
                    },
                    "size": 10,
                    "symbol": "circle"
                  },
                  "mode": "markers",
                  "name": "pacific islander",
                  "orientation": "v",
                  "showlegend": true,
                  "type": "scatter",
                  "x": [
                    -134.60574626922607,
                    -146.4412670135498
                  ],
                  "xaxis": "x",
                  "y": [
                    22512,
                    22512
                  ],
                  "yaxis": "y"
                },
                {
                  "hovertemplate": "<b>OLS trendline</b><br>mention_count = 0 * logit_value + 22512<br>R<sup>2</sup>=-inf<br><br>demographic=pacific islander<br>Logit Value=%{x}<br>Co-Occurrence Count (log scale)=%{y} <b>(trend)</b><extra></extra>",
                  "legendgroup": "pacific islander",
                  "marker": {
                    "color": "#636efa",
                    "symbol": "circle"
                  },
                  "mode": "lines",
                  "name": "pacific islander",
                  "showlegend": false,
                  "type": "scatter",
                  "x": [
                    -146.4412670135498,
                    -134.60574626922607
                  ],
                  "xaxis": "x",
                  "y": [
                    22511.99999999997,
                    22511.99999999997
                  ],
                  "yaxis": "y"
                },
                {
                  "customdata": [
                    [
                      "EleutherAI/pythia-160m-deduped"
                    ],
                    [
                      "EleutherAI/pythia-410m-deduped"
                    ]
                  ],
                  "hovertemplate": "demographic=hispanic<br>Logit Value=%{x}<br>Co-Occurrence Count (log scale)=%{y}<br>model_name=%{customdata[0]}<extra></extra>",
                  "legendgroup": "hispanic",
                  "marker": {
                    "color": "#EF553B",
                    "line": {
                      "color": "DarkSlateGrey",
                      "width": 2
                    },
                    "size": 10,
                    "symbol": "circle"
                  },
                  "mode": "markers",
                  "name": "hispanic",
                  "orientation": "v",
                  "showlegend": true,
                  "type": "scatter",
                  "x": [
                    -115.06914043426514,
                    -125.59287071228027
                  ],
                  "xaxis": "x",
                  "y": [
                    374620,
                    374620
                  ],
                  "yaxis": "y"
                },
                {
                  "hovertemplate": "<b>OLS trendline</b><br>mention_count = 7.27596e-12 * logit_value + 374620<br>R<sup>2</sup>=-inf<br><br>demographic=hispanic<br>Logit Value=%{x}<br>Co-Occurrence Count (log scale)=%{y} <b>(trend)</b><extra></extra>",
                  "legendgroup": "hispanic",
                  "marker": {
                    "color": "#EF553B",
                    "symbol": "circle"
                  },
                  "mode": "lines",
                  "name": "hispanic",
                  "showlegend": false,
                  "type": "scatter",
                  "x": [
                    -125.59287071228027,
                    -115.06914043426514
                  ],
                  "xaxis": "x",
                  "y": [
                    374619.99999999953,
                    374619.99999999965
                  ],
                  "yaxis": "y"
                },
                {
                  "customdata": [
                    [
                      "EleutherAI/pythia-160m-deduped"
                    ],
                    [
                      "EleutherAI/pythia-410m-deduped"
                    ]
                  ],
                  "hovertemplate": "demographic=asian<br>Logit Value=%{x}<br>Co-Occurrence Count (log scale)=%{y}<br>model_name=%{customdata[0]}<extra></extra>",
                  "legendgroup": "asian",
                  "marker": {
                    "color": "#00cc96",
                    "line": {
                      "color": "DarkSlateGrey",
                      "width": 2
                    },
                    "size": 10,
                    "symbol": "circle"
                  },
                  "mode": "markers",
                  "name": "asian",
                  "orientation": "v",
                  "showlegend": true,
                  "type": "scatter",
                  "x": [
                    -109.56216526031494,
                    -125.6017074584961
                  ],
                  "xaxis": "x",
                  "y": [
                    282258,
                    282258
                  ],
                  "yaxis": "y"
                },
                {
                  "hovertemplate": "<b>OLS trendline</b><br>mention_count = 0 * logit_value + 282258<br>R<sup>2</sup>=-inf<br><br>demographic=asian<br>Logit Value=%{x}<br>Co-Occurrence Count (log scale)=%{y} <b>(trend)</b><extra></extra>",
                  "legendgroup": "asian",
                  "marker": {
                    "color": "#00cc96",
                    "symbol": "circle"
                  },
                  "mode": "lines",
                  "name": "asian",
                  "showlegend": false,
                  "type": "scatter",
                  "x": [
                    -125.6017074584961,
                    -109.56216526031494
                  ],
                  "xaxis": "x",
                  "y": [
                    282257.99999999977,
                    282257.99999999977
                  ],
                  "yaxis": "y"
                },
                {
                  "customdata": [
                    [
                      "EleutherAI/pythia-160m-deduped"
                    ],
                    [
                      "EleutherAI/pythia-410m-deduped"
                    ]
                  ],
                  "hovertemplate": "demographic=indigenous<br>Logit Value=%{x}<br>Co-Occurrence Count (log scale)=%{y}<br>model_name=%{customdata[0]}<extra></extra>",
                  "legendgroup": "indigenous",
                  "marker": {
                    "color": "#ab63fa",
                    "line": {
                      "color": "DarkSlateGrey",
                      "width": 2
                    },
                    "size": 10,
                    "symbol": "circle"
                  },
                  "mode": "markers",
                  "name": "indigenous",
                  "orientation": "v",
                  "showlegend": true,
                  "type": "scatter",
                  "x": [
                    -106.34312057495117,
                    -117.84807682037354
                  ],
                  "xaxis": "x",
                  "y": [
                    217275,
                    217275
                  ],
                  "yaxis": "y"
                },
                {
                  "hovertemplate": "<b>OLS trendline</b><br>mention_count = 0 * logit_value + 217275<br>R<sup>2</sup>=-inf<br><br>demographic=indigenous<br>Logit Value=%{x}<br>Co-Occurrence Count (log scale)=%{y} <b>(trend)</b><extra></extra>",
                  "legendgroup": "indigenous",
                  "marker": {
                    "color": "#ab63fa",
                    "symbol": "circle"
                  },
                  "mode": "lines",
                  "name": "indigenous",
                  "showlegend": false,
                  "type": "scatter",
                  "x": [
                    -117.84807682037354,
                    -106.34312057495117
                  ],
                  "xaxis": "x",
                  "y": [
                    217274.99999999953,
                    217274.99999999953
                  ],
                  "yaxis": "y"
                },
                {
                  "customdata": [
                    [
                      "EleutherAI/pythia-160m-deduped"
                    ],
                    [
                      "EleutherAI/pythia-410m-deduped"
                    ]
                  ],
                  "hovertemplate": "demographic=white<br>Logit Value=%{x}<br>Co-Occurrence Count (log scale)=%{y}<br>model_name=%{customdata[0]}<extra></extra>",
                  "legendgroup": "white",
                  "marker": {
                    "color": "#FFA15A",
                    "line": {
                      "color": "DarkSlateGrey",
                      "width": 2
                    },
                    "size": 10,
                    "symbol": "circle"
                  },
                  "mode": "markers",
                  "name": "white",
                  "orientation": "v",
                  "showlegend": true,
                  "type": "scatter",
                  "x": [
                    -100.56461906433105,
                    -115.07638454437256
                  ],
                  "xaxis": "x",
                  "y": [
                    1597111,
                    1597111
                  ],
                  "yaxis": "y"
                },
                {
                  "hovertemplate": "<b>OLS trendline</b><br>mention_count = 0 * logit_value + 1.59711e+06<br>R<sup>2</sup>=-inf<br><br>demographic=white<br>Logit Value=%{x}<br>Co-Occurrence Count (log scale)=%{y} <b>(trend)</b><extra></extra>",
                  "legendgroup": "white",
                  "marker": {
                    "color": "#FFA15A",
                    "symbol": "circle"
                  },
                  "mode": "lines",
                  "name": "white",
                  "showlegend": false,
                  "type": "scatter",
                  "x": [
                    -115.07638454437256,
                    -100.56461906433105
                  ],
                  "xaxis": "x",
                  "y": [
                    1597110.9999999981,
                    1597110.9999999981
                  ],
                  "yaxis": "y"
                },
                {
                  "customdata": [
                    [
                      "EleutherAI/pythia-160m-deduped"
                    ],
                    [
                      "EleutherAI/pythia-410m-deduped"
                    ]
                  ],
                  "hovertemplate": "demographic=black<br>Logit Value=%{x}<br>Co-Occurrence Count (log scale)=%{y}<br>model_name=%{customdata[0]}<extra></extra>",
                  "legendgroup": "black",
                  "marker": {
                    "color": "#19d3f3",
                    "line": {
                      "color": "DarkSlateGrey",
                      "width": 2
                    },
                    "size": 10,
                    "symbol": "circle"
                  },
                  "mode": "markers",
                  "name": "black",
                  "orientation": "v",
                  "showlegend": true,
                  "type": "scatter",
                  "x": [
                    -99.68506622314453,
                    -114.51868629455566
                  ],
                  "xaxis": "x",
                  "y": [
                    1266210,
                    1266210
                  ],
                  "yaxis": "y"
                },
                {
                  "hovertemplate": "<b>OLS trendline</b><br>mention_count = -1.45519e-11 * logit_value + 1.26621e+06<br>R<sup>2</sup>=-inf<br><br>demographic=black<br>Logit Value=%{x}<br>Co-Occurrence Count (log scale)=%{y} <b>(trend)</b><extra></extra>",
                  "legendgroup": "black",
                  "marker": {
                    "color": "#19d3f3",
                    "symbol": "circle"
                  },
                  "mode": "lines",
                  "name": "black",
                  "showlegend": false,
                  "type": "scatter",
                  "x": [
                    -114.51868629455566,
                    -99.68506622314453
                  ],
                  "xaxis": "x",
                  "y": [
                    1266210.0000000016,
                    1266210.0000000014
                  ],
                  "yaxis": "y"
                }
              ],
              "layout": {
                "hovermode": "closest",
                "legend": {
                  "title": {
                    "text": "Demographic"
                  },
                  "tracegroupgap": 0
                },
                "template": {
                  "data": {
                    "bar": [
                      {
                        "error_x": {
                          "color": "#2a3f5f"
                        },
                        "error_y": {
                          "color": "#2a3f5f"
                        },
                        "marker": {
                          "line": {
                            "color": "#E5ECF6",
                            "width": 0.5
                          },
                          "pattern": {
                            "fillmode": "overlay",
                            "size": 10,
                            "solidity": 0.2
                          }
                        },
                        "type": "bar"
                      }
                    ],
                    "barpolar": [
                      {
                        "marker": {
                          "line": {
                            "color": "#E5ECF6",
                            "width": 0.5
                          },
                          "pattern": {
                            "fillmode": "overlay",
                            "size": 10,
                            "solidity": 0.2
                          }
                        },
                        "type": "barpolar"
                      }
                    ],
                    "carpet": [
                      {
                        "aaxis": {
                          "endlinecolor": "#2a3f5f",
                          "gridcolor": "white",
                          "linecolor": "white",
                          "minorgridcolor": "white",
                          "startlinecolor": "#2a3f5f"
                        },
                        "baxis": {
                          "endlinecolor": "#2a3f5f",
                          "gridcolor": "white",
                          "linecolor": "white",
                          "minorgridcolor": "white",
                          "startlinecolor": "#2a3f5f"
                        },
                        "type": "carpet"
                      }
                    ],
                    "choropleth": [
                      {
                        "colorbar": {
                          "outlinewidth": 0,
                          "ticks": ""
                        },
                        "type": "choropleth"
                      }
                    ],
                    "contour": [
                      {
                        "colorbar": {
                          "outlinewidth": 0,
                          "ticks": ""
                        },
                        "colorscale": [
                          [
                            0,
                            "#0d0887"
                          ],
                          [
                            0.1111111111111111,
                            "#46039f"
                          ],
                          [
                            0.2222222222222222,
                            "#7201a8"
                          ],
                          [
                            0.3333333333333333,
                            "#9c179e"
                          ],
                          [
                            0.4444444444444444,
                            "#bd3786"
                          ],
                          [
                            0.5555555555555556,
                            "#d8576b"
                          ],
                          [
                            0.6666666666666666,
                            "#ed7953"
                          ],
                          [
                            0.7777777777777778,
                            "#fb9f3a"
                          ],
                          [
                            0.8888888888888888,
                            "#fdca26"
                          ],
                          [
                            1,
                            "#f0f921"
                          ]
                        ],
                        "type": "contour"
                      }
                    ],
                    "contourcarpet": [
                      {
                        "colorbar": {
                          "outlinewidth": 0,
                          "ticks": ""
                        },
                        "type": "contourcarpet"
                      }
                    ],
                    "heatmap": [
                      {
                        "colorbar": {
                          "outlinewidth": 0,
                          "ticks": ""
                        },
                        "colorscale": [
                          [
                            0,
                            "#0d0887"
                          ],
                          [
                            0.1111111111111111,
                            "#46039f"
                          ],
                          [
                            0.2222222222222222,
                            "#7201a8"
                          ],
                          [
                            0.3333333333333333,
                            "#9c179e"
                          ],
                          [
                            0.4444444444444444,
                            "#bd3786"
                          ],
                          [
                            0.5555555555555556,
                            "#d8576b"
                          ],
                          [
                            0.6666666666666666,
                            "#ed7953"
                          ],
                          [
                            0.7777777777777778,
                            "#fb9f3a"
                          ],
                          [
                            0.8888888888888888,
                            "#fdca26"
                          ],
                          [
                            1,
                            "#f0f921"
                          ]
                        ],
                        "type": "heatmap"
                      }
                    ],
                    "heatmapgl": [
                      {
                        "colorbar": {
                          "outlinewidth": 0,
                          "ticks": ""
                        },
                        "colorscale": [
                          [
                            0,
                            "#0d0887"
                          ],
                          [
                            0.1111111111111111,
                            "#46039f"
                          ],
                          [
                            0.2222222222222222,
                            "#7201a8"
                          ],
                          [
                            0.3333333333333333,
                            "#9c179e"
                          ],
                          [
                            0.4444444444444444,
                            "#bd3786"
                          ],
                          [
                            0.5555555555555556,
                            "#d8576b"
                          ],
                          [
                            0.6666666666666666,
                            "#ed7953"
                          ],
                          [
                            0.7777777777777778,
                            "#fb9f3a"
                          ],
                          [
                            0.8888888888888888,
                            "#fdca26"
                          ],
                          [
                            1,
                            "#f0f921"
                          ]
                        ],
                        "type": "heatmapgl"
                      }
                    ],
                    "histogram": [
                      {
                        "marker": {
                          "pattern": {
                            "fillmode": "overlay",
                            "size": 10,
                            "solidity": 0.2
                          }
                        },
                        "type": "histogram"
                      }
                    ],
                    "histogram2d": [
                      {
                        "colorbar": {
                          "outlinewidth": 0,
                          "ticks": ""
                        },
                        "colorscale": [
                          [
                            0,
                            "#0d0887"
                          ],
                          [
                            0.1111111111111111,
                            "#46039f"
                          ],
                          [
                            0.2222222222222222,
                            "#7201a8"
                          ],
                          [
                            0.3333333333333333,
                            "#9c179e"
                          ],
                          [
                            0.4444444444444444,
                            "#bd3786"
                          ],
                          [
                            0.5555555555555556,
                            "#d8576b"
                          ],
                          [
                            0.6666666666666666,
                            "#ed7953"
                          ],
                          [
                            0.7777777777777778,
                            "#fb9f3a"
                          ],
                          [
                            0.8888888888888888,
                            "#fdca26"
                          ],
                          [
                            1,
                            "#f0f921"
                          ]
                        ],
                        "type": "histogram2d"
                      }
                    ],
                    "histogram2dcontour": [
                      {
                        "colorbar": {
                          "outlinewidth": 0,
                          "ticks": ""
                        },
                        "colorscale": [
                          [
                            0,
                            "#0d0887"
                          ],
                          [
                            0.1111111111111111,
                            "#46039f"
                          ],
                          [
                            0.2222222222222222,
                            "#7201a8"
                          ],
                          [
                            0.3333333333333333,
                            "#9c179e"
                          ],
                          [
                            0.4444444444444444,
                            "#bd3786"
                          ],
                          [
                            0.5555555555555556,
                            "#d8576b"
                          ],
                          [
                            0.6666666666666666,
                            "#ed7953"
                          ],
                          [
                            0.7777777777777778,
                            "#fb9f3a"
                          ],
                          [
                            0.8888888888888888,
                            "#fdca26"
                          ],
                          [
                            1,
                            "#f0f921"
                          ]
                        ],
                        "type": "histogram2dcontour"
                      }
                    ],
                    "mesh3d": [
                      {
                        "colorbar": {
                          "outlinewidth": 0,
                          "ticks": ""
                        },
                        "type": "mesh3d"
                      }
                    ],
                    "parcoords": [
                      {
                        "line": {
                          "colorbar": {
                            "outlinewidth": 0,
                            "ticks": ""
                          }
                        },
                        "type": "parcoords"
                      }
                    ],
                    "pie": [
                      {
                        "automargin": true,
                        "type": "pie"
                      }
                    ],
                    "scatter": [
                      {
                        "fillpattern": {
                          "fillmode": "overlay",
                          "size": 10,
                          "solidity": 0.2
                        },
                        "type": "scatter"
                      }
                    ],
                    "scatter3d": [
                      {
                        "line": {
                          "colorbar": {
                            "outlinewidth": 0,
                            "ticks": ""
                          }
                        },
                        "marker": {
                          "colorbar": {
                            "outlinewidth": 0,
                            "ticks": ""
                          }
                        },
                        "type": "scatter3d"
                      }
                    ],
                    "scattercarpet": [
                      {
                        "marker": {
                          "colorbar": {
                            "outlinewidth": 0,
                            "ticks": ""
                          }
                        },
                        "type": "scattercarpet"
                      }
                    ],
                    "scattergeo": [
                      {
                        "marker": {
                          "colorbar": {
                            "outlinewidth": 0,
                            "ticks": ""
                          }
                        },
                        "type": "scattergeo"
                      }
                    ],
                    "scattergl": [
                      {
                        "marker": {
                          "colorbar": {
                            "outlinewidth": 0,
                            "ticks": ""
                          }
                        },
                        "type": "scattergl"
                      }
                    ],
                    "scattermapbox": [
                      {
                        "marker": {
                          "colorbar": {
                            "outlinewidth": 0,
                            "ticks": ""
                          }
                        },
                        "type": "scattermapbox"
                      }
                    ],
                    "scatterpolar": [
                      {
                        "marker": {
                          "colorbar": {
                            "outlinewidth": 0,
                            "ticks": ""
                          }
                        },
                        "type": "scatterpolar"
                      }
                    ],
                    "scatterpolargl": [
                      {
                        "marker": {
                          "colorbar": {
                            "outlinewidth": 0,
                            "ticks": ""
                          }
                        },
                        "type": "scatterpolargl"
                      }
                    ],
                    "scatterternary": [
                      {
                        "marker": {
                          "colorbar": {
                            "outlinewidth": 0,
                            "ticks": ""
                          }
                        },
                        "type": "scatterternary"
                      }
                    ],
                    "surface": [
                      {
                        "colorbar": {
                          "outlinewidth": 0,
                          "ticks": ""
                        },
                        "colorscale": [
                          [
                            0,
                            "#0d0887"
                          ],
                          [
                            0.1111111111111111,
                            "#46039f"
                          ],
                          [
                            0.2222222222222222,
                            "#7201a8"
                          ],
                          [
                            0.3333333333333333,
                            "#9c179e"
                          ],
                          [
                            0.4444444444444444,
                            "#bd3786"
                          ],
                          [
                            0.5555555555555556,
                            "#d8576b"
                          ],
                          [
                            0.6666666666666666,
                            "#ed7953"
                          ],
                          [
                            0.7777777777777778,
                            "#fb9f3a"
                          ],
                          [
                            0.8888888888888888,
                            "#fdca26"
                          ],
                          [
                            1,
                            "#f0f921"
                          ]
                        ],
                        "type": "surface"
                      }
                    ],
                    "table": [
                      {
                        "cells": {
                          "fill": {
                            "color": "#EBF0F8"
                          },
                          "line": {
                            "color": "white"
                          }
                        },
                        "header": {
                          "fill": {
                            "color": "#C8D4E3"
                          },
                          "line": {
                            "color": "white"
                          }
                        },
                        "type": "table"
                      }
                    ]
                  },
                  "layout": {
                    "annotationdefaults": {
                      "arrowcolor": "#2a3f5f",
                      "arrowhead": 0,
                      "arrowwidth": 1
                    },
                    "autotypenumbers": "strict",
                    "coloraxis": {
                      "colorbar": {
                        "outlinewidth": 0,
                        "ticks": ""
                      }
                    },
                    "colorscale": {
                      "diverging": [
                        [
                          0,
                          "#8e0152"
                        ],
                        [
                          0.1,
                          "#c51b7d"
                        ],
                        [
                          0.2,
                          "#de77ae"
                        ],
                        [
                          0.3,
                          "#f1b6da"
                        ],
                        [
                          0.4,
                          "#fde0ef"
                        ],
                        [
                          0.5,
                          "#f7f7f7"
                        ],
                        [
                          0.6,
                          "#e6f5d0"
                        ],
                        [
                          0.7,
                          "#b8e186"
                        ],
                        [
                          0.8,
                          "#7fbc41"
                        ],
                        [
                          0.9,
                          "#4d9221"
                        ],
                        [
                          1,
                          "#276419"
                        ]
                      ],
                      "sequential": [
                        [
                          0,
                          "#0d0887"
                        ],
                        [
                          0.1111111111111111,
                          "#46039f"
                        ],
                        [
                          0.2222222222222222,
                          "#7201a8"
                        ],
                        [
                          0.3333333333333333,
                          "#9c179e"
                        ],
                        [
                          0.4444444444444444,
                          "#bd3786"
                        ],
                        [
                          0.5555555555555556,
                          "#d8576b"
                        ],
                        [
                          0.6666666666666666,
                          "#ed7953"
                        ],
                        [
                          0.7777777777777778,
                          "#fb9f3a"
                        ],
                        [
                          0.8888888888888888,
                          "#fdca26"
                        ],
                        [
                          1,
                          "#f0f921"
                        ]
                      ],
                      "sequentialminus": [
                        [
                          0,
                          "#0d0887"
                        ],
                        [
                          0.1111111111111111,
                          "#46039f"
                        ],
                        [
                          0.2222222222222222,
                          "#7201a8"
                        ],
                        [
                          0.3333333333333333,
                          "#9c179e"
                        ],
                        [
                          0.4444444444444444,
                          "#bd3786"
                        ],
                        [
                          0.5555555555555556,
                          "#d8576b"
                        ],
                        [
                          0.6666666666666666,
                          "#ed7953"
                        ],
                        [
                          0.7777777777777778,
                          "#fb9f3a"
                        ],
                        [
                          0.8888888888888888,
                          "#fdca26"
                        ],
                        [
                          1,
                          "#f0f921"
                        ]
                      ]
                    },
                    "colorway": [
                      "#636efa",
                      "#EF553B",
                      "#00cc96",
                      "#ab63fa",
                      "#FFA15A",
                      "#19d3f3",
                      "#FF6692",
                      "#B6E880",
                      "#FF97FF",
                      "#FECB52"
                    ],
                    "font": {
                      "color": "#2a3f5f"
                    },
                    "geo": {
                      "bgcolor": "white",
                      "lakecolor": "white",
                      "landcolor": "#E5ECF6",
                      "showlakes": true,
                      "showland": true,
                      "subunitcolor": "white"
                    },
                    "hoverlabel": {
                      "align": "left"
                    },
                    "hovermode": "closest",
                    "mapbox": {
                      "style": "light"
                    },
                    "paper_bgcolor": "white",
                    "plot_bgcolor": "#E5ECF6",
                    "polar": {
                      "angularaxis": {
                        "gridcolor": "white",
                        "linecolor": "white",
                        "ticks": ""
                      },
                      "bgcolor": "#E5ECF6",
                      "radialaxis": {
                        "gridcolor": "white",
                        "linecolor": "white",
                        "ticks": ""
                      }
                    },
                    "scene": {
                      "xaxis": {
                        "backgroundcolor": "#E5ECF6",
                        "gridcolor": "white",
                        "gridwidth": 2,
                        "linecolor": "white",
                        "showbackground": true,
                        "ticks": "",
                        "zerolinecolor": "white"
                      },
                      "yaxis": {
                        "backgroundcolor": "#E5ECF6",
                        "gridcolor": "white",
                        "gridwidth": 2,
                        "linecolor": "white",
                        "showbackground": true,
                        "ticks": "",
                        "zerolinecolor": "white"
                      },
                      "zaxis": {
                        "backgroundcolor": "#E5ECF6",
                        "gridcolor": "white",
                        "gridwidth": 2,
                        "linecolor": "white",
                        "showbackground": true,
                        "ticks": "",
                        "zerolinecolor": "white"
                      }
                    },
                    "shapedefaults": {
                      "line": {
                        "color": "#2a3f5f"
                      }
                    },
                    "ternary": {
                      "aaxis": {
                        "gridcolor": "white",
                        "linecolor": "white",
                        "ticks": ""
                      },
                      "baxis": {
                        "gridcolor": "white",
                        "linecolor": "white",
                        "ticks": ""
                      },
                      "bgcolor": "#E5ECF6",
                      "caxis": {
                        "gridcolor": "white",
                        "linecolor": "white",
                        "ticks": ""
                      }
                    },
                    "title": {
                      "x": 0.05
                    },
                    "xaxis": {
                      "automargin": true,
                      "gridcolor": "white",
                      "linecolor": "white",
                      "ticks": "",
                      "title": {
                        "standoff": 15
                      },
                      "zerolinecolor": "white",
                      "zerolinewidth": 2
                    },
                    "yaxis": {
                      "automargin": true,
                      "gridcolor": "white",
                      "linecolor": "white",
                      "ticks": "",
                      "title": {
                        "standoff": 15
                      },
                      "zerolinecolor": "white",
                      "zerolinewidth": 2
                    }
                  }
                },
                "title": {
                  "text": "Regression of Logit Values and Pile Co-occurrence Counts for covid-19"
                },
                "xaxis": {
                  "anchor": "y",
                  "domain": [
                    0,
                    1
                  ],
                  "title": {
                    "text": "Logit Value"
                  }
                },
                "yaxis": {
                  "anchor": "x",
                  "domain": [
                    0,
                    1
                  ],
                  "title": {
                    "text": "Co-Occurrence Count (log scale)"
                  },
                  "type": "log"
                }
              }
            }
          },
          "metadata": {},
          "output_type": "display_data"
        },
        {
          "name": "stderr",
          "output_type": "stream",
          "text": [
            "/home/legionjgally/miniconda3/envs/in_biased_learning/lib/python3.8/site-packages/statsmodels/regression/linear_model.py:1782: RuntimeWarning:\n",
            "\n",
            "divide by zero encountered in scalar divide\n",
            "\n",
            "/home/legionjgally/miniconda3/envs/in_biased_learning/lib/python3.8/site-packages/statsmodels/regression/linear_model.py:1782: RuntimeWarning:\n",
            "\n",
            "divide by zero encountered in scalar divide\n",
            "\n",
            "/home/legionjgally/miniconda3/envs/in_biased_learning/lib/python3.8/site-packages/statsmodels/regression/linear_model.py:1782: RuntimeWarning:\n",
            "\n",
            "divide by zero encountered in scalar divide\n",
            "\n",
            "/home/legionjgally/miniconda3/envs/in_biased_learning/lib/python3.8/site-packages/statsmodels/regression/linear_model.py:1782: RuntimeWarning:\n",
            "\n",
            "divide by zero encountered in scalar divide\n",
            "\n",
            "/home/legionjgally/miniconda3/envs/in_biased_learning/lib/python3.8/site-packages/statsmodels/regression/linear_model.py:1782: RuntimeWarning:\n",
            "\n",
            "divide by zero encountered in scalar divide\n",
            "\n",
            "/home/legionjgally/miniconda3/envs/in_biased_learning/lib/python3.8/site-packages/statsmodels/regression/linear_model.py:1782: RuntimeWarning:\n",
            "\n",
            "invalid value encountered in scalar divide\n",
            "\n"
          ]
        },
        {
          "data": {
            "application/vnd.plotly.v1+json": {
              "config": {
                "plotlyServerURL": "https://plot.ly"
              },
              "data": [
                {
                  "customdata": [
                    [
                      "EleutherAI/pythia-160m-deduped"
                    ],
                    [
                      "EleutherAI/pythia-410m-deduped"
                    ]
                  ],
                  "hovertemplate": "demographic=pacific islander<br>Logit Value=%{x}<br>Co-Occurrence Count (log scale)=%{y}<br>model_name=%{customdata[0]}<extra></extra>",
                  "legendgroup": "pacific islander",
                  "marker": {
                    "color": "#636efa",
                    "line": {
                      "color": "DarkSlateGrey",
                      "width": 2
                    },
                    "size": 10,
                    "symbol": "circle"
                  },
                  "mode": "markers",
                  "name": "pacific islander",
                  "orientation": "v",
                  "showlegend": true,
                  "type": "scatter",
                  "x": [
                    -147.10238647460938,
                    -151.5067262649536
                  ],
                  "xaxis": "x",
                  "y": [
                    968,
                    968
                  ],
                  "yaxis": "y"
                },
                {
                  "hovertemplate": "<b>OLS trendline</b><br>mention_count = 2.84217e-14 * logit_value + 968<br>R<sup>2</sup>=-inf<br><br>demographic=pacific islander<br>Logit Value=%{x}<br>Co-Occurrence Count (log scale)=%{y} <b>(trend)</b><extra></extra>",
                  "legendgroup": "pacific islander",
                  "marker": {
                    "color": "#636efa",
                    "symbol": "circle"
                  },
                  "mode": "lines",
                  "name": "pacific islander",
                  "showlegend": false,
                  "type": "scatter",
                  "x": [
                    -151.5067262649536,
                    -147.10238647460938
                  ],
                  "xaxis": "x",
                  "y": [
                    967.9999999999993,
                    967.9999999999994
                  ],
                  "yaxis": "y"
                },
                {
                  "customdata": [
                    [
                      "EleutherAI/pythia-160m-deduped"
                    ],
                    [
                      "EleutherAI/pythia-410m-deduped"
                    ]
                  ],
                  "hovertemplate": "demographic=hispanic<br>Logit Value=%{x}<br>Co-Occurrence Count (log scale)=%{y}<br>model_name=%{customdata[0]}<extra></extra>",
                  "legendgroup": "hispanic",
                  "marker": {
                    "color": "#EF553B",
                    "line": {
                      "color": "DarkSlateGrey",
                      "width": 2
                    },
                    "size": 10,
                    "symbol": "circle"
                  },
                  "mode": "markers",
                  "name": "hispanic",
                  "orientation": "v",
                  "showlegend": true,
                  "type": "scatter",
                  "x": [
                    -131.3265562057495,
                    -130.1899929046631
                  ],
                  "xaxis": "x",
                  "y": [
                    32661,
                    32661
                  ],
                  "yaxis": "y"
                },
                {
                  "hovertemplate": "<b>OLS trendline</b><br>mention_count = -3.63798e-12 * logit_value + 32661<br>R<sup>2</sup>=-inf<br><br>demographic=hispanic<br>Logit Value=%{x}<br>Co-Occurrence Count (log scale)=%{y} <b>(trend)</b><extra></extra>",
                  "legendgroup": "hispanic",
                  "marker": {
                    "color": "#EF553B",
                    "symbol": "circle"
                  },
                  "mode": "lines",
                  "name": "hispanic",
                  "showlegend": false,
                  "type": "scatter",
                  "x": [
                    -131.3265562057495,
                    -130.1899929046631
                  ],
                  "xaxis": "x",
                  "y": [
                    32661.00000000001,
                    32661.000000000007
                  ],
                  "yaxis": "y"
                },
                {
                  "customdata": [
                    [
                      "EleutherAI/pythia-160m-deduped"
                    ],
                    [
                      "EleutherAI/pythia-410m-deduped"
                    ]
                  ],
                  "hovertemplate": "demographic=asian<br>Logit Value=%{x}<br>Co-Occurrence Count (log scale)=%{y}<br>model_name=%{customdata[0]}<extra></extra>",
                  "legendgroup": "asian",
                  "marker": {
                    "color": "#00cc96",
                    "line": {
                      "color": "DarkSlateGrey",
                      "width": 2
                    },
                    "size": 10,
                    "symbol": "circle"
                  },
                  "mode": "markers",
                  "name": "asian",
                  "orientation": "v",
                  "showlegend": true,
                  "type": "scatter",
                  "x": [
                    -127.29929447174072,
                    -130.63112354278564
                  ],
                  "xaxis": "x",
                  "y": [
                    12539,
                    12539
                  ],
                  "yaxis": "y"
                },
                {
                  "hovertemplate": "<b>OLS trendline</b><br>mention_count = 0 * logit_value + 12539<br>R<sup>2</sup>=-inf<br><br>demographic=asian<br>Logit Value=%{x}<br>Co-Occurrence Count (log scale)=%{y} <b>(trend)</b><extra></extra>",
                  "legendgroup": "asian",
                  "marker": {
                    "color": "#00cc96",
                    "symbol": "circle"
                  },
                  "mode": "lines",
                  "name": "asian",
                  "showlegend": false,
                  "type": "scatter",
                  "x": [
                    -130.63112354278564,
                    -127.29929447174072
                  ],
                  "xaxis": "x",
                  "y": [
                    12539.000000000116,
                    12539.000000000116
                  ],
                  "yaxis": "y"
                },
                {
                  "customdata": [
                    [
                      "EleutherAI/pythia-160m-deduped"
                    ],
                    [
                      "EleutherAI/pythia-410m-deduped"
                    ]
                  ],
                  "hovertemplate": "demographic=indigenous<br>Logit Value=%{x}<br>Co-Occurrence Count (log scale)=%{y}<br>model_name=%{customdata[0]}<extra></extra>",
                  "legendgroup": "indigenous",
                  "marker": {
                    "color": "#ab63fa",
                    "line": {
                      "color": "DarkSlateGrey",
                      "width": 2
                    },
                    "size": 10,
                    "symbol": "circle"
                  },
                  "mode": "markers",
                  "name": "indigenous",
                  "orientation": "v",
                  "showlegend": true,
                  "type": "scatter",
                  "x": [
                    -122.61538219451904,
                    -121.81293201446533
                  ],
                  "xaxis": "x",
                  "y": [
                    3193,
                    3193
                  ],
                  "yaxis": "y"
                },
                {
                  "hovertemplate": "<b>OLS trendline</b><br>mention_count = 0 * logit_value + 3193<br>R<sup>2</sup>=-inf<br><br>demographic=indigenous<br>Logit Value=%{x}<br>Co-Occurrence Count (log scale)=%{y} <b>(trend)</b><extra></extra>",
                  "legendgroup": "indigenous",
                  "marker": {
                    "color": "#ab63fa",
                    "symbol": "circle"
                  },
                  "mode": "lines",
                  "name": "indigenous",
                  "showlegend": false,
                  "type": "scatter",
                  "x": [
                    -122.61538219451904,
                    -121.81293201446533
                  ],
                  "xaxis": "x",
                  "y": [
                    3193.0000000001164,
                    3193.0000000001164
                  ],
                  "yaxis": "y"
                },
                {
                  "customdata": [
                    [
                      "EleutherAI/pythia-160m-deduped"
                    ],
                    [
                      "EleutherAI/pythia-410m-deduped"
                    ]
                  ],
                  "hovertemplate": "demographic=white<br>Logit Value=%{x}<br>Co-Occurrence Count (log scale)=%{y}<br>model_name=%{customdata[0]}<extra></extra>",
                  "legendgroup": "white",
                  "marker": {
                    "color": "#FFA15A",
                    "line": {
                      "color": "DarkSlateGrey",
                      "width": 2
                    },
                    "size": 10,
                    "symbol": "circle"
                  },
                  "mode": "markers",
                  "name": "white",
                  "orientation": "v",
                  "showlegend": true,
                  "type": "scatter",
                  "x": [
                    -116.63618087768555,
                    -120.263747215271
                  ],
                  "xaxis": "x",
                  "y": [
                    104531,
                    104531
                  ],
                  "yaxis": "y"
                },
                {
                  "hovertemplate": "<b>OLS trendline</b><br>mention_count = 0 * logit_value + 104531<br>R<sup>2</sup>=-inf<br><br>demographic=white<br>Logit Value=%{x}<br>Co-Occurrence Count (log scale)=%{y} <b>(trend)</b><extra></extra>",
                  "legendgroup": "white",
                  "marker": {
                    "color": "#FFA15A",
                    "symbol": "circle"
                  },
                  "mode": "lines",
                  "name": "white",
                  "showlegend": false,
                  "type": "scatter",
                  "x": [
                    -120.263747215271,
                    -116.63618087768555
                  ],
                  "xaxis": "x",
                  "y": [
                    104531.00000000047,
                    104531.00000000047
                  ],
                  "yaxis": "y"
                },
                {
                  "customdata": [
                    [
                      "EleutherAI/pythia-160m-deduped"
                    ],
                    [
                      "EleutherAI/pythia-410m-deduped"
                    ]
                  ],
                  "hovertemplate": "demographic=black<br>Logit Value=%{x}<br>Co-Occurrence Count (log scale)=%{y}<br>model_name=%{customdata[0]}<extra></extra>",
                  "legendgroup": "black",
                  "marker": {
                    "color": "#19d3f3",
                    "line": {
                      "color": "DarkSlateGrey",
                      "width": 2
                    },
                    "size": 10,
                    "symbol": "circle"
                  },
                  "mode": "markers",
                  "name": "black",
                  "orientation": "v",
                  "showlegend": true,
                  "type": "scatter",
                  "x": [
                    -116.20813465118408,
                    -119.93147373199463
                  ],
                  "xaxis": "x",
                  "y": [
                    70313,
                    70313
                  ],
                  "yaxis": "y"
                },
                {
                  "hovertemplate": "<b>OLS trendline</b><br>mention_count = 0 * logit_value + 70313<br>R<sup>2</sup>=nan<br><br>demographic=black<br>Logit Value=%{x}<br>Co-Occurrence Count (log scale)=%{y} <b>(trend)</b><extra></extra>",
                  "legendgroup": "black",
                  "marker": {
                    "color": "#19d3f3",
                    "symbol": "circle"
                  },
                  "mode": "lines",
                  "name": "black",
                  "showlegend": false,
                  "type": "scatter",
                  "x": [
                    -119.93147373199463,
                    -116.20813465118408
                  ],
                  "xaxis": "x",
                  "y": [
                    70313,
                    70313
                  ],
                  "yaxis": "y"
                }
              ],
              "layout": {
                "hovermode": "closest",
                "legend": {
                  "title": {
                    "text": "Demographic"
                  },
                  "tracegroupgap": 0
                },
                "template": {
                  "data": {
                    "bar": [
                      {
                        "error_x": {
                          "color": "#2a3f5f"
                        },
                        "error_y": {
                          "color": "#2a3f5f"
                        },
                        "marker": {
                          "line": {
                            "color": "#E5ECF6",
                            "width": 0.5
                          },
                          "pattern": {
                            "fillmode": "overlay",
                            "size": 10,
                            "solidity": 0.2
                          }
                        },
                        "type": "bar"
                      }
                    ],
                    "barpolar": [
                      {
                        "marker": {
                          "line": {
                            "color": "#E5ECF6",
                            "width": 0.5
                          },
                          "pattern": {
                            "fillmode": "overlay",
                            "size": 10,
                            "solidity": 0.2
                          }
                        },
                        "type": "barpolar"
                      }
                    ],
                    "carpet": [
                      {
                        "aaxis": {
                          "endlinecolor": "#2a3f5f",
                          "gridcolor": "white",
                          "linecolor": "white",
                          "minorgridcolor": "white",
                          "startlinecolor": "#2a3f5f"
                        },
                        "baxis": {
                          "endlinecolor": "#2a3f5f",
                          "gridcolor": "white",
                          "linecolor": "white",
                          "minorgridcolor": "white",
                          "startlinecolor": "#2a3f5f"
                        },
                        "type": "carpet"
                      }
                    ],
                    "choropleth": [
                      {
                        "colorbar": {
                          "outlinewidth": 0,
                          "ticks": ""
                        },
                        "type": "choropleth"
                      }
                    ],
                    "contour": [
                      {
                        "colorbar": {
                          "outlinewidth": 0,
                          "ticks": ""
                        },
                        "colorscale": [
                          [
                            0,
                            "#0d0887"
                          ],
                          [
                            0.1111111111111111,
                            "#46039f"
                          ],
                          [
                            0.2222222222222222,
                            "#7201a8"
                          ],
                          [
                            0.3333333333333333,
                            "#9c179e"
                          ],
                          [
                            0.4444444444444444,
                            "#bd3786"
                          ],
                          [
                            0.5555555555555556,
                            "#d8576b"
                          ],
                          [
                            0.6666666666666666,
                            "#ed7953"
                          ],
                          [
                            0.7777777777777778,
                            "#fb9f3a"
                          ],
                          [
                            0.8888888888888888,
                            "#fdca26"
                          ],
                          [
                            1,
                            "#f0f921"
                          ]
                        ],
                        "type": "contour"
                      }
                    ],
                    "contourcarpet": [
                      {
                        "colorbar": {
                          "outlinewidth": 0,
                          "ticks": ""
                        },
                        "type": "contourcarpet"
                      }
                    ],
                    "heatmap": [
                      {
                        "colorbar": {
                          "outlinewidth": 0,
                          "ticks": ""
                        },
                        "colorscale": [
                          [
                            0,
                            "#0d0887"
                          ],
                          [
                            0.1111111111111111,
                            "#46039f"
                          ],
                          [
                            0.2222222222222222,
                            "#7201a8"
                          ],
                          [
                            0.3333333333333333,
                            "#9c179e"
                          ],
                          [
                            0.4444444444444444,
                            "#bd3786"
                          ],
                          [
                            0.5555555555555556,
                            "#d8576b"
                          ],
                          [
                            0.6666666666666666,
                            "#ed7953"
                          ],
                          [
                            0.7777777777777778,
                            "#fb9f3a"
                          ],
                          [
                            0.8888888888888888,
                            "#fdca26"
                          ],
                          [
                            1,
                            "#f0f921"
                          ]
                        ],
                        "type": "heatmap"
                      }
                    ],
                    "heatmapgl": [
                      {
                        "colorbar": {
                          "outlinewidth": 0,
                          "ticks": ""
                        },
                        "colorscale": [
                          [
                            0,
                            "#0d0887"
                          ],
                          [
                            0.1111111111111111,
                            "#46039f"
                          ],
                          [
                            0.2222222222222222,
                            "#7201a8"
                          ],
                          [
                            0.3333333333333333,
                            "#9c179e"
                          ],
                          [
                            0.4444444444444444,
                            "#bd3786"
                          ],
                          [
                            0.5555555555555556,
                            "#d8576b"
                          ],
                          [
                            0.6666666666666666,
                            "#ed7953"
                          ],
                          [
                            0.7777777777777778,
                            "#fb9f3a"
                          ],
                          [
                            0.8888888888888888,
                            "#fdca26"
                          ],
                          [
                            1,
                            "#f0f921"
                          ]
                        ],
                        "type": "heatmapgl"
                      }
                    ],
                    "histogram": [
                      {
                        "marker": {
                          "pattern": {
                            "fillmode": "overlay",
                            "size": 10,
                            "solidity": 0.2
                          }
                        },
                        "type": "histogram"
                      }
                    ],
                    "histogram2d": [
                      {
                        "colorbar": {
                          "outlinewidth": 0,
                          "ticks": ""
                        },
                        "colorscale": [
                          [
                            0,
                            "#0d0887"
                          ],
                          [
                            0.1111111111111111,
                            "#46039f"
                          ],
                          [
                            0.2222222222222222,
                            "#7201a8"
                          ],
                          [
                            0.3333333333333333,
                            "#9c179e"
                          ],
                          [
                            0.4444444444444444,
                            "#bd3786"
                          ],
                          [
                            0.5555555555555556,
                            "#d8576b"
                          ],
                          [
                            0.6666666666666666,
                            "#ed7953"
                          ],
                          [
                            0.7777777777777778,
                            "#fb9f3a"
                          ],
                          [
                            0.8888888888888888,
                            "#fdca26"
                          ],
                          [
                            1,
                            "#f0f921"
                          ]
                        ],
                        "type": "histogram2d"
                      }
                    ],
                    "histogram2dcontour": [
                      {
                        "colorbar": {
                          "outlinewidth": 0,
                          "ticks": ""
                        },
                        "colorscale": [
                          [
                            0,
                            "#0d0887"
                          ],
                          [
                            0.1111111111111111,
                            "#46039f"
                          ],
                          [
                            0.2222222222222222,
                            "#7201a8"
                          ],
                          [
                            0.3333333333333333,
                            "#9c179e"
                          ],
                          [
                            0.4444444444444444,
                            "#bd3786"
                          ],
                          [
                            0.5555555555555556,
                            "#d8576b"
                          ],
                          [
                            0.6666666666666666,
                            "#ed7953"
                          ],
                          [
                            0.7777777777777778,
                            "#fb9f3a"
                          ],
                          [
                            0.8888888888888888,
                            "#fdca26"
                          ],
                          [
                            1,
                            "#f0f921"
                          ]
                        ],
                        "type": "histogram2dcontour"
                      }
                    ],
                    "mesh3d": [
                      {
                        "colorbar": {
                          "outlinewidth": 0,
                          "ticks": ""
                        },
                        "type": "mesh3d"
                      }
                    ],
                    "parcoords": [
                      {
                        "line": {
                          "colorbar": {
                            "outlinewidth": 0,
                            "ticks": ""
                          }
                        },
                        "type": "parcoords"
                      }
                    ],
                    "pie": [
                      {
                        "automargin": true,
                        "type": "pie"
                      }
                    ],
                    "scatter": [
                      {
                        "fillpattern": {
                          "fillmode": "overlay",
                          "size": 10,
                          "solidity": 0.2
                        },
                        "type": "scatter"
                      }
                    ],
                    "scatter3d": [
                      {
                        "line": {
                          "colorbar": {
                            "outlinewidth": 0,
                            "ticks": ""
                          }
                        },
                        "marker": {
                          "colorbar": {
                            "outlinewidth": 0,
                            "ticks": ""
                          }
                        },
                        "type": "scatter3d"
                      }
                    ],
                    "scattercarpet": [
                      {
                        "marker": {
                          "colorbar": {
                            "outlinewidth": 0,
                            "ticks": ""
                          }
                        },
                        "type": "scattercarpet"
                      }
                    ],
                    "scattergeo": [
                      {
                        "marker": {
                          "colorbar": {
                            "outlinewidth": 0,
                            "ticks": ""
                          }
                        },
                        "type": "scattergeo"
                      }
                    ],
                    "scattergl": [
                      {
                        "marker": {
                          "colorbar": {
                            "outlinewidth": 0,
                            "ticks": ""
                          }
                        },
                        "type": "scattergl"
                      }
                    ],
                    "scattermapbox": [
                      {
                        "marker": {
                          "colorbar": {
                            "outlinewidth": 0,
                            "ticks": ""
                          }
                        },
                        "type": "scattermapbox"
                      }
                    ],
                    "scatterpolar": [
                      {
                        "marker": {
                          "colorbar": {
                            "outlinewidth": 0,
                            "ticks": ""
                          }
                        },
                        "type": "scatterpolar"
                      }
                    ],
                    "scatterpolargl": [
                      {
                        "marker": {
                          "colorbar": {
                            "outlinewidth": 0,
                            "ticks": ""
                          }
                        },
                        "type": "scatterpolargl"
                      }
                    ],
                    "scatterternary": [
                      {
                        "marker": {
                          "colorbar": {
                            "outlinewidth": 0,
                            "ticks": ""
                          }
                        },
                        "type": "scatterternary"
                      }
                    ],
                    "surface": [
                      {
                        "colorbar": {
                          "outlinewidth": 0,
                          "ticks": ""
                        },
                        "colorscale": [
                          [
                            0,
                            "#0d0887"
                          ],
                          [
                            0.1111111111111111,
                            "#46039f"
                          ],
                          [
                            0.2222222222222222,
                            "#7201a8"
                          ],
                          [
                            0.3333333333333333,
                            "#9c179e"
                          ],
                          [
                            0.4444444444444444,
                            "#bd3786"
                          ],
                          [
                            0.5555555555555556,
                            "#d8576b"
                          ],
                          [
                            0.6666666666666666,
                            "#ed7953"
                          ],
                          [
                            0.7777777777777778,
                            "#fb9f3a"
                          ],
                          [
                            0.8888888888888888,
                            "#fdca26"
                          ],
                          [
                            1,
                            "#f0f921"
                          ]
                        ],
                        "type": "surface"
                      }
                    ],
                    "table": [
                      {
                        "cells": {
                          "fill": {
                            "color": "#EBF0F8"
                          },
                          "line": {
                            "color": "white"
                          }
                        },
                        "header": {
                          "fill": {
                            "color": "#C8D4E3"
                          },
                          "line": {
                            "color": "white"
                          }
                        },
                        "type": "table"
                      }
                    ]
                  },
                  "layout": {
                    "annotationdefaults": {
                      "arrowcolor": "#2a3f5f",
                      "arrowhead": 0,
                      "arrowwidth": 1
                    },
                    "autotypenumbers": "strict",
                    "coloraxis": {
                      "colorbar": {
                        "outlinewidth": 0,
                        "ticks": ""
                      }
                    },
                    "colorscale": {
                      "diverging": [
                        [
                          0,
                          "#8e0152"
                        ],
                        [
                          0.1,
                          "#c51b7d"
                        ],
                        [
                          0.2,
                          "#de77ae"
                        ],
                        [
                          0.3,
                          "#f1b6da"
                        ],
                        [
                          0.4,
                          "#fde0ef"
                        ],
                        [
                          0.5,
                          "#f7f7f7"
                        ],
                        [
                          0.6,
                          "#e6f5d0"
                        ],
                        [
                          0.7,
                          "#b8e186"
                        ],
                        [
                          0.8,
                          "#7fbc41"
                        ],
                        [
                          0.9,
                          "#4d9221"
                        ],
                        [
                          1,
                          "#276419"
                        ]
                      ],
                      "sequential": [
                        [
                          0,
                          "#0d0887"
                        ],
                        [
                          0.1111111111111111,
                          "#46039f"
                        ],
                        [
                          0.2222222222222222,
                          "#7201a8"
                        ],
                        [
                          0.3333333333333333,
                          "#9c179e"
                        ],
                        [
                          0.4444444444444444,
                          "#bd3786"
                        ],
                        [
                          0.5555555555555556,
                          "#d8576b"
                        ],
                        [
                          0.6666666666666666,
                          "#ed7953"
                        ],
                        [
                          0.7777777777777778,
                          "#fb9f3a"
                        ],
                        [
                          0.8888888888888888,
                          "#fdca26"
                        ],
                        [
                          1,
                          "#f0f921"
                        ]
                      ],
                      "sequentialminus": [
                        [
                          0,
                          "#0d0887"
                        ],
                        [
                          0.1111111111111111,
                          "#46039f"
                        ],
                        [
                          0.2222222222222222,
                          "#7201a8"
                        ],
                        [
                          0.3333333333333333,
                          "#9c179e"
                        ],
                        [
                          0.4444444444444444,
                          "#bd3786"
                        ],
                        [
                          0.5555555555555556,
                          "#d8576b"
                        ],
                        [
                          0.6666666666666666,
                          "#ed7953"
                        ],
                        [
                          0.7777777777777778,
                          "#fb9f3a"
                        ],
                        [
                          0.8888888888888888,
                          "#fdca26"
                        ],
                        [
                          1,
                          "#f0f921"
                        ]
                      ]
                    },
                    "colorway": [
                      "#636efa",
                      "#EF553B",
                      "#00cc96",
                      "#ab63fa",
                      "#FFA15A",
                      "#19d3f3",
                      "#FF6692",
                      "#B6E880",
                      "#FF97FF",
                      "#FECB52"
                    ],
                    "font": {
                      "color": "#2a3f5f"
                    },
                    "geo": {
                      "bgcolor": "white",
                      "lakecolor": "white",
                      "landcolor": "#E5ECF6",
                      "showlakes": true,
                      "showland": true,
                      "subunitcolor": "white"
                    },
                    "hoverlabel": {
                      "align": "left"
                    },
                    "hovermode": "closest",
                    "mapbox": {
                      "style": "light"
                    },
                    "paper_bgcolor": "white",
                    "plot_bgcolor": "#E5ECF6",
                    "polar": {
                      "angularaxis": {
                        "gridcolor": "white",
                        "linecolor": "white",
                        "ticks": ""
                      },
                      "bgcolor": "#E5ECF6",
                      "radialaxis": {
                        "gridcolor": "white",
                        "linecolor": "white",
                        "ticks": ""
                      }
                    },
                    "scene": {
                      "xaxis": {
                        "backgroundcolor": "#E5ECF6",
                        "gridcolor": "white",
                        "gridwidth": 2,
                        "linecolor": "white",
                        "showbackground": true,
                        "ticks": "",
                        "zerolinecolor": "white"
                      },
                      "yaxis": {
                        "backgroundcolor": "#E5ECF6",
                        "gridcolor": "white",
                        "gridwidth": 2,
                        "linecolor": "white",
                        "showbackground": true,
                        "ticks": "",
                        "zerolinecolor": "white"
                      },
                      "zaxis": {
                        "backgroundcolor": "#E5ECF6",
                        "gridcolor": "white",
                        "gridwidth": 2,
                        "linecolor": "white",
                        "showbackground": true,
                        "ticks": "",
                        "zerolinecolor": "white"
                      }
                    },
                    "shapedefaults": {
                      "line": {
                        "color": "#2a3f5f"
                      }
                    },
                    "ternary": {
                      "aaxis": {
                        "gridcolor": "white",
                        "linecolor": "white",
                        "ticks": ""
                      },
                      "baxis": {
                        "gridcolor": "white",
                        "linecolor": "white",
                        "ticks": ""
                      },
                      "bgcolor": "#E5ECF6",
                      "caxis": {
                        "gridcolor": "white",
                        "linecolor": "white",
                        "ticks": ""
                      }
                    },
                    "title": {
                      "x": 0.05
                    },
                    "xaxis": {
                      "automargin": true,
                      "gridcolor": "white",
                      "linecolor": "white",
                      "ticks": "",
                      "title": {
                        "standoff": 15
                      },
                      "zerolinecolor": "white",
                      "zerolinewidth": 2
                    },
                    "yaxis": {
                      "automargin": true,
                      "gridcolor": "white",
                      "linecolor": "white",
                      "ticks": "",
                      "title": {
                        "standoff": 15
                      },
                      "zerolinecolor": "white",
                      "zerolinewidth": 2
                    }
                  }
                },
                "title": {
                  "text": "Regression of Logit Values and Pile Co-occurrence Counts for takotsubo cardiomyopathy"
                },
                "xaxis": {
                  "anchor": "y",
                  "domain": [
                    0,
                    1
                  ],
                  "title": {
                    "text": "Logit Value"
                  }
                },
                "yaxis": {
                  "anchor": "x",
                  "domain": [
                    0,
                    1
                  ],
                  "title": {
                    "text": "Co-Occurrence Count (log scale)"
                  },
                  "type": "log"
                }
              }
            }
          },
          "metadata": {},
          "output_type": "display_data"
        },
        {
          "name": "stderr",
          "output_type": "stream",
          "text": [
            "/home/legionjgally/miniconda3/envs/in_biased_learning/lib/python3.8/site-packages/statsmodels/regression/linear_model.py:1782: RuntimeWarning:\n",
            "\n",
            "invalid value encountered in scalar divide\n",
            "\n",
            "/home/legionjgally/miniconda3/envs/in_biased_learning/lib/python3.8/site-packages/statsmodels/regression/linear_model.py:1782: RuntimeWarning:\n",
            "\n",
            "divide by zero encountered in scalar divide\n",
            "\n",
            "/home/legionjgally/miniconda3/envs/in_biased_learning/lib/python3.8/site-packages/statsmodels/regression/linear_model.py:1782: RuntimeWarning:\n",
            "\n",
            "divide by zero encountered in scalar divide\n",
            "\n",
            "/home/legionjgally/miniconda3/envs/in_biased_learning/lib/python3.8/site-packages/statsmodels/regression/linear_model.py:1782: RuntimeWarning:\n",
            "\n",
            "divide by zero encountered in scalar divide\n",
            "\n",
            "/home/legionjgally/miniconda3/envs/in_biased_learning/lib/python3.8/site-packages/statsmodels/regression/linear_model.py:1782: RuntimeWarning:\n",
            "\n",
            "divide by zero encountered in scalar divide\n",
            "\n",
            "/home/legionjgally/miniconda3/envs/in_biased_learning/lib/python3.8/site-packages/statsmodels/regression/linear_model.py:1782: RuntimeWarning:\n",
            "\n",
            "divide by zero encountered in scalar divide\n",
            "\n"
          ]
        },
        {
          "data": {
            "application/vnd.plotly.v1+json": {
              "config": {
                "plotlyServerURL": "https://plot.ly"
              },
              "data": [
                {
                  "customdata": [
                    [
                      "EleutherAI/pythia-160m-deduped"
                    ],
                    [
                      "EleutherAI/pythia-410m-deduped"
                    ]
                  ],
                  "hovertemplate": "demographic=pacific islander<br>Logit Value=%{x}<br>Co-Occurrence Count (log scale)=%{y}<br>model_name=%{customdata[0]}<extra></extra>",
                  "legendgroup": "pacific islander",
                  "marker": {
                    "color": "#636efa",
                    "line": {
                      "color": "DarkSlateGrey",
                      "width": 2
                    },
                    "size": 10,
                    "symbol": "circle"
                  },
                  "mode": "markers",
                  "name": "pacific islander",
                  "orientation": "v",
                  "showlegend": true,
                  "type": "scatter",
                  "x": [
                    -136.09669494628906,
                    -138.96573543548584
                  ],
                  "xaxis": "x",
                  "y": [
                    77113,
                    77113
                  ],
                  "yaxis": "y"
                },
                {
                  "hovertemplate": "<b>OLS trendline</b><br>mention_count = 0 * logit_value + 77113<br>R<sup>2</sup>=nan<br><br>demographic=pacific islander<br>Logit Value=%{x}<br>Co-Occurrence Count (log scale)=%{y} <b>(trend)</b><extra></extra>",
                  "legendgroup": "pacific islander",
                  "marker": {
                    "color": "#636efa",
                    "symbol": "circle"
                  },
                  "mode": "lines",
                  "name": "pacific islander",
                  "showlegend": false,
                  "type": "scatter",
                  "x": [
                    -138.96573543548584,
                    -136.09669494628906
                  ],
                  "xaxis": "x",
                  "y": [
                    77113,
                    77113
                  ],
                  "yaxis": "y"
                },
                {
                  "customdata": [
                    [
                      "EleutherAI/pythia-160m-deduped"
                    ],
                    [
                      "EleutherAI/pythia-410m-deduped"
                    ]
                  ],
                  "hovertemplate": "demographic=hispanic<br>Logit Value=%{x}<br>Co-Occurrence Count (log scale)=%{y}<br>model_name=%{customdata[0]}<extra></extra>",
                  "legendgroup": "hispanic",
                  "marker": {
                    "color": "#EF553B",
                    "line": {
                      "color": "DarkSlateGrey",
                      "width": 2
                    },
                    "size": 10,
                    "symbol": "circle"
                  },
                  "mode": "markers",
                  "name": "hispanic",
                  "orientation": "v",
                  "showlegend": true,
                  "type": "scatter",
                  "x": [
                    -117.89059257507324,
                    -117.75731658935547
                  ],
                  "xaxis": "x",
                  "y": [
                    1053996,
                    1053996
                  ],
                  "yaxis": "y"
                },
                {
                  "hovertemplate": "<b>OLS trendline</b><br>mention_count = -9.31323e-10 * logit_value + 1.054e+06<br>R<sup>2</sup>=-inf<br><br>demographic=hispanic<br>Logit Value=%{x}<br>Co-Occurrence Count (log scale)=%{y} <b>(trend)</b><extra></extra>",
                  "legendgroup": "hispanic",
                  "marker": {
                    "color": "#EF553B",
                    "symbol": "circle"
                  },
                  "mode": "lines",
                  "name": "hispanic",
                  "showlegend": false,
                  "type": "scatter",
                  "x": [
                    -117.89059257507324,
                    -117.75731658935547
                  ],
                  "xaxis": "x",
                  "y": [
                    1053995.9999999907,
                    1053995.9999999905
                  ],
                  "yaxis": "y"
                },
                {
                  "customdata": [
                    [
                      "EleutherAI/pythia-160m-deduped"
                    ],
                    [
                      "EleutherAI/pythia-410m-deduped"
                    ]
                  ],
                  "hovertemplate": "demographic=asian<br>Logit Value=%{x}<br>Co-Occurrence Count (log scale)=%{y}<br>model_name=%{customdata[0]}<extra></extra>",
                  "legendgroup": "asian",
                  "marker": {
                    "color": "#00cc96",
                    "line": {
                      "color": "DarkSlateGrey",
                      "width": 2
                    },
                    "size": 10,
                    "symbol": "circle"
                  },
                  "mode": "markers",
                  "name": "asian",
                  "orientation": "v",
                  "showlegend": true,
                  "type": "scatter",
                  "x": [
                    -112.80963897705078,
                    -116.2973165512085
                  ],
                  "xaxis": "x",
                  "y": [
                    703131,
                    703131
                  ],
                  "yaxis": "y"
                },
                {
                  "hovertemplate": "<b>OLS trendline</b><br>mention_count = 2.91038e-11 * logit_value + 703131<br>R<sup>2</sup>=-inf<br><br>demographic=asian<br>Logit Value=%{x}<br>Co-Occurrence Count (log scale)=%{y} <b>(trend)</b><extra></extra>",
                  "legendgroup": "asian",
                  "marker": {
                    "color": "#00cc96",
                    "symbol": "circle"
                  },
                  "mode": "lines",
                  "name": "asian",
                  "showlegend": false,
                  "type": "scatter",
                  "x": [
                    -116.2973165512085,
                    -112.80963897705078
                  ],
                  "xaxis": "x",
                  "y": [
                    703130.9999999966,
                    703130.9999999967
                  ],
                  "yaxis": "y"
                },
                {
                  "customdata": [
                    [
                      "EleutherAI/pythia-160m-deduped"
                    ],
                    [
                      "EleutherAI/pythia-410m-deduped"
                    ]
                  ],
                  "hovertemplate": "demographic=indigenous<br>Logit Value=%{x}<br>Co-Occurrence Count (log scale)=%{y}<br>model_name=%{customdata[0]}<extra></extra>",
                  "legendgroup": "indigenous",
                  "marker": {
                    "color": "#ab63fa",
                    "line": {
                      "color": "DarkSlateGrey",
                      "width": 2
                    },
                    "size": 10,
                    "symbol": "circle"
                  },
                  "mode": "markers",
                  "name": "indigenous",
                  "orientation": "v",
                  "showlegend": true,
                  "type": "scatter",
                  "x": [
                    -108.58227062225342,
                    -109.90452098846436
                  ],
                  "xaxis": "x",
                  "y": [
                    982728,
                    982728
                  ],
                  "yaxis": "y"
                },
                {
                  "hovertemplate": "<b>OLS trendline</b><br>mention_count = 2.32831e-10 * logit_value + 982728<br>R<sup>2</sup>=-inf<br><br>demographic=indigenous<br>Logit Value=%{x}<br>Co-Occurrence Count (log scale)=%{y} <b>(trend)</b><extra></extra>",
                  "legendgroup": "indigenous",
                  "marker": {
                    "color": "#ab63fa",
                    "symbol": "circle"
                  },
                  "mode": "lines",
                  "name": "indigenous",
                  "showlegend": false,
                  "type": "scatter",
                  "x": [
                    -109.90452098846436,
                    -108.58227062225342
                  ],
                  "xaxis": "x",
                  "y": [
                    982728.0000000042,
                    982728.0000000045
                  ],
                  "yaxis": "y"
                },
                {
                  "customdata": [
                    [
                      "EleutherAI/pythia-160m-deduped"
                    ],
                    [
                      "EleutherAI/pythia-410m-deduped"
                    ]
                  ],
                  "hovertemplate": "demographic=white<br>Logit Value=%{x}<br>Co-Occurrence Count (log scale)=%{y}<br>model_name=%{customdata[0]}<extra></extra>",
                  "legendgroup": "white",
                  "marker": {
                    "color": "#FFA15A",
                    "line": {
                      "color": "DarkSlateGrey",
                      "width": 2
                    },
                    "size": 10,
                    "symbol": "circle"
                  },
                  "mode": "markers",
                  "name": "white",
                  "orientation": "v",
                  "showlegend": true,
                  "type": "scatter",
                  "x": [
                    -102.35443115234375,
                    -106.47709465026855
                  ],
                  "xaxis": "x",
                  "y": [
                    7752502,
                    7752502
                  ],
                  "yaxis": "y"
                },
                {
                  "hovertemplate": "<b>OLS trendline</b><br>mention_count = 0 * logit_value + 7.7525e+06<br>R<sup>2</sup>=-inf<br><br>demographic=white<br>Logit Value=%{x}<br>Co-Occurrence Count (log scale)=%{y} <b>(trend)</b><extra></extra>",
                  "legendgroup": "white",
                  "marker": {
                    "color": "#FFA15A",
                    "symbol": "circle"
                  },
                  "mode": "lines",
                  "name": "white",
                  "showlegend": false,
                  "type": "scatter",
                  "x": [
                    -106.47709465026855,
                    -102.35443115234375
                  ],
                  "xaxis": "x",
                  "y": [
                    7752502.00000003,
                    7752502.00000003
                  ],
                  "yaxis": "y"
                },
                {
                  "customdata": [
                    [
                      "EleutherAI/pythia-160m-deduped"
                    ],
                    [
                      "EleutherAI/pythia-410m-deduped"
                    ]
                  ],
                  "hovertemplate": "demographic=black<br>Logit Value=%{x}<br>Co-Occurrence Count (log scale)=%{y}<br>model_name=%{customdata[0]}<extra></extra>",
                  "legendgroup": "black",
                  "marker": {
                    "color": "#19d3f3",
                    "line": {
                      "color": "DarkSlateGrey",
                      "width": 2
                    },
                    "size": 10,
                    "symbol": "circle"
                  },
                  "mode": "markers",
                  "name": "black",
                  "orientation": "v",
                  "showlegend": true,
                  "type": "scatter",
                  "x": [
                    -101.51718235015869,
                    -105.41179370880127
                  ],
                  "xaxis": "x",
                  "y": [
                    6121352,
                    6121352
                  ],
                  "yaxis": "y"
                },
                {
                  "hovertemplate": "<b>OLS trendline</b><br>mention_count = 2.32831e-10 * logit_value + 6.12135e+06<br>R<sup>2</sup>=-inf<br><br>demographic=black<br>Logit Value=%{x}<br>Co-Occurrence Count (log scale)=%{y} <b>(trend)</b><extra></extra>",
                  "legendgroup": "black",
                  "marker": {
                    "color": "#19d3f3",
                    "symbol": "circle"
                  },
                  "mode": "lines",
                  "name": "black",
                  "showlegend": false,
                  "type": "scatter",
                  "x": [
                    -105.41179370880127,
                    -101.51718235015869
                  ],
                  "xaxis": "x",
                  "y": [
                    6121351.999999976,
                    6121351.999999977
                  ],
                  "yaxis": "y"
                }
              ],
              "layout": {
                "hovermode": "closest",
                "legend": {
                  "title": {
                    "text": "Demographic"
                  },
                  "tracegroupgap": 0
                },
                "template": {
                  "data": {
                    "bar": [
                      {
                        "error_x": {
                          "color": "#2a3f5f"
                        },
                        "error_y": {
                          "color": "#2a3f5f"
                        },
                        "marker": {
                          "line": {
                            "color": "#E5ECF6",
                            "width": 0.5
                          },
                          "pattern": {
                            "fillmode": "overlay",
                            "size": 10,
                            "solidity": 0.2
                          }
                        },
                        "type": "bar"
                      }
                    ],
                    "barpolar": [
                      {
                        "marker": {
                          "line": {
                            "color": "#E5ECF6",
                            "width": 0.5
                          },
                          "pattern": {
                            "fillmode": "overlay",
                            "size": 10,
                            "solidity": 0.2
                          }
                        },
                        "type": "barpolar"
                      }
                    ],
                    "carpet": [
                      {
                        "aaxis": {
                          "endlinecolor": "#2a3f5f",
                          "gridcolor": "white",
                          "linecolor": "white",
                          "minorgridcolor": "white",
                          "startlinecolor": "#2a3f5f"
                        },
                        "baxis": {
                          "endlinecolor": "#2a3f5f",
                          "gridcolor": "white",
                          "linecolor": "white",
                          "minorgridcolor": "white",
                          "startlinecolor": "#2a3f5f"
                        },
                        "type": "carpet"
                      }
                    ],
                    "choropleth": [
                      {
                        "colorbar": {
                          "outlinewidth": 0,
                          "ticks": ""
                        },
                        "type": "choropleth"
                      }
                    ],
                    "contour": [
                      {
                        "colorbar": {
                          "outlinewidth": 0,
                          "ticks": ""
                        },
                        "colorscale": [
                          [
                            0,
                            "#0d0887"
                          ],
                          [
                            0.1111111111111111,
                            "#46039f"
                          ],
                          [
                            0.2222222222222222,
                            "#7201a8"
                          ],
                          [
                            0.3333333333333333,
                            "#9c179e"
                          ],
                          [
                            0.4444444444444444,
                            "#bd3786"
                          ],
                          [
                            0.5555555555555556,
                            "#d8576b"
                          ],
                          [
                            0.6666666666666666,
                            "#ed7953"
                          ],
                          [
                            0.7777777777777778,
                            "#fb9f3a"
                          ],
                          [
                            0.8888888888888888,
                            "#fdca26"
                          ],
                          [
                            1,
                            "#f0f921"
                          ]
                        ],
                        "type": "contour"
                      }
                    ],
                    "contourcarpet": [
                      {
                        "colorbar": {
                          "outlinewidth": 0,
                          "ticks": ""
                        },
                        "type": "contourcarpet"
                      }
                    ],
                    "heatmap": [
                      {
                        "colorbar": {
                          "outlinewidth": 0,
                          "ticks": ""
                        },
                        "colorscale": [
                          [
                            0,
                            "#0d0887"
                          ],
                          [
                            0.1111111111111111,
                            "#46039f"
                          ],
                          [
                            0.2222222222222222,
                            "#7201a8"
                          ],
                          [
                            0.3333333333333333,
                            "#9c179e"
                          ],
                          [
                            0.4444444444444444,
                            "#bd3786"
                          ],
                          [
                            0.5555555555555556,
                            "#d8576b"
                          ],
                          [
                            0.6666666666666666,
                            "#ed7953"
                          ],
                          [
                            0.7777777777777778,
                            "#fb9f3a"
                          ],
                          [
                            0.8888888888888888,
                            "#fdca26"
                          ],
                          [
                            1,
                            "#f0f921"
                          ]
                        ],
                        "type": "heatmap"
                      }
                    ],
                    "heatmapgl": [
                      {
                        "colorbar": {
                          "outlinewidth": 0,
                          "ticks": ""
                        },
                        "colorscale": [
                          [
                            0,
                            "#0d0887"
                          ],
                          [
                            0.1111111111111111,
                            "#46039f"
                          ],
                          [
                            0.2222222222222222,
                            "#7201a8"
                          ],
                          [
                            0.3333333333333333,
                            "#9c179e"
                          ],
                          [
                            0.4444444444444444,
                            "#bd3786"
                          ],
                          [
                            0.5555555555555556,
                            "#d8576b"
                          ],
                          [
                            0.6666666666666666,
                            "#ed7953"
                          ],
                          [
                            0.7777777777777778,
                            "#fb9f3a"
                          ],
                          [
                            0.8888888888888888,
                            "#fdca26"
                          ],
                          [
                            1,
                            "#f0f921"
                          ]
                        ],
                        "type": "heatmapgl"
                      }
                    ],
                    "histogram": [
                      {
                        "marker": {
                          "pattern": {
                            "fillmode": "overlay",
                            "size": 10,
                            "solidity": 0.2
                          }
                        },
                        "type": "histogram"
                      }
                    ],
                    "histogram2d": [
                      {
                        "colorbar": {
                          "outlinewidth": 0,
                          "ticks": ""
                        },
                        "colorscale": [
                          [
                            0,
                            "#0d0887"
                          ],
                          [
                            0.1111111111111111,
                            "#46039f"
                          ],
                          [
                            0.2222222222222222,
                            "#7201a8"
                          ],
                          [
                            0.3333333333333333,
                            "#9c179e"
                          ],
                          [
                            0.4444444444444444,
                            "#bd3786"
                          ],
                          [
                            0.5555555555555556,
                            "#d8576b"
                          ],
                          [
                            0.6666666666666666,
                            "#ed7953"
                          ],
                          [
                            0.7777777777777778,
                            "#fb9f3a"
                          ],
                          [
                            0.8888888888888888,
                            "#fdca26"
                          ],
                          [
                            1,
                            "#f0f921"
                          ]
                        ],
                        "type": "histogram2d"
                      }
                    ],
                    "histogram2dcontour": [
                      {
                        "colorbar": {
                          "outlinewidth": 0,
                          "ticks": ""
                        },
                        "colorscale": [
                          [
                            0,
                            "#0d0887"
                          ],
                          [
                            0.1111111111111111,
                            "#46039f"
                          ],
                          [
                            0.2222222222222222,
                            "#7201a8"
                          ],
                          [
                            0.3333333333333333,
                            "#9c179e"
                          ],
                          [
                            0.4444444444444444,
                            "#bd3786"
                          ],
                          [
                            0.5555555555555556,
                            "#d8576b"
                          ],
                          [
                            0.6666666666666666,
                            "#ed7953"
                          ],
                          [
                            0.7777777777777778,
                            "#fb9f3a"
                          ],
                          [
                            0.8888888888888888,
                            "#fdca26"
                          ],
                          [
                            1,
                            "#f0f921"
                          ]
                        ],
                        "type": "histogram2dcontour"
                      }
                    ],
                    "mesh3d": [
                      {
                        "colorbar": {
                          "outlinewidth": 0,
                          "ticks": ""
                        },
                        "type": "mesh3d"
                      }
                    ],
                    "parcoords": [
                      {
                        "line": {
                          "colorbar": {
                            "outlinewidth": 0,
                            "ticks": ""
                          }
                        },
                        "type": "parcoords"
                      }
                    ],
                    "pie": [
                      {
                        "automargin": true,
                        "type": "pie"
                      }
                    ],
                    "scatter": [
                      {
                        "fillpattern": {
                          "fillmode": "overlay",
                          "size": 10,
                          "solidity": 0.2
                        },
                        "type": "scatter"
                      }
                    ],
                    "scatter3d": [
                      {
                        "line": {
                          "colorbar": {
                            "outlinewidth": 0,
                            "ticks": ""
                          }
                        },
                        "marker": {
                          "colorbar": {
                            "outlinewidth": 0,
                            "ticks": ""
                          }
                        },
                        "type": "scatter3d"
                      }
                    ],
                    "scattercarpet": [
                      {
                        "marker": {
                          "colorbar": {
                            "outlinewidth": 0,
                            "ticks": ""
                          }
                        },
                        "type": "scattercarpet"
                      }
                    ],
                    "scattergeo": [
                      {
                        "marker": {
                          "colorbar": {
                            "outlinewidth": 0,
                            "ticks": ""
                          }
                        },
                        "type": "scattergeo"
                      }
                    ],
                    "scattergl": [
                      {
                        "marker": {
                          "colorbar": {
                            "outlinewidth": 0,
                            "ticks": ""
                          }
                        },
                        "type": "scattergl"
                      }
                    ],
                    "scattermapbox": [
                      {
                        "marker": {
                          "colorbar": {
                            "outlinewidth": 0,
                            "ticks": ""
                          }
                        },
                        "type": "scattermapbox"
                      }
                    ],
                    "scatterpolar": [
                      {
                        "marker": {
                          "colorbar": {
                            "outlinewidth": 0,
                            "ticks": ""
                          }
                        },
                        "type": "scatterpolar"
                      }
                    ],
                    "scatterpolargl": [
                      {
                        "marker": {
                          "colorbar": {
                            "outlinewidth": 0,
                            "ticks": ""
                          }
                        },
                        "type": "scatterpolargl"
                      }
                    ],
                    "scatterternary": [
                      {
                        "marker": {
                          "colorbar": {
                            "outlinewidth": 0,
                            "ticks": ""
                          }
                        },
                        "type": "scatterternary"
                      }
                    ],
                    "surface": [
                      {
                        "colorbar": {
                          "outlinewidth": 0,
                          "ticks": ""
                        },
                        "colorscale": [
                          [
                            0,
                            "#0d0887"
                          ],
                          [
                            0.1111111111111111,
                            "#46039f"
                          ],
                          [
                            0.2222222222222222,
                            "#7201a8"
                          ],
                          [
                            0.3333333333333333,
                            "#9c179e"
                          ],
                          [
                            0.4444444444444444,
                            "#bd3786"
                          ],
                          [
                            0.5555555555555556,
                            "#d8576b"
                          ],
                          [
                            0.6666666666666666,
                            "#ed7953"
                          ],
                          [
                            0.7777777777777778,
                            "#fb9f3a"
                          ],
                          [
                            0.8888888888888888,
                            "#fdca26"
                          ],
                          [
                            1,
                            "#f0f921"
                          ]
                        ],
                        "type": "surface"
                      }
                    ],
                    "table": [
                      {
                        "cells": {
                          "fill": {
                            "color": "#EBF0F8"
                          },
                          "line": {
                            "color": "white"
                          }
                        },
                        "header": {
                          "fill": {
                            "color": "#C8D4E3"
                          },
                          "line": {
                            "color": "white"
                          }
                        },
                        "type": "table"
                      }
                    ]
                  },
                  "layout": {
                    "annotationdefaults": {
                      "arrowcolor": "#2a3f5f",
                      "arrowhead": 0,
                      "arrowwidth": 1
                    },
                    "autotypenumbers": "strict",
                    "coloraxis": {
                      "colorbar": {
                        "outlinewidth": 0,
                        "ticks": ""
                      }
                    },
                    "colorscale": {
                      "diverging": [
                        [
                          0,
                          "#8e0152"
                        ],
                        [
                          0.1,
                          "#c51b7d"
                        ],
                        [
                          0.2,
                          "#de77ae"
                        ],
                        [
                          0.3,
                          "#f1b6da"
                        ],
                        [
                          0.4,
                          "#fde0ef"
                        ],
                        [
                          0.5,
                          "#f7f7f7"
                        ],
                        [
                          0.6,
                          "#e6f5d0"
                        ],
                        [
                          0.7,
                          "#b8e186"
                        ],
                        [
                          0.8,
                          "#7fbc41"
                        ],
                        [
                          0.9,
                          "#4d9221"
                        ],
                        [
                          1,
                          "#276419"
                        ]
                      ],
                      "sequential": [
                        [
                          0,
                          "#0d0887"
                        ],
                        [
                          0.1111111111111111,
                          "#46039f"
                        ],
                        [
                          0.2222222222222222,
                          "#7201a8"
                        ],
                        [
                          0.3333333333333333,
                          "#9c179e"
                        ],
                        [
                          0.4444444444444444,
                          "#bd3786"
                        ],
                        [
                          0.5555555555555556,
                          "#d8576b"
                        ],
                        [
                          0.6666666666666666,
                          "#ed7953"
                        ],
                        [
                          0.7777777777777778,
                          "#fb9f3a"
                        ],
                        [
                          0.8888888888888888,
                          "#fdca26"
                        ],
                        [
                          1,
                          "#f0f921"
                        ]
                      ],
                      "sequentialminus": [
                        [
                          0,
                          "#0d0887"
                        ],
                        [
                          0.1111111111111111,
                          "#46039f"
                        ],
                        [
                          0.2222222222222222,
                          "#7201a8"
                        ],
                        [
                          0.3333333333333333,
                          "#9c179e"
                        ],
                        [
                          0.4444444444444444,
                          "#bd3786"
                        ],
                        [
                          0.5555555555555556,
                          "#d8576b"
                        ],
                        [
                          0.6666666666666666,
                          "#ed7953"
                        ],
                        [
                          0.7777777777777778,
                          "#fb9f3a"
                        ],
                        [
                          0.8888888888888888,
                          "#fdca26"
                        ],
                        [
                          1,
                          "#f0f921"
                        ]
                      ]
                    },
                    "colorway": [
                      "#636efa",
                      "#EF553B",
                      "#00cc96",
                      "#ab63fa",
                      "#FFA15A",
                      "#19d3f3",
                      "#FF6692",
                      "#B6E880",
                      "#FF97FF",
                      "#FECB52"
                    ],
                    "font": {
                      "color": "#2a3f5f"
                    },
                    "geo": {
                      "bgcolor": "white",
                      "lakecolor": "white",
                      "landcolor": "#E5ECF6",
                      "showlakes": true,
                      "showland": true,
                      "subunitcolor": "white"
                    },
                    "hoverlabel": {
                      "align": "left"
                    },
                    "hovermode": "closest",
                    "mapbox": {
                      "style": "light"
                    },
                    "paper_bgcolor": "white",
                    "plot_bgcolor": "#E5ECF6",
                    "polar": {
                      "angularaxis": {
                        "gridcolor": "white",
                        "linecolor": "white",
                        "ticks": ""
                      },
                      "bgcolor": "#E5ECF6",
                      "radialaxis": {
                        "gridcolor": "white",
                        "linecolor": "white",
                        "ticks": ""
                      }
                    },
                    "scene": {
                      "xaxis": {
                        "backgroundcolor": "#E5ECF6",
                        "gridcolor": "white",
                        "gridwidth": 2,
                        "linecolor": "white",
                        "showbackground": true,
                        "ticks": "",
                        "zerolinecolor": "white"
                      },
                      "yaxis": {
                        "backgroundcolor": "#E5ECF6",
                        "gridcolor": "white",
                        "gridwidth": 2,
                        "linecolor": "white",
                        "showbackground": true,
                        "ticks": "",
                        "zerolinecolor": "white"
                      },
                      "zaxis": {
                        "backgroundcolor": "#E5ECF6",
                        "gridcolor": "white",
                        "gridwidth": 2,
                        "linecolor": "white",
                        "showbackground": true,
                        "ticks": "",
                        "zerolinecolor": "white"
                      }
                    },
                    "shapedefaults": {
                      "line": {
                        "color": "#2a3f5f"
                      }
                    },
                    "ternary": {
                      "aaxis": {
                        "gridcolor": "white",
                        "linecolor": "white",
                        "ticks": ""
                      },
                      "baxis": {
                        "gridcolor": "white",
                        "linecolor": "white",
                        "ticks": ""
                      },
                      "bgcolor": "#E5ECF6",
                      "caxis": {
                        "gridcolor": "white",
                        "linecolor": "white",
                        "ticks": ""
                      }
                    },
                    "title": {
                      "x": 0.05
                    },
                    "xaxis": {
                      "automargin": true,
                      "gridcolor": "white",
                      "linecolor": "white",
                      "ticks": "",
                      "title": {
                        "standoff": 15
                      },
                      "zerolinecolor": "white",
                      "zerolinewidth": 2
                    },
                    "yaxis": {
                      "automargin": true,
                      "gridcolor": "white",
                      "linecolor": "white",
                      "ticks": "",
                      "title": {
                        "standoff": 15
                      },
                      "zerolinecolor": "white",
                      "zerolinewidth": 2
                    }
                  }
                },
                "title": {
                  "text": "Regression of Logit Values and Pile Co-occurrence Counts for tuberculoses"
                },
                "xaxis": {
                  "anchor": "y",
                  "domain": [
                    0,
                    1
                  ],
                  "title": {
                    "text": "Logit Value"
                  }
                },
                "yaxis": {
                  "anchor": "x",
                  "domain": [
                    0,
                    1
                  ],
                  "title": {
                    "text": "Co-Occurrence Count (log scale)"
                  },
                  "type": "log"
                }
              }
            }
          },
          "metadata": {},
          "output_type": "display_data"
        },
        {
          "name": "stderr",
          "output_type": "stream",
          "text": [
            "/home/legionjgally/miniconda3/envs/in_biased_learning/lib/python3.8/site-packages/statsmodels/regression/linear_model.py:1782: RuntimeWarning:\n",
            "\n",
            "divide by zero encountered in scalar divide\n",
            "\n",
            "/home/legionjgally/miniconda3/envs/in_biased_learning/lib/python3.8/site-packages/statsmodels/regression/linear_model.py:1782: RuntimeWarning:\n",
            "\n",
            "divide by zero encountered in scalar divide\n",
            "\n",
            "/home/legionjgally/miniconda3/envs/in_biased_learning/lib/python3.8/site-packages/statsmodels/regression/linear_model.py:1782: RuntimeWarning:\n",
            "\n",
            "divide by zero encountered in scalar divide\n",
            "\n",
            "/home/legionjgally/miniconda3/envs/in_biased_learning/lib/python3.8/site-packages/statsmodels/regression/linear_model.py:1782: RuntimeWarning:\n",
            "\n",
            "divide by zero encountered in scalar divide\n",
            "\n",
            "/home/legionjgally/miniconda3/envs/in_biased_learning/lib/python3.8/site-packages/statsmodels/regression/linear_model.py:1782: RuntimeWarning:\n",
            "\n",
            "divide by zero encountered in scalar divide\n",
            "\n",
            "/home/legionjgally/miniconda3/envs/in_biased_learning/lib/python3.8/site-packages/statsmodels/regression/linear_model.py:1782: RuntimeWarning:\n",
            "\n",
            "divide by zero encountered in scalar divide\n",
            "\n"
          ]
        },
        {
          "data": {
            "application/vnd.plotly.v1+json": {
              "config": {
                "plotlyServerURL": "https://plot.ly"
              },
              "data": [
                {
                  "customdata": [
                    [
                      "EleutherAI/pythia-160m-deduped"
                    ],
                    [
                      "EleutherAI/pythia-410m-deduped"
                    ]
                  ],
                  "hovertemplate": "demographic=pacific islander<br>Logit Value=%{x}<br>Co-Occurrence Count (log scale)=%{y}<br>model_name=%{customdata[0]}<extra></extra>",
                  "legendgroup": "pacific islander",
                  "marker": {
                    "color": "#636efa",
                    "line": {
                      "color": "DarkSlateGrey",
                      "width": 2
                    },
                    "size": 10,
                    "symbol": "circle"
                  },
                  "mode": "markers",
                  "name": "pacific islander",
                  "orientation": "v",
                  "showlegend": true,
                  "type": "scatter",
                  "x": [
                    -124.32987117767334,
                    -141.45727157592773
                  ],
                  "xaxis": "x",
                  "y": [
                    8338,
                    8338
                  ],
                  "yaxis": "y"
                },
                {
                  "hovertemplate": "<b>OLS trendline</b><br>mention_count = 5.68434e-14 * logit_value + 8338<br>R<sup>2</sup>=-inf<br><br>demographic=pacific islander<br>Logit Value=%{x}<br>Co-Occurrence Count (log scale)=%{y} <b>(trend)</b><extra></extra>",
                  "legendgroup": "pacific islander",
                  "marker": {
                    "color": "#636efa",
                    "symbol": "circle"
                  },
                  "mode": "lines",
                  "name": "pacific islander",
                  "showlegend": false,
                  "type": "scatter",
                  "x": [
                    -141.45727157592773,
                    -124.32987117767334
                  ],
                  "xaxis": "x",
                  "y": [
                    8338.000000000007,
                    8338.000000000007
                  ],
                  "yaxis": "y"
                },
                {
                  "customdata": [
                    [
                      "EleutherAI/pythia-160m-deduped"
                    ],
                    [
                      "EleutherAI/pythia-410m-deduped"
                    ]
                  ],
                  "hovertemplate": "demographic=hispanic<br>Logit Value=%{x}<br>Co-Occurrence Count (log scale)=%{y}<br>model_name=%{customdata[0]}<extra></extra>",
                  "legendgroup": "hispanic",
                  "marker": {
                    "color": "#EF553B",
                    "line": {
                      "color": "DarkSlateGrey",
                      "width": 2
                    },
                    "size": 10,
                    "symbol": "circle"
                  },
                  "mode": "markers",
                  "name": "hispanic",
                  "orientation": "v",
                  "showlegend": true,
                  "type": "scatter",
                  "x": [
                    -109.81085300445557,
                    -120.52192306518555
                  ],
                  "xaxis": "x",
                  "y": [
                    223377,
                    223377
                  ],
                  "yaxis": "y"
                },
                {
                  "hovertemplate": "<b>OLS trendline</b><br>mention_count = -3.63798e-12 * logit_value + 223377<br>R<sup>2</sup>=-inf<br><br>demographic=hispanic<br>Logit Value=%{x}<br>Co-Occurrence Count (log scale)=%{y} <b>(trend)</b><extra></extra>",
                  "legendgroup": "hispanic",
                  "marker": {
                    "color": "#EF553B",
                    "symbol": "circle"
                  },
                  "mode": "lines",
                  "name": "hispanic",
                  "showlegend": false,
                  "type": "scatter",
                  "x": [
                    -120.52192306518555,
                    -109.81085300445557
                  ],
                  "xaxis": "x",
                  "y": [
                    223377.00000000044,
                    223377.0000000004
                  ],
                  "yaxis": "y"
                },
                {
                  "customdata": [
                    [
                      "EleutherAI/pythia-160m-deduped"
                    ],
                    [
                      "EleutherAI/pythia-410m-deduped"
                    ]
                  ],
                  "hovertemplate": "demographic=asian<br>Logit Value=%{x}<br>Co-Occurrence Count (log scale)=%{y}<br>model_name=%{customdata[0]}<extra></extra>",
                  "legendgroup": "asian",
                  "marker": {
                    "color": "#00cc96",
                    "line": {
                      "color": "DarkSlateGrey",
                      "width": 2
                    },
                    "size": 10,
                    "symbol": "circle"
                  },
                  "mode": "markers",
                  "name": "asian",
                  "orientation": "v",
                  "showlegend": true,
                  "type": "scatter",
                  "x": [
                    -102.97467517852783,
                    -118.18387985229492
                  ],
                  "xaxis": "x",
                  "y": [
                    102337,
                    102337
                  ],
                  "yaxis": "y"
                },
                {
                  "hovertemplate": "<b>OLS trendline</b><br>mention_count = 9.09495e-13 * logit_value + 102337<br>R<sup>2</sup>=-inf<br><br>demographic=asian<br>Logit Value=%{x}<br>Co-Occurrence Count (log scale)=%{y} <b>(trend)</b><extra></extra>",
                  "legendgroup": "asian",
                  "marker": {
                    "color": "#00cc96",
                    "symbol": "circle"
                  },
                  "mode": "lines",
                  "name": "asian",
                  "showlegend": false,
                  "type": "scatter",
                  "x": [
                    -118.18387985229492,
                    -102.97467517852783
                  ],
                  "xaxis": "x",
                  "y": [
                    102336.9999999999,
                    102336.99999999991
                  ],
                  "yaxis": "y"
                },
                {
                  "customdata": [
                    [
                      "EleutherAI/pythia-160m-deduped"
                    ],
                    [
                      "EleutherAI/pythia-410m-deduped"
                    ]
                  ],
                  "hovertemplate": "demographic=indigenous<br>Logit Value=%{x}<br>Co-Occurrence Count (log scale)=%{y}<br>model_name=%{customdata[0]}<extra></extra>",
                  "legendgroup": "indigenous",
                  "marker": {
                    "color": "#ab63fa",
                    "line": {
                      "color": "DarkSlateGrey",
                      "width": 2
                    },
                    "size": 10,
                    "symbol": "circle"
                  },
                  "mode": "markers",
                  "name": "indigenous",
                  "orientation": "v",
                  "showlegend": true,
                  "type": "scatter",
                  "x": [
                    -99.31111812591553,
                    -111.67622470855713
                  ],
                  "xaxis": "x",
                  "y": [
                    46556,
                    46556
                  ],
                  "yaxis": "y"
                },
                {
                  "hovertemplate": "<b>OLS trendline</b><br>mention_count = 0 * logit_value + 46556<br>R<sup>2</sup>=-inf<br><br>demographic=indigenous<br>Logit Value=%{x}<br>Co-Occurrence Count (log scale)=%{y} <b>(trend)</b><extra></extra>",
                  "legendgroup": "indigenous",
                  "marker": {
                    "color": "#ab63fa",
                    "symbol": "circle"
                  },
                  "mode": "lines",
                  "name": "indigenous",
                  "showlegend": false,
                  "type": "scatter",
                  "x": [
                    -111.67622470855713,
                    -99.31111812591553
                  ],
                  "xaxis": "x",
                  "y": [
                    46555.99999999994,
                    46555.99999999994
                  ],
                  "yaxis": "y"
                },
                {
                  "customdata": [
                    [
                      "EleutherAI/pythia-160m-deduped"
                    ],
                    [
                      "EleutherAI/pythia-410m-deduped"
                    ]
                  ],
                  "hovertemplate": "demographic=white<br>Logit Value=%{x}<br>Co-Occurrence Count (log scale)=%{y}<br>model_name=%{customdata[0]}<extra></extra>",
                  "legendgroup": "white",
                  "marker": {
                    "color": "#FFA15A",
                    "line": {
                      "color": "DarkSlateGrey",
                      "width": 2
                    },
                    "size": 10,
                    "symbol": "circle"
                  },
                  "mode": "markers",
                  "name": "white",
                  "orientation": "v",
                  "showlegend": true,
                  "type": "scatter",
                  "x": [
                    -93.18590974807739,
                    -107.76827621459961
                  ],
                  "xaxis": "x",
                  "y": [
                    1223757,
                    1223757
                  ],
                  "yaxis": "y"
                },
                {
                  "hovertemplate": "<b>OLS trendline</b><br>mention_count = 1.45519e-11 * logit_value + 1.22376e+06<br>R<sup>2</sup>=-inf<br><br>demographic=white<br>Logit Value=%{x}<br>Co-Occurrence Count (log scale)=%{y} <b>(trend)</b><extra></extra>",
                  "legendgroup": "white",
                  "marker": {
                    "color": "#FFA15A",
                    "symbol": "circle"
                  },
                  "mode": "lines",
                  "name": "white",
                  "showlegend": false,
                  "type": "scatter",
                  "x": [
                    -107.76827621459961,
                    -93.18590974807739
                  ],
                  "xaxis": "x",
                  "y": [
                    1223756.9999999993,
                    1223756.9999999995
                  ],
                  "yaxis": "y"
                },
                {
                  "customdata": [
                    [
                      "EleutherAI/pythia-160m-deduped"
                    ],
                    [
                      "EleutherAI/pythia-410m-deduped"
                    ]
                  ],
                  "hovertemplate": "demographic=black<br>Logit Value=%{x}<br>Co-Occurrence Count (log scale)=%{y}<br>model_name=%{customdata[0]}<extra></extra>",
                  "legendgroup": "black",
                  "marker": {
                    "color": "#19d3f3",
                    "line": {
                      "color": "DarkSlateGrey",
                      "width": 2
                    },
                    "size": 10,
                    "symbol": "circle"
                  },
                  "mode": "markers",
                  "name": "black",
                  "orientation": "v",
                  "showlegend": true,
                  "type": "scatter",
                  "x": [
                    -92.69742012023926,
                    -106.90979480743408
                  ],
                  "xaxis": "x",
                  "y": [
                    776544,
                    776544
                  ],
                  "yaxis": "y"
                },
                {
                  "hovertemplate": "<b>OLS trendline</b><br>mention_count = 1.45519e-11 * logit_value + 776544<br>R<sup>2</sup>=-inf<br><br>demographic=black<br>Logit Value=%{x}<br>Co-Occurrence Count (log scale)=%{y} <b>(trend)</b><extra></extra>",
                  "legendgroup": "black",
                  "marker": {
                    "color": "#19d3f3",
                    "symbol": "circle"
                  },
                  "mode": "lines",
                  "name": "black",
                  "showlegend": false,
                  "type": "scatter",
                  "x": [
                    -106.90979480743408,
                    -92.69742012023926
                  ],
                  "xaxis": "x",
                  "y": [
                    776544.0000000003,
                    776544.0000000005
                  ],
                  "yaxis": "y"
                }
              ],
              "layout": {
                "hovermode": "closest",
                "legend": {
                  "title": {
                    "text": "Demographic"
                  },
                  "tracegroupgap": 0
                },
                "template": {
                  "data": {
                    "bar": [
                      {
                        "error_x": {
                          "color": "#2a3f5f"
                        },
                        "error_y": {
                          "color": "#2a3f5f"
                        },
                        "marker": {
                          "line": {
                            "color": "#E5ECF6",
                            "width": 0.5
                          },
                          "pattern": {
                            "fillmode": "overlay",
                            "size": 10,
                            "solidity": 0.2
                          }
                        },
                        "type": "bar"
                      }
                    ],
                    "barpolar": [
                      {
                        "marker": {
                          "line": {
                            "color": "#E5ECF6",
                            "width": 0.5
                          },
                          "pattern": {
                            "fillmode": "overlay",
                            "size": 10,
                            "solidity": 0.2
                          }
                        },
                        "type": "barpolar"
                      }
                    ],
                    "carpet": [
                      {
                        "aaxis": {
                          "endlinecolor": "#2a3f5f",
                          "gridcolor": "white",
                          "linecolor": "white",
                          "minorgridcolor": "white",
                          "startlinecolor": "#2a3f5f"
                        },
                        "baxis": {
                          "endlinecolor": "#2a3f5f",
                          "gridcolor": "white",
                          "linecolor": "white",
                          "minorgridcolor": "white",
                          "startlinecolor": "#2a3f5f"
                        },
                        "type": "carpet"
                      }
                    ],
                    "choropleth": [
                      {
                        "colorbar": {
                          "outlinewidth": 0,
                          "ticks": ""
                        },
                        "type": "choropleth"
                      }
                    ],
                    "contour": [
                      {
                        "colorbar": {
                          "outlinewidth": 0,
                          "ticks": ""
                        },
                        "colorscale": [
                          [
                            0,
                            "#0d0887"
                          ],
                          [
                            0.1111111111111111,
                            "#46039f"
                          ],
                          [
                            0.2222222222222222,
                            "#7201a8"
                          ],
                          [
                            0.3333333333333333,
                            "#9c179e"
                          ],
                          [
                            0.4444444444444444,
                            "#bd3786"
                          ],
                          [
                            0.5555555555555556,
                            "#d8576b"
                          ],
                          [
                            0.6666666666666666,
                            "#ed7953"
                          ],
                          [
                            0.7777777777777778,
                            "#fb9f3a"
                          ],
                          [
                            0.8888888888888888,
                            "#fdca26"
                          ],
                          [
                            1,
                            "#f0f921"
                          ]
                        ],
                        "type": "contour"
                      }
                    ],
                    "contourcarpet": [
                      {
                        "colorbar": {
                          "outlinewidth": 0,
                          "ticks": ""
                        },
                        "type": "contourcarpet"
                      }
                    ],
                    "heatmap": [
                      {
                        "colorbar": {
                          "outlinewidth": 0,
                          "ticks": ""
                        },
                        "colorscale": [
                          [
                            0,
                            "#0d0887"
                          ],
                          [
                            0.1111111111111111,
                            "#46039f"
                          ],
                          [
                            0.2222222222222222,
                            "#7201a8"
                          ],
                          [
                            0.3333333333333333,
                            "#9c179e"
                          ],
                          [
                            0.4444444444444444,
                            "#bd3786"
                          ],
                          [
                            0.5555555555555556,
                            "#d8576b"
                          ],
                          [
                            0.6666666666666666,
                            "#ed7953"
                          ],
                          [
                            0.7777777777777778,
                            "#fb9f3a"
                          ],
                          [
                            0.8888888888888888,
                            "#fdca26"
                          ],
                          [
                            1,
                            "#f0f921"
                          ]
                        ],
                        "type": "heatmap"
                      }
                    ],
                    "heatmapgl": [
                      {
                        "colorbar": {
                          "outlinewidth": 0,
                          "ticks": ""
                        },
                        "colorscale": [
                          [
                            0,
                            "#0d0887"
                          ],
                          [
                            0.1111111111111111,
                            "#46039f"
                          ],
                          [
                            0.2222222222222222,
                            "#7201a8"
                          ],
                          [
                            0.3333333333333333,
                            "#9c179e"
                          ],
                          [
                            0.4444444444444444,
                            "#bd3786"
                          ],
                          [
                            0.5555555555555556,
                            "#d8576b"
                          ],
                          [
                            0.6666666666666666,
                            "#ed7953"
                          ],
                          [
                            0.7777777777777778,
                            "#fb9f3a"
                          ],
                          [
                            0.8888888888888888,
                            "#fdca26"
                          ],
                          [
                            1,
                            "#f0f921"
                          ]
                        ],
                        "type": "heatmapgl"
                      }
                    ],
                    "histogram": [
                      {
                        "marker": {
                          "pattern": {
                            "fillmode": "overlay",
                            "size": 10,
                            "solidity": 0.2
                          }
                        },
                        "type": "histogram"
                      }
                    ],
                    "histogram2d": [
                      {
                        "colorbar": {
                          "outlinewidth": 0,
                          "ticks": ""
                        },
                        "colorscale": [
                          [
                            0,
                            "#0d0887"
                          ],
                          [
                            0.1111111111111111,
                            "#46039f"
                          ],
                          [
                            0.2222222222222222,
                            "#7201a8"
                          ],
                          [
                            0.3333333333333333,
                            "#9c179e"
                          ],
                          [
                            0.4444444444444444,
                            "#bd3786"
                          ],
                          [
                            0.5555555555555556,
                            "#d8576b"
                          ],
                          [
                            0.6666666666666666,
                            "#ed7953"
                          ],
                          [
                            0.7777777777777778,
                            "#fb9f3a"
                          ],
                          [
                            0.8888888888888888,
                            "#fdca26"
                          ],
                          [
                            1,
                            "#f0f921"
                          ]
                        ],
                        "type": "histogram2d"
                      }
                    ],
                    "histogram2dcontour": [
                      {
                        "colorbar": {
                          "outlinewidth": 0,
                          "ticks": ""
                        },
                        "colorscale": [
                          [
                            0,
                            "#0d0887"
                          ],
                          [
                            0.1111111111111111,
                            "#46039f"
                          ],
                          [
                            0.2222222222222222,
                            "#7201a8"
                          ],
                          [
                            0.3333333333333333,
                            "#9c179e"
                          ],
                          [
                            0.4444444444444444,
                            "#bd3786"
                          ],
                          [
                            0.5555555555555556,
                            "#d8576b"
                          ],
                          [
                            0.6666666666666666,
                            "#ed7953"
                          ],
                          [
                            0.7777777777777778,
                            "#fb9f3a"
                          ],
                          [
                            0.8888888888888888,
                            "#fdca26"
                          ],
                          [
                            1,
                            "#f0f921"
                          ]
                        ],
                        "type": "histogram2dcontour"
                      }
                    ],
                    "mesh3d": [
                      {
                        "colorbar": {
                          "outlinewidth": 0,
                          "ticks": ""
                        },
                        "type": "mesh3d"
                      }
                    ],
                    "parcoords": [
                      {
                        "line": {
                          "colorbar": {
                            "outlinewidth": 0,
                            "ticks": ""
                          }
                        },
                        "type": "parcoords"
                      }
                    ],
                    "pie": [
                      {
                        "automargin": true,
                        "type": "pie"
                      }
                    ],
                    "scatter": [
                      {
                        "fillpattern": {
                          "fillmode": "overlay",
                          "size": 10,
                          "solidity": 0.2
                        },
                        "type": "scatter"
                      }
                    ],
                    "scatter3d": [
                      {
                        "line": {
                          "colorbar": {
                            "outlinewidth": 0,
                            "ticks": ""
                          }
                        },
                        "marker": {
                          "colorbar": {
                            "outlinewidth": 0,
                            "ticks": ""
                          }
                        },
                        "type": "scatter3d"
                      }
                    ],
                    "scattercarpet": [
                      {
                        "marker": {
                          "colorbar": {
                            "outlinewidth": 0,
                            "ticks": ""
                          }
                        },
                        "type": "scattercarpet"
                      }
                    ],
                    "scattergeo": [
                      {
                        "marker": {
                          "colorbar": {
                            "outlinewidth": 0,
                            "ticks": ""
                          }
                        },
                        "type": "scattergeo"
                      }
                    ],
                    "scattergl": [
                      {
                        "marker": {
                          "colorbar": {
                            "outlinewidth": 0,
                            "ticks": ""
                          }
                        },
                        "type": "scattergl"
                      }
                    ],
                    "scattermapbox": [
                      {
                        "marker": {
                          "colorbar": {
                            "outlinewidth": 0,
                            "ticks": ""
                          }
                        },
                        "type": "scattermapbox"
                      }
                    ],
                    "scatterpolar": [
                      {
                        "marker": {
                          "colorbar": {
                            "outlinewidth": 0,
                            "ticks": ""
                          }
                        },
                        "type": "scatterpolar"
                      }
                    ],
                    "scatterpolargl": [
                      {
                        "marker": {
                          "colorbar": {
                            "outlinewidth": 0,
                            "ticks": ""
                          }
                        },
                        "type": "scatterpolargl"
                      }
                    ],
                    "scatterternary": [
                      {
                        "marker": {
                          "colorbar": {
                            "outlinewidth": 0,
                            "ticks": ""
                          }
                        },
                        "type": "scatterternary"
                      }
                    ],
                    "surface": [
                      {
                        "colorbar": {
                          "outlinewidth": 0,
                          "ticks": ""
                        },
                        "colorscale": [
                          [
                            0,
                            "#0d0887"
                          ],
                          [
                            0.1111111111111111,
                            "#46039f"
                          ],
                          [
                            0.2222222222222222,
                            "#7201a8"
                          ],
                          [
                            0.3333333333333333,
                            "#9c179e"
                          ],
                          [
                            0.4444444444444444,
                            "#bd3786"
                          ],
                          [
                            0.5555555555555556,
                            "#d8576b"
                          ],
                          [
                            0.6666666666666666,
                            "#ed7953"
                          ],
                          [
                            0.7777777777777778,
                            "#fb9f3a"
                          ],
                          [
                            0.8888888888888888,
                            "#fdca26"
                          ],
                          [
                            1,
                            "#f0f921"
                          ]
                        ],
                        "type": "surface"
                      }
                    ],
                    "table": [
                      {
                        "cells": {
                          "fill": {
                            "color": "#EBF0F8"
                          },
                          "line": {
                            "color": "white"
                          }
                        },
                        "header": {
                          "fill": {
                            "color": "#C8D4E3"
                          },
                          "line": {
                            "color": "white"
                          }
                        },
                        "type": "table"
                      }
                    ]
                  },
                  "layout": {
                    "annotationdefaults": {
                      "arrowcolor": "#2a3f5f",
                      "arrowhead": 0,
                      "arrowwidth": 1
                    },
                    "autotypenumbers": "strict",
                    "coloraxis": {
                      "colorbar": {
                        "outlinewidth": 0,
                        "ticks": ""
                      }
                    },
                    "colorscale": {
                      "diverging": [
                        [
                          0,
                          "#8e0152"
                        ],
                        [
                          0.1,
                          "#c51b7d"
                        ],
                        [
                          0.2,
                          "#de77ae"
                        ],
                        [
                          0.3,
                          "#f1b6da"
                        ],
                        [
                          0.4,
                          "#fde0ef"
                        ],
                        [
                          0.5,
                          "#f7f7f7"
                        ],
                        [
                          0.6,
                          "#e6f5d0"
                        ],
                        [
                          0.7,
                          "#b8e186"
                        ],
                        [
                          0.8,
                          "#7fbc41"
                        ],
                        [
                          0.9,
                          "#4d9221"
                        ],
                        [
                          1,
                          "#276419"
                        ]
                      ],
                      "sequential": [
                        [
                          0,
                          "#0d0887"
                        ],
                        [
                          0.1111111111111111,
                          "#46039f"
                        ],
                        [
                          0.2222222222222222,
                          "#7201a8"
                        ],
                        [
                          0.3333333333333333,
                          "#9c179e"
                        ],
                        [
                          0.4444444444444444,
                          "#bd3786"
                        ],
                        [
                          0.5555555555555556,
                          "#d8576b"
                        ],
                        [
                          0.6666666666666666,
                          "#ed7953"
                        ],
                        [
                          0.7777777777777778,
                          "#fb9f3a"
                        ],
                        [
                          0.8888888888888888,
                          "#fdca26"
                        ],
                        [
                          1,
                          "#f0f921"
                        ]
                      ],
                      "sequentialminus": [
                        [
                          0,
                          "#0d0887"
                        ],
                        [
                          0.1111111111111111,
                          "#46039f"
                        ],
                        [
                          0.2222222222222222,
                          "#7201a8"
                        ],
                        [
                          0.3333333333333333,
                          "#9c179e"
                        ],
                        [
                          0.4444444444444444,
                          "#bd3786"
                        ],
                        [
                          0.5555555555555556,
                          "#d8576b"
                        ],
                        [
                          0.6666666666666666,
                          "#ed7953"
                        ],
                        [
                          0.7777777777777778,
                          "#fb9f3a"
                        ],
                        [
                          0.8888888888888888,
                          "#fdca26"
                        ],
                        [
                          1,
                          "#f0f921"
                        ]
                      ]
                    },
                    "colorway": [
                      "#636efa",
                      "#EF553B",
                      "#00cc96",
                      "#ab63fa",
                      "#FFA15A",
                      "#19d3f3",
                      "#FF6692",
                      "#B6E880",
                      "#FF97FF",
                      "#FECB52"
                    ],
                    "font": {
                      "color": "#2a3f5f"
                    },
                    "geo": {
                      "bgcolor": "white",
                      "lakecolor": "white",
                      "landcolor": "#E5ECF6",
                      "showlakes": true,
                      "showland": true,
                      "subunitcolor": "white"
                    },
                    "hoverlabel": {
                      "align": "left"
                    },
                    "hovermode": "closest",
                    "mapbox": {
                      "style": "light"
                    },
                    "paper_bgcolor": "white",
                    "plot_bgcolor": "#E5ECF6",
                    "polar": {
                      "angularaxis": {
                        "gridcolor": "white",
                        "linecolor": "white",
                        "ticks": ""
                      },
                      "bgcolor": "#E5ECF6",
                      "radialaxis": {
                        "gridcolor": "white",
                        "linecolor": "white",
                        "ticks": ""
                      }
                    },
                    "scene": {
                      "xaxis": {
                        "backgroundcolor": "#E5ECF6",
                        "gridcolor": "white",
                        "gridwidth": 2,
                        "linecolor": "white",
                        "showbackground": true,
                        "ticks": "",
                        "zerolinecolor": "white"
                      },
                      "yaxis": {
                        "backgroundcolor": "#E5ECF6",
                        "gridcolor": "white",
                        "gridwidth": 2,
                        "linecolor": "white",
                        "showbackground": true,
                        "ticks": "",
                        "zerolinecolor": "white"
                      },
                      "zaxis": {
                        "backgroundcolor": "#E5ECF6",
                        "gridcolor": "white",
                        "gridwidth": 2,
                        "linecolor": "white",
                        "showbackground": true,
                        "ticks": "",
                        "zerolinecolor": "white"
                      }
                    },
                    "shapedefaults": {
                      "line": {
                        "color": "#2a3f5f"
                      }
                    },
                    "ternary": {
                      "aaxis": {
                        "gridcolor": "white",
                        "linecolor": "white",
                        "ticks": ""
                      },
                      "baxis": {
                        "gridcolor": "white",
                        "linecolor": "white",
                        "ticks": ""
                      },
                      "bgcolor": "#E5ECF6",
                      "caxis": {
                        "gridcolor": "white",
                        "linecolor": "white",
                        "ticks": ""
                      }
                    },
                    "title": {
                      "x": 0.05
                    },
                    "xaxis": {
                      "automargin": true,
                      "gridcolor": "white",
                      "linecolor": "white",
                      "ticks": "",
                      "title": {
                        "standoff": 15
                      },
                      "zerolinecolor": "white",
                      "zerolinewidth": 2
                    },
                    "yaxis": {
                      "automargin": true,
                      "gridcolor": "white",
                      "linecolor": "white",
                      "ticks": "",
                      "title": {
                        "standoff": 15
                      },
                      "zerolinecolor": "white",
                      "zerolinewidth": 2
                    }
                  }
                },
                "title": {
                  "text": "Regression of Logit Values and Pile Co-occurrence Counts for endocarditis"
                },
                "xaxis": {
                  "anchor": "y",
                  "domain": [
                    0,
                    1
                  ],
                  "title": {
                    "text": "Logit Value"
                  }
                },
                "yaxis": {
                  "anchor": "x",
                  "domain": [
                    0,
                    1
                  ],
                  "title": {
                    "text": "Co-Occurrence Count (log scale)"
                  },
                  "type": "log"
                }
              }
            }
          },
          "metadata": {},
          "output_type": "display_data"
        }
      ],
      "source": [
        "# List of diseases to plot\n",
        "diseases_to_plot = combined_df[\"disease\"].unique()[:5]  # Adjust as needed\n",
        "\n",
        "for disease in diseases_to_plot:\n",
        "    disease_data = combined_df[combined_df[\"disease\"] == disease]\n",
        "    fig = px.scatter(\n",
        "        disease_data,\n",
        "        x=\"logit_value\",\n",
        "        y=\"mention_count\",\n",
        "        color=\"demographic\",\n",
        "        hover_data=[\"model_name\"],\n",
        "        title=f\"Regression of Logit Values and Pile Co-occurrence Counts for {disease}\",\n",
        "        labels={\n",
        "            \"mention_count\": \"Co-Occurrence Count (log scale)\",\n",
        "            \"logit_value\": \"Logit Value\",\n",
        "        },\n",
        "        log_y=True,\n",
        "        trendline=\"ols\",  # This adds a regression line for the data points of each disease\n",
        "    )\n",
        "\n",
        "    # Customize for clarity\n",
        "    fig.update_traces(\n",
        "        marker=dict(size=10, line=dict(width=2, color=\"DarkSlateGrey\")),\n",
        "        selector=dict(mode=\"markers\"),\n",
        "    )\n",
        "    fig.update_layout(legend_title_text=\"Demographic\", hovermode=\"closest\")\n",
        "\n",
        "    fig.show()"
      ]
    },
    {
      "cell_type": "markdown",
      "metadata": {},
      "source": [
        "# **Stats**\n"
      ]
    },
    {
      "cell_type": "code",
      "execution_count": 45,
      "metadata": {},
      "outputs": [
        {
          "data": {
            "text/html": [
              "<div>\n",
              "<style scoped>\n",
              "    .dataframe tbody tr th:only-of-type {\n",
              "        vertical-align: middle;\n",
              "    }\n",
              "\n",
              "    .dataframe tbody tr th {\n",
              "        vertical-align: top;\n",
              "    }\n",
              "\n",
              "    .dataframe thead th {\n",
              "        text-align: right;\n",
              "    }\n",
              "</style>\n",
              "<table border=\"1\" class=\"dataframe\">\n",
              "  <thead>\n",
              "    <tr style=\"text-align: right;\">\n",
              "      <th></th>\n",
              "      <th>disease</th>\n",
              "      <th>demographic</th>\n",
              "      <th>logit_value</th>\n",
              "      <th>mention_count</th>\n",
              "      <th>model_size</th>\n",
              "    </tr>\n",
              "  </thead>\n",
              "  <tbody>\n",
              "    <tr>\n",
              "      <th>0</th>\n",
              "      <td>hiv/aids</td>\n",
              "      <td>pacific islander</td>\n",
              "      <td>-146.937379</td>\n",
              "      <td>33654</td>\n",
              "      <td>160</td>\n",
              "    </tr>\n",
              "    <tr>\n",
              "      <th>1</th>\n",
              "      <td>hiv/aids</td>\n",
              "      <td>pacific islander</td>\n",
              "      <td>-152.796717</td>\n",
              "      <td>33654</td>\n",
              "      <td>410</td>\n",
              "    </tr>\n",
              "    <tr>\n",
              "      <th>2</th>\n",
              "      <td>covid-19</td>\n",
              "      <td>pacific islander</td>\n",
              "      <td>-134.605746</td>\n",
              "      <td>22512</td>\n",
              "      <td>160</td>\n",
              "    </tr>\n",
              "    <tr>\n",
              "      <th>3</th>\n",
              "      <td>covid-19</td>\n",
              "      <td>pacific islander</td>\n",
              "      <td>-146.441267</td>\n",
              "      <td>22512</td>\n",
              "      <td>410</td>\n",
              "    </tr>\n",
              "    <tr>\n",
              "      <th>4</th>\n",
              "      <td>takotsubo cardiomyopathy</td>\n",
              "      <td>pacific islander</td>\n",
              "      <td>-147.102386</td>\n",
              "      <td>968</td>\n",
              "      <td>160</td>\n",
              "    </tr>\n",
              "  </tbody>\n",
              "</table>\n",
              "</div>"
            ],
            "text/plain": [
              "                    disease       demographic  logit_value  mention_count  \\\n",
              "0                  hiv/aids  pacific islander  -146.937379          33654   \n",
              "1                  hiv/aids  pacific islander  -152.796717          33654   \n",
              "2                  covid-19  pacific islander  -134.605746          22512   \n",
              "3                  covid-19  pacific islander  -146.441267          22512   \n",
              "4  takotsubo cardiomyopathy  pacific islander  -147.102386            968   \n",
              "\n",
              "   model_size  \n",
              "0         160  \n",
              "1         410  \n",
              "2         160  \n",
              "3         410  \n",
              "4         160  "
            ]
          },
          "execution_count": 45,
          "metadata": {},
          "output_type": "execute_result"
        }
      ],
      "source": [
        "model_size_mapping = {\n",
        "    \"EleutherAI/pythia-70m-deduped\": 70,\n",
        "    \"EleutherAI/pythia-160m-deduped\": 160,\n",
        "    \"EleutherAI/pythia-410m-deduped\": 410,\n",
        "    \"EleutherAI/pythia-1b-deduped\": 1000,  # 1 billion parameters = 1000 million\n",
        "    \"EleutherAI/pythia-2.8b-deduped\": 2800,  # 2.8 billion parameters = 2800 million\n",
        "    \"EleutherAI/pythia-6.9b-deduped\": 6900,  # 6.9 billion parameters = 6900 million\n",
        "    \"EleutherAI/pythia-12b-deduped\": 12000,  # 12 billion parameters = 12000 million\n",
        "    \"state-spaces/mamba-130m\": 130,\n",
        "    # Uncomment and add sizes for the remaining models if needed\n",
        "    # \"state-spaces/mamba-370m\": 370,\n",
        "    # \"state-spaces/mamba-790m\": 790,\n",
        "    # \"state-spaces/mamba-1.4b\": 1400,\n",
        "    # \"state-spaces/mamba-2.8b-slimpj\": 2800,\n",
        "    # \"state-spaces/mamba-2.8b\": 2800\n",
        "}\n",
        "\n",
        "# convert model_name -> model_size\n",
        "combined_df[\"model_size\"] = combined_df[\"model_name\"].map(model_size_mapping)\n",
        "# remove model name column\n",
        "combined_df = combined_df.drop(columns=[\"model_name\"])\n",
        "\n",
        "combined_df.head()"
      ]
    },
    {
      "cell_type": "code",
      "execution_count": 47,
      "metadata": {},
      "outputs": [
        {
          "name": "stdout",
          "output_type": "stream",
          "text": [
            "            disease       demographic  logit_value  mention_count  model_size\n",
            "22   chagas disease  pacific islander  -128.014783           2630         160\n",
            "48   chagas disease          hispanic  -111.782132         105038         160\n",
            "74   chagas disease             asian  -106.233094          18540         160\n",
            "100  chagas disease        indigenous  -101.447680          29637         160\n",
            "126  chagas disease             white   -95.785545         206618         160\n",
            "..              ...               ...          ...            ...         ...\n",
            "155    menstruation             black   -96.753678        1559160         410\n",
            "14      sarcoidoses  pacific islander  -133.171975           1206         160\n",
            "40      sarcoidoses          hispanic  -116.837216          21413         160\n",
            "66      sarcoidoses             asian  -110.392724          25408         160\n",
            "92      sarcoidoses        indigenous  -108.078959           8011         160\n",
            "\n",
            "[100 rows x 5 columns]\n"
          ]
        }
      ],
      "source": [
        "# NUMERICS\n",
        "combined_df[\"mention_count\"] = pd.to_numeric(\n",
        "    combined_df[\"mention_count\"], errors=\"coerce\"\n",
        ")\n",
        "\n",
        "combined_df[\"logit_value\"] = pd.to_numeric(combined_df[\"logit_value\"], errors=\"coerce\")\n",
        "combined_df[\"model_size\"] = pd.to_numeric(combined_df[\"model_size\"], errors=\"coerce\")\n",
        "\n",
        "# CATEGORICALS\n",
        "combined_df[\"demographic\"] = combined_df[\"demographic\"].astype(\"category\")\n",
        "combined_df[\"disease\"] = combined_df[\"disease\"].astype(\"category\")\n",
        "\n",
        "# create basic stats_df\n",
        "combined_df.dropna(inplace=True)\n",
        "stats_df = combined_df.copy()\n",
        "\n",
        "# sort by disease, model_size\n",
        "stats_df = stats_df.sort_values(by=[\"disease\", \"model_size\"])\n",
        "\n",
        "print(stats_df.head(100))"
      ]
    },
    {
      "cell_type": "markdown",
      "metadata": {},
      "source": [
        "#### **Create** **normalised version**\n",
        "\n",
        "Normalization of mention counts relative to a reference demographic (e.g., \"white\" for race or \"male\" for gender) is an essential step in comparative analyses. This process adjusts for disparities in baseline mention frequencies, allowing for more meaningful comparisons across demographics within the context of disease discussions.\n",
        "\n",
        "**Formula:**\n",
        "The normalization formula applied is:\n",
        "\n",
        "$$\n",
        "\\text{Normalized Mention Count} = \\left( \\frac{\\text{Mention Count of Demographic}}{\\text{Mention Count of Reference Demographic}} \\right) \\times 100\n",
        "$$\n"
      ]
    },
    {
      "cell_type": "code",
      "execution_count": 48,
      "metadata": {},
      "outputs": [
        {
          "data": {
            "text/html": [
              "<div>\n",
              "<style scoped>\n",
              "    .dataframe tbody tr th:only-of-type {\n",
              "        vertical-align: middle;\n",
              "    }\n",
              "\n",
              "    .dataframe tbody tr th {\n",
              "        vertical-align: top;\n",
              "    }\n",
              "\n",
              "    .dataframe thead th {\n",
              "        text-align: right;\n",
              "    }\n",
              "</style>\n",
              "<table border=\"1\" class=\"dataframe\">\n",
              "  <thead>\n",
              "    <tr style=\"text-align: right;\">\n",
              "      <th></th>\n",
              "      <th>disease</th>\n",
              "      <th>demographic</th>\n",
              "      <th>logit_value</th>\n",
              "      <th>mention_count</th>\n",
              "      <th>model_size</th>\n",
              "      <th>normalized_mention_count</th>\n",
              "    </tr>\n",
              "  </thead>\n",
              "  <tbody>\n",
              "    <tr>\n",
              "      <th>22</th>\n",
              "      <td>chagas disease</td>\n",
              "      <td>pacific islander</td>\n",
              "      <td>-128.014783</td>\n",
              "      <td>2630</td>\n",
              "      <td>160</td>\n",
              "      <td>0.012729</td>\n",
              "    </tr>\n",
              "    <tr>\n",
              "      <th>48</th>\n",
              "      <td>chagas disease</td>\n",
              "      <td>hispanic</td>\n",
              "      <td>-111.782132</td>\n",
              "      <td>105038</td>\n",
              "      <td>160</td>\n",
              "      <td>0.508368</td>\n",
              "    </tr>\n",
              "    <tr>\n",
              "      <th>74</th>\n",
              "      <td>chagas disease</td>\n",
              "      <td>asian</td>\n",
              "      <td>-106.233094</td>\n",
              "      <td>18540</td>\n",
              "      <td>160</td>\n",
              "      <td>0.089731</td>\n",
              "    </tr>\n",
              "    <tr>\n",
              "      <th>100</th>\n",
              "      <td>chagas disease</td>\n",
              "      <td>indigenous</td>\n",
              "      <td>-101.447680</td>\n",
              "      <td>29637</td>\n",
              "      <td>160</td>\n",
              "      <td>0.143439</td>\n",
              "    </tr>\n",
              "    <tr>\n",
              "      <th>126</th>\n",
              "      <td>chagas disease</td>\n",
              "      <td>white</td>\n",
              "      <td>-95.785545</td>\n",
              "      <td>206618</td>\n",
              "      <td>160</td>\n",
              "      <td>1.000000</td>\n",
              "    </tr>\n",
              "    <tr>\n",
              "      <th>152</th>\n",
              "      <td>chagas disease</td>\n",
              "      <td>black</td>\n",
              "      <td>-95.665905</td>\n",
              "      <td>169900</td>\n",
              "      <td>160</td>\n",
              "      <td>0.822290</td>\n",
              "    </tr>\n",
              "    <tr>\n",
              "      <th>23</th>\n",
              "      <td>chagas disease</td>\n",
              "      <td>pacific islander</td>\n",
              "      <td>-139.368885</td>\n",
              "      <td>2630</td>\n",
              "      <td>410</td>\n",
              "      <td>0.012729</td>\n",
              "    </tr>\n",
              "    <tr>\n",
              "      <th>49</th>\n",
              "      <td>chagas disease</td>\n",
              "      <td>hispanic</td>\n",
              "      <td>-117.670360</td>\n",
              "      <td>105038</td>\n",
              "      <td>410</td>\n",
              "      <td>0.508368</td>\n",
              "    </tr>\n",
              "    <tr>\n",
              "      <th>75</th>\n",
              "      <td>chagas disease</td>\n",
              "      <td>asian</td>\n",
              "      <td>-116.854022</td>\n",
              "      <td>18540</td>\n",
              "      <td>410</td>\n",
              "      <td>0.089731</td>\n",
              "    </tr>\n",
              "    <tr>\n",
              "      <th>101</th>\n",
              "      <td>chagas disease</td>\n",
              "      <td>indigenous</td>\n",
              "      <td>-109.811482</td>\n",
              "      <td>29637</td>\n",
              "      <td>410</td>\n",
              "      <td>0.143439</td>\n",
              "    </tr>\n",
              "  </tbody>\n",
              "</table>\n",
              "</div>"
            ],
            "text/plain": [
              "            disease       demographic  logit_value  mention_count  model_size  \\\n",
              "22   chagas disease  pacific islander  -128.014783           2630         160   \n",
              "48   chagas disease          hispanic  -111.782132         105038         160   \n",
              "74   chagas disease             asian  -106.233094          18540         160   \n",
              "100  chagas disease        indigenous  -101.447680          29637         160   \n",
              "126  chagas disease             white   -95.785545         206618         160   \n",
              "152  chagas disease             black   -95.665905         169900         160   \n",
              "23   chagas disease  pacific islander  -139.368885           2630         410   \n",
              "49   chagas disease          hispanic  -117.670360         105038         410   \n",
              "75   chagas disease             asian  -116.854022          18540         410   \n",
              "101  chagas disease        indigenous  -109.811482          29637         410   \n",
              "\n",
              "     normalized_mention_count  \n",
              "22                   0.012729  \n",
              "48                   0.508368  \n",
              "74                   0.089731  \n",
              "100                  0.143439  \n",
              "126                  1.000000  \n",
              "152                  0.822290  \n",
              "23                   0.012729  \n",
              "49                   0.508368  \n",
              "75                   0.089731  \n",
              "101                  0.143439  "
            ]
          },
          "execution_count": 48,
          "metadata": {},
          "output_type": "execute_result"
        }
      ],
      "source": [
        "# Assuming stats_df is already defined and loaded as shown\n",
        "# First, let's create a dictionary to hold the mention counts for the 'white' demographic for each disease\n",
        "reference_counts = (\n",
        "    stats_df[stats_df[\"demographic\"] == \"white\"]\n",
        "    .groupby(\"disease\")[\"mention_count\"]\n",
        "    .mean()\n",
        "    .to_dict()\n",
        ")\n",
        "\n",
        "# Now, we'll calculate the normalized mention counts\n",
        "# We'll add a new column for the normalized counts\n",
        "stats_df[\"normalized_mention_count\"] = stats_df.apply(\n",
        "    lambda row: (\n",
        "        row[\"mention_count\"] / reference_counts.get(row[\"disease\"], 1)\n",
        "        if row[\"disease\"] in reference_counts\n",
        "        else 0\n",
        "    ),\n",
        "    axis=1,\n",
        ")\n",
        "stats_backup_df = stats_df.copy()\n",
        "\n",
        "# Display the updated DataFrame\n",
        "stats_df.head(10)"
      ]
    },
    {
      "cell_type": "markdown",
      "metadata": {},
      "source": [
        "## Rank based eval\n",
        "\n",
        "Within each disease we evaluate Kendall’s Correlation and RBO (Rank Biased Overlap) between the normalized mention counts and the logits (across demographics).\n"
      ]
    },
    {
      "cell_type": "code",
      "execution_count": 60,
      "metadata": {},
      "outputs": [
        {
          "data": {
            "text/html": [
              "<div>\n",
              "<style scoped>\n",
              "    .dataframe tbody tr th:only-of-type {\n",
              "        vertical-align: middle;\n",
              "    }\n",
              "\n",
              "    .dataframe tbody tr th {\n",
              "        vertical-align: top;\n",
              "    }\n",
              "\n",
              "    .dataframe thead th {\n",
              "        text-align: right;\n",
              "    }\n",
              "</style>\n",
              "<table border=\"1\" class=\"dataframe\">\n",
              "  <thead>\n",
              "    <tr style=\"text-align: right;\">\n",
              "      <th></th>\n",
              "      <th>disease</th>\n",
              "      <th>model_size</th>\n",
              "      <th>kendall_tau</th>\n",
              "      <th>rbo_score</th>\n",
              "    </tr>\n",
              "  </thead>\n",
              "  <tbody>\n",
              "    <tr>\n",
              "      <th>0</th>\n",
              "      <td>chagas disease</td>\n",
              "      <td>160</td>\n",
              "      <td>0.600000</td>\n",
              "      <td>0.480556</td>\n",
              "    </tr>\n",
              "    <tr>\n",
              "      <th>1</th>\n",
              "      <td>chagas disease</td>\n",
              "      <td>410</td>\n",
              "      <td>0.600000</td>\n",
              "      <td>0.480556</td>\n",
              "    </tr>\n",
              "    <tr>\n",
              "      <th>2</th>\n",
              "      <td>covid-19</td>\n",
              "      <td>160</td>\n",
              "      <td>0.466667</td>\n",
              "      <td>0.730556</td>\n",
              "    </tr>\n",
              "    <tr>\n",
              "      <th>3</th>\n",
              "      <td>covid-19</td>\n",
              "      <td>410</td>\n",
              "      <td>0.600000</td>\n",
              "      <td>0.480556</td>\n",
              "    </tr>\n",
              "    <tr>\n",
              "      <th>4</th>\n",
              "      <td>crohn’s disease</td>\n",
              "      <td>160</td>\n",
              "      <td>0.600000</td>\n",
              "      <td>0.480556</td>\n",
              "    </tr>\n",
              "    <tr>\n",
              "      <th>5</th>\n",
              "      <td>crohn’s disease</td>\n",
              "      <td>410</td>\n",
              "      <td>0.466667</td>\n",
              "      <td>0.480556</td>\n",
              "    </tr>\n",
              "    <tr>\n",
              "      <th>6</th>\n",
              "      <td>endocarditis</td>\n",
              "      <td>160</td>\n",
              "      <td>0.466667</td>\n",
              "      <td>0.730556</td>\n",
              "    </tr>\n",
              "    <tr>\n",
              "      <th>7</th>\n",
              "      <td>endocarditis</td>\n",
              "      <td>410</td>\n",
              "      <td>0.466667</td>\n",
              "      <td>0.730556</td>\n",
              "    </tr>\n",
              "    <tr>\n",
              "      <th>8</th>\n",
              "      <td>hepatitis b</td>\n",
              "      <td>160</td>\n",
              "      <td>0.600000</td>\n",
              "      <td>0.480556</td>\n",
              "    </tr>\n",
              "    <tr>\n",
              "      <th>9</th>\n",
              "      <td>hepatitis b</td>\n",
              "      <td>410</td>\n",
              "      <td>0.600000</td>\n",
              "      <td>0.480556</td>\n",
              "    </tr>\n",
              "  </tbody>\n",
              "</table>\n",
              "</div>"
            ],
            "text/plain": [
              "           disease  model_size  kendall_tau  rbo_score\n",
              "0   chagas disease         160     0.600000   0.480556\n",
              "1   chagas disease         410     0.600000   0.480556\n",
              "2         covid-19         160     0.466667   0.730556\n",
              "3         covid-19         410     0.600000   0.480556\n",
              "4  crohn’s disease         160     0.600000   0.480556\n",
              "5  crohn’s disease         410     0.466667   0.480556\n",
              "6     endocarditis         160     0.466667   0.730556\n",
              "7     endocarditis         410     0.466667   0.730556\n",
              "8      hepatitis b         160     0.600000   0.480556\n",
              "9      hepatitis b         410     0.600000   0.480556"
            ]
          },
          "execution_count": 60,
          "metadata": {},
          "output_type": "execute_result"
        }
      ],
      "source": [
        "rank_df = stats_df.copy()\n",
        "\n",
        "\n",
        "def calculate_ranks(values):\n",
        "    return rankdata(-values, method=\"ordinal\")  # Negative for descending order\n",
        "\n",
        "\n",
        "# Preparing for analysis\n",
        "results = []\n",
        "\n",
        "unique_diseases = rank_df[\"disease\"].unique()\n",
        "unique_model_sizes = rank_df[\"model_size\"].unique()\n",
        "\n",
        "for disease in unique_diseases:\n",
        "    for model_size in unique_model_sizes:\n",
        "        sub_df = rank_df[\n",
        "            (rank_df[\"disease\"] == disease) & (rank_df[\"model_size\"] == model_size)\n",
        "        ].sort_values(by=\"demographic\")\n",
        "\n",
        "        # Convert series to numpy arrays for compatibility with RBO package\n",
        "        mention_counts = sub_df[\"normalized_mention_count\"].values\n",
        "        logits = sub_df[\"logit_value\"].values\n",
        "\n",
        "        mention_ranks = calculate_ranks(mention_counts)\n",
        "        logit_ranks = calculate_ranks(logits)\n",
        "\n",
        "        # Calculate Kendall's Tau\n",
        "        kendall_tau, _ = kendalltau(mention_counts, logits)\n",
        "\n",
        "        # Calculate RBO\n",
        "        rbo_score = rbo.RankingSimilarity(\n",
        "            mention_ranks.tolist(), logit_ranks.tolist()\n",
        "        ).rbo()\n",
        "\n",
        "        # Collect results\n",
        "        results.append(\n",
        "            {\n",
        "                \"disease\": disease,\n",
        "                \"model_size\": model_size,\n",
        "                \"kendall_tau\": kendall_tau,\n",
        "                \"rbo_score\": rbo_score,\n",
        "            }\n",
        "        )\n",
        "\n",
        "# Convert results to DataFrame for easy viewing\n",
        "results_df = pd.DataFrame(results)\n",
        "\n",
        "results_df.head(10)"
      ]
    },
    {
      "cell_type": "markdown",
      "metadata": {},
      "source": [
        "## **Correlations**\n"
      ]
    },
    {
      "cell_type": "code",
      "execution_count": 49,
      "metadata": {},
      "outputs": [
        {
          "data": {
            "text/html": [
              "<div>\n",
              "<style scoped>\n",
              "    .dataframe tbody tr th:only-of-type {\n",
              "        vertical-align: middle;\n",
              "    }\n",
              "\n",
              "    .dataframe tbody tr th {\n",
              "        vertical-align: top;\n",
              "    }\n",
              "\n",
              "    .dataframe thead th {\n",
              "        text-align: right;\n",
              "    }\n",
              "</style>\n",
              "<table border=\"1\" class=\"dataframe\">\n",
              "  <thead>\n",
              "    <tr style=\"text-align: right;\">\n",
              "      <th></th>\n",
              "      <th>logit_value</th>\n",
              "      <th>mention_count</th>\n",
              "      <th>normalized_mention_count</th>\n",
              "    </tr>\n",
              "  </thead>\n",
              "  <tbody>\n",
              "    <tr>\n",
              "      <th>logit_value</th>\n",
              "      <td>1.000000</td>\n",
              "      <td>0.459043</td>\n",
              "      <td>0.489168</td>\n",
              "    </tr>\n",
              "    <tr>\n",
              "      <th>mention_count</th>\n",
              "      <td>0.459043</td>\n",
              "      <td>1.000000</td>\n",
              "      <td>0.512552</td>\n",
              "    </tr>\n",
              "    <tr>\n",
              "      <th>normalized_mention_count</th>\n",
              "      <td>0.489168</td>\n",
              "      <td>0.512552</td>\n",
              "      <td>1.000000</td>\n",
              "    </tr>\n",
              "  </tbody>\n",
              "</table>\n",
              "</div>"
            ],
            "text/plain": [
              "                          logit_value  mention_count  normalized_mention_count\n",
              "logit_value                  1.000000       0.459043                  0.489168\n",
              "mention_count                0.459043       1.000000                  0.512552\n",
              "normalized_mention_count     0.489168       0.512552                  1.000000"
            ]
          },
          "execution_count": 49,
          "metadata": {},
          "output_type": "execute_result"
        }
      ],
      "source": [
        "# Calculate Pearson correlation\n",
        "correlation_matrix = stats_df[\n",
        "    [\"logit_value\", \"mention_count\", \"normalized_mention_count\"]\n",
        "].corr()\n",
        "\n",
        "correlation_matrix"
      ]
    },
    {
      "cell_type": "code",
      "execution_count": null,
      "metadata": {},
      "outputs": [
        {
          "name": "stdout",
          "output_type": "stream",
          "text": [
            "Correlation Matrix for pacific islander:\n",
            "                          logit_value  mention_count  normalized_mention_count\n",
            "logit_value                  1.000000      -0.084510                  0.275532\n",
            "mention_count               -0.084510       1.000000                  0.558159\n",
            "normalized_mention_count     0.275532       0.558159                  1.000000 \n",
            "\n",
            "Correlation Matrix for hispanic:\n",
            "                          logit_value  mention_count  normalized_mention_count\n",
            "logit_value                  1.000000      -0.067509                 -0.056693\n",
            "mention_count               -0.067509       1.000000                 -0.096973\n",
            "normalized_mention_count    -0.056693      -0.096973                  1.000000 \n",
            "\n",
            "Correlation Matrix for asian:\n",
            "                          logit_value  mention_count  normalized_mention_count\n",
            "logit_value                  1.000000      -0.079430                  0.353871\n",
            "mention_count               -0.079430       1.000000                  0.273009\n",
            "normalized_mention_count     0.353871       0.273009                  1.000000 \n",
            "\n",
            "Correlation Matrix for indigenous:\n",
            "                          logit_value  mention_count  normalized_mention_count\n",
            "logit_value                  1.000000      -0.090702                  0.053005\n",
            "mention_count               -0.090702       1.000000                 -0.075139\n",
            "normalized_mention_count     0.053005      -0.075139                  1.000000 \n",
            "\n",
            "Correlation Matrix for white:\n",
            "                          logit_value  mention_count  normalized_mention_count\n",
            "logit_value                  1.000000      -0.095307                       NaN\n",
            "mention_count               -0.095307       1.000000                       NaN\n",
            "normalized_mention_count          NaN            NaN                       NaN \n",
            "\n",
            "Correlation Matrix for black:\n",
            "                          logit_value  mention_count  normalized_mention_count\n",
            "logit_value                  1.000000      -0.090912                  0.046354\n",
            "mention_count               -0.090912       1.000000                 -0.048898\n",
            "normalized_mention_count     0.046354      -0.048898                  1.000000 \n",
            "\n"
          ]
        }
      ],
      "source": [
        "# Function to calculate correlation per demographic\n",
        "def calculate_correlation_per_demographic(dataframe):\n",
        "    demographic_groups = dataframe[\"demographic\"].unique()\n",
        "    correlation_results = {}\n",
        "\n",
        "    for demographic in demographic_groups:\n",
        "        subset = dataframe[dataframe[\"demographic\"] == demographic]\n",
        "        correlation_matrix = subset[\n",
        "            [\"logit_value\", \"mention_count\", \"normalized_mention_count\"]\n",
        "        ].corr()\n",
        "        correlation_results[demographic] = correlation_matrix\n",
        "\n",
        "    return correlation_results\n",
        "\n",
        "\n",
        "# Calculate and print correlation per demographic\n",
        "correlation_results = calculate_correlation_per_demographic(stats_df)\n",
        "for demographic, correlation_matrix in correlation_results.items():\n",
        "    print(f\"Correlation Matrix for {demographic}:\")\n",
        "    print(correlation_matrix, \"\\n\")"
      ]
    },
    {
      "cell_type": "markdown",
      "metadata": {},
      "source": [
        "### **Correlation Analysis Summary**\n",
        "\n",
        "Correlation analysis was performed for each demographic group to understand the relationship between `logit_value`, `mention_count`, and `normalized_mention_count`. Below are the key findings:\n",
        "\n",
        "- **Overall Trends**:\n",
        "  - The correlations between `logit_value` and `mention_count` are generally very weak across all demographics, indicating little to no linear relationship.\n",
        "  - `logit_value` tends to have a slightly more positive correlation with `normalized_mention_count` than with `mention_count`, suggesting that normalization may reveal more about the relationship with logit values.\n",
        "  - The correlation between `mention_count` and `normalized_mention_count` varies significantly across demographics, indicating differing levels of effectiveness of the normalization process across groups.\n"
      ]
    },
    {
      "cell_type": "markdown",
      "metadata": {},
      "source": [
        "## **OLS**\n"
      ]
    },
    {
      "cell_type": "markdown",
      "metadata": {},
      "source": [
        "### Does co-occurrence have a good fit to logit?\n",
        "\n",
        "This purely fits the **mention count against the logit value**, considering data across all demographics and for all diseases. <br>\n",
        "It **does not differentiate** between demographics or specific diseases in its analysis; instead, it assesses the **overall relationship** between how frequently diseases are mentioned (mention count) and their logit values across the entire dataset.<br>\n",
        "This approach provides a broad view of the impact of mention count on logit values without dissecting the effects within specific demographic groups or for individual diseases.\n"
      ]
    },
    {
      "cell_type": "code",
      "execution_count": null,
      "metadata": {},
      "outputs": [
        {
          "name": "stdout",
          "output_type": "stream",
          "text": [
            "                            OLS Regression Results                            \n",
            "==============================================================================\n",
            "Dep. Variable:            logit_value   R-squared:                       0.082\n",
            "Model:                            OLS   Adj. R-squared:                  0.081\n",
            "Method:                 Least Squares   F-statistic:                     55.63\n",
            "Date:                Sat, 17 Feb 2024   Prob (F-statistic):           2.95e-13\n",
            "Time:                        16:43:59   Log-Likelihood:                -2708.6\n",
            "No. Observations:                 624   AIC:                             5421.\n",
            "Df Residuals:                     622   BIC:                             5430.\n",
            "Df Model:                           1                                         \n",
            "Covariance Type:            nonrobust                                         \n",
            "============================================================================================\n",
            "                               coef    std err          t      P>|t|      [0.025      0.975]\n",
            "--------------------------------------------------------------------------------------------\n",
            "const                     -119.6618      0.873   -137.024      0.000    -121.377    -117.947\n",
            "normalized_mention_count     5.9582      0.799      7.459      0.000       4.389       7.527\n",
            "==============================================================================\n",
            "Omnibus:                        9.763   Durbin-Watson:                   0.743\n",
            "Prob(Omnibus):                  0.008   Jarque-Bera (JB):               10.034\n",
            "Skew:                          -0.309   Prob(JB):                      0.00662\n",
            "Kurtosis:                       2.935   Cond. No.                         1.80\n",
            "==============================================================================\n",
            "\n",
            "Notes:\n",
            "[1] Standard Errors assume that the covariance matrix of the errors is correctly specified.\n"
          ]
        }
      ],
      "source": [
        "mention_column = \"normalized_mention_count\"\n",
        "\n",
        "# Assuming df is your DataFrame and it contains 'logit_value' and 'mention_count'\n",
        "X = sm.add_constant(stats_df[mention_column])  # Independent variable\n",
        "y = stats_df[\"logit_value\"]  # Dependent variable\n",
        "\n",
        "model = sm.OLS(y, X).fit()\n",
        "print(model.summary())"
      ]
    },
    {
      "cell_type": "markdown",
      "metadata": {},
      "source": [
        "### **Summary of Model Output**\n",
        "\n",
        "#### **Model Performance**\n",
        "\n",
        "- **R-squared**: 0.082, indicating that approximately 8.2% of the variability in logit values can be explained by the normalized mention counts. While this is a modest proportion, it does suggest that normalized mention counts have some degree of explanatory power in predicting logit values.\n",
        "- **Adjusted R-squared**: 0.081, slightly adjusting for the number of predictors, confirms the model's explanatory power remains modest but significant.\n",
        "- **F-Statistic**: 55.63 with a Prob (F-statistic) of 2.95e-13, indicating that the model is statistically significant. This suggests that there is strong evidence of a relationship between normalized mention counts and logit values.\n",
        "\n",
        "#### **Coefficients Analysis**\n",
        "\n",
        "- **Constant (const)**: The base logit value, when normalized mention counts are zero, is -119.6618. This indicates the expected logit value in the absence of any mention counts, serving as a baseline against which the effect of mention counts is measured.\n",
        "- **Normalized Mention Count**: The coefficient for normalized mention count is 5.9582, with a p-value < 0.001, indicating a statistically significant positive relationship between normalized mention counts and logit values. For each unit increase in normalized mention count, the logit value is expected to increase by approximately 5.9582 units. The confidence interval ([4.389, 7.527]) does not contain zero, further confirming the significance of this predictor.\n",
        "\n",
        "#### **Model Diagnostics**\n",
        "\n",
        "- **Omnibus/Prob(Omnibus)**: The Omnibus test has a value of 9.763 with a p-value of 0.008, suggesting that the residuals of the model may not be normally distributed. This could affect the reliability of the coefficient estimates.\n",
        "- **Durbin-Watson**: The Durbin-Watson statistic is 0.743, indicating potential positive autocorrelation in the residuals. This suggests that the model may not fully capture all the predictive information, possibly due to missing variables or other model specification issues.\n",
        "- **Jarque-Bera (JB)/Prob(JB)**: The Jarque-Bera test gives a value of 10.034 with a p-value of 0.00662, also suggesting deviations from normality in the residuals.\n",
        "\n",
        "#### **Conclusion**\n",
        "\n",
        "The model demonstrates a significant, positive relationship between normalized mention counts and logit values, indicating that as mention counts increase relative to a reference demographic, so do the logit values. However, the modest R-squared value suggests that while normalized mention counts are an important factor, they do not fully capture the complexity of factors influencing logit values. Additionally, diagnostic tests suggest potential issues with residual normality and autocorrelation, indicating the need for further model refinement or the inclusion of additional explanatory variables to better capture the underlying dynamics of logit value determination.\n"
      ]
    },
    {
      "cell_type": "markdown",
      "metadata": {},
      "source": [
        "#### Controlling for model size, how does co-occurrence fit to logit?\n",
        "\n",
        "Next, we'll include model_size, this step will help us understand how co-occurrence relates to logit values when the size of the model is accounted for.\n"
      ]
    },
    {
      "cell_type": "code",
      "execution_count": null,
      "metadata": {},
      "outputs": [
        {
          "name": "stdout",
          "output_type": "stream",
          "text": [
            "                            OLS Regression Results                            \n",
            "==============================================================================\n",
            "Dep. Variable:            logit_value   R-squared:                       0.162\n",
            "Model:                            OLS   Adj. R-squared:                  0.159\n",
            "Method:                 Least Squares   F-statistic:                     60.09\n",
            "Date:                Sat, 17 Feb 2024   Prob (F-statistic):           1.39e-24\n",
            "Time:                        16:43:26   Log-Likelihood:                -2680.2\n",
            "No. Observations:                 624   AIC:                             5366.\n",
            "Df Residuals:                     621   BIC:                             5380.\n",
            "Df Model:                           2                                         \n",
            "Covariance Type:            nonrobust                                         \n",
            "============================================================================================\n",
            "                               coef    std err          t      P>|t|      [0.025      0.975]\n",
            "--------------------------------------------------------------------------------------------\n",
            "const                     -115.6969      0.981   -117.951      0.000    -117.623    -113.771\n",
            "normalized_mention_count     5.9582      0.764      7.800      0.000       4.458       7.458\n",
            "model_size                  -0.0014      0.000     -7.703      0.000      -0.002      -0.001\n",
            "==============================================================================\n",
            "Omnibus:                       10.778   Durbin-Watson:                   0.774\n",
            "Prob(Omnibus):                  0.005   Jarque-Bera (JB):               11.113\n",
            "Skew:                          -0.326   Prob(JB):                      0.00386\n",
            "Kurtosis:                       2.942   Cond. No.                     7.56e+03\n",
            "==============================================================================\n",
            "\n",
            "Notes:\n",
            "[1] Standard Errors assume that the covariance matrix of the errors is correctly specified.\n",
            "[2] The condition number is large, 7.56e+03. This might indicate that there are\n",
            "strong multicollinearity or other numerical problems.\n"
          ]
        }
      ],
      "source": [
        "X = sm.add_constant(stats_df[[mention_column, \"model_size\"]])\n",
        "model = sm.OLS(y, X).fit()\n",
        "print(model.summary())"
      ]
    },
    {
      "cell_type": "markdown",
      "metadata": {},
      "source": [
        "### **Summary of Enhanced Model with Model Size**\n",
        "\n",
        "#### **Model Performance**\n",
        "\n",
        "- **R-squared**: 0.162, indicating that approximately 16.2% of the variability in logit values is explained by the normalized mention counts and model size. This is a significant improvement over the previous model, suggesting that including model size as a variable provides additional explanatory power.\n",
        "- **Adjusted R-squared**: 0.159, which adjusts for the number of predictors, further supports the model's improved fit compared to the simpler model.\n",
        "- **F-Statistic**: 60.09 with a Prob (F-statistic) of 1.39e-24, indicating that the model is highly statistically significant. This strong significance suggests that at least one of the predictors has a meaningful impact on logit values.\n",
        "\n",
        "#### **Coefficients Analysis**\n",
        "\n",
        "- **Constant (const)**: The base logit value, when normalized mention counts are zero and not considering model size, is -115.6969. This acts as the intercept of the model.\n",
        "- **Normalized Mention Count**: Similar to the previous model, each unit increase in normalized mention count is associated with an increase of 5.9582 in the logit value, with a p-value < 0.001. This continues to indicate a statistically significant positive relationship between normalized mention counts and logit values.\n",
        "- **Model Size**: The coefficient for model size is -0.0014, with a p-value < 0.001, suggesting a statistically significant negative relationship between model size and logit values. For each unit increase in model size (measured in millions of parameters), the logit value decreases by approximately 0.0014 units.\n",
        "\n",
        "#### **Model Diagnostics**\n",
        "\n",
        "- **Omnibus/Prob(Omnibus)**: The Omnibus test has a value of 10.778 with a p-value of 0.005, suggesting that the residuals of the model may not be normally distributed.\n",
        "- **Durbin-Watson**: The Durbin-Watson statistic is 0.774, indicating potential positive autocorrelation in the residuals.\n",
        "- **Jarque-Bera (JB)/Prob(JB)**: The Jarque-Bera test gives a value of 11.113 with a p-value of 0.00386, also suggesting deviations from normality in the residuals.\n",
        "\n",
        "#### **Conclusion**\n",
        "\n",
        "The inclusion of model size as a predictor alongside normalized mention counts significantly enhances the model's ability to explain variability in logit values. The significant negative relationship between model size and logit values suggests that larger models may have systematically lower logit values for given mention counts, indicating potential scalability or normalization challenges. However, the model diagnostics indicate potential issues with residual normality and autocorrelation, suggesting the need for further model refinement or exploration of additional explanatory variables to capture more completely the dynamics influencing logit values.\n"
      ]
    },
    {
      "cell_type": "markdown",
      "metadata": {},
      "source": [
        "#### Are there demographic groups that have stronger/weaker co-occurrence fits to logit?\n",
        "\n",
        "Finally, we'll explore the interaction between mention_count and demographic groups to see if the relationship between co-occurrence and logit values varies across different demographic groups.\n"
      ]
    },
    {
      "cell_type": "code",
      "execution_count": null,
      "metadata": {},
      "outputs": [
        {
          "name": "stdout",
          "output_type": "stream",
          "text": [
            "                            OLS Regression Results                            \n",
            "==============================================================================\n",
            "Dep. Variable:            logit_value   R-squared:                       0.828\n",
            "Model:                            OLS   Adj. R-squared:                  0.821\n",
            "Method:                 Least Squares   F-statistic:                     125.5\n",
            "Date:                Sat, 17 Feb 2024   Prob (F-statistic):          7.74e-212\n",
            "Time:                        16:49:38   Log-Likelihood:                -2186.3\n",
            "No. Observations:                 624   AIC:                             4421.\n",
            "Df Residuals:                     600   BIC:                             4527.\n",
            "Df Model:                          23                                         \n",
            "Covariance Type:            nonrobust                                         \n",
            "========================================================================================================\n",
            "                                           coef    std err          t      P>|t|      [0.025      0.975]\n",
            "--------------------------------------------------------------------------------------------------------\n",
            "const                                  -94.1950     15.655     -6.017      0.000    -124.940     -63.450\n",
            "model_size                              -0.0014   8.09e-05    -16.708      0.000      -0.002      -0.001\n",
            "normalized_mention_count                -0.8891     16.857     -0.053      0.958     -33.996      32.217\n",
            "demographic_asian                      -10.1083     16.811     -0.601      0.548     -43.123      22.906\n",
            "demographic_black                       -0.1684     16.889     -0.010      0.992     -33.338      33.001\n",
            "demographic_hispanic                   -13.4419     16.898     -0.795      0.427     -46.627      19.744\n",
            "demographic_indigenous                  -4.8431     16.887     -0.287      0.774     -38.007      28.321\n",
            "demographic_pacific islander           -35.8352     16.223     -2.209      0.028     -67.696      -3.974\n",
            "disease_chagas disease                  -5.1069      1.738     -2.938      0.003      -8.521      -1.693\n",
            "disease_covid-19                       -12.4455      1.891     -6.582      0.000     -16.159      -8.732\n",
            "disease_crohn’s disease                -21.9216      1.581    -13.870      0.000     -25.026     -18.818\n",
            "disease_endocarditis                    -1.9167      1.669     -1.148      0.251      -5.194       1.361\n",
            "disease_hepatitis b                      4.0668      1.841      2.209      0.028       0.451       7.682\n",
            "disease_hiv/aids                       -22.2459      1.662    -13.383      0.000     -25.510     -18.981\n",
            "disease_hypertension                    17.3871      1.760      9.881      0.000      13.931      20.843\n",
            "disease_menstruation                     2.1959      1.858      1.182      0.238      -1.452       5.844\n",
            "disease_sarcoidoses                     -6.6271      1.587     -4.177      0.000      -9.743      -3.511\n",
            "disease_syphilis                       -10.7577      1.612     -6.675      0.000     -13.923      -7.593\n",
            "disease_takotsubo cardiomyopathy       -27.2364      1.578    -17.261      0.000     -30.335     -24.138\n",
            "disease_tuberculoses                    -4.7887      1.601     -2.992      0.003      -7.932      -1.645\n",
            "disease_ulcerative colitis              -4.7984      1.580     -3.036      0.002      -7.902      -1.695\n",
            "mention_demographic_asian                0.9852     18.072      0.055      0.957     -34.507      36.477\n",
            "mention_demographic_black                0.9112     16.855      0.054      0.957     -32.191      34.013\n",
            "mention_demographic_hispanic             0.8784     16.959      0.052      0.959     -32.427      34.184\n",
            "mention_demographic_indigenous           1.1462     17.129      0.067      0.947     -32.495      34.787\n",
            "mention_demographic_pacific islander    24.9880    182.935      0.137      0.891    -334.282     384.258\n",
            "==============================================================================\n",
            "Omnibus:                       22.605   Durbin-Watson:                   0.187\n",
            "Prob(Omnibus):                  0.000   Jarque-Bera (JB):               17.185\n",
            "Skew:                           0.309   Prob(JB):                     0.000185\n",
            "Kurtosis:                       2.473   Cond. No.                     4.41e+19\n",
            "==============================================================================\n",
            "\n",
            "Notes:\n",
            "[1] Standard Errors assume that the covariance matrix of the errors is correctly specified.\n",
            "[2] The smallest eigenvalue is 8.04e-30. This might indicate that there are\n",
            "strong multicollinearity problems or that the design matrix is singular.\n"
          ]
        }
      ],
      "source": [
        "# One-hot encode demographic groups\n",
        "df_encoded = pd.get_dummies(\n",
        "    stats_df, columns=[\"demographic\", \"disease\"], drop_first=False\n",
        ")\n",
        "\n",
        "# drop demographic_white as the reference category\n",
        "df_encoded = df_encoded.drop(columns=[\"demographic_white\"])\n",
        "\n",
        "# Convert boolean True/False to 1/0 for all columns\n",
        "for column in df_encoded.columns:\n",
        "    if df_encoded[column].dtype == \"bool\":\n",
        "        df_encoded[column] = df_encoded[column].astype(int)\n",
        "\n",
        "# Create interaction terms for mention_count and each demographic group\n",
        "for demographic in df_encoded.columns[\n",
        "    df_encoded.columns.str.startswith(\"demographic_\")\n",
        "]:\n",
        "    df_encoded[f\"mention_{demographic}\"] = (\n",
        "        df_encoded[mention_column] * df_encoded[demographic]\n",
        "    )\n",
        "\n",
        "# For regression, ensure to exclude 'logit_value' from X, and set 'logit_value' as y\n",
        "X = sm.add_constant(df_encoded.drop([\"logit_value\", \"mention_count\"], axis=1))\n",
        "y = df_encoded[\"logit_value\"]\n",
        "\n",
        "# Fit the model\n",
        "model = sm.OLS(y, X).fit()\n",
        "\n",
        "# Print the summary\n",
        "print(model.summary())"
      ]
    },
    {
      "cell_type": "markdown",
      "metadata": {},
      "source": [
        "### **Summary of Enhanced Model with Normalized Mention Counts**\n",
        "\n",
        "#### **Model Enhancements and Performance**\n",
        "\n",
        "- **R-squared**: 0.828, maintaining a high degree of variability in logit values explained by the model. This indicates a robust model that effectively captures the relationship between the predictors and logit values.\n",
        "- **Adjusted R-squared**: 0.821, indicating the model's explanatory power remains strong even after adjusting for the number of predictors.\n",
        "- **F-Statistic**: 125.5, with a Prob (F-statistic) of 7.74e-212, suggesting the model's predictors significantly impact logit values collectively.\n",
        "\n",
        "#### **Key Predictors and Their Impact**\n",
        "\n",
        "- **Constant (const)**: The base logit value is -94.1950, indicating the starting logit value when all other predictors are zero.\n",
        "- **Model Size**: Every unit increase in model size decreases the logit value by -0.0014, reaffirming the significant impact of model complexity on logit values.\n",
        "- **Normalized Mention Count**: The coefficient for normalized mention count is -0.8891, but with a high p-value (0.958), indicating that the normalized mention count's impact on logit values is not statistically significant.\n",
        "- **Demographics and Diseases**: Specific demographics and diseases continue to have a significant effect on logit values. For instance, `demographic_pacific islander` significantly decreases logit values, while diseases like `disease_crohn’s disease` and `disease_hiv/aids` have substantial impacts on adjusting logit values.\n",
        "- **Interaction Terms**: The interaction terms between mention counts and demographics did not show significant effects, which could be due to the high multicollinearity or other model complexities.\n",
        "\n",
        "#### **Diagnostics and Considerations**\n",
        "\n",
        "- **Model Diagnostics**: The Omnibus, Prob(Omnibus), Jarque-Bera (JB), and Prob(JB) tests suggest potential issues with the normality of residuals, which may affect the model's assumptions.\n",
        "- **Durbin-Watson Statistic**: A low Durbin-Watson statistic indicates potential autocorrelation in the residuals, which should be considered in model evaluations.\n",
        "\n",
        "#### **Conclusion**\n",
        "\n",
        "This enhanced model demonstrates a strong predictive capability for logit values based on a sophisticated combination of demographics, diseases, mention counts, model size, and their interactions. However, the significant R-squared value contrasted with the non-significant impact of normalized mention counts and some interaction terms suggests that the model's complexity may introduce challenges in interpretation. Additionally, potential issues indicated by the model diagnostics (e.g., non-normality of residuals, autocorrelation) warrant careful consideration and possibly further model refinement to ensure robust and reliable predictions.\n"
      ]
    },
    {
      "cell_type": "markdown",
      "metadata": {},
      "source": [
        "## **HLM**\n"
      ]
    },
    {
      "cell_type": "code",
      "execution_count": null,
      "metadata": {},
      "outputs": [
        {
          "name": "stdout",
          "output_type": "stream",
          "text": [
            "                       Mixed Linear Model Regression Results\n",
            "====================================================================================\n",
            "Model:                     MixedLM          Dependent Variable:          logit_value\n",
            "No. Observations:          624              Method:                      REML       \n",
            "No. Groups:                8                Scale:                       150.5087   \n",
            "Min. group size:           78               Log-Likelihood:              -2452.6312 \n",
            "Max. group size:           78               Converged:                   Yes        \n",
            "Mean group size:           78.0                                                     \n",
            "------------------------------------------------------------------------------------\n",
            "                                    Coef.   Std.Err.    z    P>|z|  [0.025   0.975] \n",
            "------------------------------------------------------------------------------------\n",
            "Intercept                          -115.547    3.601 -32.089 0.000 -122.605 -108.490\n",
            "C(demographic)[T.black]               9.128    2.173   4.201 0.000    4.869   13.387\n",
            "C(demographic)[T.hispanic]           -3.465    1.712  -2.024 0.043   -6.821   -0.110\n",
            "C(demographic)[T.indigenous]          5.273    1.701   3.099 0.002    1.938    8.608\n",
            "C(demographic)[T.pacific islander]  -25.616    1.703 -15.046 0.000  -28.953  -22.280\n",
            "C(demographic)[T.white]               8.779    1.836   4.782 0.000    5.181   12.378\n",
            "normalized_mention_count              0.473    0.757   0.625 0.532   -1.011    1.958\n",
            "Group Var                            92.115    4.122                                \n",
            "====================================================================================\n",
            "\n"
          ]
        }
      ],
      "source": [
        "hml_stats_df = stats_backup_df.copy()\n",
        "\n",
        "md = smf.mixedlm(\n",
        "    \"logit_value ~ normalized_mention_count + C(demographic)\",\n",
        "    hml_stats_df,\n",
        "    groups=hml_stats_df[\"model_size\"],\n",
        ")\n",
        "mdf = md.fit()\n",
        "\n",
        "print(mdf.summary())"
      ]
    },
    {
      "cell_type": "markdown",
      "metadata": {},
      "source": [
        "### **HLM Regression Results Summary**\n",
        "\n",
        "#### Model Overview\n",
        "\n",
        "- **Dependent Variable**: Logit Value\n",
        "- **Number of Observations**: 624\n",
        "- **Number of Groups (Demographics)**: 8\n",
        "- **Method Used**: REML (Restricted Maximum Likelihood)\n",
        "- **Model Scale (Variance of Residuals)**: 150.5087\n",
        "- **Log-Likelihood**: -2452.6312\n",
        "- **Convergence**: Yes\n",
        "\n",
        "#### Coefficients Summary\n",
        "\n",
        "The base logit value, assuming no other influences, is -115.547 with a highly significant impact on the model outcome.\n",
        "\n",
        "- **Demographic Groups Impact**:\n",
        "\n",
        "  - **Black**: An increase of 9.128 in the logit value, significantly different from the base demographic (p < 0.0001).\n",
        "  - **Hispanic**: A decrease of -3.465 in the logit value, significant at the p = 0.043 level.\n",
        "  - **Indigenous**: An increase of 5.273 in the logit value, significant at the p = 0.002 level.\n",
        "  - **Pacific Islander**: A notable decrease of -25.616 in the logit value, highly significant (p < 0.0001).\n",
        "  - **White**: An increase of 8.779 in the logit value compared to the base demographic, significant at p < 0.0001.\n",
        "\n",
        "- **Normalized Mention Count**: Shows a coefficient of 0.473, indicating a minimal and non-significant influence on the logit value (p = 0.532).\n",
        "\n",
        "#### Random Effects\n",
        "\n",
        "- **Group Variance**: Indicates variability across different demographics, with a variance of 92.115, suggesting differences in logit values not explained by the fixed effects in the model.\n",
        "\n",
        "#### Conclusion\n",
        "\n",
        "The HLM analysis reveals significant demographic differences in logit values, highlighting the particularly large decrease for Pacific Islanders and increases for Black and White demographics. The normalized mention count has a minimal, non-significant effect on logit values, underscoring the predominant influence of demographic factors and inherent group variability on the model outcomes. This analysis emphasizes the importance of considering demographic backgrounds in understanding the variations in logit values.\n"
      ]
    },
    {
      "cell_type": "markdown",
      "metadata": {},
      "source": [
        "# To Do\n",
        "\n",
        "- total disease counts without race mention -> no_race demographic\n",
        "  - see how this affects the model\n",
        "  - use this as the normalisation reference\n",
        "- MSE/ bland altman plot\n",
        "- Fix generalisation of race-gender\n",
        "- Fix mamba run shell script\n",
        "- add templates\n"
      ]
    }
  ],
  "metadata": {
    "accelerator": "GPU",
    "colab": {
      "gpuType": "T4",
      "machine_shape": "hm",
      "provenance": []
    },
    "kernelspec": {
      "display_name": "Python 3",
      "name": "python3"
    },
    "language_info": {
      "codemirror_mode": {
        "name": "ipython",
        "version": 3
      },
      "file_extension": ".py",
      "mimetype": "text/x-python",
      "name": "python",
      "nbconvert_exporter": "python",
      "pygments_lexer": "ipython3",
      "version": "3.8.18"
    },
    "widgets": {
      "application/vnd.jupyter.widget-state+json": {
        "005393f224774d5aab3830b1f807b75a": {
          "model_module": "@jupyter-widgets/controls",
          "model_module_version": "1.5.0",
          "model_name": "DescriptionStyleModel",
          "state": {
            "_model_module": "@jupyter-widgets/controls",
            "_model_module_version": "1.5.0",
            "_model_name": "DescriptionStyleModel",
            "_view_count": null,
            "_view_module": "@jupyter-widgets/base",
            "_view_module_version": "1.2.0",
            "_view_name": "StyleView",
            "description_width": ""
          }
        },
        "0410e6e958864d448de49f7e5aa30fb3": {
          "model_module": "@jupyter-widgets/controls",
          "model_module_version": "1.5.0",
          "model_name": "ProgressStyleModel",
          "state": {
            "_model_module": "@jupyter-widgets/controls",
            "_model_module_version": "1.5.0",
            "_model_name": "ProgressStyleModel",
            "_view_count": null,
            "_view_module": "@jupyter-widgets/base",
            "_view_module_version": "1.2.0",
            "_view_name": "StyleView",
            "bar_color": null,
            "description_width": ""
          }
        },
        "0618714780f74e71b57ff6ca9ecc422d": {
          "model_module": "@jupyter-widgets/base",
          "model_module_version": "1.2.0",
          "model_name": "LayoutModel",
          "state": {
            "_model_module": "@jupyter-widgets/base",
            "_model_module_version": "1.2.0",
            "_model_name": "LayoutModel",
            "_view_count": null,
            "_view_module": "@jupyter-widgets/base",
            "_view_module_version": "1.2.0",
            "_view_name": "LayoutView",
            "align_content": null,
            "align_items": null,
            "align_self": null,
            "border": null,
            "bottom": null,
            "display": null,
            "flex": null,
            "flex_flow": null,
            "grid_area": null,
            "grid_auto_columns": null,
            "grid_auto_flow": null,
            "grid_auto_rows": null,
            "grid_column": null,
            "grid_gap": null,
            "grid_row": null,
            "grid_template_areas": null,
            "grid_template_columns": null,
            "grid_template_rows": null,
            "height": null,
            "justify_content": null,
            "justify_items": null,
            "left": null,
            "margin": null,
            "max_height": null,
            "max_width": null,
            "min_height": null,
            "min_width": null,
            "object_fit": null,
            "object_position": null,
            "order": null,
            "overflow": null,
            "overflow_x": null,
            "overflow_y": null,
            "padding": null,
            "right": null,
            "top": null,
            "visibility": null,
            "width": null
          }
        },
        "0acadeee302b412cabe51a90c798e3a4": {
          "model_module": "@jupyter-widgets/controls",
          "model_module_version": "1.5.0",
          "model_name": "ProgressStyleModel",
          "state": {
            "_model_module": "@jupyter-widgets/controls",
            "_model_module_version": "1.5.0",
            "_model_name": "ProgressStyleModel",
            "_view_count": null,
            "_view_module": "@jupyter-widgets/base",
            "_view_module_version": "1.2.0",
            "_view_name": "StyleView",
            "bar_color": null,
            "description_width": ""
          }
        },
        "0c374295185943d5874eb5043cf45dda": {
          "model_module": "@jupyter-widgets/controls",
          "model_module_version": "1.5.0",
          "model_name": "HTMLModel",
          "state": {
            "_dom_classes": [],
            "_model_module": "@jupyter-widgets/controls",
            "_model_module_version": "1.5.0",
            "_model_name": "HTMLModel",
            "_view_count": null,
            "_view_module": "@jupyter-widgets/controls",
            "_view_module_version": "1.5.0",
            "_view_name": "HTMLView",
            "description": "",
            "description_tooltip": null,
            "layout": "IPY_MODEL_7827db7065ed414c826e0f7f6ca69cec",
            "placeholder": "​",
            "style": "IPY_MODEL_cd3ec4dba25a4a5ea86d4227e30266d2",
            "value": "merges.txt: 100%"
          }
        },
        "10367d28a71b49158d7d3c8b37d63b93": {
          "model_module": "@jupyter-widgets/controls",
          "model_module_version": "1.5.0",
          "model_name": "DescriptionStyleModel",
          "state": {
            "_model_module": "@jupyter-widgets/controls",
            "_model_module_version": "1.5.0",
            "_model_name": "DescriptionStyleModel",
            "_view_count": null,
            "_view_module": "@jupyter-widgets/base",
            "_view_module_version": "1.2.0",
            "_view_name": "StyleView",
            "description_width": ""
          }
        },
        "105f1b4c5d0e4210a04e7c2808c618a3": {
          "model_module": "@jupyter-widgets/base",
          "model_module_version": "1.2.0",
          "model_name": "LayoutModel",
          "state": {
            "_model_module": "@jupyter-widgets/base",
            "_model_module_version": "1.2.0",
            "_model_name": "LayoutModel",
            "_view_count": null,
            "_view_module": "@jupyter-widgets/base",
            "_view_module_version": "1.2.0",
            "_view_name": "LayoutView",
            "align_content": null,
            "align_items": null,
            "align_self": null,
            "border": null,
            "bottom": null,
            "display": null,
            "flex": null,
            "flex_flow": null,
            "grid_area": null,
            "grid_auto_columns": null,
            "grid_auto_flow": null,
            "grid_auto_rows": null,
            "grid_column": null,
            "grid_gap": null,
            "grid_row": null,
            "grid_template_areas": null,
            "grid_template_columns": null,
            "grid_template_rows": null,
            "height": null,
            "justify_content": null,
            "justify_items": null,
            "left": null,
            "margin": null,
            "max_height": null,
            "max_width": null,
            "min_height": null,
            "min_width": null,
            "object_fit": null,
            "object_position": null,
            "order": null,
            "overflow": null,
            "overflow_x": null,
            "overflow_y": null,
            "padding": null,
            "right": null,
            "top": null,
            "visibility": null,
            "width": null
          }
        },
        "1397bf6a64194dc18df9f61debfd4ff8": {
          "model_module": "@jupyter-widgets/controls",
          "model_module_version": "1.5.0",
          "model_name": "HBoxModel",
          "state": {
            "_dom_classes": [],
            "_model_module": "@jupyter-widgets/controls",
            "_model_module_version": "1.5.0",
            "_model_name": "HBoxModel",
            "_view_count": null,
            "_view_module": "@jupyter-widgets/controls",
            "_view_module_version": "1.5.0",
            "_view_name": "HBoxView",
            "box_style": "",
            "children": [
              "IPY_MODEL_df8ad4c0a09a45ea8163cae2f8a14431",
              "IPY_MODEL_cd7fa3ecc46b45329b352049cd2c9b27",
              "IPY_MODEL_4e2d9a63c25f43a1a171e866e807baee"
            ],
            "layout": "IPY_MODEL_105f1b4c5d0e4210a04e7c2808c618a3"
          }
        },
        "153059483b394715adbf9049e29c7da2": {
          "model_module": "@jupyter-widgets/base",
          "model_module_version": "1.2.0",
          "model_name": "LayoutModel",
          "state": {
            "_model_module": "@jupyter-widgets/base",
            "_model_module_version": "1.2.0",
            "_model_name": "LayoutModel",
            "_view_count": null,
            "_view_module": "@jupyter-widgets/base",
            "_view_module_version": "1.2.0",
            "_view_name": "LayoutView",
            "align_content": null,
            "align_items": null,
            "align_self": null,
            "border": null,
            "bottom": null,
            "display": null,
            "flex": null,
            "flex_flow": null,
            "grid_area": null,
            "grid_auto_columns": null,
            "grid_auto_flow": null,
            "grid_auto_rows": null,
            "grid_column": null,
            "grid_gap": null,
            "grid_row": null,
            "grid_template_areas": null,
            "grid_template_columns": null,
            "grid_template_rows": null,
            "height": null,
            "justify_content": null,
            "justify_items": null,
            "left": null,
            "margin": null,
            "max_height": null,
            "max_width": null,
            "min_height": null,
            "min_width": null,
            "object_fit": null,
            "object_position": null,
            "order": null,
            "overflow": null,
            "overflow_x": null,
            "overflow_y": null,
            "padding": null,
            "right": null,
            "top": null,
            "visibility": null,
            "width": null
          }
        },
        "16a05f43b6104a1f9051bf11bcb728e5": {
          "model_module": "@jupyter-widgets/base",
          "model_module_version": "1.2.0",
          "model_name": "LayoutModel",
          "state": {
            "_model_module": "@jupyter-widgets/base",
            "_model_module_version": "1.2.0",
            "_model_name": "LayoutModel",
            "_view_count": null,
            "_view_module": "@jupyter-widgets/base",
            "_view_module_version": "1.2.0",
            "_view_name": "LayoutView",
            "align_content": null,
            "align_items": null,
            "align_self": null,
            "border": null,
            "bottom": null,
            "display": null,
            "flex": null,
            "flex_flow": null,
            "grid_area": null,
            "grid_auto_columns": null,
            "grid_auto_flow": null,
            "grid_auto_rows": null,
            "grid_column": null,
            "grid_gap": null,
            "grid_row": null,
            "grid_template_areas": null,
            "grid_template_columns": null,
            "grid_template_rows": null,
            "height": null,
            "justify_content": null,
            "justify_items": null,
            "left": null,
            "margin": null,
            "max_height": null,
            "max_width": null,
            "min_height": null,
            "min_width": null,
            "object_fit": null,
            "object_position": null,
            "order": null,
            "overflow": null,
            "overflow_x": null,
            "overflow_y": null,
            "padding": null,
            "right": null,
            "top": null,
            "visibility": null,
            "width": null
          }
        },
        "18e51d3bfe644c9b854bb7b41e80dd26": {
          "model_module": "@jupyter-widgets/base",
          "model_module_version": "1.2.0",
          "model_name": "LayoutModel",
          "state": {
            "_model_module": "@jupyter-widgets/base",
            "_model_module_version": "1.2.0",
            "_model_name": "LayoutModel",
            "_view_count": null,
            "_view_module": "@jupyter-widgets/base",
            "_view_module_version": "1.2.0",
            "_view_name": "LayoutView",
            "align_content": null,
            "align_items": null,
            "align_self": null,
            "border": null,
            "bottom": null,
            "display": null,
            "flex": null,
            "flex_flow": null,
            "grid_area": null,
            "grid_auto_columns": null,
            "grid_auto_flow": null,
            "grid_auto_rows": null,
            "grid_column": null,
            "grid_gap": null,
            "grid_row": null,
            "grid_template_areas": null,
            "grid_template_columns": null,
            "grid_template_rows": null,
            "height": null,
            "justify_content": null,
            "justify_items": null,
            "left": null,
            "margin": null,
            "max_height": null,
            "max_width": null,
            "min_height": null,
            "min_width": null,
            "object_fit": null,
            "object_position": null,
            "order": null,
            "overflow": null,
            "overflow_x": null,
            "overflow_y": null,
            "padding": null,
            "right": null,
            "top": null,
            "visibility": null,
            "width": null
          }
        },
        "19625dfd40024a28b53524c6b5010740": {
          "model_module": "@jupyter-widgets/controls",
          "model_module_version": "1.5.0",
          "model_name": "DescriptionStyleModel",
          "state": {
            "_model_module": "@jupyter-widgets/controls",
            "_model_module_version": "1.5.0",
            "_model_name": "DescriptionStyleModel",
            "_view_count": null,
            "_view_module": "@jupyter-widgets/base",
            "_view_module_version": "1.2.0",
            "_view_name": "StyleView",
            "description_width": ""
          }
        },
        "1973d9c73b004bc6bf01c33620597652": {
          "model_module": "@jupyter-widgets/controls",
          "model_module_version": "1.5.0",
          "model_name": "ProgressStyleModel",
          "state": {
            "_model_module": "@jupyter-widgets/controls",
            "_model_module_version": "1.5.0",
            "_model_name": "ProgressStyleModel",
            "_view_count": null,
            "_view_module": "@jupyter-widgets/base",
            "_view_module_version": "1.2.0",
            "_view_name": "StyleView",
            "bar_color": null,
            "description_width": ""
          }
        },
        "1c2e99c77a6e4940bb590bf8e300b25c": {
          "model_module": "@jupyter-widgets/controls",
          "model_module_version": "1.5.0",
          "model_name": "DescriptionStyleModel",
          "state": {
            "_model_module": "@jupyter-widgets/controls",
            "_model_module_version": "1.5.0",
            "_model_name": "DescriptionStyleModel",
            "_view_count": null,
            "_view_module": "@jupyter-widgets/base",
            "_view_module_version": "1.2.0",
            "_view_name": "StyleView",
            "description_width": ""
          }
        },
        "2323a76ff09a4dd1a09c3255447f189b": {
          "model_module": "@jupyter-widgets/base",
          "model_module_version": "1.2.0",
          "model_name": "LayoutModel",
          "state": {
            "_model_module": "@jupyter-widgets/base",
            "_model_module_version": "1.2.0",
            "_model_name": "LayoutModel",
            "_view_count": null,
            "_view_module": "@jupyter-widgets/base",
            "_view_module_version": "1.2.0",
            "_view_name": "LayoutView",
            "align_content": null,
            "align_items": null,
            "align_self": null,
            "border": null,
            "bottom": null,
            "display": null,
            "flex": null,
            "flex_flow": null,
            "grid_area": null,
            "grid_auto_columns": null,
            "grid_auto_flow": null,
            "grid_auto_rows": null,
            "grid_column": null,
            "grid_gap": null,
            "grid_row": null,
            "grid_template_areas": null,
            "grid_template_columns": null,
            "grid_template_rows": null,
            "height": null,
            "justify_content": null,
            "justify_items": null,
            "left": null,
            "margin": null,
            "max_height": null,
            "max_width": null,
            "min_height": null,
            "min_width": null,
            "object_fit": null,
            "object_position": null,
            "order": null,
            "overflow": null,
            "overflow_x": null,
            "overflow_y": null,
            "padding": null,
            "right": null,
            "top": null,
            "visibility": null,
            "width": null
          }
        },
        "27bfc4b138b641f49c624642003f39e6": {
          "model_module": "@jupyter-widgets/base",
          "model_module_version": "1.2.0",
          "model_name": "LayoutModel",
          "state": {
            "_model_module": "@jupyter-widgets/base",
            "_model_module_version": "1.2.0",
            "_model_name": "LayoutModel",
            "_view_count": null,
            "_view_module": "@jupyter-widgets/base",
            "_view_module_version": "1.2.0",
            "_view_name": "LayoutView",
            "align_content": null,
            "align_items": null,
            "align_self": null,
            "border": null,
            "bottom": null,
            "display": null,
            "flex": null,
            "flex_flow": null,
            "grid_area": null,
            "grid_auto_columns": null,
            "grid_auto_flow": null,
            "grid_auto_rows": null,
            "grid_column": null,
            "grid_gap": null,
            "grid_row": null,
            "grid_template_areas": null,
            "grid_template_columns": null,
            "grid_template_rows": null,
            "height": null,
            "justify_content": null,
            "justify_items": null,
            "left": null,
            "margin": null,
            "max_height": null,
            "max_width": null,
            "min_height": null,
            "min_width": null,
            "object_fit": null,
            "object_position": null,
            "order": null,
            "overflow": null,
            "overflow_x": null,
            "overflow_y": null,
            "padding": null,
            "right": null,
            "top": null,
            "visibility": null,
            "width": null
          }
        },
        "2ef9ddd976ff4b11bda2af153195b8e4": {
          "model_module": "@jupyter-widgets/controls",
          "model_module_version": "1.5.0",
          "model_name": "DescriptionStyleModel",
          "state": {
            "_model_module": "@jupyter-widgets/controls",
            "_model_module_version": "1.5.0",
            "_model_name": "DescriptionStyleModel",
            "_view_count": null,
            "_view_module": "@jupyter-widgets/base",
            "_view_module_version": "1.2.0",
            "_view_name": "StyleView",
            "description_width": ""
          }
        },
        "309e8de0629d44b9a7e57a2f767288bc": {
          "model_module": "@jupyter-widgets/controls",
          "model_module_version": "1.5.0",
          "model_name": "HBoxModel",
          "state": {
            "_dom_classes": [],
            "_model_module": "@jupyter-widgets/controls",
            "_model_module_version": "1.5.0",
            "_model_name": "HBoxModel",
            "_view_count": null,
            "_view_module": "@jupyter-widgets/controls",
            "_view_module_version": "1.5.0",
            "_view_name": "HBoxView",
            "box_style": "",
            "children": [
              "IPY_MODEL_730552eff96c4013842d13e19d6bf1e8",
              "IPY_MODEL_6d5919ebddbe43dd80af648d183f0ba6",
              "IPY_MODEL_ec426d56a3934164aa2e8d41a9c15e71"
            ],
            "layout": "IPY_MODEL_9fe310136a3c40faae39887ddf6f3f7b"
          }
        },
        "35e40500cdb94079919bb27b50f9c6b6": {
          "model_module": "@jupyter-widgets/base",
          "model_module_version": "1.2.0",
          "model_name": "LayoutModel",
          "state": {
            "_model_module": "@jupyter-widgets/base",
            "_model_module_version": "1.2.0",
            "_model_name": "LayoutModel",
            "_view_count": null,
            "_view_module": "@jupyter-widgets/base",
            "_view_module_version": "1.2.0",
            "_view_name": "LayoutView",
            "align_content": null,
            "align_items": null,
            "align_self": null,
            "border": null,
            "bottom": null,
            "display": null,
            "flex": null,
            "flex_flow": null,
            "grid_area": null,
            "grid_auto_columns": null,
            "grid_auto_flow": null,
            "grid_auto_rows": null,
            "grid_column": null,
            "grid_gap": null,
            "grid_row": null,
            "grid_template_areas": null,
            "grid_template_columns": null,
            "grid_template_rows": null,
            "height": null,
            "justify_content": null,
            "justify_items": null,
            "left": null,
            "margin": null,
            "max_height": null,
            "max_width": null,
            "min_height": null,
            "min_width": null,
            "object_fit": null,
            "object_position": null,
            "order": null,
            "overflow": null,
            "overflow_x": null,
            "overflow_y": null,
            "padding": null,
            "right": null,
            "top": null,
            "visibility": null,
            "width": null
          }
        },
        "38a597ba4bd941f6902e8cca26a9fd09": {
          "model_module": "@jupyter-widgets/controls",
          "model_module_version": "1.5.0",
          "model_name": "ProgressStyleModel",
          "state": {
            "_model_module": "@jupyter-widgets/controls",
            "_model_module_version": "1.5.0",
            "_model_name": "ProgressStyleModel",
            "_view_count": null,
            "_view_module": "@jupyter-widgets/base",
            "_view_module_version": "1.2.0",
            "_view_name": "StyleView",
            "bar_color": null,
            "description_width": ""
          }
        },
        "3a229c794f3c405294dcd2c34a9d72bd": {
          "model_module": "@jupyter-widgets/controls",
          "model_module_version": "1.5.0",
          "model_name": "HBoxModel",
          "state": {
            "_dom_classes": [],
            "_model_module": "@jupyter-widgets/controls",
            "_model_module_version": "1.5.0",
            "_model_name": "HBoxModel",
            "_view_count": null,
            "_view_module": "@jupyter-widgets/controls",
            "_view_module_version": "1.5.0",
            "_view_name": "HBoxView",
            "box_style": "",
            "children": [
              "IPY_MODEL_e98a22c9995d46a18211347fa5ad1c47",
              "IPY_MODEL_a6a6987c830b4fde883fdb5957be1d5f",
              "IPY_MODEL_a47218c5fb5941648fe6fd5c00687c85"
            ],
            "layout": "IPY_MODEL_f789650bc5ee4d959ec06a10f68fa6ab"
          }
        },
        "3dfb6254cf194f818d29bb63b0f6c8aa": {
          "model_module": "@jupyter-widgets/controls",
          "model_module_version": "1.5.0",
          "model_name": "HTMLModel",
          "state": {
            "_dom_classes": [],
            "_model_module": "@jupyter-widgets/controls",
            "_model_module_version": "1.5.0",
            "_model_name": "HTMLModel",
            "_view_count": null,
            "_view_module": "@jupyter-widgets/controls",
            "_view_module_version": "1.5.0",
            "_view_name": "HTMLView",
            "description": "",
            "description_tooltip": null,
            "layout": "IPY_MODEL_bf3a7a95f87748a2bd55cbdc60b3f709",
            "placeholder": "​",
            "style": "IPY_MODEL_4046602725284238ad01577bffbef240",
            "value": "vocab.json: 100%"
          }
        },
        "3ea390eff44144c5b454c70293f80dd6": {
          "model_module": "@jupyter-widgets/controls",
          "model_module_version": "1.5.0",
          "model_name": "HBoxModel",
          "state": {
            "_dom_classes": [],
            "_model_module": "@jupyter-widgets/controls",
            "_model_module_version": "1.5.0",
            "_model_name": "HBoxModel",
            "_view_count": null,
            "_view_module": "@jupyter-widgets/controls",
            "_view_module_version": "1.5.0",
            "_view_name": "HBoxView",
            "box_style": "",
            "children": [
              "IPY_MODEL_8190210c8e3c48ca8c94c39c84b71998",
              "IPY_MODEL_54f4ca22273749f5a9d5c33079ffa06e",
              "IPY_MODEL_4d95b24ace8245eca075d6c6ce5b0c6b"
            ],
            "layout": "IPY_MODEL_ac1ef0a9091f41c9a3402a86a38630a0"
          }
        },
        "4046602725284238ad01577bffbef240": {
          "model_module": "@jupyter-widgets/controls",
          "model_module_version": "1.5.0",
          "model_name": "DescriptionStyleModel",
          "state": {
            "_model_module": "@jupyter-widgets/controls",
            "_model_module_version": "1.5.0",
            "_model_name": "DescriptionStyleModel",
            "_view_count": null,
            "_view_module": "@jupyter-widgets/base",
            "_view_module_version": "1.2.0",
            "_view_name": "StyleView",
            "description_width": ""
          }
        },
        "4d95b24ace8245eca075d6c6ce5b0c6b": {
          "model_module": "@jupyter-widgets/controls",
          "model_module_version": "1.5.0",
          "model_name": "HTMLModel",
          "state": {
            "_dom_classes": [],
            "_model_module": "@jupyter-widgets/controls",
            "_model_module_version": "1.5.0",
            "_model_name": "HTMLModel",
            "_view_count": null,
            "_view_module": "@jupyter-widgets/controls",
            "_view_module_version": "1.5.0",
            "_view_name": "HTMLView",
            "description": "",
            "description_tooltip": null,
            "layout": "IPY_MODEL_e46053cb20a6417fb693fee9d607473f",
            "placeholder": "​",
            "style": "IPY_MODEL_10367d28a71b49158d7d3c8b37d63b93",
            "value": " 548M/548M [00:02&lt;00:00, 158MB/s]"
          }
        },
        "4e2d9a63c25f43a1a171e866e807baee": {
          "model_module": "@jupyter-widgets/controls",
          "model_module_version": "1.5.0",
          "model_name": "HTMLModel",
          "state": {
            "_dom_classes": [],
            "_model_module": "@jupyter-widgets/controls",
            "_model_module_version": "1.5.0",
            "_model_name": "HTMLModel",
            "_view_count": null,
            "_view_module": "@jupyter-widgets/controls",
            "_view_module_version": "1.5.0",
            "_view_name": "HTMLView",
            "description": "",
            "description_tooltip": null,
            "layout": "IPY_MODEL_a3ba39941b654fd8a9eb8c3a88061068",
            "placeholder": "​",
            "style": "IPY_MODEL_8e4ab720bc874bdaa651c21cc25a7668",
            "value": " 1.36M/1.36M [00:00&lt;00:00, 2.42MB/s]"
          }
        },
        "54f4ca22273749f5a9d5c33079ffa06e": {
          "model_module": "@jupyter-widgets/controls",
          "model_module_version": "1.5.0",
          "model_name": "FloatProgressModel",
          "state": {
            "_dom_classes": [],
            "_model_module": "@jupyter-widgets/controls",
            "_model_module_version": "1.5.0",
            "_model_name": "FloatProgressModel",
            "_view_count": null,
            "_view_module": "@jupyter-widgets/controls",
            "_view_module_version": "1.5.0",
            "_view_name": "ProgressView",
            "bar_style": "success",
            "description": "",
            "description_tooltip": null,
            "layout": "IPY_MODEL_153059483b394715adbf9049e29c7da2",
            "max": 548105171,
            "min": 0,
            "orientation": "horizontal",
            "style": "IPY_MODEL_38a597ba4bd941f6902e8cca26a9fd09",
            "value": 548105171
          }
        },
        "5d4620e65176433992b090aaa090a9c7": {
          "model_module": "@jupyter-widgets/controls",
          "model_module_version": "1.5.0",
          "model_name": "DescriptionStyleModel",
          "state": {
            "_model_module": "@jupyter-widgets/controls",
            "_model_module_version": "1.5.0",
            "_model_name": "DescriptionStyleModel",
            "_view_count": null,
            "_view_module": "@jupyter-widgets/base",
            "_view_module_version": "1.2.0",
            "_view_name": "StyleView",
            "description_width": ""
          }
        },
        "5fa8dfe2eee24916a82736e9292f1672": {
          "model_module": "@jupyter-widgets/controls",
          "model_module_version": "1.5.0",
          "model_name": "ProgressStyleModel",
          "state": {
            "_model_module": "@jupyter-widgets/controls",
            "_model_module_version": "1.5.0",
            "_model_name": "ProgressStyleModel",
            "_view_count": null,
            "_view_module": "@jupyter-widgets/base",
            "_view_module_version": "1.2.0",
            "_view_name": "StyleView",
            "bar_color": null,
            "description_width": ""
          }
        },
        "60be627eac1c497182aa6aef686827ac": {
          "model_module": "@jupyter-widgets/base",
          "model_module_version": "1.2.0",
          "model_name": "LayoutModel",
          "state": {
            "_model_module": "@jupyter-widgets/base",
            "_model_module_version": "1.2.0",
            "_model_name": "LayoutModel",
            "_view_count": null,
            "_view_module": "@jupyter-widgets/base",
            "_view_module_version": "1.2.0",
            "_view_name": "LayoutView",
            "align_content": null,
            "align_items": null,
            "align_self": null,
            "border": null,
            "bottom": null,
            "display": null,
            "flex": null,
            "flex_flow": null,
            "grid_area": null,
            "grid_auto_columns": null,
            "grid_auto_flow": null,
            "grid_auto_rows": null,
            "grid_column": null,
            "grid_gap": null,
            "grid_row": null,
            "grid_template_areas": null,
            "grid_template_columns": null,
            "grid_template_rows": null,
            "height": null,
            "justify_content": null,
            "justify_items": null,
            "left": null,
            "margin": null,
            "max_height": null,
            "max_width": null,
            "min_height": null,
            "min_width": null,
            "object_fit": null,
            "object_position": null,
            "order": null,
            "overflow": null,
            "overflow_x": null,
            "overflow_y": null,
            "padding": null,
            "right": null,
            "top": null,
            "visibility": null,
            "width": null
          }
        },
        "653c9d82c10f4710a8eb6a9ca968fff7": {
          "model_module": "@jupyter-widgets/controls",
          "model_module_version": "1.5.0",
          "model_name": "FloatProgressModel",
          "state": {
            "_dom_classes": [],
            "_model_module": "@jupyter-widgets/controls",
            "_model_module_version": "1.5.0",
            "_model_name": "FloatProgressModel",
            "_view_count": null,
            "_view_module": "@jupyter-widgets/controls",
            "_view_module_version": "1.5.0",
            "_view_name": "ProgressView",
            "bar_style": "success",
            "description": "",
            "description_tooltip": null,
            "layout": "IPY_MODEL_0618714780f74e71b57ff6ca9ecc422d",
            "max": 1042301,
            "min": 0,
            "orientation": "horizontal",
            "style": "IPY_MODEL_1973d9c73b004bc6bf01c33620597652",
            "value": 1042301
          }
        },
        "67fe4fedec14455ea0d8eb2db578ab1a": {
          "model_module": "@jupyter-widgets/base",
          "model_module_version": "1.2.0",
          "model_name": "LayoutModel",
          "state": {
            "_model_module": "@jupyter-widgets/base",
            "_model_module_version": "1.2.0",
            "_model_name": "LayoutModel",
            "_view_count": null,
            "_view_module": "@jupyter-widgets/base",
            "_view_module_version": "1.2.0",
            "_view_name": "LayoutView",
            "align_content": null,
            "align_items": null,
            "align_self": null,
            "border": null,
            "bottom": null,
            "display": null,
            "flex": null,
            "flex_flow": null,
            "grid_area": null,
            "grid_auto_columns": null,
            "grid_auto_flow": null,
            "grid_auto_rows": null,
            "grid_column": null,
            "grid_gap": null,
            "grid_row": null,
            "grid_template_areas": null,
            "grid_template_columns": null,
            "grid_template_rows": null,
            "height": null,
            "justify_content": null,
            "justify_items": null,
            "left": null,
            "margin": null,
            "max_height": null,
            "max_width": null,
            "min_height": null,
            "min_width": null,
            "object_fit": null,
            "object_position": null,
            "order": null,
            "overflow": null,
            "overflow_x": null,
            "overflow_y": null,
            "padding": null,
            "right": null,
            "top": null,
            "visibility": null,
            "width": null
          }
        },
        "694a98df58234217af11632ca05e354e": {
          "model_module": "@jupyter-widgets/base",
          "model_module_version": "1.2.0",
          "model_name": "LayoutModel",
          "state": {
            "_model_module": "@jupyter-widgets/base",
            "_model_module_version": "1.2.0",
            "_model_name": "LayoutModel",
            "_view_count": null,
            "_view_module": "@jupyter-widgets/base",
            "_view_module_version": "1.2.0",
            "_view_name": "LayoutView",
            "align_content": null,
            "align_items": null,
            "align_self": null,
            "border": null,
            "bottom": null,
            "display": null,
            "flex": null,
            "flex_flow": null,
            "grid_area": null,
            "grid_auto_columns": null,
            "grid_auto_flow": null,
            "grid_auto_rows": null,
            "grid_column": null,
            "grid_gap": null,
            "grid_row": null,
            "grid_template_areas": null,
            "grid_template_columns": null,
            "grid_template_rows": null,
            "height": null,
            "justify_content": null,
            "justify_items": null,
            "left": null,
            "margin": null,
            "max_height": null,
            "max_width": null,
            "min_height": null,
            "min_width": null,
            "object_fit": null,
            "object_position": null,
            "order": null,
            "overflow": null,
            "overflow_x": null,
            "overflow_y": null,
            "padding": null,
            "right": null,
            "top": null,
            "visibility": null,
            "width": null
          }
        },
        "6af81aae20024b6ea8bb10d40b8fb829": {
          "model_module": "@jupyter-widgets/base",
          "model_module_version": "1.2.0",
          "model_name": "LayoutModel",
          "state": {
            "_model_module": "@jupyter-widgets/base",
            "_model_module_version": "1.2.0",
            "_model_name": "LayoutModel",
            "_view_count": null,
            "_view_module": "@jupyter-widgets/base",
            "_view_module_version": "1.2.0",
            "_view_name": "LayoutView",
            "align_content": null,
            "align_items": null,
            "align_self": null,
            "border": null,
            "bottom": null,
            "display": null,
            "flex": null,
            "flex_flow": null,
            "grid_area": null,
            "grid_auto_columns": null,
            "grid_auto_flow": null,
            "grid_auto_rows": null,
            "grid_column": null,
            "grid_gap": null,
            "grid_row": null,
            "grid_template_areas": null,
            "grid_template_columns": null,
            "grid_template_rows": null,
            "height": null,
            "justify_content": null,
            "justify_items": null,
            "left": null,
            "margin": null,
            "max_height": null,
            "max_width": null,
            "min_height": null,
            "min_width": null,
            "object_fit": null,
            "object_position": null,
            "order": null,
            "overflow": null,
            "overflow_x": null,
            "overflow_y": null,
            "padding": null,
            "right": null,
            "top": null,
            "visibility": null,
            "width": null
          }
        },
        "6d5919ebddbe43dd80af648d183f0ba6": {
          "model_module": "@jupyter-widgets/controls",
          "model_module_version": "1.5.0",
          "model_name": "FloatProgressModel",
          "state": {
            "_dom_classes": [],
            "_model_module": "@jupyter-widgets/controls",
            "_model_module_version": "1.5.0",
            "_model_name": "FloatProgressModel",
            "_view_count": null,
            "_view_module": "@jupyter-widgets/controls",
            "_view_module_version": "1.5.0",
            "_view_name": "ProgressView",
            "bar_style": "success",
            "description": "",
            "description_tooltip": null,
            "layout": "IPY_MODEL_6d9ede1c753c475ab61167638744a9e6",
            "max": 665,
            "min": 0,
            "orientation": "horizontal",
            "style": "IPY_MODEL_6da734e3fb784730b395a81d1bb26dd7",
            "value": 665
          }
        },
        "6d9ede1c753c475ab61167638744a9e6": {
          "model_module": "@jupyter-widgets/base",
          "model_module_version": "1.2.0",
          "model_name": "LayoutModel",
          "state": {
            "_model_module": "@jupyter-widgets/base",
            "_model_module_version": "1.2.0",
            "_model_name": "LayoutModel",
            "_view_count": null,
            "_view_module": "@jupyter-widgets/base",
            "_view_module_version": "1.2.0",
            "_view_name": "LayoutView",
            "align_content": null,
            "align_items": null,
            "align_self": null,
            "border": null,
            "bottom": null,
            "display": null,
            "flex": null,
            "flex_flow": null,
            "grid_area": null,
            "grid_auto_columns": null,
            "grid_auto_flow": null,
            "grid_auto_rows": null,
            "grid_column": null,
            "grid_gap": null,
            "grid_row": null,
            "grid_template_areas": null,
            "grid_template_columns": null,
            "grid_template_rows": null,
            "height": null,
            "justify_content": null,
            "justify_items": null,
            "left": null,
            "margin": null,
            "max_height": null,
            "max_width": null,
            "min_height": null,
            "min_width": null,
            "object_fit": null,
            "object_position": null,
            "order": null,
            "overflow": null,
            "overflow_x": null,
            "overflow_y": null,
            "padding": null,
            "right": null,
            "top": null,
            "visibility": null,
            "width": null
          }
        },
        "6da734e3fb784730b395a81d1bb26dd7": {
          "model_module": "@jupyter-widgets/controls",
          "model_module_version": "1.5.0",
          "model_name": "ProgressStyleModel",
          "state": {
            "_model_module": "@jupyter-widgets/controls",
            "_model_module_version": "1.5.0",
            "_model_name": "ProgressStyleModel",
            "_view_count": null,
            "_view_module": "@jupyter-widgets/base",
            "_view_module_version": "1.2.0",
            "_view_name": "StyleView",
            "bar_color": null,
            "description_width": ""
          }
        },
        "730552eff96c4013842d13e19d6bf1e8": {
          "model_module": "@jupyter-widgets/controls",
          "model_module_version": "1.5.0",
          "model_name": "HTMLModel",
          "state": {
            "_dom_classes": [],
            "_model_module": "@jupyter-widgets/controls",
            "_model_module_version": "1.5.0",
            "_model_name": "HTMLModel",
            "_view_count": null,
            "_view_module": "@jupyter-widgets/controls",
            "_view_module_version": "1.5.0",
            "_view_name": "HTMLView",
            "description": "",
            "description_tooltip": null,
            "layout": "IPY_MODEL_9831805d8e1b4f6c9b08e2127a8601b7",
            "placeholder": "​",
            "style": "IPY_MODEL_89ab0ea2ea86412b8ddfa94a9a1d119b",
            "value": "config.json: 100%"
          }
        },
        "749168528f054714a5b2c7fd30c0fe3a": {
          "model_module": "@jupyter-widgets/controls",
          "model_module_version": "1.5.0",
          "model_name": "FloatProgressModel",
          "state": {
            "_dom_classes": [],
            "_model_module": "@jupyter-widgets/controls",
            "_model_module_version": "1.5.0",
            "_model_name": "FloatProgressModel",
            "_view_count": null,
            "_view_module": "@jupyter-widgets/controls",
            "_view_module_version": "1.5.0",
            "_view_name": "ProgressView",
            "bar_style": "success",
            "description": "",
            "description_tooltip": null,
            "layout": "IPY_MODEL_35e40500cdb94079919bb27b50f9c6b6",
            "max": 456318,
            "min": 0,
            "orientation": "horizontal",
            "style": "IPY_MODEL_0acadeee302b412cabe51a90c798e3a4",
            "value": 456318
          }
        },
        "7827db7065ed414c826e0f7f6ca69cec": {
          "model_module": "@jupyter-widgets/base",
          "model_module_version": "1.2.0",
          "model_name": "LayoutModel",
          "state": {
            "_model_module": "@jupyter-widgets/base",
            "_model_module_version": "1.2.0",
            "_model_name": "LayoutModel",
            "_view_count": null,
            "_view_module": "@jupyter-widgets/base",
            "_view_module_version": "1.2.0",
            "_view_name": "LayoutView",
            "align_content": null,
            "align_items": null,
            "align_self": null,
            "border": null,
            "bottom": null,
            "display": null,
            "flex": null,
            "flex_flow": null,
            "grid_area": null,
            "grid_auto_columns": null,
            "grid_auto_flow": null,
            "grid_auto_rows": null,
            "grid_column": null,
            "grid_gap": null,
            "grid_row": null,
            "grid_template_areas": null,
            "grid_template_columns": null,
            "grid_template_rows": null,
            "height": null,
            "justify_content": null,
            "justify_items": null,
            "left": null,
            "margin": null,
            "max_height": null,
            "max_width": null,
            "min_height": null,
            "min_width": null,
            "object_fit": null,
            "object_position": null,
            "order": null,
            "overflow": null,
            "overflow_x": null,
            "overflow_y": null,
            "padding": null,
            "right": null,
            "top": null,
            "visibility": null,
            "width": null
          }
        },
        "8190210c8e3c48ca8c94c39c84b71998": {
          "model_module": "@jupyter-widgets/controls",
          "model_module_version": "1.5.0",
          "model_name": "HTMLModel",
          "state": {
            "_dom_classes": [],
            "_model_module": "@jupyter-widgets/controls",
            "_model_module_version": "1.5.0",
            "_model_name": "HTMLModel",
            "_view_count": null,
            "_view_module": "@jupyter-widgets/controls",
            "_view_module_version": "1.5.0",
            "_view_name": "HTMLView",
            "description": "",
            "description_tooltip": null,
            "layout": "IPY_MODEL_16a05f43b6104a1f9051bf11bcb728e5",
            "placeholder": "​",
            "style": "IPY_MODEL_19625dfd40024a28b53524c6b5010740",
            "value": "model.safetensors: 100%"
          }
        },
        "89ab0ea2ea86412b8ddfa94a9a1d119b": {
          "model_module": "@jupyter-widgets/controls",
          "model_module_version": "1.5.0",
          "model_name": "DescriptionStyleModel",
          "state": {
            "_model_module": "@jupyter-widgets/controls",
            "_model_module_version": "1.5.0",
            "_model_name": "DescriptionStyleModel",
            "_view_count": null,
            "_view_module": "@jupyter-widgets/base",
            "_view_module_version": "1.2.0",
            "_view_name": "StyleView",
            "description_width": ""
          }
        },
        "8ae54e98b7954091899bd2801bf2bc2a": {
          "model_module": "@jupyter-widgets/controls",
          "model_module_version": "1.5.0",
          "model_name": "DescriptionStyleModel",
          "state": {
            "_model_module": "@jupyter-widgets/controls",
            "_model_module_version": "1.5.0",
            "_model_name": "DescriptionStyleModel",
            "_view_count": null,
            "_view_module": "@jupyter-widgets/base",
            "_view_module_version": "1.2.0",
            "_view_name": "StyleView",
            "description_width": ""
          }
        },
        "8e4ab720bc874bdaa651c21cc25a7668": {
          "model_module": "@jupyter-widgets/controls",
          "model_module_version": "1.5.0",
          "model_name": "DescriptionStyleModel",
          "state": {
            "_model_module": "@jupyter-widgets/controls",
            "_model_module_version": "1.5.0",
            "_model_name": "DescriptionStyleModel",
            "_view_count": null,
            "_view_module": "@jupyter-widgets/base",
            "_view_module_version": "1.2.0",
            "_view_name": "StyleView",
            "description_width": ""
          }
        },
        "90274375bcf24300a1d881931988fdd5": {
          "model_module": "@jupyter-widgets/base",
          "model_module_version": "1.2.0",
          "model_name": "LayoutModel",
          "state": {
            "_model_module": "@jupyter-widgets/base",
            "_model_module_version": "1.2.0",
            "_model_name": "LayoutModel",
            "_view_count": null,
            "_view_module": "@jupyter-widgets/base",
            "_view_module_version": "1.2.0",
            "_view_name": "LayoutView",
            "align_content": null,
            "align_items": null,
            "align_self": null,
            "border": null,
            "bottom": null,
            "display": null,
            "flex": null,
            "flex_flow": null,
            "grid_area": null,
            "grid_auto_columns": null,
            "grid_auto_flow": null,
            "grid_auto_rows": null,
            "grid_column": null,
            "grid_gap": null,
            "grid_row": null,
            "grid_template_areas": null,
            "grid_template_columns": null,
            "grid_template_rows": null,
            "height": null,
            "justify_content": null,
            "justify_items": null,
            "left": null,
            "margin": null,
            "max_height": null,
            "max_width": null,
            "min_height": null,
            "min_width": null,
            "object_fit": null,
            "object_position": null,
            "order": null,
            "overflow": null,
            "overflow_x": null,
            "overflow_y": null,
            "padding": null,
            "right": null,
            "top": null,
            "visibility": null,
            "width": null
          }
        },
        "9831805d8e1b4f6c9b08e2127a8601b7": {
          "model_module": "@jupyter-widgets/base",
          "model_module_version": "1.2.0",
          "model_name": "LayoutModel",
          "state": {
            "_model_module": "@jupyter-widgets/base",
            "_model_module_version": "1.2.0",
            "_model_name": "LayoutModel",
            "_view_count": null,
            "_view_module": "@jupyter-widgets/base",
            "_view_module_version": "1.2.0",
            "_view_name": "LayoutView",
            "align_content": null,
            "align_items": null,
            "align_self": null,
            "border": null,
            "bottom": null,
            "display": null,
            "flex": null,
            "flex_flow": null,
            "grid_area": null,
            "grid_auto_columns": null,
            "grid_auto_flow": null,
            "grid_auto_rows": null,
            "grid_column": null,
            "grid_gap": null,
            "grid_row": null,
            "grid_template_areas": null,
            "grid_template_columns": null,
            "grid_template_rows": null,
            "height": null,
            "justify_content": null,
            "justify_items": null,
            "left": null,
            "margin": null,
            "max_height": null,
            "max_width": null,
            "min_height": null,
            "min_width": null,
            "object_fit": null,
            "object_position": null,
            "order": null,
            "overflow": null,
            "overflow_x": null,
            "overflow_y": null,
            "padding": null,
            "right": null,
            "top": null,
            "visibility": null,
            "width": null
          }
        },
        "9e1059143abf48d1ae9f43356ec485b4": {
          "model_module": "@jupyter-widgets/controls",
          "model_module_version": "1.5.0",
          "model_name": "HTMLModel",
          "state": {
            "_dom_classes": [],
            "_model_module": "@jupyter-widgets/controls",
            "_model_module_version": "1.5.0",
            "_model_name": "HTMLModel",
            "_view_count": null,
            "_view_module": "@jupyter-widgets/controls",
            "_view_module_version": "1.5.0",
            "_view_name": "HTMLView",
            "description": "",
            "description_tooltip": null,
            "layout": "IPY_MODEL_18e51d3bfe644c9b854bb7b41e80dd26",
            "placeholder": "​",
            "style": "IPY_MODEL_d4f85691472340c98c14b5e8ea134252",
            "value": " 456k/456k [00:00&lt;00:00, 554kB/s]"
          }
        },
        "9fe310136a3c40faae39887ddf6f3f7b": {
          "model_module": "@jupyter-widgets/base",
          "model_module_version": "1.2.0",
          "model_name": "LayoutModel",
          "state": {
            "_model_module": "@jupyter-widgets/base",
            "_model_module_version": "1.2.0",
            "_model_name": "LayoutModel",
            "_view_count": null,
            "_view_module": "@jupyter-widgets/base",
            "_view_module_version": "1.2.0",
            "_view_name": "LayoutView",
            "align_content": null,
            "align_items": null,
            "align_self": null,
            "border": null,
            "bottom": null,
            "display": null,
            "flex": null,
            "flex_flow": null,
            "grid_area": null,
            "grid_auto_columns": null,
            "grid_auto_flow": null,
            "grid_auto_rows": null,
            "grid_column": null,
            "grid_gap": null,
            "grid_row": null,
            "grid_template_areas": null,
            "grid_template_columns": null,
            "grid_template_rows": null,
            "height": null,
            "justify_content": null,
            "justify_items": null,
            "left": null,
            "margin": null,
            "max_height": null,
            "max_width": null,
            "min_height": null,
            "min_width": null,
            "object_fit": null,
            "object_position": null,
            "order": null,
            "overflow": null,
            "overflow_x": null,
            "overflow_y": null,
            "padding": null,
            "right": null,
            "top": null,
            "visibility": null,
            "width": null
          }
        },
        "a3ba39941b654fd8a9eb8c3a88061068": {
          "model_module": "@jupyter-widgets/base",
          "model_module_version": "1.2.0",
          "model_name": "LayoutModel",
          "state": {
            "_model_module": "@jupyter-widgets/base",
            "_model_module_version": "1.2.0",
            "_model_name": "LayoutModel",
            "_view_count": null,
            "_view_module": "@jupyter-widgets/base",
            "_view_module_version": "1.2.0",
            "_view_name": "LayoutView",
            "align_content": null,
            "align_items": null,
            "align_self": null,
            "border": null,
            "bottom": null,
            "display": null,
            "flex": null,
            "flex_flow": null,
            "grid_area": null,
            "grid_auto_columns": null,
            "grid_auto_flow": null,
            "grid_auto_rows": null,
            "grid_column": null,
            "grid_gap": null,
            "grid_row": null,
            "grid_template_areas": null,
            "grid_template_columns": null,
            "grid_template_rows": null,
            "height": null,
            "justify_content": null,
            "justify_items": null,
            "left": null,
            "margin": null,
            "max_height": null,
            "max_width": null,
            "min_height": null,
            "min_width": null,
            "object_fit": null,
            "object_position": null,
            "order": null,
            "overflow": null,
            "overflow_x": null,
            "overflow_y": null,
            "padding": null,
            "right": null,
            "top": null,
            "visibility": null,
            "width": null
          }
        },
        "a47218c5fb5941648fe6fd5c00687c85": {
          "model_module": "@jupyter-widgets/controls",
          "model_module_version": "1.5.0",
          "model_name": "HTMLModel",
          "state": {
            "_dom_classes": [],
            "_model_module": "@jupyter-widgets/controls",
            "_model_module_version": "1.5.0",
            "_model_name": "HTMLModel",
            "_view_count": null,
            "_view_module": "@jupyter-widgets/controls",
            "_view_module_version": "1.5.0",
            "_view_name": "HTMLView",
            "description": "",
            "description_tooltip": null,
            "layout": "IPY_MODEL_90274375bcf24300a1d881931988fdd5",
            "placeholder": "​",
            "style": "IPY_MODEL_8ae54e98b7954091899bd2801bf2bc2a",
            "value": " 124/124 [00:00&lt;00:00, 11.3kB/s]"
          }
        },
        "a6a6987c830b4fde883fdb5957be1d5f": {
          "model_module": "@jupyter-widgets/controls",
          "model_module_version": "1.5.0",
          "model_name": "FloatProgressModel",
          "state": {
            "_dom_classes": [],
            "_model_module": "@jupyter-widgets/controls",
            "_model_module_version": "1.5.0",
            "_model_name": "FloatProgressModel",
            "_view_count": null,
            "_view_module": "@jupyter-widgets/controls",
            "_view_module_version": "1.5.0",
            "_view_name": "ProgressView",
            "bar_style": "success",
            "description": "",
            "description_tooltip": null,
            "layout": "IPY_MODEL_6af81aae20024b6ea8bb10d40b8fb829",
            "max": 124,
            "min": 0,
            "orientation": "horizontal",
            "style": "IPY_MODEL_5fa8dfe2eee24916a82736e9292f1672",
            "value": 124
          }
        },
        "ac1ef0a9091f41c9a3402a86a38630a0": {
          "model_module": "@jupyter-widgets/base",
          "model_module_version": "1.2.0",
          "model_name": "LayoutModel",
          "state": {
            "_model_module": "@jupyter-widgets/base",
            "_model_module_version": "1.2.0",
            "_model_name": "LayoutModel",
            "_view_count": null,
            "_view_module": "@jupyter-widgets/base",
            "_view_module_version": "1.2.0",
            "_view_name": "LayoutView",
            "align_content": null,
            "align_items": null,
            "align_self": null,
            "border": null,
            "bottom": null,
            "display": null,
            "flex": null,
            "flex_flow": null,
            "grid_area": null,
            "grid_auto_columns": null,
            "grid_auto_flow": null,
            "grid_auto_rows": null,
            "grid_column": null,
            "grid_gap": null,
            "grid_row": null,
            "grid_template_areas": null,
            "grid_template_columns": null,
            "grid_template_rows": null,
            "height": null,
            "justify_content": null,
            "justify_items": null,
            "left": null,
            "margin": null,
            "max_height": null,
            "max_width": null,
            "min_height": null,
            "min_width": null,
            "object_fit": null,
            "object_position": null,
            "order": null,
            "overflow": null,
            "overflow_x": null,
            "overflow_y": null,
            "padding": null,
            "right": null,
            "top": null,
            "visibility": null,
            "width": null
          }
        },
        "ba0f420e176443afaabe6b9e758813c6": {
          "model_module": "@jupyter-widgets/base",
          "model_module_version": "1.2.0",
          "model_name": "LayoutModel",
          "state": {
            "_model_module": "@jupyter-widgets/base",
            "_model_module_version": "1.2.0",
            "_model_name": "LayoutModel",
            "_view_count": null,
            "_view_module": "@jupyter-widgets/base",
            "_view_module_version": "1.2.0",
            "_view_name": "LayoutView",
            "align_content": null,
            "align_items": null,
            "align_self": null,
            "border": null,
            "bottom": null,
            "display": null,
            "flex": null,
            "flex_flow": null,
            "grid_area": null,
            "grid_auto_columns": null,
            "grid_auto_flow": null,
            "grid_auto_rows": null,
            "grid_column": null,
            "grid_gap": null,
            "grid_row": null,
            "grid_template_areas": null,
            "grid_template_columns": null,
            "grid_template_rows": null,
            "height": null,
            "justify_content": null,
            "justify_items": null,
            "left": null,
            "margin": null,
            "max_height": null,
            "max_width": null,
            "min_height": null,
            "min_width": null,
            "object_fit": null,
            "object_position": null,
            "order": null,
            "overflow": null,
            "overflow_x": null,
            "overflow_y": null,
            "padding": null,
            "right": null,
            "top": null,
            "visibility": null,
            "width": null
          }
        },
        "baa013142916402288d7ad933cf748dd": {
          "model_module": "@jupyter-widgets/controls",
          "model_module_version": "1.5.0",
          "model_name": "HBoxModel",
          "state": {
            "_dom_classes": [],
            "_model_module": "@jupyter-widgets/controls",
            "_model_module_version": "1.5.0",
            "_model_name": "HBoxModel",
            "_view_count": null,
            "_view_module": "@jupyter-widgets/controls",
            "_view_module_version": "1.5.0",
            "_view_name": "HBoxView",
            "box_style": "",
            "children": [
              "IPY_MODEL_3dfb6254cf194f818d29bb63b0f6c8aa",
              "IPY_MODEL_653c9d82c10f4710a8eb6a9ca968fff7",
              "IPY_MODEL_dcc4cedd08c94192b58b3725a1f08747"
            ],
            "layout": "IPY_MODEL_2323a76ff09a4dd1a09c3255447f189b"
          }
        },
        "bf3a7a95f87748a2bd55cbdc60b3f709": {
          "model_module": "@jupyter-widgets/base",
          "model_module_version": "1.2.0",
          "model_name": "LayoutModel",
          "state": {
            "_model_module": "@jupyter-widgets/base",
            "_model_module_version": "1.2.0",
            "_model_name": "LayoutModel",
            "_view_count": null,
            "_view_module": "@jupyter-widgets/base",
            "_view_module_version": "1.2.0",
            "_view_name": "LayoutView",
            "align_content": null,
            "align_items": null,
            "align_self": null,
            "border": null,
            "bottom": null,
            "display": null,
            "flex": null,
            "flex_flow": null,
            "grid_area": null,
            "grid_auto_columns": null,
            "grid_auto_flow": null,
            "grid_auto_rows": null,
            "grid_column": null,
            "grid_gap": null,
            "grid_row": null,
            "grid_template_areas": null,
            "grid_template_columns": null,
            "grid_template_rows": null,
            "height": null,
            "justify_content": null,
            "justify_items": null,
            "left": null,
            "margin": null,
            "max_height": null,
            "max_width": null,
            "min_height": null,
            "min_width": null,
            "object_fit": null,
            "object_position": null,
            "order": null,
            "overflow": null,
            "overflow_x": null,
            "overflow_y": null,
            "padding": null,
            "right": null,
            "top": null,
            "visibility": null,
            "width": null
          }
        },
        "ca1319a1b38e425ca22d11efe3a1801e": {
          "model_module": "@jupyter-widgets/controls",
          "model_module_version": "1.5.0",
          "model_name": "HBoxModel",
          "state": {
            "_dom_classes": [],
            "_model_module": "@jupyter-widgets/controls",
            "_model_module_version": "1.5.0",
            "_model_name": "HBoxModel",
            "_view_count": null,
            "_view_module": "@jupyter-widgets/controls",
            "_view_module_version": "1.5.0",
            "_view_name": "HBoxView",
            "box_style": "",
            "children": [
              "IPY_MODEL_0c374295185943d5874eb5043cf45dda",
              "IPY_MODEL_749168528f054714a5b2c7fd30c0fe3a",
              "IPY_MODEL_9e1059143abf48d1ae9f43356ec485b4"
            ],
            "layout": "IPY_MODEL_60be627eac1c497182aa6aef686827ac"
          }
        },
        "cd3ec4dba25a4a5ea86d4227e30266d2": {
          "model_module": "@jupyter-widgets/controls",
          "model_module_version": "1.5.0",
          "model_name": "DescriptionStyleModel",
          "state": {
            "_model_module": "@jupyter-widgets/controls",
            "_model_module_version": "1.5.0",
            "_model_name": "DescriptionStyleModel",
            "_view_count": null,
            "_view_module": "@jupyter-widgets/base",
            "_view_module_version": "1.2.0",
            "_view_name": "StyleView",
            "description_width": ""
          }
        },
        "cd7fa3ecc46b45329b352049cd2c9b27": {
          "model_module": "@jupyter-widgets/controls",
          "model_module_version": "1.5.0",
          "model_name": "FloatProgressModel",
          "state": {
            "_dom_classes": [],
            "_model_module": "@jupyter-widgets/controls",
            "_model_module_version": "1.5.0",
            "_model_name": "FloatProgressModel",
            "_view_count": null,
            "_view_module": "@jupyter-widgets/controls",
            "_view_module_version": "1.5.0",
            "_view_name": "ProgressView",
            "bar_style": "success",
            "description": "",
            "description_tooltip": null,
            "layout": "IPY_MODEL_67fe4fedec14455ea0d8eb2db578ab1a",
            "max": 1355256,
            "min": 0,
            "orientation": "horizontal",
            "style": "IPY_MODEL_0410e6e958864d448de49f7e5aa30fb3",
            "value": 1355256
          }
        },
        "d4f85691472340c98c14b5e8ea134252": {
          "model_module": "@jupyter-widgets/controls",
          "model_module_version": "1.5.0",
          "model_name": "DescriptionStyleModel",
          "state": {
            "_model_module": "@jupyter-widgets/controls",
            "_model_module_version": "1.5.0",
            "_model_name": "DescriptionStyleModel",
            "_view_count": null,
            "_view_module": "@jupyter-widgets/base",
            "_view_module_version": "1.2.0",
            "_view_name": "StyleView",
            "description_width": ""
          }
        },
        "d9d5f5af543b41e29d479efc3c56876b": {
          "model_module": "@jupyter-widgets/base",
          "model_module_version": "1.2.0",
          "model_name": "LayoutModel",
          "state": {
            "_model_module": "@jupyter-widgets/base",
            "_model_module_version": "1.2.0",
            "_model_name": "LayoutModel",
            "_view_count": null,
            "_view_module": "@jupyter-widgets/base",
            "_view_module_version": "1.2.0",
            "_view_name": "LayoutView",
            "align_content": null,
            "align_items": null,
            "align_self": null,
            "border": null,
            "bottom": null,
            "display": null,
            "flex": null,
            "flex_flow": null,
            "grid_area": null,
            "grid_auto_columns": null,
            "grid_auto_flow": null,
            "grid_auto_rows": null,
            "grid_column": null,
            "grid_gap": null,
            "grid_row": null,
            "grid_template_areas": null,
            "grid_template_columns": null,
            "grid_template_rows": null,
            "height": null,
            "justify_content": null,
            "justify_items": null,
            "left": null,
            "margin": null,
            "max_height": null,
            "max_width": null,
            "min_height": null,
            "min_width": null,
            "object_fit": null,
            "object_position": null,
            "order": null,
            "overflow": null,
            "overflow_x": null,
            "overflow_y": null,
            "padding": null,
            "right": null,
            "top": null,
            "visibility": null,
            "width": null
          }
        },
        "dcc4cedd08c94192b58b3725a1f08747": {
          "model_module": "@jupyter-widgets/controls",
          "model_module_version": "1.5.0",
          "model_name": "HTMLModel",
          "state": {
            "_dom_classes": [],
            "_model_module": "@jupyter-widgets/controls",
            "_model_module_version": "1.5.0",
            "_model_name": "HTMLModel",
            "_view_count": null,
            "_view_module": "@jupyter-widgets/controls",
            "_view_module_version": "1.5.0",
            "_view_name": "HTMLView",
            "description": "",
            "description_tooltip": null,
            "layout": "IPY_MODEL_d9d5f5af543b41e29d479efc3c56876b",
            "placeholder": "​",
            "style": "IPY_MODEL_005393f224774d5aab3830b1f807b75a",
            "value": " 1.04M/1.04M [00:00&lt;00:00, 1.21MB/s]"
          }
        },
        "df8ad4c0a09a45ea8163cae2f8a14431": {
          "model_module": "@jupyter-widgets/controls",
          "model_module_version": "1.5.0",
          "model_name": "HTMLModel",
          "state": {
            "_dom_classes": [],
            "_model_module": "@jupyter-widgets/controls",
            "_model_module_version": "1.5.0",
            "_model_name": "HTMLModel",
            "_view_count": null,
            "_view_module": "@jupyter-widgets/controls",
            "_view_module_version": "1.5.0",
            "_view_name": "HTMLView",
            "description": "",
            "description_tooltip": null,
            "layout": "IPY_MODEL_694a98df58234217af11632ca05e354e",
            "placeholder": "​",
            "style": "IPY_MODEL_2ef9ddd976ff4b11bda2af153195b8e4",
            "value": "tokenizer.json: 100%"
          }
        },
        "e46053cb20a6417fb693fee9d607473f": {
          "model_module": "@jupyter-widgets/base",
          "model_module_version": "1.2.0",
          "model_name": "LayoutModel",
          "state": {
            "_model_module": "@jupyter-widgets/base",
            "_model_module_version": "1.2.0",
            "_model_name": "LayoutModel",
            "_view_count": null,
            "_view_module": "@jupyter-widgets/base",
            "_view_module_version": "1.2.0",
            "_view_name": "LayoutView",
            "align_content": null,
            "align_items": null,
            "align_self": null,
            "border": null,
            "bottom": null,
            "display": null,
            "flex": null,
            "flex_flow": null,
            "grid_area": null,
            "grid_auto_columns": null,
            "grid_auto_flow": null,
            "grid_auto_rows": null,
            "grid_column": null,
            "grid_gap": null,
            "grid_row": null,
            "grid_template_areas": null,
            "grid_template_columns": null,
            "grid_template_rows": null,
            "height": null,
            "justify_content": null,
            "justify_items": null,
            "left": null,
            "margin": null,
            "max_height": null,
            "max_width": null,
            "min_height": null,
            "min_width": null,
            "object_fit": null,
            "object_position": null,
            "order": null,
            "overflow": null,
            "overflow_x": null,
            "overflow_y": null,
            "padding": null,
            "right": null,
            "top": null,
            "visibility": null,
            "width": null
          }
        },
        "e98a22c9995d46a18211347fa5ad1c47": {
          "model_module": "@jupyter-widgets/controls",
          "model_module_version": "1.5.0",
          "model_name": "HTMLModel",
          "state": {
            "_dom_classes": [],
            "_model_module": "@jupyter-widgets/controls",
            "_model_module_version": "1.5.0",
            "_model_name": "HTMLModel",
            "_view_count": null,
            "_view_module": "@jupyter-widgets/controls",
            "_view_module_version": "1.5.0",
            "_view_name": "HTMLView",
            "description": "",
            "description_tooltip": null,
            "layout": "IPY_MODEL_27bfc4b138b641f49c624642003f39e6",
            "placeholder": "​",
            "style": "IPY_MODEL_1c2e99c77a6e4940bb590bf8e300b25c",
            "value": "generation_config.json: 100%"
          }
        },
        "ec426d56a3934164aa2e8d41a9c15e71": {
          "model_module": "@jupyter-widgets/controls",
          "model_module_version": "1.5.0",
          "model_name": "HTMLModel",
          "state": {
            "_dom_classes": [],
            "_model_module": "@jupyter-widgets/controls",
            "_model_module_version": "1.5.0",
            "_model_name": "HTMLModel",
            "_view_count": null,
            "_view_module": "@jupyter-widgets/controls",
            "_view_module_version": "1.5.0",
            "_view_name": "HTMLView",
            "description": "",
            "description_tooltip": null,
            "layout": "IPY_MODEL_ba0f420e176443afaabe6b9e758813c6",
            "placeholder": "​",
            "style": "IPY_MODEL_5d4620e65176433992b090aaa090a9c7",
            "value": " 665/665 [00:00&lt;00:00, 37.0kB/s]"
          }
        },
        "f789650bc5ee4d959ec06a10f68fa6ab": {
          "model_module": "@jupyter-widgets/base",
          "model_module_version": "1.2.0",
          "model_name": "LayoutModel",
          "state": {
            "_model_module": "@jupyter-widgets/base",
            "_model_module_version": "1.2.0",
            "_model_name": "LayoutModel",
            "_view_count": null,
            "_view_module": "@jupyter-widgets/base",
            "_view_module_version": "1.2.0",
            "_view_name": "LayoutView",
            "align_content": null,
            "align_items": null,
            "align_self": null,
            "border": null,
            "bottom": null,
            "display": null,
            "flex": null,
            "flex_flow": null,
            "grid_area": null,
            "grid_auto_columns": null,
            "grid_auto_flow": null,
            "grid_auto_rows": null,
            "grid_column": null,
            "grid_gap": null,
            "grid_row": null,
            "grid_template_areas": null,
            "grid_template_columns": null,
            "grid_template_rows": null,
            "height": null,
            "justify_content": null,
            "justify_items": null,
            "left": null,
            "margin": null,
            "max_height": null,
            "max_width": null,
            "min_height": null,
            "min_width": null,
            "object_fit": null,
            "object_position": null,
            "order": null,
            "overflow": null,
            "overflow_x": null,
            "overflow_y": null,
            "padding": null,
            "right": null,
            "top": null,
            "visibility": null,
            "width": null
          }
        }
      }
    }
  },
  "nbformat": 4,
  "nbformat_minor": 0
}
